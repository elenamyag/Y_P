{
 "cells": [
  {
   "cell_type": "markdown",
   "metadata": {},
   "source": [
    "# Проект для «Викишоп»"
   ]
  },
  {
   "cell_type": "markdown",
   "metadata": {},
   "source": [
    "Интернет-магазин «Викишоп» запускает новый сервис. Теперь пользователи могут редактировать и дополнять описания товаров, как в вики-сообществах. То есть клиенты предлагают свои правки и комментируют изменения других. Магазину нужен инструмент, который будет искать токсичные комментарии и отправлять их на модерацию. \n",
    "\n",
    "Обучите модель классифицировать комментарии на позитивные и негативные. В вашем распоряжении набор данных с разметкой о токсичности правок.\n",
    "\n",
    "Постройте модель со значением метрики качества *F1* не меньше 0.75. \n",
    "\n",
    "**Инструкция по выполнению проекта**\n",
    "\n",
    "1. Загрузите и подготовьте данные.\n",
    "2. Обучите разные модели. \n",
    "3. Сделайте выводы.\n",
    "\n",
    "Для выполнения проекта применять *BERT* необязательно, но вы можете попробовать.\n",
    "\n",
    "**Описание данных**\n",
    "\n",
    "Данные находятся в файле `toxic_comments.csv`. Столбец *text* в нём содержит текст комментария, а *toxic* — целевой признак."
   ]
  },
  {
   "cell_type": "markdown",
   "metadata": {
    "toc": true
   },
   "source": [
    "<h1>Содержание<span class=\"tocSkip\"></span></h1>\n",
    "<div class=\"toc\"><ul class=\"toc-item\"><li><span><a href=\"#Подготовка\" data-toc-modified-id=\"Подготовка-1\"><span class=\"toc-item-num\">1&nbsp;&nbsp;</span>Подготовка</a></span><ul class=\"toc-item\"><li><span><a href=\"#Лемматизация\" data-toc-modified-id=\"Лемматизация-1.1\"><span class=\"toc-item-num\">1.1&nbsp;&nbsp;</span>Лемматизация</a></span></li><li><span><a href=\"#Векторизация\" data-toc-modified-id=\"Векторизация-1.2\"><span class=\"toc-item-num\">1.2&nbsp;&nbsp;</span>Векторизация</a></span></li></ul></li><li><span><a href=\"#Обучение\" data-toc-modified-id=\"Обучение-2\"><span class=\"toc-item-num\">2&nbsp;&nbsp;</span>Обучение</a></span><ul class=\"toc-item\"><li><span><a href=\"#Логическая-регрессия\" data-toc-modified-id=\"Логическая-регрессия-2.1\"><span class=\"toc-item-num\">2.1&nbsp;&nbsp;</span>Логическая регрессия</a></span></li><li><span><a href=\"#Классификатор-случайного-леса\" data-toc-modified-id=\"Классификатор-случайного-леса-2.2\"><span class=\"toc-item-num\">2.2&nbsp;&nbsp;</span>Классификатор случайного леса</a></span></li><li><span><a href=\"#CatBoost\" data-toc-modified-id=\"CatBoost-2.3\"><span class=\"toc-item-num\">2.3&nbsp;&nbsp;</span>CatBoost</a></span></li></ul></li><li><span><a href=\"#Выводы\" data-toc-modified-id=\"Выводы-3\"><span class=\"toc-item-num\">3&nbsp;&nbsp;</span>Выводы</a></span></li><li><span><a href=\"#Итоговый-вывод\" data-toc-modified-id=\"Итоговый-вывод-4\"><span class=\"toc-item-num\">4&nbsp;&nbsp;</span>Итоговый вывод</a></span></li><li><span><a href=\"#Чек-лист-проверки\" data-toc-modified-id=\"Чек-лист-проверки-5\"><span class=\"toc-item-num\">5&nbsp;&nbsp;</span>Чек-лист проверки</a></span></li></ul></div>"
   ]
  },
  {
   "cell_type": "markdown",
   "metadata": {},
   "source": [
    "## Подготовка"
   ]
  },
  {
   "cell_type": "code",
   "execution_count": 2,
   "metadata": {},
   "outputs": [
    {
     "name": "stderr",
     "output_type": "stream",
     "text": [
      "[nltk_data] Downloading package wordnet to /home/jovyan/nltk_data...\n",
      "[nltk_data]   Package wordnet is already up-to-date!\n",
      "[nltk_data] Downloading package stopwords to /home/jovyan/nltk_data...\n",
      "[nltk_data]   Package stopwords is already up-to-date!\n",
      "[nltk_data] Downloading package averaged_perceptron_tagger to\n",
      "[nltk_data]     /home/jovyan/nltk_data...\n",
      "[nltk_data]   Unzipping taggers/averaged_perceptron_tagger.zip.\n"
     ]
    }
   ],
   "source": [
    "import pandas as pd\n",
    "\n",
    "import nltk\n",
    "nltk.download('wordnet')\n",
    "\n",
    "from nltk.corpus import stopwords as nltk_stopwords\n",
    "nltk.download('stopwords')\n",
    "nltk.download('averaged_perceptron_tagger')\n",
    "from nltk.corpus import wordnet\n",
    "\n",
    "from nltk.stem import WordNetLemmatizer \n",
    "import re \n",
    "\n",
    "from sklearn.model_selection import train_test_split\n",
    "from sklearn.feature_extraction.text import TfidfVectorizer\n",
    "from sklearn.linear_model import LogisticRegression\n",
    "\n",
    "\n",
    "from sklearn.metrics import f1_score, make_scorer\n",
    "from sklearn.model_selection import cross_val_score\n",
    "from sklearn.model_selection import GridSearchCV\n",
    "from sklearn.ensemble import RandomForestClassifier\n",
    "\n",
    "from catboost import CatBoostClassifier\n",
    "from lightgbm import LGBMClassifier\n",
    "from sklearn.pipeline import Pipeline"
   ]
  },
  {
   "cell_type": "code",
   "execution_count": 4,
   "metadata": {},
   "outputs": [],
   "source": [
    "data = pd.read_csv('/datasets/toxic_comments.csv')"
   ]
  },
  {
   "cell_type": "markdown",
   "metadata": {},
   "source": [
    "Откуда-то, абсолютно непонятно откуда взялся столбец Unnamed: 0?"
   ]
  },
  {
   "cell_type": "code",
   "execution_count": 5,
   "metadata": {},
   "outputs": [
    {
     "data": {
      "text/html": [
       "<div>\n",
       "<style scoped>\n",
       "    .dataframe tbody tr th:only-of-type {\n",
       "        vertical-align: middle;\n",
       "    }\n",
       "\n",
       "    .dataframe tbody tr th {\n",
       "        vertical-align: top;\n",
       "    }\n",
       "\n",
       "    .dataframe thead th {\n",
       "        text-align: right;\n",
       "    }\n",
       "</style>\n",
       "<table border=\"1\" class=\"dataframe\">\n",
       "  <thead>\n",
       "    <tr style=\"text-align: right;\">\n",
       "      <th></th>\n",
       "      <th>Unnamed: 0</th>\n",
       "      <th>text</th>\n",
       "      <th>toxic</th>\n",
       "    </tr>\n",
       "  </thead>\n",
       "  <tbody>\n",
       "    <tr>\n",
       "      <th>0</th>\n",
       "      <td>0</td>\n",
       "      <td>Explanation\\nWhy the edits made under my usern...</td>\n",
       "      <td>0</td>\n",
       "    </tr>\n",
       "    <tr>\n",
       "      <th>1</th>\n",
       "      <td>1</td>\n",
       "      <td>D'aww! He matches this background colour I'm s...</td>\n",
       "      <td>0</td>\n",
       "    </tr>\n",
       "    <tr>\n",
       "      <th>2</th>\n",
       "      <td>2</td>\n",
       "      <td>Hey man, I'm really not trying to edit war. It...</td>\n",
       "      <td>0</td>\n",
       "    </tr>\n",
       "    <tr>\n",
       "      <th>3</th>\n",
       "      <td>3</td>\n",
       "      <td>\"\\nMore\\nI can't make any real suggestions on ...</td>\n",
       "      <td>0</td>\n",
       "    </tr>\n",
       "    <tr>\n",
       "      <th>4</th>\n",
       "      <td>4</td>\n",
       "      <td>You, sir, are my hero. Any chance you remember...</td>\n",
       "      <td>0</td>\n",
       "    </tr>\n",
       "  </tbody>\n",
       "</table>\n",
       "</div>"
      ],
      "text/plain": [
       "   Unnamed: 0                                               text  toxic\n",
       "0           0  Explanation\\nWhy the edits made under my usern...      0\n",
       "1           1  D'aww! He matches this background colour I'm s...      0\n",
       "2           2  Hey man, I'm really not trying to edit war. It...      0\n",
       "3           3  \"\\nMore\\nI can't make any real suggestions on ...      0\n",
       "4           4  You, sir, are my hero. Any chance you remember...      0"
      ]
     },
     "execution_count": 5,
     "metadata": {},
     "output_type": "execute_result"
    }
   ],
   "source": [
    "data.head()"
   ]
  },
  {
   "cell_type": "code",
   "execution_count": 6,
   "metadata": {},
   "outputs": [
    {
     "name": "stdout",
     "output_type": "stream",
     "text": [
      "<class 'pandas.core.frame.DataFrame'>\n",
      "RangeIndex: 159292 entries, 0 to 159291\n",
      "Data columns (total 3 columns):\n",
      " #   Column      Non-Null Count   Dtype \n",
      "---  ------      --------------   ----- \n",
      " 0   Unnamed: 0  159292 non-null  int64 \n",
      " 1   text        159292 non-null  object\n",
      " 2   toxic       159292 non-null  int64 \n",
      "dtypes: int64(2), object(1)\n",
      "memory usage: 3.6+ MB\n"
     ]
    }
   ],
   "source": [
    "data.info()"
   ]
  },
  {
   "cell_type": "code",
   "execution_count": 7,
   "metadata": {},
   "outputs": [],
   "source": [
    "data = data.drop(['Unnamed: 0'], axis=1)"
   ]
  },
  {
   "cell_type": "code",
   "execution_count": 8,
   "metadata": {},
   "outputs": [
    {
     "data": {
      "text/plain": [
       "0    143106\n",
       "1     16186\n",
       "Name: toxic, dtype: int64"
      ]
     },
     "execution_count": 8,
     "metadata": {},
     "output_type": "execute_result"
    }
   ],
   "source": [
    "data['toxic'].value_counts()"
   ]
  },
  {
   "cell_type": "markdown",
   "metadata": {},
   "source": [
    "В нашей задаче наблюдается дисбаланс класссов, что может помешать в дальнейшем обучению. При обучении будем это учитывать.\n"
   ]
  },
  {
   "cell_type": "markdown",
   "metadata": {},
   "source": [
    "### Лемматизация"
   ]
  },
  {
   "cell_type": "markdown",
   "metadata": {},
   "source": [
    "Для лемматизации будем использовать Wordnet из NLTK"
   ]
  },
  {
   "cell_type": "code",
   "execution_count": 9,
   "metadata": {},
   "outputs": [],
   "source": [
    "lemmatizer = WordNetLemmatizer()"
   ]
  },
  {
   "cell_type": "code",
   "execution_count": 10,
   "metadata": {},
   "outputs": [],
   "source": [
    "def get_wordnet_pos(word):\n",
    "    tag = nltk.pos_tag([word])[0][1][0].upper()\n",
    "    tag_dict = {\"J\": wordnet.ADJ,\n",
    "                \"N\": wordnet.NOUN,\n",
    "                \"V\": wordnet.VERB,\n",
    "                \"R\": wordnet.ADV}\n",
    "    return tag_dict.get(tag, wordnet.NOUN)"
   ]
  },
  {
   "cell_type": "code",
   "execution_count": 11,
   "metadata": {},
   "outputs": [],
   "source": [
    "def lemm_clear_text(text):\n",
    "    reg = re.sub(r'[^a-zA-Z]', ' ', text)\n",
    "    clear = reg.split() \n",
    "    lemm = []\n",
    "    for i in range(len(clear)):\n",
    "        lemm.append(lemmatizer.lemmatize(clear[i], get_wordnet_pos(clear[i])))\n",
    "    return \" \".join(lemm)"
   ]
  },
  {
   "cell_type": "code",
   "execution_count": 12,
   "metadata": {},
   "outputs": [
    {
     "data": {
      "application/vnd.jupyter.widget-view+json": {
       "model_id": "97e1db2c527840ddaeb3ff1a5aa0850c",
       "version_major": 2,
       "version_minor": 0
      },
      "text/plain": [
       "  0%|          | 0/159292 [00:00<?, ?it/s]"
      ]
     },
     "metadata": {},
     "output_type": "display_data"
    },
    {
     "name": "stderr",
     "output_type": "stream",
     "text": [
      "IOPub message rate exceeded.\n",
      "The notebook server will temporarily stop sending output\n",
      "to the client in order to avoid crashing it.\n",
      "To change this limit, set the config variable\n",
      "`--NotebookApp.iopub_msg_rate_limit`.\n",
      "\n",
      "Current values:\n",
      "NotebookApp.iopub_msg_rate_limit=1000.0 (msgs/sec)\n",
      "NotebookApp.rate_limit_window=3.0 (secs)\n",
      "\n"
     ]
    }
   ],
   "source": [
    "from tqdm.notebook import tqdm\n",
    "tqdm.pandas()\n",
    "\n",
    "data['lemm_text'] = data['text'].progress_apply(lemm_clear_text)"
   ]
  },
  {
   "cell_type": "code",
   "execution_count": 13,
   "metadata": {},
   "outputs": [
    {
     "data": {
      "text/html": [
       "<div>\n",
       "<style scoped>\n",
       "    .dataframe tbody tr th:only-of-type {\n",
       "        vertical-align: middle;\n",
       "    }\n",
       "\n",
       "    .dataframe tbody tr th {\n",
       "        vertical-align: top;\n",
       "    }\n",
       "\n",
       "    .dataframe thead th {\n",
       "        text-align: right;\n",
       "    }\n",
       "</style>\n",
       "<table border=\"1\" class=\"dataframe\">\n",
       "  <thead>\n",
       "    <tr style=\"text-align: right;\">\n",
       "      <th></th>\n",
       "      <th>text</th>\n",
       "      <th>toxic</th>\n",
       "      <th>lemm_text</th>\n",
       "    </tr>\n",
       "  </thead>\n",
       "  <tbody>\n",
       "    <tr>\n",
       "      <th>0</th>\n",
       "      <td>Explanation\\nWhy the edits made under my usern...</td>\n",
       "      <td>0</td>\n",
       "      <td>Explanation Why the edits make under my userna...</td>\n",
       "    </tr>\n",
       "    <tr>\n",
       "      <th>1</th>\n",
       "      <td>D'aww! He matches this background colour I'm s...</td>\n",
       "      <td>0</td>\n",
       "      <td>D aww He match this background colour I m seem...</td>\n",
       "    </tr>\n",
       "    <tr>\n",
       "      <th>2</th>\n",
       "      <td>Hey man, I'm really not trying to edit war. It...</td>\n",
       "      <td>0</td>\n",
       "      <td>Hey man I m really not try to edit war It s ju...</td>\n",
       "    </tr>\n",
       "    <tr>\n",
       "      <th>3</th>\n",
       "      <td>\"\\nMore\\nI can't make any real suggestions on ...</td>\n",
       "      <td>0</td>\n",
       "      <td>More I can t make any real suggestion on impro...</td>\n",
       "    </tr>\n",
       "    <tr>\n",
       "      <th>4</th>\n",
       "      <td>You, sir, are my hero. Any chance you remember...</td>\n",
       "      <td>0</td>\n",
       "      <td>You sir be my hero Any chance you remember wha...</td>\n",
       "    </tr>\n",
       "  </tbody>\n",
       "</table>\n",
       "</div>"
      ],
      "text/plain": [
       "                                                text  toxic  \\\n",
       "0  Explanation\\nWhy the edits made under my usern...      0   \n",
       "1  D'aww! He matches this background colour I'm s...      0   \n",
       "2  Hey man, I'm really not trying to edit war. It...      0   \n",
       "3  \"\\nMore\\nI can't make any real suggestions on ...      0   \n",
       "4  You, sir, are my hero. Any chance you remember...      0   \n",
       "\n",
       "                                           lemm_text  \n",
       "0  Explanation Why the edits make under my userna...  \n",
       "1  D aww He match this background colour I m seem...  \n",
       "2  Hey man I m really not try to edit war It s ju...  \n",
       "3  More I can t make any real suggestion on impro...  \n",
       "4  You sir be my hero Any chance you remember wha...  "
      ]
     },
     "execution_count": 13,
     "metadata": {},
     "output_type": "execute_result"
    }
   ],
   "source": [
    "data.head()"
   ]
  },
  {
   "cell_type": "code",
   "execution_count": 14,
   "metadata": {},
   "outputs": [],
   "source": [
    "data = data.drop(['text'], axis=1)"
   ]
  },
  {
   "cell_type": "markdown",
   "metadata": {},
   "source": [
    "Разделим данные на обучающую и тестовую выборки в отношении *75:25*."
   ]
  },
  {
   "cell_type": "code",
   "execution_count": 15,
   "metadata": {},
   "outputs": [],
   "source": [
    "target = data['toxic']\n",
    "features = data['lemm_text']\n",
    "\n",
    "\n",
    "features_train, features_test, target_train, target_test = train_test_split(\n",
    "    features, target, test_size=0.1, random_state=12345) "
   ]
  },
  {
   "cell_type": "markdown",
   "metadata": {},
   "source": [
    "### Векторизация"
   ]
  },
  {
   "cell_type": "code",
   "execution_count": 16,
   "metadata": {},
   "outputs": [],
   "source": [
    "stopwords = set(nltk_stopwords.words('english'))\n",
    "\n",
    "count_tf_idf = TfidfVectorizer(stop_words=stopwords)\n",
    "tf_idf_train = count_tf_idf.fit_transform(features_train)"
   ]
  },
  {
   "cell_type": "code",
   "execution_count": 17,
   "metadata": {},
   "outputs": [],
   "source": [
    "tf_idf_test = count_tf_idf.transform(features_test)"
   ]
  },
  {
   "cell_type": "code",
   "execution_count": 18,
   "metadata": {},
   "outputs": [
    {
     "data": {
      "text/plain": [
       "(143362, 149895)"
      ]
     },
     "execution_count": 18,
     "metadata": {},
     "output_type": "execute_result"
    }
   ],
   "source": [
    "tf_idf_train.shape"
   ]
  },
  {
   "cell_type": "code",
   "execution_count": 19,
   "metadata": {},
   "outputs": [
    {
     "data": {
      "text/plain": [
       "(15930, 149895)"
      ]
     },
     "execution_count": 19,
     "metadata": {},
     "output_type": "execute_result"
    }
   ],
   "source": [
    "tf_idf_test.shape"
   ]
  },
  {
   "cell_type": "markdown",
   "metadata": {},
   "source": [
    "**Вывод**: В рамках подготовки данных была выполнена лемматизация и векторизация данных, был обнаружен дисбаланс классов, который будет учтен при обучении."
   ]
  },
  {
   "cell_type": "markdown",
   "metadata": {},
   "source": [
    "## Обучение"
   ]
  },
  {
   "cell_type": "markdown",
   "metadata": {},
   "source": [
    "Рассмотрим три модели: \n",
    "- LogisticRegression;\n",
    "- RandomForestClassifier;\n",
    "- CatBoostClassifier."
   ]
  },
  {
   "cell_type": "markdown",
   "metadata": {},
   "source": [
    "### Логическая регрессия "
   ]
  },
  {
   "cell_type": "code",
   "execution_count": 25,
   "metadata": {},
   "outputs": [
    {
     "name": "stdout",
     "output_type": "stream",
     "text": [
      "Fitting 3 folds for each of 3 candidates, totalling 9 fits\n",
      "[CV] END .......................C=0.1, class_weight=balanced; total time=  11.9s\n",
      "[CV] END .......................C=0.1, class_weight=balanced; total time=  12.0s\n",
      "[CV] END .......................C=0.1, class_weight=balanced; total time=  12.6s\n",
      "[CV] END .........................C=1, class_weight=balanced; total time=  44.0s\n",
      "[CV] END .........................C=1, class_weight=balanced; total time=  49.1s\n",
      "[CV] END .........................C=1, class_weight=balanced; total time=  37.7s\n",
      "[CV] END ........................C=10, class_weight=balanced; total time= 2.1min\n",
      "[CV] END ........................C=10, class_weight=balanced; total time= 2.0min\n",
      "[CV] END ........................C=10, class_weight=balanced; total time= 1.7min\n",
      "\n",
      "Лучшие параметры модели:\n",
      "\n",
      "{'C': 10, 'class_weight': 'balanced'}\n",
      "\n",
      "F1: 0.7559256259013057\n",
      "CPU times: user 4min 41s, sys: 6min 19s, total: 11min 1s\n",
      "Wall time: 11min 2s\n"
     ]
    }
   ],
   "source": [
    "%%time\n",
    "lr_model = LogisticRegression(max_iter=1000)\n",
    "hyperparams = [{'C':[0.1, 1, 10],   \n",
    "                'class_weight':['balanced']}]\n",
    "clf = GridSearchCV(lr_model, hyperparams, scoring='f1',cv=3, n_jobs=-1, verbose=2)\n",
    "clf.fit(tf_idf_train, target_train)\n",
    "print()\n",
    "print(\"Лучшие параметры модели:\")\n",
    "print()\n",
    "LR_best_params = clf.best_params_\n",
    "print(LR_best_params)\n",
    "print()\n",
    "print('F1:', clf.best_score_)"
   ]
  },
  {
   "cell_type": "code",
   "execution_count": 32,
   "metadata": {},
   "outputs": [],
   "source": [
    "features_train_l = features_train.copy()\n",
    "target_train_l = target_train.copy()"
   ]
  },
  {
   "cell_type": "code",
   "execution_count": 33,
   "metadata": {},
   "outputs": [
    {
     "name": "stdout",
     "output_type": "stream",
     "text": [
      "CPU times: user 137 µs, sys: 10 µs, total: 147 µs\n",
      "Wall time: 151 µs\n"
     ]
    }
   ],
   "source": [
    "%%time\n",
    "pipeline_lr = Pipeline(\n",
    "    [\n",
    "        (\"vect\", TfidfVectorizer()),\n",
    "        (\"clf\", LogisticRegression(max_iter=1000)),\n",
    "    ]\n",
    ")"
   ]
  },
  {
   "cell_type": "code",
   "execution_count": 34,
   "metadata": {},
   "outputs": [],
   "source": [
    "hyperparams ={'clf__solver':['newton-cg', 'lbfgs', 'liblinear'],\n",
    "              'clf__C':[0.1, 1, 10],   \n",
    "                'clf__class_weight':['balanced']}"
   ]
  },
  {
   "cell_type": "code",
   "execution_count": 36,
   "metadata": {},
   "outputs": [
    {
     "name": "stdout",
     "output_type": "stream",
     "text": [
      "Fitting 3 folds for each of 9 candidates, totalling 27 fits\n",
      "[CV] END clf__C=0.1, clf__class_weight=balanced, clf__solver=newton-cg; total time=  25.2s\n",
      "[CV] END clf__C=0.1, clf__class_weight=balanced, clf__solver=newton-cg; total time=  26.2s\n",
      "[CV] END clf__C=0.1, clf__class_weight=balanced, clf__solver=newton-cg; total time=  26.2s\n",
      "[CV] END clf__C=0.1, clf__class_weight=balanced, clf__solver=lbfgs; total time=  34.5s\n",
      "[CV] END clf__C=0.1, clf__class_weight=balanced, clf__solver=lbfgs; total time=  29.6s\n",
      "[CV] END clf__C=0.1, clf__class_weight=balanced, clf__solver=lbfgs; total time=  30.1s\n",
      "[CV] END clf__C=0.1, clf__class_weight=balanced, clf__solver=liblinear; total time=  13.6s\n",
      "[CV] END clf__C=0.1, clf__class_weight=balanced, clf__solver=liblinear; total time=  14.8s\n",
      "[CV] END clf__C=0.1, clf__class_weight=balanced, clf__solver=liblinear; total time=  13.3s\n",
      "[CV] END clf__C=1, clf__class_weight=balanced, clf__solver=newton-cg; total time=  41.3s\n",
      "[CV] END clf__C=1, clf__class_weight=balanced, clf__solver=newton-cg; total time=  40.2s\n",
      "[CV] END clf__C=1, clf__class_weight=balanced, clf__solver=newton-cg; total time=  37.6s\n",
      "[CV] END clf__C=1, clf__class_weight=balanced, clf__solver=lbfgs; total time=  58.7s\n",
      "[CV] END clf__C=1, clf__class_weight=balanced, clf__solver=lbfgs; total time=  52.6s\n",
      "[CV] END clf__C=1, clf__class_weight=balanced, clf__solver=lbfgs; total time= 1.1min\n",
      "[CV] END clf__C=1, clf__class_weight=balanced, clf__solver=liblinear; total time=  23.2s\n",
      "[CV] END clf__C=1, clf__class_weight=balanced, clf__solver=liblinear; total time=  21.1s\n",
      "[CV] END clf__C=1, clf__class_weight=balanced, clf__solver=liblinear; total time=  20.7s\n",
      "[CV] END clf__C=10, clf__class_weight=balanced, clf__solver=newton-cg; total time=  57.8s\n",
      "[CV] END clf__C=10, clf__class_weight=balanced, clf__solver=lbfgs; total time= 2.2min\n",
      "[CV] END clf__C=10, clf__class_weight=balanced, clf__solver=lbfgs; total time= 1.7min\n",
      "[CV] END clf__C=10, clf__class_weight=balanced, clf__solver=lbfgs; total time= 2.2min\n",
      "[CV] END clf__C=10, clf__class_weight=balanced, clf__solver=liblinear; total time=  32.7s\n",
      "\n",
      "Лучшие параметры модели:\n",
      "\n",
      "{'clf__C': 10, 'clf__class_weight': 'balanced', 'clf__solver': 'newton-cg'}\n",
      "\n",
      "F1: 0.765229384942094\n",
      "CPU times: user 11min 37s, sys: 9min 32s, total: 21min 10s\n",
      "Wall time: 21min 11s\n"
     ]
    }
   ],
   "source": [
    "%%time\n",
    "grid_lr = GridSearchCV(estimator=pipeline_lr,param_grid=hyperparams, scoring='f1',cv=3, n_jobs=-1, verbose=2,)\n",
    "grid_lr.fit(features_train_l, target_train_l)\n",
    "print()\n",
    "print(\"Лучшие параметры модели:\")\n",
    "print()\n",
    "LR_best_params = grid_lr.best_params_\n",
    "print(LR_best_params)\n",
    "print()\n",
    "print('F1:', grid_lr.best_score_)"
   ]
  },
  {
   "cell_type": "markdown",
   "metadata": {},
   "source": [
    "###  Классификатор случайного леса"
   ]
  },
  {
   "cell_type": "code",
   "execution_count": 20,
   "metadata": {},
   "outputs": [
    {
     "name": "stdout",
     "output_type": "stream",
     "text": [
      "Fitting 3 folds for each of 18 candidates, totalling 54 fits\n",
      "[CV] END class_weight=balanced, max_depth=2, n_estimators=100; total time=   4.8s\n",
      "[CV] END class_weight=balanced, max_depth=2, n_estimators=100; total time=   4.7s\n",
      "[CV] END class_weight=balanced, max_depth=2, n_estimators=100; total time=   4.5s\n",
      "[CV] END class_weight=balanced, max_depth=2, n_estimators=1000; total time=  45.3s\n",
      "[CV] END class_weight=balanced, max_depth=2, n_estimators=1000; total time=  47.6s\n",
      "[CV] END class_weight=balanced, max_depth=2, n_estimators=1000; total time=  46.4s\n",
      "[CV] END class_weight=balanced, max_depth=2, n_estimators=1500; total time= 1.2min\n",
      "[CV] END class_weight=balanced, max_depth=2, n_estimators=1500; total time= 1.1min\n",
      "[CV] END class_weight=balanced, max_depth=2, n_estimators=1500; total time= 1.1min\n",
      "[CV] END class_weight=balanced, max_depth=3, n_estimators=100; total time=   6.5s\n",
      "[CV] END class_weight=balanced, max_depth=3, n_estimators=100; total time=   6.2s\n",
      "[CV] END class_weight=balanced, max_depth=3, n_estimators=100; total time=   6.3s\n",
      "[CV] END class_weight=balanced, max_depth=3, n_estimators=1000; total time=  59.9s\n",
      "[CV] END class_weight=balanced, max_depth=3, n_estimators=1000; total time= 1.0min\n",
      "[CV] END class_weight=balanced, max_depth=3, n_estimators=1000; total time= 1.0min\n",
      "[CV] END class_weight=balanced, max_depth=3, n_estimators=1500; total time= 1.5min\n",
      "[CV] END class_weight=balanced, max_depth=3, n_estimators=1500; total time= 1.5min\n",
      "[CV] END class_weight=balanced, max_depth=3, n_estimators=1500; total time= 1.5min\n",
      "[CV] END class_weight=balanced, max_depth=4, n_estimators=100; total time=   7.8s\n",
      "[CV] END class_weight=balanced, max_depth=4, n_estimators=100; total time=   7.6s\n",
      "[CV] END class_weight=balanced, max_depth=4, n_estimators=100; total time=   7.6s\n",
      "[CV] END class_weight=balanced, max_depth=4, n_estimators=1000; total time= 1.3min\n",
      "[CV] END class_weight=balanced, max_depth=4, n_estimators=1000; total time= 1.3min\n",
      "[CV] END class_weight=balanced, max_depth=4, n_estimators=1500; total time= 1.9min\n",
      "[CV] END class_weight=balanced, max_depth=4, n_estimators=1500; total time= 1.9min\n",
      "[CV] END class_weight=balanced, max_depth=4, n_estimators=1500; total time= 1.9min\n",
      "[CV] END class_weight=balanced, max_depth=5, n_estimators=100; total time=   9.8s\n",
      "[CV] END class_weight=balanced, max_depth=5, n_estimators=100; total time=   9.9s\n",
      "[CV] END class_weight=balanced, max_depth=5, n_estimators=100; total time=   9.8s\n",
      "[CV] END class_weight=balanced, max_depth=5, n_estimators=1000; total time= 1.6min\n",
      "[CV] END class_weight=balanced, max_depth=5, n_estimators=1000; total time= 1.6min\n",
      "[CV] END class_weight=balanced, max_depth=5, n_estimators=1000; total time= 1.6min\n",
      "[CV] END class_weight=balanced, max_depth=5, n_estimators=1500; total time= 2.4min\n",
      "[CV] END class_weight=balanced, max_depth=5, n_estimators=1500; total time= 2.3min\n",
      "[CV] END class_weight=balanced, max_depth=5, n_estimators=1500; total time= 2.4min\n",
      "[CV] END class_weight=balanced, max_depth=6, n_estimators=100; total time=  11.7s\n",
      "[CV] END class_weight=balanced, max_depth=6, n_estimators=1000; total time= 1.9min\n",
      "[CV] END class_weight=balanced, max_depth=6, n_estimators=1000; total time= 1.9min\n",
      "[CV] END class_weight=balanced, max_depth=6, n_estimators=1500; total time= 2.7min\n",
      "[CV] END class_weight=balanced, max_depth=6, n_estimators=1500; total time= 2.8min\n",
      "[CV] END class_weight=balanced, max_depth=6, n_estimators=1500; total time= 2.8min\n",
      "[CV] END class_weight=balanced, max_depth=7, n_estimators=100; total time=  13.0s\n",
      "[CV] END class_weight=balanced, max_depth=7, n_estimators=100; total time=  13.0s\n",
      "[CV] END class_weight=balanced, max_depth=7, n_estimators=100; total time=  13.0s\n",
      "[CV] END class_weight=balanced, max_depth=7, n_estimators=1000; total time= 2.2min\n",
      "[CV] END class_weight=balanced, max_depth=7, n_estimators=1000; total time= 2.2min\n",
      "[CV] END class_weight=balanced, max_depth=7, n_estimators=1000; total time= 2.2min\n",
      "[CV] END class_weight=balanced, max_depth=7, n_estimators=1500; total time= 3.3min\n",
      "[CV] END class_weight=balanced, max_depth=7, n_estimators=1500; total time= 3.3min\n",
      "[CV] END class_weight=balanced, max_depth=7, n_estimators=1500; total time= 3.4min\n",
      "\n",
      "Лучшие параметры модели (случайный лес):\n",
      "\n",
      "{'class_weight': 'balanced', 'max_depth': 7, 'n_estimators': 1500}\n",
      "\n",
      "F1: 0.348924938463751\n",
      "CPU times: user 1h 8min 26s, sys: 11.2 s, total: 1h 8min 37s\n",
      "Wall time: 1h 8min 42s\n"
     ]
    }
   ],
   "source": [
    "%%time\n",
    "rf_model = RandomForestClassifier(random_state=12345)\n",
    "hyperparams = [{'n_estimators':[100, 1000, 1500],   \n",
    "                'class_weight':['balanced'],\n",
    "               'max_depth': range(2,8)}]\n",
    "rf = GridSearchCV(rf_model,\n",
    "                  hyperparams,\n",
    "                  scoring='f1',\n",
    "                  cv=3,\n",
    "                  n_jobs=-1,\n",
    "                  verbose=2)\n",
    "rf.fit(tf_idf_train, target_train)\n",
    "print()\n",
    "print(\"Лучшие параметры модели (случайный лес):\")\n",
    "print()\n",
    "RF_best_params = rf.best_params_\n",
    "print(RF_best_params)\n",
    "print()\n",
    "print('F1:', rf.best_score_)"
   ]
  },
  {
   "cell_type": "markdown",
   "metadata": {},
   "source": [
    "### CatBoost"
   ]
  },
  {
   "cell_type": "code",
   "execution_count": 21,
   "metadata": {},
   "outputs": [
    {
     "name": "stdout",
     "output_type": "stream",
     "text": [
      "F1 0.7364657999679491\n",
      "CPU times: user 43min 34s, sys: 26.6 s, total: 44min 1s\n",
      "Wall time: 44min 10s\n"
     ]
    }
   ],
   "source": [
    "%%time\n",
    "\n",
    "classificator = CatBoostClassifier(verbose=False, iterations=200)\n",
    "classificator.fit(tf_idf_train, target_train)\n",
    "cv_f1_CBC = cross_val_score(classificator,\n",
    "                                         tf_idf_train, \n",
    "                                         target_train,\n",
    "                                         scoring='f1').mean()\n",
    "print('F1', cv_f1_CBC)"
   ]
  },
  {
   "cell_type": "markdown",
   "metadata": {},
   "source": [
    "**Вывод**: Получили, что моделью с лучшим значением *F1= 0.762477* является LogisticRegression"
   ]
  },
  {
   "cell_type": "markdown",
   "metadata": {},
   "source": [
    "## Выводы"
   ]
  },
  {
   "cell_type": "markdown",
   "metadata": {},
   "source": [
    "**LogisticRegression**"
   ]
  },
  {
   "cell_type": "code",
   "execution_count": 39,
   "metadata": {},
   "outputs": [
    {
     "name": "stdout",
     "output_type": "stream",
     "text": [
      "F1 регрессии: 0.7500707613925841\n"
     ]
    }
   ],
   "source": [
    "model = LogisticRegression(C=10, class_weight= 'balanced',solver='newton-cg', max_iter=1000)\n",
    "model.fit(tf_idf_train, target_train)\n",
    "predictions = model.predict(tf_idf_test)\n",
    "f1 = f1_score(target_test, predictions)\n",
    "print('F1 регрессии:', f1)"
   ]
  },
  {
   "cell_type": "markdown",
   "metadata": {},
   "source": [
    "## Итоговый вывод"
   ]
  },
  {
   "cell_type": "markdown",
   "metadata": {},
   "source": [
    "В рамках проекта были выполнены следующие действия:\n",
    "- была выполнена подготовка данных: был выявлен дисбаланс классов, были выполнены лемматизация и векторизация;\n",
    "- были обучены 3 модели, и получено, что лучшей моделью по показателю метрики *F1=0.7652* является  LogisticRegression;\n",
    "- получено значение *F1* на тестовой выборке для всех моделей, лучший показатель *F1=0.750* у LogisticRegression, что удовлетворяет поставленной цели."
   ]
  },
  {
   "cell_type": "code",
   "execution_count": null,
   "metadata": {},
   "outputs": [],
   "source": []
  }
 ],
 "metadata": {
  "ExecuteTimeLog": [
   {
    "duration": 441,
    "start_time": "2023-07-18T13:36:00.746Z"
   },
   {
    "duration": 111,
    "start_time": "2023-07-18T13:36:36.383Z"
   },
   {
    "duration": 391,
    "start_time": "2023-07-23T03:09:52.462Z"
   },
   {
    "duration": 105,
    "start_time": "2023-07-23T03:09:53.156Z"
   },
   {
    "duration": 2482,
    "start_time": "2023-07-23T03:10:22.746Z"
   },
   {
    "duration": 14,
    "start_time": "2023-07-23T03:10:43.899Z"
   },
   {
    "duration": 10,
    "start_time": "2023-07-23T03:11:08.972Z"
   },
   {
    "duration": 16,
    "start_time": "2023-07-23T03:11:18.519Z"
   },
   {
    "duration": 32,
    "start_time": "2023-07-23T03:11:38.757Z"
   },
   {
    "duration": 11,
    "start_time": "2023-07-23T03:12:34.837Z"
   },
   {
    "duration": 8,
    "start_time": "2023-07-23T03:12:38.182Z"
   },
   {
    "duration": 6,
    "start_time": "2023-07-23T03:13:32.356Z"
   },
   {
    "duration": 1520,
    "start_time": "2023-07-23T03:25:38.642Z"
   },
   {
    "duration": 61,
    "start_time": "2023-07-23T03:26:14.964Z"
   },
   {
    "duration": 4,
    "start_time": "2023-07-23T03:26:31.152Z"
   },
   {
    "duration": 3,
    "start_time": "2023-07-23T03:26:35.391Z"
   },
   {
    "duration": 4,
    "start_time": "2023-07-23T03:27:35.614Z"
   },
   {
    "duration": 9,
    "start_time": "2023-07-23T03:29:28.709Z"
   },
   {
    "duration": 10,
    "start_time": "2023-07-23T03:29:50.387Z"
   },
   {
    "duration": 10,
    "start_time": "2023-07-23T03:29:56.297Z"
   },
   {
    "duration": 12,
    "start_time": "2023-07-23T03:30:05.452Z"
   },
   {
    "duration": 6755,
    "start_time": "2023-07-23T03:30:22.102Z"
   },
   {
    "duration": 8,
    "start_time": "2023-07-23T03:30:43.231Z"
   },
   {
    "duration": 2495,
    "start_time": "2023-07-23T03:33:27.666Z"
   },
   {
    "duration": 1733,
    "start_time": "2023-07-23T03:34:02.838Z"
   },
   {
    "duration": 1230,
    "start_time": "2023-07-23T03:34:15.736Z"
   },
   {
    "duration": 904,
    "start_time": "2023-07-23T03:34:29.682Z"
   },
   {
    "duration": 7,
    "start_time": "2023-07-23T03:34:30.588Z"
   },
   {
    "duration": 47,
    "start_time": "2023-07-23T03:34:31.017Z"
   },
   {
    "duration": 9,
    "start_time": "2023-07-23T03:34:31.640Z"
   },
   {
    "duration": 6832,
    "start_time": "2023-07-23T03:34:33.553Z"
   },
   {
    "duration": 7,
    "start_time": "2023-07-23T03:34:40.388Z"
   },
   {
    "duration": 805,
    "start_time": "2023-07-23T03:36:36.329Z"
   },
   {
    "duration": 7,
    "start_time": "2023-07-23T03:36:37.141Z"
   },
   {
    "duration": 826,
    "start_time": "2023-07-23T03:36:40.856Z"
   },
   {
    "duration": 8,
    "start_time": "2023-07-23T03:36:42.349Z"
   },
   {
    "duration": 35,
    "start_time": "2023-07-23T03:36:48.229Z"
   },
   {
    "duration": 1681,
    "start_time": "2023-07-23T03:36:54.052Z"
   },
   {
    "duration": 950,
    "start_time": "2023-07-23T03:36:55.735Z"
   },
   {
    "duration": 14,
    "start_time": "2023-07-23T03:36:56.687Z"
   },
   {
    "duration": 72,
    "start_time": "2023-07-23T03:36:56.703Z"
   },
   {
    "duration": 22,
    "start_time": "2023-07-23T03:36:56.776Z"
   },
   {
    "duration": 7059,
    "start_time": "2023-07-23T03:36:56.800Z"
   },
   {
    "duration": 891,
    "start_time": "2023-07-23T03:37:36.656Z"
   },
   {
    "duration": 7,
    "start_time": "2023-07-23T03:37:38.245Z"
   },
   {
    "duration": 34,
    "start_time": "2023-07-23T03:37:38.966Z"
   },
   {
    "duration": 13,
    "start_time": "2023-07-23T03:37:39.889Z"
   },
   {
    "duration": 9,
    "start_time": "2023-07-23T03:37:42.371Z"
   },
   {
    "duration": 6410,
    "start_time": "2023-07-23T03:37:44.449Z"
   },
   {
    "duration": 6,
    "start_time": "2023-07-23T03:37:54.337Z"
   },
   {
    "duration": 978,
    "start_time": "2023-07-23T03:38:13.576Z"
   },
   {
    "duration": 7,
    "start_time": "2023-07-23T03:38:15.254Z"
   },
   {
    "duration": 32,
    "start_time": "2023-07-23T03:38:15.962Z"
   },
   {
    "duration": 11,
    "start_time": "2023-07-23T03:38:16.409Z"
   },
   {
    "duration": 6,
    "start_time": "2023-07-23T03:38:16.976Z"
   },
   {
    "duration": 6013,
    "start_time": "2023-07-23T03:38:18.992Z"
   },
   {
    "duration": 7,
    "start_time": "2023-07-23T03:38:25.987Z"
   },
   {
    "duration": 141,
    "start_time": "2023-07-23T03:50:46.584Z"
   },
   {
    "duration": 7,
    "start_time": "2023-07-23T03:51:05.857Z"
   },
   {
    "duration": 64,
    "start_time": "2023-07-23T03:51:08.736Z"
   },
   {
    "duration": 4,
    "start_time": "2023-07-23T04:05:10.579Z"
   },
   {
    "duration": 6,
    "start_time": "2023-07-23T04:06:37.051Z"
   },
   {
    "duration": 9,
    "start_time": "2023-07-23T04:06:57.609Z"
   },
   {
    "duration": 4,
    "start_time": "2023-07-23T04:07:27.799Z"
   },
   {
    "duration": 4,
    "start_time": "2023-07-23T04:07:33.375Z"
   },
   {
    "duration": 5618,
    "start_time": "2023-07-23T04:08:22.694Z"
   },
   {
    "duration": 1820,
    "start_time": "2023-07-23T04:08:47.737Z"
   },
   {
    "duration": 4,
    "start_time": "2023-07-23T04:09:48.565Z"
   },
   {
    "duration": 201,
    "start_time": "2023-07-23T04:10:45.842Z"
   },
   {
    "duration": 9,
    "start_time": "2023-07-23T04:10:53.594Z"
   },
   {
    "duration": 11,
    "start_time": "2023-07-23T04:11:23.422Z"
   },
   {
    "duration": 12,
    "start_time": "2023-07-23T04:11:28.260Z"
   },
   {
    "duration": 12,
    "start_time": "2023-07-23T04:13:34.585Z"
   },
   {
    "duration": 9,
    "start_time": "2023-07-23T04:13:40.596Z"
   },
   {
    "duration": 6,
    "start_time": "2023-07-23T04:14:04.768Z"
   },
   {
    "duration": 808,
    "start_time": "2023-07-23T04:14:05.365Z"
   },
   {
    "duration": 7,
    "start_time": "2023-07-23T04:14:06.175Z"
   },
   {
    "duration": 58,
    "start_time": "2023-07-23T04:14:06.183Z"
   },
   {
    "duration": 41,
    "start_time": "2023-07-23T04:14:06.243Z"
   },
   {
    "duration": 6,
    "start_time": "2023-07-23T04:14:06.685Z"
   },
   {
    "duration": 6399,
    "start_time": "2023-07-23T04:14:07.270Z"
   },
   {
    "duration": 8,
    "start_time": "2023-07-23T04:14:13.671Z"
   },
   {
    "duration": 48,
    "start_time": "2023-07-23T04:14:13.681Z"
   },
   {
    "duration": 5824,
    "start_time": "2023-07-23T04:14:13.732Z"
   },
   {
    "duration": 1810,
    "start_time": "2023-07-23T04:14:19.558Z"
   },
   {
    "duration": 4,
    "start_time": "2023-07-23T04:14:21.370Z"
   },
   {
    "duration": 19,
    "start_time": "2023-07-23T04:14:21.376Z"
   },
   {
    "duration": 12,
    "start_time": "2023-07-23T04:14:23.592Z"
   },
   {
    "duration": 115070,
    "start_time": "2023-07-23T04:14:42.286Z"
   },
   {
    "duration": 9,
    "start_time": "2023-07-23T04:22:57.559Z"
   },
   {
    "duration": 5,
    "start_time": "2023-07-23T04:23:30.263Z"
   },
   {
    "duration": 849,
    "start_time": "2023-07-23T04:23:30.660Z"
   },
   {
    "duration": 6,
    "start_time": "2023-07-23T04:23:31.511Z"
   },
   {
    "duration": 89,
    "start_time": "2023-07-23T04:23:31.520Z"
   },
   {
    "duration": 20,
    "start_time": "2023-07-23T04:23:31.611Z"
   },
   {
    "duration": 43,
    "start_time": "2023-07-23T04:23:31.633Z"
   },
   {
    "duration": 6683,
    "start_time": "2023-07-23T04:23:32.392Z"
   },
   {
    "duration": 6,
    "start_time": "2023-07-23T04:23:39.078Z"
   },
   {
    "duration": 54,
    "start_time": "2023-07-23T04:23:39.086Z"
   },
   {
    "duration": 6046,
    "start_time": "2023-07-23T04:23:39.143Z"
   },
   {
    "duration": 1820,
    "start_time": "2023-07-23T04:23:45.191Z"
   },
   {
    "duration": 28,
    "start_time": "2023-07-23T04:23:47.013Z"
   },
   {
    "duration": 36,
    "start_time": "2023-07-23T04:23:47.047Z"
   },
   {
    "duration": 104163,
    "start_time": "2023-07-23T04:23:49.364Z"
   },
   {
    "duration": 240260,
    "start_time": "2023-07-23T04:26:25.304Z"
   },
   {
    "duration": 78,
    "start_time": "2023-07-23T04:30:32.673Z"
   },
   {
    "duration": 93,
    "start_time": "2023-07-23T04:31:09.493Z"
   },
   {
    "duration": 121653,
    "start_time": "2023-07-23T04:31:32.868Z"
   },
   {
    "duration": 10,
    "start_time": "2023-07-23T04:34:26.073Z"
   },
   {
    "duration": 0,
    "start_time": "2023-07-23T04:36:38.785Z"
   },
   {
    "duration": 1878,
    "start_time": "2023-07-23T04:37:19.200Z"
   },
   {
    "duration": 1107,
    "start_time": "2023-07-23T04:37:21.080Z"
   },
   {
    "duration": 19,
    "start_time": "2023-07-23T04:37:22.189Z"
   },
   {
    "duration": 127,
    "start_time": "2023-07-23T04:37:22.210Z"
   },
   {
    "duration": 146,
    "start_time": "2023-07-23T04:37:22.339Z"
   },
   {
    "duration": 89,
    "start_time": "2023-07-23T04:37:22.488Z"
   },
   {
    "duration": 9472,
    "start_time": "2023-07-23T04:37:22.579Z"
   },
   {
    "duration": 7,
    "start_time": "2023-07-23T04:37:32.053Z"
   },
   {
    "duration": 91,
    "start_time": "2023-07-23T04:37:32.062Z"
   },
   {
    "duration": 6899,
    "start_time": "2023-07-23T04:37:32.155Z"
   },
   {
    "duration": 2141,
    "start_time": "2023-07-23T04:37:39.058Z"
   },
   {
    "duration": 8,
    "start_time": "2023-07-23T04:37:41.202Z"
   },
   {
    "duration": 53026,
    "start_time": "2023-07-23T04:37:41.212Z"
   },
   {
    "duration": 6,
    "start_time": "2023-07-23T04:39:16.354Z"
   },
   {
    "duration": 921,
    "start_time": "2023-07-23T04:39:17.357Z"
   },
   {
    "duration": 10,
    "start_time": "2023-07-23T04:39:18.891Z"
   },
   {
    "duration": 36,
    "start_time": "2023-07-23T04:39:19.471Z"
   },
   {
    "duration": 11,
    "start_time": "2023-07-23T04:39:19.672Z"
   },
   {
    "duration": 9,
    "start_time": "2023-07-23T04:39:19.986Z"
   },
   {
    "duration": 7589,
    "start_time": "2023-07-23T04:39:20.463Z"
   },
   {
    "duration": 9,
    "start_time": "2023-07-23T04:39:28.056Z"
   },
   {
    "duration": 96,
    "start_time": "2023-07-23T04:39:28.067Z"
   },
   {
    "duration": 7616,
    "start_time": "2023-07-23T04:39:28.165Z"
   },
   {
    "duration": 1560,
    "start_time": "2023-07-23T04:39:35.785Z"
   },
   {
    "duration": 4,
    "start_time": "2023-07-23T04:39:37.347Z"
   },
   {
    "duration": 223,
    "start_time": "2023-07-23T04:39:37.352Z"
   },
   {
    "duration": 153626,
    "start_time": "2023-07-23T04:39:37.577Z"
   },
   {
    "duration": 228234,
    "start_time": "2023-07-23T04:42:25.149Z"
   },
   {
    "duration": 22843,
    "start_time": "2023-07-23T04:46:30.181Z"
   },
   {
    "duration": 21299,
    "start_time": "2023-07-23T04:46:53.935Z"
   },
   {
    "duration": 691026,
    "start_time": "2023-07-23T04:47:31.107Z"
   },
   {
    "duration": 161244,
    "start_time": "2023-07-23T05:01:31.904Z"
   },
   {
    "duration": 162162,
    "start_time": "2023-07-23T05:05:02.232Z"
   },
   {
    "duration": 1674,
    "start_time": "2023-07-23T08:11:32.762Z"
   },
   {
    "duration": 3327,
    "start_time": "2023-07-23T08:11:34.438Z"
   },
   {
    "duration": 14,
    "start_time": "2023-07-23T08:11:37.767Z"
   },
   {
    "duration": 115,
    "start_time": "2023-07-23T08:15:58.709Z"
   },
   {
    "duration": 1623,
    "start_time": "2023-07-23T08:16:10.820Z"
   },
   {
    "duration": 873,
    "start_time": "2023-07-23T08:16:12.446Z"
   },
   {
    "duration": 17,
    "start_time": "2023-07-23T08:16:13.321Z"
   },
   {
    "duration": 48,
    "start_time": "2023-07-23T08:16:13.341Z"
   },
   {
    "duration": 12,
    "start_time": "2023-07-23T08:16:13.391Z"
   },
   {
    "duration": 22,
    "start_time": "2023-07-23T08:16:13.405Z"
   },
   {
    "duration": 6792,
    "start_time": "2023-07-23T08:16:13.428Z"
   },
   {
    "duration": 8,
    "start_time": "2023-07-23T08:16:20.222Z"
   },
   {
    "duration": 71,
    "start_time": "2023-07-23T08:16:20.232Z"
   },
   {
    "duration": 5974,
    "start_time": "2023-07-23T08:16:20.307Z"
   },
   {
    "duration": 1290,
    "start_time": "2023-07-23T08:16:26.284Z"
   },
   {
    "duration": 4,
    "start_time": "2023-07-23T08:16:27.576Z"
   },
   {
    "duration": 9,
    "start_time": "2023-07-23T08:16:27.581Z"
   },
   {
    "duration": 11788,
    "start_time": "2023-07-23T08:34:47.671Z"
   },
   {
    "duration": 7997,
    "start_time": "2023-07-23T08:34:59.463Z"
   },
   {
    "duration": 107,
    "start_time": "2023-07-23T08:35:07.462Z"
   },
   {
    "duration": 298,
    "start_time": "2023-07-23T08:35:07.661Z"
   },
   {
    "duration": 193,
    "start_time": "2023-07-23T08:35:07.966Z"
   },
   {
    "duration": 10,
    "start_time": "2023-07-23T08:35:08.162Z"
   },
   {
    "duration": 65603,
    "start_time": "2023-07-23T08:35:08.260Z"
   },
   {
    "duration": 98,
    "start_time": "2023-07-23T08:36:13.864Z"
   },
   {
    "duration": 298,
    "start_time": "2023-07-23T08:36:13.964Z"
   },
   {
    "duration": 57298,
    "start_time": "2023-07-23T08:36:14.265Z"
   },
   {
    "duration": 13112,
    "start_time": "2023-07-23T08:37:11.572Z"
   },
   {
    "duration": 5,
    "start_time": "2023-07-23T08:37:24.686Z"
   },
   {
    "duration": 68,
    "start_time": "2023-07-23T08:37:24.693Z"
   },
   {
    "duration": 1058091,
    "start_time": "2023-07-23T08:51:03.172Z"
   },
   {
    "duration": 0,
    "start_time": "2023-07-23T09:08:41.268Z"
   },
   {
    "duration": 0,
    "start_time": "2023-07-23T09:08:41.269Z"
   },
   {
    "duration": 0,
    "start_time": "2023-07-23T09:08:41.270Z"
   },
   {
    "duration": 3673,
    "start_time": "2023-07-23T09:16:03.503Z"
   },
   {
    "duration": 2502,
    "start_time": "2023-07-23T09:16:07.179Z"
   },
   {
    "duration": 20,
    "start_time": "2023-07-23T09:16:09.684Z"
   },
   {
    "duration": 103,
    "start_time": "2023-07-23T09:16:09.759Z"
   },
   {
    "duration": 18,
    "start_time": "2023-07-23T09:16:09.866Z"
   },
   {
    "duration": 74,
    "start_time": "2023-07-23T09:16:09.887Z"
   },
   {
    "duration": 19442,
    "start_time": "2023-07-23T09:16:09.963Z"
   },
   {
    "duration": 10,
    "start_time": "2023-07-23T09:16:29.459Z"
   },
   {
    "duration": 97,
    "start_time": "2023-07-23T09:16:29.471Z"
   },
   {
    "duration": 16514,
    "start_time": "2023-07-23T09:16:29.571Z"
   },
   {
    "duration": 4616,
    "start_time": "2023-07-23T09:16:46.089Z"
   },
   {
    "duration": 4,
    "start_time": "2023-07-23T09:16:50.758Z"
   },
   {
    "duration": 14,
    "start_time": "2023-07-23T09:16:50.764Z"
   },
   {
    "duration": 793194,
    "start_time": "2023-07-23T09:16:50.780Z"
   },
   {
    "duration": 1569,
    "start_time": "2023-07-23T18:16:14.867Z"
   },
   {
    "duration": 2277,
    "start_time": "2023-07-23T18:16:16.438Z"
   },
   {
    "duration": 16,
    "start_time": "2023-07-23T18:16:18.717Z"
   },
   {
    "duration": 28,
    "start_time": "2023-07-23T18:16:18.735Z"
   },
   {
    "duration": 8,
    "start_time": "2023-07-23T18:16:18.765Z"
   },
   {
    "duration": 19,
    "start_time": "2023-07-23T18:16:18.775Z"
   },
   {
    "duration": 6381,
    "start_time": "2023-07-23T18:16:18.796Z"
   },
   {
    "duration": 6,
    "start_time": "2023-07-23T18:16:25.179Z"
   },
   {
    "duration": 33,
    "start_time": "2023-07-23T18:16:25.186Z"
   },
   {
    "duration": 4782,
    "start_time": "2023-07-23T18:16:25.220Z"
   },
   {
    "duration": 1210,
    "start_time": "2023-07-23T18:16:30.004Z"
   },
   {
    "duration": 3,
    "start_time": "2023-07-23T18:16:31.216Z"
   },
   {
    "duration": 41,
    "start_time": "2023-07-23T18:16:31.220Z"
   },
   {
    "duration": 560246,
    "start_time": "2023-07-23T18:16:31.264Z"
   },
   {
    "duration": 3243865,
    "start_time": "2023-07-23T18:25:51.512Z"
   },
   {
    "duration": 127,
    "start_time": "2023-07-23T19:19:55.379Z"
   },
   {
    "duration": 0,
    "start_time": "2023-07-23T19:19:55.508Z"
   },
   {
    "duration": 0,
    "start_time": "2023-07-23T19:19:55.518Z"
   },
   {
    "duration": 290,
    "start_time": "2023-07-23T19:20:44.471Z"
   },
   {
    "duration": 205787,
    "start_time": "2023-07-23T19:20:51.531Z"
   },
   {
    "duration": 119,
    "start_time": "2023-07-23T19:26:30.424Z"
   },
   {
    "duration": 105900,
    "start_time": "2023-07-23T19:26:46.130Z"
   },
   {
    "duration": 1101996,
    "start_time": "2023-07-23T19:28:48.520Z"
   },
   {
    "duration": 14793,
    "start_time": "2023-07-23T19:47:37.398Z"
   },
   {
    "duration": 46,
    "start_time": "2023-07-23T19:51:20.526Z"
   },
   {
    "duration": 1517,
    "start_time": "2023-07-23T19:51:28.114Z"
   },
   {
    "duration": 2233,
    "start_time": "2023-07-23T19:51:29.632Z"
   },
   {
    "duration": 12,
    "start_time": "2023-07-23T19:51:31.866Z"
   },
   {
    "duration": 73,
    "start_time": "2023-07-23T19:51:31.880Z"
   },
   {
    "duration": 22,
    "start_time": "2023-07-23T19:51:31.955Z"
   },
   {
    "duration": 36,
    "start_time": "2023-07-23T19:51:31.979Z"
   },
   {
    "duration": 6479,
    "start_time": "2023-07-23T19:51:34.267Z"
   },
   {
    "duration": 7,
    "start_time": "2023-07-23T19:51:40.748Z"
   },
   {
    "duration": 39,
    "start_time": "2023-07-23T19:51:40.756Z"
   },
   {
    "duration": 4688,
    "start_time": "2023-07-23T19:51:40.822Z"
   },
   {
    "duration": 1142,
    "start_time": "2023-07-23T19:51:45.926Z"
   },
   {
    "duration": 4,
    "start_time": "2023-07-23T19:51:47.070Z"
   },
   {
    "duration": 3,
    "start_time": "2023-07-23T19:51:48.003Z"
   },
   {
    "duration": 44,
    "start_time": "2023-07-23T19:52:09.866Z"
   },
   {
    "duration": 1667,
    "start_time": "2023-07-23T19:52:28.410Z"
   },
   {
    "duration": 2245,
    "start_time": "2023-07-23T19:52:30.078Z"
   },
   {
    "duration": 14,
    "start_time": "2023-07-23T19:52:32.325Z"
   },
   {
    "duration": 57,
    "start_time": "2023-07-23T19:52:32.340Z"
   },
   {
    "duration": 23,
    "start_time": "2023-07-23T19:52:32.399Z"
   },
   {
    "duration": 22,
    "start_time": "2023-07-23T19:52:32.424Z"
   },
   {
    "duration": 6185,
    "start_time": "2023-07-23T19:52:32.448Z"
   },
   {
    "duration": 6,
    "start_time": "2023-07-23T19:52:38.635Z"
   },
   {
    "duration": 21,
    "start_time": "2023-07-23T19:52:38.642Z"
   },
   {
    "duration": 4573,
    "start_time": "2023-07-23T19:52:38.665Z"
   },
   {
    "duration": 1114,
    "start_time": "2023-07-23T19:52:43.240Z"
   },
   {
    "duration": 3,
    "start_time": "2023-07-23T19:52:44.355Z"
   },
   {
    "duration": 12,
    "start_time": "2023-07-23T19:52:44.360Z"
   },
   {
    "duration": 1696,
    "start_time": "2023-07-23T19:53:05.802Z"
   },
   {
    "duration": 2203,
    "start_time": "2023-07-23T19:53:07.500Z"
   },
   {
    "duration": 13,
    "start_time": "2023-07-23T19:53:09.704Z"
   },
   {
    "duration": 24,
    "start_time": "2023-07-23T19:53:09.720Z"
   },
   {
    "duration": 9,
    "start_time": "2023-07-23T19:53:09.745Z"
   },
   {
    "duration": 5,
    "start_time": "2023-07-23T19:53:09.755Z"
   },
   {
    "duration": 5969,
    "start_time": "2023-07-23T19:53:09.761Z"
   },
   {
    "duration": 5,
    "start_time": "2023-07-23T19:53:15.732Z"
   },
   {
    "duration": 21,
    "start_time": "2023-07-23T19:53:15.739Z"
   },
   {
    "duration": 4574,
    "start_time": "2023-07-23T19:53:15.761Z"
   },
   {
    "duration": 1082,
    "start_time": "2023-07-23T19:53:20.336Z"
   },
   {
    "duration": 3,
    "start_time": "2023-07-23T19:53:21.419Z"
   },
   {
    "duration": 5,
    "start_time": "2023-07-23T19:53:21.424Z"
   },
   {
    "duration": 52462,
    "start_time": "2023-07-23T19:53:21.431Z"
   },
   {
    "duration": 51396,
    "start_time": "2023-07-23T19:55:30.872Z"
   },
   {
    "duration": 0,
    "start_time": "2023-07-23T19:56:22.271Z"
   },
   {
    "duration": 509223,
    "start_time": "2023-07-23T19:56:43.007Z"
   },
   {
    "duration": 0,
    "start_time": "2023-07-23T20:06:52.290Z"
   },
   {
    "duration": 122349,
    "start_time": "2023-07-23T20:07:43.563Z"
   },
   {
    "duration": 169437,
    "start_time": "2023-07-23T20:09:46.729Z"
   },
   {
    "duration": 4,
    "start_time": "2023-07-23T20:12:48.833Z"
   },
   {
    "duration": 743,
    "start_time": "2023-07-23T20:12:49.342Z"
   },
   {
    "duration": 7,
    "start_time": "2023-07-23T20:12:50.117Z"
   },
   {
    "duration": 25,
    "start_time": "2023-07-23T20:12:50.442Z"
   },
   {
    "duration": 8,
    "start_time": "2023-07-23T20:12:51.409Z"
   },
   {
    "duration": 5,
    "start_time": "2023-07-23T20:12:51.801Z"
   },
   {
    "duration": 5213,
    "start_time": "2023-07-23T20:12:53.738Z"
   },
   {
    "duration": 6,
    "start_time": "2023-07-23T20:12:58.952Z"
   },
   {
    "duration": 36,
    "start_time": "2023-07-23T20:12:58.959Z"
   },
   {
    "duration": 5136,
    "start_time": "2023-07-23T20:12:58.997Z"
   },
   {
    "duration": 1149,
    "start_time": "2023-07-23T20:13:04.135Z"
   },
   {
    "duration": 3,
    "start_time": "2023-07-23T20:13:05.286Z"
   },
   {
    "duration": 14,
    "start_time": "2023-07-23T20:13:05.290Z"
   },
   {
    "duration": 1589,
    "start_time": "2023-07-23T20:20:08.216Z"
   },
   {
    "duration": 803,
    "start_time": "2023-07-23T20:20:09.807Z"
   },
   {
    "duration": 11,
    "start_time": "2023-07-23T20:20:10.612Z"
   },
   {
    "duration": 30,
    "start_time": "2023-07-23T20:20:10.624Z"
   },
   {
    "duration": 11,
    "start_time": "2023-07-23T20:20:10.655Z"
   },
   {
    "duration": 12,
    "start_time": "2023-07-23T20:20:10.667Z"
   },
   {
    "duration": 6039,
    "start_time": "2023-07-23T20:20:10.680Z"
   },
   {
    "duration": 6,
    "start_time": "2023-07-23T20:20:16.721Z"
   },
   {
    "duration": 35,
    "start_time": "2023-07-23T20:20:16.729Z"
   },
   {
    "duration": 4624,
    "start_time": "2023-07-23T20:20:16.765Z"
   },
   {
    "duration": 1096,
    "start_time": "2023-07-23T20:20:21.390Z"
   },
   {
    "duration": 4,
    "start_time": "2023-07-23T20:20:22.488Z"
   },
   {
    "duration": 8,
    "start_time": "2023-07-23T20:20:22.493Z"
   },
   {
    "duration": 604944,
    "start_time": "2023-07-23T20:20:22.503Z"
   },
   {
    "duration": 3519885,
    "start_time": "2023-07-23T20:30:27.509Z"
   },
   {
    "duration": 2608205,
    "start_time": "2023-07-23T21:29:07.409Z"
   },
   {
    "duration": 7692909,
    "start_time": "2023-07-23T22:12:35.615Z"
   },
   {
    "duration": 116194,
    "start_time": "2023-07-24T00:20:48.526Z"
   },
   {
    "duration": 25354,
    "start_time": "2023-07-24T00:22:44.722Z"
   },
   {
    "duration": 57,
    "start_time": "2023-07-24T06:34:00.239Z"
   },
   {
    "duration": 6,
    "start_time": "2023-07-24T06:34:27.766Z"
   },
   {
    "duration": 1719,
    "start_time": "2023-07-24T06:34:40.106Z"
   },
   {
    "duration": 2234,
    "start_time": "2023-07-24T06:34:41.827Z"
   },
   {
    "duration": 12,
    "start_time": "2023-07-24T06:34:44.062Z"
   },
   {
    "duration": 24,
    "start_time": "2023-07-24T06:34:44.186Z"
   },
   {
    "duration": 8,
    "start_time": "2023-07-24T06:34:44.866Z"
   },
   {
    "duration": 7,
    "start_time": "2023-07-24T06:34:45.326Z"
   },
   {
    "duration": 6137,
    "start_time": "2023-07-24T06:34:49.054Z"
   },
   {
    "duration": 9,
    "start_time": "2023-07-24T06:34:55.193Z"
   },
   {
    "duration": 28,
    "start_time": "2023-07-24T06:34:55.204Z"
   },
   {
    "duration": 5040,
    "start_time": "2023-07-24T06:34:55.234Z"
   },
   {
    "duration": 1161,
    "start_time": "2023-07-24T06:35:00.276Z"
   },
   {
    "duration": 4,
    "start_time": "2023-07-24T06:35:01.439Z"
   },
   {
    "duration": 43,
    "start_time": "2023-07-24T06:35:01.445Z"
   },
   {
    "duration": 483405,
    "start_time": "2023-07-24T06:35:08.546Z"
   },
   {
    "duration": 2,
    "start_time": "2023-07-24T07:19:34.479Z"
   },
   {
    "duration": 73,
    "start_time": "2023-07-24T07:20:00.546Z"
   },
   {
    "duration": 0,
    "start_time": "2023-07-24T07:32:19.184Z"
   },
   {
    "duration": 0,
    "start_time": "2023-07-24T07:32:19.202Z"
   },
   {
    "duration": 0,
    "start_time": "2023-07-24T07:32:19.205Z"
   },
   {
    "duration": 0,
    "start_time": "2023-07-24T07:32:19.206Z"
   },
   {
    "duration": 5,
    "start_time": "2023-07-24T07:33:50.829Z"
   },
   {
    "duration": 735,
    "start_time": "2023-07-24T07:33:53.201Z"
   },
   {
    "duration": 6,
    "start_time": "2023-07-24T07:33:54.427Z"
   },
   {
    "duration": 24,
    "start_time": "2023-07-24T07:33:54.914Z"
   },
   {
    "duration": 8,
    "start_time": "2023-07-24T07:33:55.447Z"
   },
   {
    "duration": 7,
    "start_time": "2023-07-24T07:33:55.909Z"
   },
   {
    "duration": 5049,
    "start_time": "2023-07-24T07:33:57.566Z"
   },
   {
    "duration": 7,
    "start_time": "2023-07-24T07:34:02.617Z"
   },
   {
    "duration": 58,
    "start_time": "2023-07-24T07:34:02.626Z"
   },
   {
    "duration": 5055,
    "start_time": "2023-07-24T07:34:02.686Z"
   },
   {
    "duration": 1194,
    "start_time": "2023-07-24T07:34:07.743Z"
   },
   {
    "duration": 4,
    "start_time": "2023-07-24T07:34:08.939Z"
   },
   {
    "duration": 15,
    "start_time": "2023-07-24T07:34:08.945Z"
   },
   {
    "duration": 25830,
    "start_time": "2023-07-24T07:34:17.147Z"
   },
   {
    "duration": 490054,
    "start_time": "2023-07-24T07:34:42.979Z"
   },
   {
    "duration": 3142,
    "start_time": "2023-07-24T19:07:47.239Z"
   },
   {
    "duration": 4669,
    "start_time": "2023-07-24T19:07:54.025Z"
   },
   {
    "duration": 21,
    "start_time": "2023-07-24T19:07:59.432Z"
   },
   {
    "duration": 41,
    "start_time": "2023-07-24T19:08:01.744Z"
   },
   {
    "duration": 37,
    "start_time": "2023-07-24T19:08:05.436Z"
   },
   {
    "duration": 13,
    "start_time": "2023-07-24T19:08:08.353Z"
   },
   {
    "duration": 5,
    "start_time": "2023-07-24T19:08:11.746Z"
   },
   {
    "duration": 6,
    "start_time": "2023-07-24T19:08:13.863Z"
   },
   {
    "duration": 6,
    "start_time": "2023-07-24T19:08:16.065Z"
   },
   {
    "duration": 164,
    "start_time": "2023-07-24T19:08:18.384Z"
   },
   {
    "duration": 639,
    "start_time": "2023-07-24T19:08:28.662Z"
   },
   {
    "duration": 19,
    "start_time": "2023-07-24T19:10:23.828Z"
   },
   {
    "duration": 849,
    "start_time": "2023-07-24T19:10:26.397Z"
   },
   {
    "duration": 1201,
    "start_time": "2023-07-24T19:12:24.598Z"
   },
   {
    "duration": 877,
    "start_time": "2023-07-24T19:12:30.702Z"
   },
   {
    "duration": 24,
    "start_time": "2023-07-24T19:12:44.796Z"
   },
   {
    "duration": 869,
    "start_time": "2023-07-24T19:12:51.467Z"
   },
   {
    "duration": 2268,
    "start_time": "2023-07-24T19:13:46.501Z"
   },
   {
    "duration": 982,
    "start_time": "2023-07-24T19:13:48.775Z"
   },
   {
    "duration": 25,
    "start_time": "2023-07-24T19:13:49.759Z"
   },
   {
    "duration": 70,
    "start_time": "2023-07-24T19:13:49.786Z"
   },
   {
    "duration": 16,
    "start_time": "2023-07-24T19:13:49.863Z"
   },
   {
    "duration": 9,
    "start_time": "2023-07-24T19:13:49.881Z"
   },
   {
    "duration": 2,
    "start_time": "2023-07-24T19:13:49.892Z"
   },
   {
    "duration": 5,
    "start_time": "2023-07-24T19:13:49.896Z"
   },
   {
    "duration": 23,
    "start_time": "2023-07-24T19:13:49.902Z"
   },
   {
    "duration": 1075,
    "start_time": "2023-07-24T19:13:49.928Z"
   },
   {
    "duration": 0,
    "start_time": "2023-07-24T19:13:51.005Z"
   },
   {
    "duration": 0,
    "start_time": "2023-07-24T19:13:51.006Z"
   },
   {
    "duration": 0,
    "start_time": "2023-07-24T19:13:51.007Z"
   },
   {
    "duration": 0,
    "start_time": "2023-07-24T19:13:51.007Z"
   },
   {
    "duration": 0,
    "start_time": "2023-07-24T19:13:51.008Z"
   },
   {
    "duration": 0,
    "start_time": "2023-07-24T19:13:51.009Z"
   },
   {
    "duration": 0,
    "start_time": "2023-07-24T19:13:51.009Z"
   },
   {
    "duration": 0,
    "start_time": "2023-07-24T19:13:51.010Z"
   },
   {
    "duration": 0,
    "start_time": "2023-07-24T19:13:51.018Z"
   },
   {
    "duration": 0,
    "start_time": "2023-07-24T19:13:51.019Z"
   },
   {
    "duration": 23,
    "start_time": "2023-07-24T19:14:32.440Z"
   },
   {
    "duration": 893,
    "start_time": "2023-07-24T19:14:33.374Z"
   },
   {
    "duration": 18,
    "start_time": "2023-07-24T19:14:34.269Z"
   },
   {
    "duration": 62,
    "start_time": "2023-07-24T19:14:34.297Z"
   },
   {
    "duration": 27,
    "start_time": "2023-07-24T19:14:34.364Z"
   },
   {
    "duration": 15,
    "start_time": "2023-07-24T19:14:34.424Z"
   },
   {
    "duration": 3,
    "start_time": "2023-07-24T19:14:35.468Z"
   },
   {
    "duration": 4,
    "start_time": "2023-07-24T19:14:35.591Z"
   },
   {
    "duration": 5,
    "start_time": "2023-07-24T19:14:35.784Z"
   },
   {
    "duration": 70844,
    "start_time": "2023-07-24T19:14:36.460Z"
   },
   {
    "duration": 30,
    "start_time": "2023-07-24T19:15:48.426Z"
   },
   {
    "duration": 1455103,
    "start_time": "2023-07-24T19:16:05.466Z"
   },
   {
    "duration": 7,
    "start_time": "2023-07-24T19:56:11.565Z"
   },
   {
    "duration": 49,
    "start_time": "2023-07-24T19:56:59.628Z"
   },
   {
    "duration": 79,
    "start_time": "2023-07-24T19:57:02.682Z"
   },
   {
    "duration": 7359,
    "start_time": "2023-07-24T19:57:07.288Z"
   },
   {
    "duration": 744,
    "start_time": "2023-07-24T19:57:15.687Z"
   },
   {
    "duration": 5,
    "start_time": "2023-07-24T19:57:27.546Z"
   },
   {
    "duration": 4,
    "start_time": "2023-07-24T19:57:28.965Z"
   },
   {
    "duration": 743434,
    "start_time": "2023-07-24T19:57:34.484Z"
   },
   {
    "duration": 24,
    "start_time": "2023-07-24T20:09:57.921Z"
   },
   {
    "duration": 161,
    "start_time": "2023-07-24T20:09:57.948Z"
   },
   {
    "duration": 11,
    "start_time": "2023-07-24T20:09:58.113Z"
   },
   {
    "duration": 165,
    "start_time": "2023-07-24T20:09:58.130Z"
   },
   {
    "duration": 463134,
    "start_time": "2023-07-24T20:09:58.296Z"
   },
   {
    "duration": 51157,
    "start_time": "2023-07-24T20:17:41.431Z"
   },
   {
    "duration": 17730,
    "start_time": "2023-07-24T20:18:32.590Z"
   },
   {
    "duration": 0,
    "start_time": "2023-07-24T20:18:50.331Z"
   },
   {
    "duration": 0,
    "start_time": "2023-07-24T20:18:50.337Z"
   },
   {
    "duration": 0,
    "start_time": "2023-07-24T20:18:50.338Z"
   },
   {
    "duration": 0,
    "start_time": "2023-07-24T20:18:50.340Z"
   },
   {
    "duration": 0,
    "start_time": "2023-07-24T20:18:50.351Z"
   },
   {
    "duration": 759,
    "start_time": "2023-07-24T20:18:57.305Z"
   },
   {
    "duration": 8,
    "start_time": "2023-07-24T20:18:59.148Z"
   },
   {
    "duration": 29,
    "start_time": "2023-07-24T20:18:59.461Z"
   },
   {
    "duration": 16,
    "start_time": "2023-07-24T20:18:59.957Z"
   },
   {
    "duration": 10,
    "start_time": "2023-07-24T20:19:00.825Z"
   },
   {
    "duration": 3,
    "start_time": "2023-07-24T20:19:02.398Z"
   },
   {
    "duration": 9,
    "start_time": "2023-07-24T20:19:03.028Z"
   },
   {
    "duration": 8,
    "start_time": "2023-07-24T20:19:03.905Z"
   },
   {
    "duration": 1221681,
    "start_time": "2023-07-24T20:19:05.353Z"
   },
   {
    "duration": 10,
    "start_time": "2023-07-24T20:39:27.037Z"
   },
   {
    "duration": 59,
    "start_time": "2023-07-24T20:39:27.055Z"
   },
   {
    "duration": 47,
    "start_time": "2023-07-24T20:39:27.119Z"
   },
   {
    "duration": 7022,
    "start_time": "2023-07-24T20:39:27.168Z"
   },
   {
    "duration": 748,
    "start_time": "2023-07-24T20:39:34.191Z"
   },
   {
    "duration": 4,
    "start_time": "2023-07-24T20:39:34.940Z"
   },
   {
    "duration": 9,
    "start_time": "2023-07-24T20:39:34.946Z"
   },
   {
    "duration": 15,
    "start_time": "2023-07-24T20:39:34.957Z"
   },
   {
    "duration": 210,
    "start_time": "2023-07-24T20:39:34.975Z"
   },
   {
    "duration": 3,
    "start_time": "2023-07-24T20:39:35.187Z"
   },
   {
    "duration": 177,
    "start_time": "2023-07-24T20:39:35.191Z"
   },
   {
    "duration": 114158,
    "start_time": "2023-07-24T20:39:35.370Z"
   },
   {
    "duration": 50858,
    "start_time": "2023-07-24T20:41:29.530Z"
   },
   {
    "duration": 283,
    "start_time": "2023-07-24T20:42:20.390Z"
   },
   {
    "duration": 0,
    "start_time": "2023-07-24T20:42:20.677Z"
   },
   {
    "duration": 0,
    "start_time": "2023-07-24T20:42:20.678Z"
   },
   {
    "duration": 0,
    "start_time": "2023-07-24T20:42:20.679Z"
   },
   {
    "duration": 0,
    "start_time": "2023-07-24T20:42:20.680Z"
   },
   {
    "duration": 8,
    "start_time": "2023-07-24T20:42:33.533Z"
   },
   {
    "duration": 3,
    "start_time": "2023-07-24T20:42:49.999Z"
   },
   {
    "duration": 8,
    "start_time": "2023-07-24T20:42:56.641Z"
   },
   {
    "duration": 166,
    "start_time": "2023-07-24T20:42:57.667Z"
   },
   {
    "duration": 98,
    "start_time": "2023-07-24T20:43:06.447Z"
   },
   {
    "duration": 287,
    "start_time": "2023-07-24T20:43:52.006Z"
   },
   {
    "duration": 185,
    "start_time": "2023-07-24T20:44:28.388Z"
   },
   {
    "duration": 197,
    "start_time": "2023-07-24T20:44:52.891Z"
   },
   {
    "duration": 4,
    "start_time": "2023-07-24T20:45:51.845Z"
   },
   {
    "duration": 178,
    "start_time": "2023-07-24T20:45:52.935Z"
   },
   {
    "duration": 8,
    "start_time": "2023-07-24T20:48:38.827Z"
   },
   {
    "duration": 822160,
    "start_time": "2023-07-24T20:48:39.673Z"
   },
   {
    "duration": 234,
    "start_time": "2023-07-25T05:02:38.721Z"
   },
   {
    "duration": 2264,
    "start_time": "2023-07-25T05:02:44.833Z"
   },
   {
    "duration": 329,
    "start_time": "2023-07-25T05:02:53.364Z"
   },
   {
    "duration": 2845,
    "start_time": "2023-07-25T05:03:12.188Z"
   },
   {
    "duration": 18,
    "start_time": "2023-07-25T05:03:15.265Z"
   },
   {
    "duration": 39,
    "start_time": "2023-07-25T05:03:15.686Z"
   },
   {
    "duration": 16,
    "start_time": "2023-07-25T05:03:16.633Z"
   },
   {
    "duration": 9,
    "start_time": "2023-07-25T05:03:18.605Z"
   },
   {
    "duration": 6,
    "start_time": "2023-07-25T05:03:22.887Z"
   },
   {
    "duration": 3,
    "start_time": "2023-07-25T05:03:23.665Z"
   },
   {
    "duration": 4,
    "start_time": "2023-07-25T05:03:24.264Z"
   },
   {
    "duration": 1139533,
    "start_time": "2023-07-25T05:03:25.797Z"
   },
   {
    "duration": 7,
    "start_time": "2023-07-25T05:22:25.332Z"
   },
   {
    "duration": 58,
    "start_time": "2023-07-25T05:22:25.341Z"
   },
   {
    "duration": 28,
    "start_time": "2023-07-25T05:22:25.401Z"
   },
   {
    "duration": 6171,
    "start_time": "2023-07-25T05:22:25.431Z"
   },
   {
    "duration": 646,
    "start_time": "2023-07-25T05:22:31.604Z"
   },
   {
    "duration": 3,
    "start_time": "2023-07-25T05:22:32.252Z"
   },
   {
    "duration": 8,
    "start_time": "2023-07-25T05:22:32.256Z"
   },
   {
    "duration": 4122941,
    "start_time": "2023-07-25T05:22:32.265Z"
   },
   {
    "duration": 2650448,
    "start_time": "2023-07-25T06:31:15.209Z"
   },
   {
    "duration": 150686,
    "start_time": "2023-07-25T07:20:54.197Z"
   },
   {
    "duration": 12,
    "start_time": "2023-07-25T07:35:04.077Z"
   },
   {
    "duration": 10,
    "start_time": "2023-07-25T07:35:29.116Z"
   },
   {
    "duration": 662275,
    "start_time": "2023-07-25T07:36:16.303Z"
   },
   {
    "duration": 10,
    "start_time": "2023-07-25T07:48:32.109Z"
   },
   {
    "duration": 3,
    "start_time": "2023-07-25T07:50:15.660Z"
   },
   {
    "duration": 175,
    "start_time": "2023-07-25T07:50:16.641Z"
   },
   {
    "duration": 5,
    "start_time": "2023-07-25T07:50:24.172Z"
   },
   {
    "duration": 3,
    "start_time": "2023-07-25T07:50:26.832Z"
   },
   {
    "duration": 307,
    "start_time": "2023-07-25T07:50:28.241Z"
   },
   {
    "duration": 9,
    "start_time": "2023-07-25T07:50:35.892Z"
   },
   {
    "duration": 4,
    "start_time": "2023-07-25T07:50:36.484Z"
   },
   {
    "duration": 2,
    "start_time": "2023-07-25T07:50:37.041Z"
   },
   {
    "duration": 1271708,
    "start_time": "2023-07-25T13:05:06.101Z"
   },
   {
    "duration": 26,
    "start_time": "2023-07-25T14:27:57.865Z"
   },
   {
    "duration": 122,
    "start_time": "2023-07-25T14:28:45.038Z"
   },
   {
    "duration": 42489,
    "start_time": "2023-07-25T14:28:52.592Z"
   }
  ],
  "kernelspec": {
   "display_name": "Python 3 (ipykernel)",
   "language": "python",
   "name": "python3"
  },
  "language_info": {
   "codemirror_mode": {
    "name": "ipython",
    "version": 3
   },
   "file_extension": ".py",
   "mimetype": "text/x-python",
   "name": "python",
   "nbconvert_exporter": "python",
   "pygments_lexer": "ipython3",
   "version": "3.10.9"
  },
  "toc": {
   "base_numbering": 1,
   "nav_menu": {},
   "number_sections": true,
   "sideBar": true,
   "skip_h1_title": true,
   "title_cell": "Содержание",
   "title_sidebar": "Contents",
   "toc_cell": true,
   "toc_position": {
    "height": "calc(100% - 180px)",
    "left": "10px",
    "top": "150px",
    "width": "302.391px"
   },
   "toc_section_display": true,
   "toc_window_display": false
  }
 },
 "nbformat": 4,
 "nbformat_minor": 2
}

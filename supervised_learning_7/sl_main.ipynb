{
 "cells": [
  {
   "cell_type": "markdown",
   "metadata": {},
   "source": [
    "# Отток клиентов"
   ]
  },
  {
   "cell_type": "markdown",
   "metadata": {},
   "source": [
    "Из «Бета-Банка» стали уходить клиенты. Каждый месяц. Немного, но заметно. Банковские маркетологи посчитали: сохранять текущих клиентов дешевле, чем привлекать новых.\n",
    "\n",
    "Нужно спрогнозировать, уйдёт клиент из банка в ближайшее время или нет. Вам предоставлены исторические данные о поведении клиентов и расторжении договоров с банком. \n",
    "\n",
    "Источник данных: [https://www.kaggle.com/barelydedicated/bank-customer-churn-modeling](https://www.kaggle.com/barelydedicated/bank-customer-churn-modeling)"
   ]
  },
  {
   "cell_type": "markdown",
   "metadata": {},
   "source": [
    "**Описание данных**\n",
    "\n",
    "*Признаки*\n",
    "\n",
    "- RowNumber — индекс строки в данных\n",
    "- CustomerId — уникальный идентификатор клиента\n",
    "- Surname — фамилия\n",
    "- CreditScore — кредитный рейтинг\n",
    "- Geography — страна проживания\n",
    "- Gender — пол\n",
    "- Age — возраст\n",
    "- Tenure — сколько лет человек является клиентом банка\n",
    "- Balance — баланс на счёте\n",
    "- NumOfProducts — количество продуктов банка, используемых клиентом\n",
    "- HasCrCard — наличие кредитной карты\n",
    "- IsActiveMember — активность клиента\n",
    "- EstimatedSalary — предполагаемая зарплата\n",
    "\n",
    "*Целевой признак*\n",
    "\n",
    "- Exited — факт ухода клиента\n"
   ]
  },
  {
   "cell_type": "markdown",
   "metadata": {
    "toc": true
   },
   "source": [
    "<h1>Содержание<span class=\"tocSkip\"></span></h1>\n",
    "<div class=\"toc\"><ul class=\"toc-item\"><li><span><a href=\"#Подготовка-данных\" data-toc-modified-id=\"Подготовка-данных-1\"><span class=\"toc-item-num\">1&nbsp;&nbsp;</span>Подготовка данных</a></span></li><li><span><a href=\"#Исследование-задачи\" data-toc-modified-id=\"Исследование-задачи-2\"><span class=\"toc-item-num\">2&nbsp;&nbsp;</span>Исследование задачи</a></span></li><li><span><a href=\"#Борьба-с-дисбалансом\" data-toc-modified-id=\"Борьба-с-дисбалансом-3\"><span class=\"toc-item-num\">3&nbsp;&nbsp;</span>Борьба с дисбалансом</a></span></li><li><span><a href=\"#Тестирование-модели\" data-toc-modified-id=\"Тестирование-модели-4\"><span class=\"toc-item-num\">4&nbsp;&nbsp;</span>Тестирование модели</a></span></li><li><span><a href=\"#Итоговый-вывод\" data-toc-modified-id=\"Итоговый-вывод-5\"><span class=\"toc-item-num\">5&nbsp;&nbsp;</span>Итоговый вывод</a></span></li></ul></div>"
   ]
  },
  {
   "cell_type": "markdown",
   "metadata": {},
   "source": [
    "## Подготовка данных"
   ]
  },
  {
   "cell_type": "code",
   "execution_count": 1,
   "metadata": {},
   "outputs": [],
   "source": [
    "import pandas as pd\n",
    "from sklearn.preprocessing import StandardScaler\n",
    "from sklearn.linear_model import LogisticRegression\n",
    "from sklearn.ensemble import RandomForestClassifier\n",
    "from sklearn.model_selection import train_test_split\n",
    "from sklearn.tree import DecisionTreeClassifier\n",
    "from sklearn.metrics import accuracy_score\n",
    "from sklearn.metrics import recall_score\n",
    "from sklearn.metrics import precision_score\n",
    "from sklearn.metrics import f1_score\n",
    "from sklearn.metrics import roc_curve\n",
    "import matplotlib.pyplot as plt\n",
    "from sklearn.metrics import roc_auc_score\n",
    "from sklearn.utils import shuffle\n",
    "from sklearn. preprocessing import OneHotEncoder"
   ]
  },
  {
   "cell_type": "code",
   "execution_count": 2,
   "metadata": {},
   "outputs": [],
   "source": [
    "churn = pd.read_csv('/datasets/Churn.csv')"
   ]
  },
  {
   "cell_type": "code",
   "execution_count": 3,
   "metadata": {},
   "outputs": [
    {
     "data": {
      "text/html": [
       "<div>\n",
       "<style scoped>\n",
       "    .dataframe tbody tr th:only-of-type {\n",
       "        vertical-align: middle;\n",
       "    }\n",
       "\n",
       "    .dataframe tbody tr th {\n",
       "        vertical-align: top;\n",
       "    }\n",
       "\n",
       "    .dataframe thead th {\n",
       "        text-align: right;\n",
       "    }\n",
       "</style>\n",
       "<table border=\"1\" class=\"dataframe\">\n",
       "  <thead>\n",
       "    <tr style=\"text-align: right;\">\n",
       "      <th></th>\n",
       "      <th>RowNumber</th>\n",
       "      <th>CustomerId</th>\n",
       "      <th>Surname</th>\n",
       "      <th>CreditScore</th>\n",
       "      <th>Geography</th>\n",
       "      <th>Gender</th>\n",
       "      <th>Age</th>\n",
       "      <th>Tenure</th>\n",
       "      <th>Balance</th>\n",
       "      <th>NumOfProducts</th>\n",
       "      <th>HasCrCard</th>\n",
       "      <th>IsActiveMember</th>\n",
       "      <th>EstimatedSalary</th>\n",
       "      <th>Exited</th>\n",
       "    </tr>\n",
       "  </thead>\n",
       "  <tbody>\n",
       "    <tr>\n",
       "      <th>0</th>\n",
       "      <td>1</td>\n",
       "      <td>15634602</td>\n",
       "      <td>Hargrave</td>\n",
       "      <td>619</td>\n",
       "      <td>France</td>\n",
       "      <td>Female</td>\n",
       "      <td>42</td>\n",
       "      <td>2.0</td>\n",
       "      <td>0.00</td>\n",
       "      <td>1</td>\n",
       "      <td>1</td>\n",
       "      <td>1</td>\n",
       "      <td>101348.88</td>\n",
       "      <td>1</td>\n",
       "    </tr>\n",
       "    <tr>\n",
       "      <th>1</th>\n",
       "      <td>2</td>\n",
       "      <td>15647311</td>\n",
       "      <td>Hill</td>\n",
       "      <td>608</td>\n",
       "      <td>Spain</td>\n",
       "      <td>Female</td>\n",
       "      <td>41</td>\n",
       "      <td>1.0</td>\n",
       "      <td>83807.86</td>\n",
       "      <td>1</td>\n",
       "      <td>0</td>\n",
       "      <td>1</td>\n",
       "      <td>112542.58</td>\n",
       "      <td>0</td>\n",
       "    </tr>\n",
       "    <tr>\n",
       "      <th>2</th>\n",
       "      <td>3</td>\n",
       "      <td>15619304</td>\n",
       "      <td>Onio</td>\n",
       "      <td>502</td>\n",
       "      <td>France</td>\n",
       "      <td>Female</td>\n",
       "      <td>42</td>\n",
       "      <td>8.0</td>\n",
       "      <td>159660.80</td>\n",
       "      <td>3</td>\n",
       "      <td>1</td>\n",
       "      <td>0</td>\n",
       "      <td>113931.57</td>\n",
       "      <td>1</td>\n",
       "    </tr>\n",
       "    <tr>\n",
       "      <th>3</th>\n",
       "      <td>4</td>\n",
       "      <td>15701354</td>\n",
       "      <td>Boni</td>\n",
       "      <td>699</td>\n",
       "      <td>France</td>\n",
       "      <td>Female</td>\n",
       "      <td>39</td>\n",
       "      <td>1.0</td>\n",
       "      <td>0.00</td>\n",
       "      <td>2</td>\n",
       "      <td>0</td>\n",
       "      <td>0</td>\n",
       "      <td>93826.63</td>\n",
       "      <td>0</td>\n",
       "    </tr>\n",
       "    <tr>\n",
       "      <th>4</th>\n",
       "      <td>5</td>\n",
       "      <td>15737888</td>\n",
       "      <td>Mitchell</td>\n",
       "      <td>850</td>\n",
       "      <td>Spain</td>\n",
       "      <td>Female</td>\n",
       "      <td>43</td>\n",
       "      <td>2.0</td>\n",
       "      <td>125510.82</td>\n",
       "      <td>1</td>\n",
       "      <td>1</td>\n",
       "      <td>1</td>\n",
       "      <td>79084.10</td>\n",
       "      <td>0</td>\n",
       "    </tr>\n",
       "  </tbody>\n",
       "</table>\n",
       "</div>"
      ],
      "text/plain": [
       "   RowNumber  CustomerId   Surname  CreditScore Geography  Gender  Age  \\\n",
       "0          1    15634602  Hargrave          619    France  Female   42   \n",
       "1          2    15647311      Hill          608     Spain  Female   41   \n",
       "2          3    15619304      Onio          502    France  Female   42   \n",
       "3          4    15701354      Boni          699    France  Female   39   \n",
       "4          5    15737888  Mitchell          850     Spain  Female   43   \n",
       "\n",
       "   Tenure    Balance  NumOfProducts  HasCrCard  IsActiveMember  \\\n",
       "0     2.0       0.00              1          1               1   \n",
       "1     1.0   83807.86              1          0               1   \n",
       "2     8.0  159660.80              3          1               0   \n",
       "3     1.0       0.00              2          0               0   \n",
       "4     2.0  125510.82              1          1               1   \n",
       "\n",
       "   EstimatedSalary  Exited  \n",
       "0        101348.88       1  \n",
       "1        112542.58       0  \n",
       "2        113931.57       1  \n",
       "3         93826.63       0  \n",
       "4         79084.10       0  "
      ]
     },
     "execution_count": 3,
     "metadata": {},
     "output_type": "execute_result"
    }
   ],
   "source": [
    "churn.head()"
   ]
  },
  {
   "cell_type": "markdown",
   "metadata": {},
   "source": [
    "Выполним некоторые преобразования:\n",
    "- удалим столбцы **RowNumber**(повторяет номер строки датафрейма), **CustomerId** (идентификационный номер клиента, можно удалить, на обучение не влияет), **Surname** (фамилия также никакой ценности не несет); \n",
    "- для столбцов **Geography**, **Gender** выполнить преобразование OHE (после преобразования столбцы следует удалить). "
   ]
  },
  {
   "cell_type": "code",
   "execution_count": 4,
   "metadata": {},
   "outputs": [],
   "source": [
    "churn.drop(['RowNumber', 'CustomerId', 'Surname'], axis=1, inplace=True)"
   ]
  },
  {
   "cell_type": "code",
   "execution_count": 5,
   "metadata": {},
   "outputs": [
    {
     "data": {
      "text/html": [
       "<div>\n",
       "<style scoped>\n",
       "    .dataframe tbody tr th:only-of-type {\n",
       "        vertical-align: middle;\n",
       "    }\n",
       "\n",
       "    .dataframe tbody tr th {\n",
       "        vertical-align: top;\n",
       "    }\n",
       "\n",
       "    .dataframe thead th {\n",
       "        text-align: right;\n",
       "    }\n",
       "</style>\n",
       "<table border=\"1\" class=\"dataframe\">\n",
       "  <thead>\n",
       "    <tr style=\"text-align: right;\">\n",
       "      <th></th>\n",
       "      <th>CreditScore</th>\n",
       "      <th>Geography</th>\n",
       "      <th>Gender</th>\n",
       "      <th>Age</th>\n",
       "      <th>Tenure</th>\n",
       "      <th>Balance</th>\n",
       "      <th>NumOfProducts</th>\n",
       "      <th>HasCrCard</th>\n",
       "      <th>IsActiveMember</th>\n",
       "      <th>EstimatedSalary</th>\n",
       "      <th>Exited</th>\n",
       "    </tr>\n",
       "  </thead>\n",
       "  <tbody>\n",
       "    <tr>\n",
       "      <th>0</th>\n",
       "      <td>619</td>\n",
       "      <td>France</td>\n",
       "      <td>Female</td>\n",
       "      <td>42</td>\n",
       "      <td>2.0</td>\n",
       "      <td>0.00</td>\n",
       "      <td>1</td>\n",
       "      <td>1</td>\n",
       "      <td>1</td>\n",
       "      <td>101348.88</td>\n",
       "      <td>1</td>\n",
       "    </tr>\n",
       "    <tr>\n",
       "      <th>1</th>\n",
       "      <td>608</td>\n",
       "      <td>Spain</td>\n",
       "      <td>Female</td>\n",
       "      <td>41</td>\n",
       "      <td>1.0</td>\n",
       "      <td>83807.86</td>\n",
       "      <td>1</td>\n",
       "      <td>0</td>\n",
       "      <td>1</td>\n",
       "      <td>112542.58</td>\n",
       "      <td>0</td>\n",
       "    </tr>\n",
       "    <tr>\n",
       "      <th>2</th>\n",
       "      <td>502</td>\n",
       "      <td>France</td>\n",
       "      <td>Female</td>\n",
       "      <td>42</td>\n",
       "      <td>8.0</td>\n",
       "      <td>159660.80</td>\n",
       "      <td>3</td>\n",
       "      <td>1</td>\n",
       "      <td>0</td>\n",
       "      <td>113931.57</td>\n",
       "      <td>1</td>\n",
       "    </tr>\n",
       "    <tr>\n",
       "      <th>3</th>\n",
       "      <td>699</td>\n",
       "      <td>France</td>\n",
       "      <td>Female</td>\n",
       "      <td>39</td>\n",
       "      <td>1.0</td>\n",
       "      <td>0.00</td>\n",
       "      <td>2</td>\n",
       "      <td>0</td>\n",
       "      <td>0</td>\n",
       "      <td>93826.63</td>\n",
       "      <td>0</td>\n",
       "    </tr>\n",
       "    <tr>\n",
       "      <th>4</th>\n",
       "      <td>850</td>\n",
       "      <td>Spain</td>\n",
       "      <td>Female</td>\n",
       "      <td>43</td>\n",
       "      <td>2.0</td>\n",
       "      <td>125510.82</td>\n",
       "      <td>1</td>\n",
       "      <td>1</td>\n",
       "      <td>1</td>\n",
       "      <td>79084.10</td>\n",
       "      <td>0</td>\n",
       "    </tr>\n",
       "  </tbody>\n",
       "</table>\n",
       "</div>"
      ],
      "text/plain": [
       "   CreditScore Geography  Gender  Age  Tenure    Balance  NumOfProducts  \\\n",
       "0          619    France  Female   42     2.0       0.00              1   \n",
       "1          608     Spain  Female   41     1.0   83807.86              1   \n",
       "2          502    France  Female   42     8.0  159660.80              3   \n",
       "3          699    France  Female   39     1.0       0.00              2   \n",
       "4          850     Spain  Female   43     2.0  125510.82              1   \n",
       "\n",
       "   HasCrCard  IsActiveMember  EstimatedSalary  Exited  \n",
       "0          1               1        101348.88       1  \n",
       "1          0               1        112542.58       0  \n",
       "2          1               0        113931.57       1  \n",
       "3          0               0         93826.63       0  \n",
       "4          1               1         79084.10       0  "
      ]
     },
     "execution_count": 5,
     "metadata": {},
     "output_type": "execute_result"
    }
   ],
   "source": [
    "churn.head()"
   ]
  },
  {
   "cell_type": "code",
   "execution_count": 6,
   "metadata": {},
   "outputs": [
    {
     "name": "stdout",
     "output_type": "stream",
     "text": [
      "<class 'pandas.core.frame.DataFrame'>\n",
      "RangeIndex: 10000 entries, 0 to 9999\n",
      "Data columns (total 11 columns):\n",
      " #   Column           Non-Null Count  Dtype  \n",
      "---  ------           --------------  -----  \n",
      " 0   CreditScore      10000 non-null  int64  \n",
      " 1   Geography        10000 non-null  object \n",
      " 2   Gender           10000 non-null  object \n",
      " 3   Age              10000 non-null  int64  \n",
      " 4   Tenure           9091 non-null   float64\n",
      " 5   Balance          10000 non-null  float64\n",
      " 6   NumOfProducts    10000 non-null  int64  \n",
      " 7   HasCrCard        10000 non-null  int64  \n",
      " 8   IsActiveMember   10000 non-null  int64  \n",
      " 9   EstimatedSalary  10000 non-null  float64\n",
      " 10  Exited           10000 non-null  int64  \n",
      "dtypes: float64(3), int64(6), object(2)\n",
      "memory usage: 859.5+ KB\n"
     ]
    }
   ],
   "source": [
    "churn.info()"
   ]
  },
  {
   "cell_type": "markdown",
   "metadata": {},
   "source": [
    "**OHE** для столбцов **Gender**, **Geography**"
   ]
  },
  {
   "cell_type": "code",
   "execution_count": 7,
   "metadata": {},
   "outputs": [],
   "source": [
    "gender_ohe = pd.get_dummies(churn['Gender'], drop_first=True)\n",
    "geography_ohe = pd.get_dummies(churn['Geography'], drop_first=True)\n",
    "churn = churn.drop(['Gender', 'Geography'], axis=1)\n",
    "churn = pd.concat([churn, gender_ohe, geography_ohe], axis=1)"
   ]
  },
  {
   "cell_type": "code",
   "execution_count": 8,
   "metadata": {},
   "outputs": [
    {
     "data": {
      "text/html": [
       "<div>\n",
       "<style scoped>\n",
       "    .dataframe tbody tr th:only-of-type {\n",
       "        vertical-align: middle;\n",
       "    }\n",
       "\n",
       "    .dataframe tbody tr th {\n",
       "        vertical-align: top;\n",
       "    }\n",
       "\n",
       "    .dataframe thead th {\n",
       "        text-align: right;\n",
       "    }\n",
       "</style>\n",
       "<table border=\"1\" class=\"dataframe\">\n",
       "  <thead>\n",
       "    <tr style=\"text-align: right;\">\n",
       "      <th></th>\n",
       "      <th>CreditScore</th>\n",
       "      <th>Age</th>\n",
       "      <th>Tenure</th>\n",
       "      <th>Balance</th>\n",
       "      <th>NumOfProducts</th>\n",
       "      <th>HasCrCard</th>\n",
       "      <th>IsActiveMember</th>\n",
       "      <th>EstimatedSalary</th>\n",
       "      <th>Exited</th>\n",
       "      <th>Male</th>\n",
       "      <th>Germany</th>\n",
       "      <th>Spain</th>\n",
       "    </tr>\n",
       "  </thead>\n",
       "  <tbody>\n",
       "    <tr>\n",
       "      <th>0</th>\n",
       "      <td>619</td>\n",
       "      <td>42</td>\n",
       "      <td>2.0</td>\n",
       "      <td>0.00</td>\n",
       "      <td>1</td>\n",
       "      <td>1</td>\n",
       "      <td>1</td>\n",
       "      <td>101348.88</td>\n",
       "      <td>1</td>\n",
       "      <td>0</td>\n",
       "      <td>0</td>\n",
       "      <td>0</td>\n",
       "    </tr>\n",
       "    <tr>\n",
       "      <th>1</th>\n",
       "      <td>608</td>\n",
       "      <td>41</td>\n",
       "      <td>1.0</td>\n",
       "      <td>83807.86</td>\n",
       "      <td>1</td>\n",
       "      <td>0</td>\n",
       "      <td>1</td>\n",
       "      <td>112542.58</td>\n",
       "      <td>0</td>\n",
       "      <td>0</td>\n",
       "      <td>0</td>\n",
       "      <td>1</td>\n",
       "    </tr>\n",
       "    <tr>\n",
       "      <th>2</th>\n",
       "      <td>502</td>\n",
       "      <td>42</td>\n",
       "      <td>8.0</td>\n",
       "      <td>159660.80</td>\n",
       "      <td>3</td>\n",
       "      <td>1</td>\n",
       "      <td>0</td>\n",
       "      <td>113931.57</td>\n",
       "      <td>1</td>\n",
       "      <td>0</td>\n",
       "      <td>0</td>\n",
       "      <td>0</td>\n",
       "    </tr>\n",
       "    <tr>\n",
       "      <th>3</th>\n",
       "      <td>699</td>\n",
       "      <td>39</td>\n",
       "      <td>1.0</td>\n",
       "      <td>0.00</td>\n",
       "      <td>2</td>\n",
       "      <td>0</td>\n",
       "      <td>0</td>\n",
       "      <td>93826.63</td>\n",
       "      <td>0</td>\n",
       "      <td>0</td>\n",
       "      <td>0</td>\n",
       "      <td>0</td>\n",
       "    </tr>\n",
       "    <tr>\n",
       "      <th>4</th>\n",
       "      <td>850</td>\n",
       "      <td>43</td>\n",
       "      <td>2.0</td>\n",
       "      <td>125510.82</td>\n",
       "      <td>1</td>\n",
       "      <td>1</td>\n",
       "      <td>1</td>\n",
       "      <td>79084.10</td>\n",
       "      <td>0</td>\n",
       "      <td>0</td>\n",
       "      <td>0</td>\n",
       "      <td>1</td>\n",
       "    </tr>\n",
       "    <tr>\n",
       "      <th>5</th>\n",
       "      <td>645</td>\n",
       "      <td>44</td>\n",
       "      <td>8.0</td>\n",
       "      <td>113755.78</td>\n",
       "      <td>2</td>\n",
       "      <td>1</td>\n",
       "      <td>0</td>\n",
       "      <td>149756.71</td>\n",
       "      <td>1</td>\n",
       "      <td>1</td>\n",
       "      <td>0</td>\n",
       "      <td>1</td>\n",
       "    </tr>\n",
       "    <tr>\n",
       "      <th>6</th>\n",
       "      <td>822</td>\n",
       "      <td>50</td>\n",
       "      <td>7.0</td>\n",
       "      <td>0.00</td>\n",
       "      <td>2</td>\n",
       "      <td>1</td>\n",
       "      <td>1</td>\n",
       "      <td>10062.80</td>\n",
       "      <td>0</td>\n",
       "      <td>1</td>\n",
       "      <td>0</td>\n",
       "      <td>0</td>\n",
       "    </tr>\n",
       "    <tr>\n",
       "      <th>7</th>\n",
       "      <td>376</td>\n",
       "      <td>29</td>\n",
       "      <td>4.0</td>\n",
       "      <td>115046.74</td>\n",
       "      <td>4</td>\n",
       "      <td>1</td>\n",
       "      <td>0</td>\n",
       "      <td>119346.88</td>\n",
       "      <td>1</td>\n",
       "      <td>0</td>\n",
       "      <td>1</td>\n",
       "      <td>0</td>\n",
       "    </tr>\n",
       "    <tr>\n",
       "      <th>8</th>\n",
       "      <td>501</td>\n",
       "      <td>44</td>\n",
       "      <td>4.0</td>\n",
       "      <td>142051.07</td>\n",
       "      <td>2</td>\n",
       "      <td>0</td>\n",
       "      <td>1</td>\n",
       "      <td>74940.50</td>\n",
       "      <td>0</td>\n",
       "      <td>1</td>\n",
       "      <td>0</td>\n",
       "      <td>0</td>\n",
       "    </tr>\n",
       "    <tr>\n",
       "      <th>9</th>\n",
       "      <td>684</td>\n",
       "      <td>27</td>\n",
       "      <td>2.0</td>\n",
       "      <td>134603.88</td>\n",
       "      <td>1</td>\n",
       "      <td>1</td>\n",
       "      <td>1</td>\n",
       "      <td>71725.73</td>\n",
       "      <td>0</td>\n",
       "      <td>1</td>\n",
       "      <td>0</td>\n",
       "      <td>0</td>\n",
       "    </tr>\n",
       "  </tbody>\n",
       "</table>\n",
       "</div>"
      ],
      "text/plain": [
       "   CreditScore  Age  Tenure    Balance  NumOfProducts  HasCrCard  \\\n",
       "0          619   42     2.0       0.00              1          1   \n",
       "1          608   41     1.0   83807.86              1          0   \n",
       "2          502   42     8.0  159660.80              3          1   \n",
       "3          699   39     1.0       0.00              2          0   \n",
       "4          850   43     2.0  125510.82              1          1   \n",
       "5          645   44     8.0  113755.78              2          1   \n",
       "6          822   50     7.0       0.00              2          1   \n",
       "7          376   29     4.0  115046.74              4          1   \n",
       "8          501   44     4.0  142051.07              2          0   \n",
       "9          684   27     2.0  134603.88              1          1   \n",
       "\n",
       "   IsActiveMember  EstimatedSalary  Exited  Male  Germany  Spain  \n",
       "0               1        101348.88       1     0        0      0  \n",
       "1               1        112542.58       0     0        0      1  \n",
       "2               0        113931.57       1     0        0      0  \n",
       "3               0         93826.63       0     0        0      0  \n",
       "4               1         79084.10       0     0        0      1  \n",
       "5               0        149756.71       1     1        0      1  \n",
       "6               1         10062.80       0     1        0      0  \n",
       "7               0        119346.88       1     0        1      0  \n",
       "8               1         74940.50       0     1        0      0  \n",
       "9               1         71725.73       0     1        0      0  "
      ]
     },
     "execution_count": 8,
     "metadata": {},
     "output_type": "execute_result"
    }
   ],
   "source": [
    "churn.head(10)"
   ]
  },
  {
   "cell_type": "markdown",
   "metadata": {},
   "source": [
    "**Отрицательные и положительные объекты столбца Exited**"
   ]
  },
  {
   "cell_type": "code",
   "execution_count": 9,
   "metadata": {},
   "outputs": [
    {
     "name": "stdout",
     "output_type": "stream",
     "text": [
      "0.2037\n"
     ]
    }
   ],
   "source": [
    "positive = sum(churn['Exited'])/len(churn)\n",
    "print(positive)"
   ]
  },
  {
   "cell_type": "code",
   "execution_count": 10,
   "metadata": {},
   "outputs": [
    {
     "name": "stdout",
     "output_type": "stream",
     "text": [
      "0.7963\n"
     ]
    }
   ],
   "source": [
    "negative = 1 - positive\n",
    "print(negative)"
   ]
  },
  {
   "cell_type": "markdown",
   "metadata": {},
   "source": [
    "- **Положительных обьектов:** 20%;\n",
    "- **Отрицательных объектов:** 80%.\n",
    "    "
   ]
  },
  {
   "cell_type": "code",
   "execution_count": 11,
   "metadata": {},
   "outputs": [
    {
     "data": {
      "text/html": [
       "<div>\n",
       "<style scoped>\n",
       "    .dataframe tbody tr th:only-of-type {\n",
       "        vertical-align: middle;\n",
       "    }\n",
       "\n",
       "    .dataframe tbody tr th {\n",
       "        vertical-align: top;\n",
       "    }\n",
       "\n",
       "    .dataframe thead th {\n",
       "        text-align: right;\n",
       "    }\n",
       "</style>\n",
       "<table border=\"1\" class=\"dataframe\">\n",
       "  <thead>\n",
       "    <tr style=\"text-align: right;\">\n",
       "      <th></th>\n",
       "      <th>CreditScore</th>\n",
       "      <th>Age</th>\n",
       "      <th>Tenure</th>\n",
       "      <th>Balance</th>\n",
       "      <th>NumOfProducts</th>\n",
       "      <th>HasCrCard</th>\n",
       "      <th>IsActiveMember</th>\n",
       "      <th>EstimatedSalary</th>\n",
       "      <th>Exited</th>\n",
       "      <th>Male</th>\n",
       "      <th>Germany</th>\n",
       "      <th>Spain</th>\n",
       "    </tr>\n",
       "  </thead>\n",
       "  <tbody>\n",
       "    <tr>\n",
       "      <th>0</th>\n",
       "      <td>619</td>\n",
       "      <td>42</td>\n",
       "      <td>2.0</td>\n",
       "      <td>0.00</td>\n",
       "      <td>1</td>\n",
       "      <td>1</td>\n",
       "      <td>1</td>\n",
       "      <td>101348.88</td>\n",
       "      <td>1</td>\n",
       "      <td>0</td>\n",
       "      <td>0</td>\n",
       "      <td>0</td>\n",
       "    </tr>\n",
       "    <tr>\n",
       "      <th>1</th>\n",
       "      <td>608</td>\n",
       "      <td>41</td>\n",
       "      <td>1.0</td>\n",
       "      <td>83807.86</td>\n",
       "      <td>1</td>\n",
       "      <td>0</td>\n",
       "      <td>1</td>\n",
       "      <td>112542.58</td>\n",
       "      <td>0</td>\n",
       "      <td>0</td>\n",
       "      <td>0</td>\n",
       "      <td>1</td>\n",
       "    </tr>\n",
       "    <tr>\n",
       "      <th>2</th>\n",
       "      <td>502</td>\n",
       "      <td>42</td>\n",
       "      <td>8.0</td>\n",
       "      <td>159660.80</td>\n",
       "      <td>3</td>\n",
       "      <td>1</td>\n",
       "      <td>0</td>\n",
       "      <td>113931.57</td>\n",
       "      <td>1</td>\n",
       "      <td>0</td>\n",
       "      <td>0</td>\n",
       "      <td>0</td>\n",
       "    </tr>\n",
       "    <tr>\n",
       "      <th>3</th>\n",
       "      <td>699</td>\n",
       "      <td>39</td>\n",
       "      <td>1.0</td>\n",
       "      <td>0.00</td>\n",
       "      <td>2</td>\n",
       "      <td>0</td>\n",
       "      <td>0</td>\n",
       "      <td>93826.63</td>\n",
       "      <td>0</td>\n",
       "      <td>0</td>\n",
       "      <td>0</td>\n",
       "      <td>0</td>\n",
       "    </tr>\n",
       "    <tr>\n",
       "      <th>4</th>\n",
       "      <td>850</td>\n",
       "      <td>43</td>\n",
       "      <td>2.0</td>\n",
       "      <td>125510.82</td>\n",
       "      <td>1</td>\n",
       "      <td>1</td>\n",
       "      <td>1</td>\n",
       "      <td>79084.10</td>\n",
       "      <td>0</td>\n",
       "      <td>0</td>\n",
       "      <td>0</td>\n",
       "      <td>1</td>\n",
       "    </tr>\n",
       "  </tbody>\n",
       "</table>\n",
       "</div>"
      ],
      "text/plain": [
       "   CreditScore  Age  Tenure    Balance  NumOfProducts  HasCrCard  \\\n",
       "0          619   42     2.0       0.00              1          1   \n",
       "1          608   41     1.0   83807.86              1          0   \n",
       "2          502   42     8.0  159660.80              3          1   \n",
       "3          699   39     1.0       0.00              2          0   \n",
       "4          850   43     2.0  125510.82              1          1   \n",
       "\n",
       "   IsActiveMember  EstimatedSalary  Exited  Male  Germany  Spain  \n",
       "0               1        101348.88       1     0        0      0  \n",
       "1               1        112542.58       0     0        0      1  \n",
       "2               0        113931.57       1     0        0      0  \n",
       "3               0         93826.63       0     0        0      0  \n",
       "4               1         79084.10       0     0        0      1  "
      ]
     },
     "execution_count": 11,
     "metadata": {},
     "output_type": "execute_result"
    }
   ],
   "source": [
    "churn.head()"
   ]
  },
  {
   "cell_type": "code",
   "execution_count": 12,
   "metadata": {},
   "outputs": [
    {
     "data": {
      "text/plain": [
       "CreditScore          0\n",
       "Age                  0\n",
       "Tenure             909\n",
       "Balance              0\n",
       "NumOfProducts        0\n",
       "HasCrCard            0\n",
       "IsActiveMember       0\n",
       "EstimatedSalary      0\n",
       "Exited               0\n",
       "Male                 0\n",
       "Germany              0\n",
       "Spain                0\n",
       "dtype: int64"
      ]
     },
     "execution_count": 12,
     "metadata": {},
     "output_type": "execute_result"
    }
   ],
   "source": [
    "churn.isna().sum()"
   ]
  },
  {
   "cell_type": "code",
   "execution_count": 14,
   "metadata": {},
   "outputs": [],
   "source": [
    "churn.dropna(subset=['Tenure'], inplace=True)"
   ]
  },
  {
   "cell_type": "code",
   "execution_count": 15,
   "metadata": {},
   "outputs": [
    {
     "data": {
      "text/plain": [
       "CreditScore        0\n",
       "Age                0\n",
       "Tenure             0\n",
       "Balance            0\n",
       "NumOfProducts      0\n",
       "HasCrCard          0\n",
       "IsActiveMember     0\n",
       "EstimatedSalary    0\n",
       "Exited             0\n",
       "Male               0\n",
       "Germany            0\n",
       "Spain              0\n",
       "dtype: int64"
      ]
     },
     "execution_count": 15,
     "metadata": {},
     "output_type": "execute_result"
    }
   ],
   "source": [
    "churn.isna().sum()"
   ]
  },
  {
   "cell_type": "code",
   "execution_count": 16,
   "metadata": {},
   "outputs": [],
   "source": [
    "features = churn.drop('Exited', axis = 1)\n",
    "target = churn['Exited']"
   ]
  },
  {
   "cell_type": "markdown",
   "metadata": {},
   "source": [
    "Разобъем данные на обучающую, валидационную и тестовую выборки в отношении **60 : 20 : 20**"
   ]
  },
  {
   "cell_type": "code",
   "execution_count": 17,
   "metadata": {},
   "outputs": [],
   "source": [
    "features_train, features_valid_test, target_train, target_valid_test = train_test_split(features, target, test_size=0.4, random_state=12345)"
   ]
  },
  {
   "cell_type": "code",
   "execution_count": 18,
   "metadata": {},
   "outputs": [],
   "source": [
    "features_valid, features_test, target_valid, target_test = train_test_split(features_valid_test,target_valid_test, test_size = 0.5, random_state=12345)"
   ]
  },
  {
   "cell_type": "code",
   "execution_count": 19,
   "metadata": {},
   "outputs": [
    {
     "name": "stdout",
     "output_type": "stream",
     "text": [
      "Исходная выборка: размер features - (9091, 11) , размер target - (9091,)\n",
      "Обучающая выборка: размер features- (5454, 11) , размер target - (5454,)\n",
      "Валидационная выборка: размер features- (1818, 11) , размер target- (1818,)\n",
      "Тестовая выборка: размер features- (1819, 11) , размер target- (1819,)\n"
     ]
    }
   ],
   "source": [
    "print('Исходная выборка:','размер features -', features.shape,',', 'размер target -', target.shape)\n",
    "print('Обучающая выборка:','размер features-', features_train.shape,',', 'размер target -', target_train.shape)\n",
    "print('Валидационная выборка:', 'размер features-', features_valid.shape,',', 'размер target-', target_valid.shape)\n",
    "print('Тестовая выборка:','размер features-', features_test.shape,',', 'размер target-', target_test.shape)\n"
   ]
  },
  {
   "cell_type": "markdown",
   "metadata": {},
   "source": [
    "**Масштабирование призаков**"
   ]
  },
  {
   "cell_type": "markdown",
   "metadata": {},
   "source": [
    "Выполним масштабирование в всех трех выборках.\n",
    "Масштабированию подлежат следующие признаки:\n",
    "- CreditScore;\n",
    "- Tenure;\n",
    "- Age;\n",
    "- Balance;\n",
    "- EstimatedSalary.\n"
   ]
  },
  {
   "cell_type": "code",
   "execution_count": 20,
   "metadata": {},
   "outputs": [],
   "source": [
    "numeric = ['CreditScore','Tenure','Age','Balance','EstimatedSalary' ]"
   ]
  },
  {
   "cell_type": "code",
   "execution_count": 21,
   "metadata": {},
   "outputs": [
    {
     "name": "stdout",
     "output_type": "stream",
     "text": [
      "(5454, 11)\n",
      "(1818, 11)\n",
      "(1819, 11)\n"
     ]
    }
   ],
   "source": [
    "pd.options.mode.chained_assignment = None\n",
    "scaler = StandardScaler()\n",
    "scaler.fit(features_train[numeric])\n",
    "features_train[numeric] = scaler.transform(features_train[numeric])\n",
    "features_valid[numeric] = scaler.transform(features_valid[numeric])\n",
    "features_test[numeric] = scaler.transform(features_test[numeric])\n",
    "print(features_train.shape) \n",
    "print(features_valid.shape) \n",
    "print(features_test.shape) "
   ]
  },
  {
   "cell_type": "markdown",
   "metadata": {},
   "source": [
    "## Исследование задачи"
   ]
  },
  {
   "cell_type": "markdown",
   "metadata": {},
   "source": [
    "Рассмотрим три модели:\n",
    "   - Решающее дерево;\n",
    "   - Случайный лес;\n",
    "   - Линейная регрессия."
   ]
  },
  {
   "cell_type": "markdown",
   "metadata": {},
   "source": [
    "**Решающее дерево**"
   ]
  },
  {
   "cell_type": "code",
   "execution_count": 22,
   "metadata": {},
   "outputs": [
    {
     "data": {
      "image/png": "[encoded data removed]",
      "text/plain": [
       "<Figure size 432x288 with 1 Axes>"
      ]
     },
     "metadata": {
      "needs_background": "light"
     },
     "output_type": "display_data"
    },
    {
     "name": "stdout",
     "output_type": "stream",
     "text": [
      "Глубина: 7\n",
      "F1-мера, 0.5773524720893142\n",
      "AUC-ROC: 0.8352437244250879\n"
     ]
    }
   ],
   "source": [
    "best_depth_dtc = best_f1_dtc = 0\n",
    "\n",
    "for depth in range(1, 25):\n",
    "    model_dtc = DecisionTreeClassifier(max_depth = depth, random_state=12345)\n",
    "    model_dtc.fit(features_train, target_train)\n",
    "    predicted_valid_dtc = model_dtc.predict(features_valid)\n",
    "    f1_dtc = f1_score(target_valid, predicted_valid_dtc)\n",
    "    if f1_dtc >= best_f1_dtc:\n",
    "        best_f1_dtc = f1_dtc\n",
    "        best_model_dtc = model_dtc\n",
    "        best_depth_dtc = depth      \n",
    "\n",
    "probabilities_valid = best_model_dtc.predict_proba(features_valid)\n",
    "probabilities_one_valid = probabilities_valid[:, 1]\n",
    "\n",
    "fpr, tpr, thresholds = roc_curve(target_valid,probabilities_one_valid)\n",
    "plt.figure()\n",
    "\n",
    "plt.plot(fpr, tpr)\n",
    "# ROC-кривая случайной модели\n",
    "plt.plot([0, 1], [0, 1], linestyle='--')\n",
    "\n",
    "plt.xlim([0,1])\n",
    "plt.ylim([0,1])\n",
    "\n",
    "plt.xlabel('False Positive Rate')\n",
    "plt.ylabel('True Positive Rate')\n",
    "\n",
    "plt.title(\"ROC-кривая\")\n",
    "plt.show()\n",
    "\n",
    "auc_roc = roc_auc_score(target_valid, probabilities_one_valid)\n",
    "print(f\"Глубина: {best_depth_dtc}\")\n",
    "print(f\"F1-мера, {best_f1_dtc}\")\n",
    "print(f\"AUC-ROC: {auc_roc}\")\n",
    "\n",
    "predicted_valid_dtc = pd.Series(predicted_valid_dtc)\n",
    "\n",
    "class_frequency_dtc = predicted_valid_dtc.value_counts(normalize=2/len(predicted_valid_dtc))"
   ]
  },
  {
   "cell_type": "markdown",
   "metadata": {},
   "source": [
    "**Случайный лес**"
   ]
  },
  {
   "cell_type": "code",
   "execution_count": 23,
   "metadata": {},
   "outputs": [
    {
     "data": {
      "image/png": "[encoded data removed]",
      "text/plain": [
       "<Figure size 432x288 with 1 Axes>"
      ]
     },
     "metadata": {
      "needs_background": "light"
     },
     "output_type": "display_data"
    },
    {
     "name": "stdout",
     "output_type": "stream",
     "text": [
      "Глубина: 12,\n",
      "Количество деревьев: 17,\n",
      "F1-мера: 0.5957446808510638\n",
      "AUC-ROC: 0.8557726821743669\n"
     ]
    }
   ],
   "source": [
    "best_depth_rfc = best_f1_rfc = 0 \n",
    "for est in range (1,30):\n",
    "    for depth in range(1,15):\n",
    "        model_rfc = RandomForestClassifier(random_state=12345,\n",
    "                                                               n_estimators=est, max_depth = depth ) \n",
    "        model_rfc.fit(features_train, target_train)\n",
    "        predicted_valid_rfc = model_rfc.predict(features_valid)\n",
    "        f1_rfc = f1_score(target_valid, predicted_valid_rfc)\n",
    "        if f1_rfc > best_f1_rfc:\n",
    "            best_model_rfc = model_rfc\n",
    "            best_depth_rfc = depth\n",
    "            best_f1_rfc = f1_rfc\n",
    "            best_est = est\n",
    "\n",
    "probabilities_valid = best_model_rfc.predict_proba(features_valid)\n",
    "probabilities_one_valid = probabilities_valid[:, 1]\n",
    "\n",
    "fpr, tpr, thresholds = roc_curve(target_valid,probabilities_one_valid)\n",
    "plt.figure()\n",
    "\n",
    "plt.plot(fpr, tpr)\n",
    "# ROC-кривая случайной модели\n",
    "plt.plot([0, 1], [0, 1], linestyle='--')\n",
    "\n",
    "plt.xlim([0,1])\n",
    "plt.ylim([0,1])\n",
    "\n",
    "plt.xlabel('False Positive Rate')\n",
    "plt.ylabel('True Positive Rate')\n",
    "\n",
    "plt.title(\"ROC-кривая\")\n",
    "plt.show()\n",
    "\n",
    "auc_roc = roc_auc_score(target_valid, probabilities_one_valid)\n",
    "print(f\"Глубина: {best_depth_rfc},\")\n",
    "print(f\"Количество деревьев: {best_est},\")\n",
    "print(f\"F1-мера: {best_f1_rfc}\")\n",
    "print(f\"AUC-ROC: {auc_roc}\")\n",
    "\n",
    "predicted_valid_rfc = pd.Series(predicted_valid_rfc)\n",
    "\n",
    "class_frequency_rfc = predicted_valid_rfc.value_counts(normalize=2/len(predicted_valid_rfc))\n"
   ]
  },
  {
   "cell_type": "markdown",
   "metadata": {},
   "source": [
    "**Логическая регрессия**"
   ]
  },
  {
   "cell_type": "code",
   "execution_count": 24,
   "metadata": {},
   "outputs": [
    {
     "data": {
      "image/png": "[encoded data removed]",
      "text/plain": [
       "<Figure size 432x288 with 1 Axes>"
      ]
     },
     "metadata": {
      "needs_background": "light"
     },
     "output_type": "display_data"
    },
    {
     "name": "stdout",
     "output_type": "stream",
     "text": [
      "Solver:sag\n",
      "F1-мера 0.30400000000000005\n",
      "AUC-ROC: 0.7736577715519543\n"
     ]
    }
   ],
   "source": [
    "solvers = ['lbfgs', 'liblinear', 'newton-cg',  'sag'];\n",
    "best_f1_lr = 0\n",
    "\n",
    "for solver_lr in solvers:\n",
    "    model_lr = LogisticRegression(solver=solver_lr, random_state=12345)\n",
    "    model_lr.fit(features_train, target_train)\n",
    "    predicted_valid_lr = model_lr.predict(features_valid)\n",
    "    f1_lr = f1_score(target_valid, predicted_valid_lr)\n",
    "    \n",
    "    if f1_lr >= best_f1_lr:\n",
    "        best_f1_lr = f1_lr\n",
    "        best_model_lr = model_lr\n",
    "        best_solver_lr = solver_lr\n",
    "\n",
    "probabilities_valid = best_model_lr.predict_proba(features_valid)\n",
    "probabilities_one_valid = probabilities_valid[:, 1]\n",
    "\n",
    "fpr, tpr, thresholds = roc_curve(target_valid,probabilities_one_valid)\n",
    "plt.figure()\n",
    "\n",
    "plt.plot(fpr, tpr)\n",
    "# ROC-кривая случайной модели\n",
    "plt.plot([0, 1], [0, 1], linestyle='--')\n",
    "\n",
    "plt.xlim([0,1])\n",
    "plt.ylim([0,1])\n",
    "\n",
    "plt.xlabel('False Positive Rate')\n",
    "plt.ylabel('True Positive Rate')\n",
    "\n",
    "plt.title(\"ROC-кривая\")\n",
    "plt.show()\n",
    "\n",
    "auc_roc = roc_auc_score(target_valid, probabilities_one_valid)\n",
    "print(f\"Solver:{best_solver_lr}\")\n",
    "print(\"F1-мера\", best_f1_lr)\n",
    "print(f\"AUC-ROC: {auc_roc}\")\n",
    "\n",
    "predicted_valid_lr = pd.Series(predicted_valid_lr)\n",
    "\n",
    "class_frequency_lr = predicted_valid_lr.value_counts(normalize=2/len(predicted_valid_lr))\n"
   ]
  },
  {
   "cell_type": "markdown",
   "metadata": {},
   "source": [
    "Самое лучшее значение **F1** = 0.59574 и **AUC-ROC** = 0.8557 у случайного леса. На втором месте решающее дерево, на третьем линейная регрессия"
   ]
  },
  {
   "cell_type": "markdown",
   "metadata": {},
   "source": [
    "**Проверка адекватности моделей до борьбы с дисбалансом**"
   ]
  },
  {
   "cell_type": "code",
   "execution_count": 25,
   "metadata": {},
   "outputs": [
    {
     "name": "stdout",
     "output_type": "stream",
     "text": [
      "0    0.790979\n",
      "1    0.209021\n",
      "dtype: float64\n"
     ]
    },
    {
     "data": {
      "image/png": "[encoded data removed]",
      "text/plain": [
       "<Figure size 432x288 with 1 Axes>"
      ]
     },
     "metadata": {
      "needs_background": "light"
     },
     "output_type": "display_data"
    }
   ],
   "source": [
    "#дерево решений\n",
    "print(class_frequency_dtc)\n",
    "class_frequency_dtc.plot(kind='bar', title = 'Случайный лес');"
   ]
  },
  {
   "cell_type": "code",
   "execution_count": 26,
   "metadata": {},
   "outputs": [
    {
     "name": "stdout",
     "output_type": "stream",
     "text": [
      "0    0.877888\n",
      "1    0.122112\n",
      "dtype: float64\n"
     ]
    },
    {
     "data": {
      "image/png": "[encoded data removed]",
      "text/plain": [
       "<Figure size 432x288 with 1 Axes>"
      ]
     },
     "metadata": {
      "needs_background": "light"
     },
     "output_type": "display_data"
    }
   ],
   "source": [
    "#случайный лес\n",
    "print(class_frequency_rfc)\n",
    "class_frequency_rfc.plot(kind='bar', title = 'Случайный лес');"
   ]
  },
  {
   "cell_type": "code",
   "execution_count": 27,
   "metadata": {},
   "outputs": [
    {
     "name": "stdout",
     "output_type": "stream",
     "text": [
      "0    0.932343\n",
      "1    0.067657\n",
      "dtype: float64\n"
     ]
    },
    {
     "data": {
      "image/png": "[encoded data removed]",
      "text/plain": [
       "<Figure size 432x288 with 1 Axes>"
      ]
     },
     "metadata": {
      "needs_background": "light"
     },
     "output_type": "display_data"
    }
   ],
   "source": [
    "#линейная регрессия\n",
    "print(class_frequency_lr)\n",
    "class_frequency_lr.plot(kind='bar',title = 'Линейная регрессия');"
   ]
  },
  {
   "cell_type": "markdown",
   "metadata": {},
   "source": [
    "Самая высокая точность у логической регресии, потом у случайного леса, далее у дерева решений."
   ]
  },
  {
   "cell_type": "markdown",
   "metadata": {},
   "source": [
    "## Борьба с дисбалансом"
   ]
  },
  {
   "cell_type": "markdown",
   "metadata": {},
   "source": [
    "Рассмотрим три варивнта борьбы с дисбалансом:\n",
    " - взвешивание классов;\n",
    " - увеличение выборки;\n",
    " - уменьшение выборки."
   ]
  },
  {
   "cell_type": "markdown",
   "metadata": {},
   "source": [
    "**Взвешивание классов**\n",
    "\n",
    "Более редкому классу присваивается вес."
   ]
  },
  {
   "cell_type": "markdown",
   "metadata": {},
   "source": [
    "**Решающее дерево**"
   ]
  },
  {
   "cell_type": "code",
   "execution_count": 28,
   "metadata": {},
   "outputs": [
    {
     "data": {
      "image/png": "[encoded data removed]",
      "text/plain": [
       "<Figure size 432x288 with 1 Axes>"
      ]
     },
     "metadata": {
      "needs_background": "light"
     },
     "output_type": "display_data"
    },
    {
     "name": "stdout",
     "output_type": "stream",
     "text": [
      "Глубина: 5\n",
      "F1-мера, 0.5735449735449736\n",
      "AUC-ROC: 0.8396523192522141\n"
     ]
    }
   ],
   "source": [
    "best_depth_dtc = best_f1_dtc = 0\n",
    "\n",
    "for depth in range(1, 25):\n",
    "    model_dtc = DecisionTreeClassifier(class_weight='balanced', max_depth = depth, random_state=12345)\n",
    "    model_dtc.fit(features_train, target_train)\n",
    "    predicted_valid_dtc = model_dtc.predict(features_valid)\n",
    "    f1_dtc = f1_score(target_valid, predicted_valid_dtc)\n",
    "    if f1_dtc >= best_f1_dtc:\n",
    "        best_f1_dtc = f1_dtc\n",
    "        best_model_dtc = model_dtc\n",
    "        best_depth_dtc = depth      \n",
    "\n",
    "probabilities_valid = best_model_dtc.predict_proba(features_valid)\n",
    "probabilities_one_valid = probabilities_valid[:, 1]\n",
    "\n",
    "fpr, tpr, thresholds = roc_curve(target_valid,probabilities_one_valid)\n",
    "plt.figure()\n",
    "\n",
    "plt.plot(fpr, tpr)\n",
    "# ROC-кривая случайной модели\n",
    "plt.plot([0, 1], [0, 1], linestyle='--')\n",
    "\n",
    "plt.xlim([0,1])\n",
    "plt.ylim([0,1])\n",
    "\n",
    "plt.xlabel('False Positive Rate')\n",
    "plt.ylabel('True Positive Rate')\n",
    "\n",
    "plt.title(\"ROC-кривая\")\n",
    "plt.show()\n",
    "\n",
    "auc_roc = roc_auc_score(target_valid, probabilities_one_valid)\n",
    "print(f\"Глубина: {best_depth_dtc}\")\n",
    "print(f\"F1-мера, {best_f1_dtc}\")\n",
    "print(f\"AUC-ROC: {auc_roc}\")\n"
   ]
  },
  {
   "cell_type": "markdown",
   "metadata": {},
   "source": [
    "**Случайный лес**"
   ]
  },
  {
   "cell_type": "code",
   "execution_count": 29,
   "metadata": {},
   "outputs": [
    {
     "data": {
      "image/png": "[encoded data removed]",
      "text/plain": [
       "<Figure size 432x288 with 1 Axes>"
      ]
     },
     "metadata": {
      "needs_background": "light"
     },
     "output_type": "display_data"
    },
    {
     "name": "stdout",
     "output_type": "stream",
     "text": [
      "Глубина: 9,\n",
      "Количество деревьев: 26,\n",
      "F1-мера: 0.656641604010025\n",
      "AUC-ROC: 0.8656667102310693\n"
     ]
    }
   ],
   "source": [
    "best_depth_rfc = best_f1_rfc = 0 \n",
    "for est in range (1,30):\n",
    "    for depth in range(1,15):\n",
    "        model_rfc = RandomForestClassifier(class_weight='balanced', random_state=12345,\n",
    "                                                               n_estimators=est, max_depth = depth ) \n",
    "        model_rfc.fit(features_train, target_train)\n",
    "        predicted_valid_rfc = model_rfc.predict(features_valid)\n",
    "        f1_rfc = f1_score(target_valid, predicted_valid_rfc)\n",
    "        if f1_rfc > best_f1_rfc:\n",
    "            best_model_rfc = model_rfc\n",
    "            best_depth_rfc = depth\n",
    "            best_f1_rfc = f1_rfc\n",
    "            best_est = est\n",
    "\n",
    "probabilities_valid = best_model_rfc.predict_proba(features_valid)\n",
    "probabilities_one_valid = probabilities_valid[:, 1]\n",
    "\n",
    "fpr, tpr, thresholds = roc_curve(target_valid,probabilities_one_valid)\n",
    "plt.figure()\n",
    "\n",
    "plt.plot(fpr, tpr)\n",
    "# ROC-кривая случайной модели\n",
    "plt.plot([0, 1], [0, 1], linestyle='--')\n",
    "\n",
    "plt.xlim([0,1])\n",
    "plt.ylim([0,1])\n",
    "\n",
    "plt.xlabel('False Positive Rate')\n",
    "plt.ylabel('True Positive Rate')\n",
    "\n",
    "plt.title(\"ROC-кривая\")\n",
    "plt.show()\n",
    "\n",
    "auc_roc = roc_auc_score(target_valid, probabilities_one_valid)\n",
    "print(f\"Глубина: {best_depth_rfc},\")\n",
    "print(f\"Количество деревьев: {best_est},\")\n",
    "print(f\"F1-мера: {best_f1_rfc}\")\n",
    "print(f\"AUC-ROC: {auc_roc}\")"
   ]
  },
  {
   "cell_type": "markdown",
   "metadata": {},
   "source": [
    "**Логическая регрессия**"
   ]
  },
  {
   "cell_type": "code",
   "execution_count": 30,
   "metadata": {},
   "outputs": [
    {
     "data": {
      "image/png": "[encoded data removed]",
      "text/plain": [
       "<Figure size 432x288 with 1 Axes>"
      ]
     },
     "metadata": {
      "needs_background": "light"
     },
     "output_type": "display_data"
    },
    {
     "name": "stdout",
     "output_type": "stream",
     "text": [
      "Solver:sag\n",
      "F1-мера 0.509731232622799\n",
      "AUC-ROC: 0.777782890970572\n"
     ]
    }
   ],
   "source": [
    "solvers = ['lbfgs', 'liblinear', 'newton-cg',  'sag'];\n",
    "best_f1_lr = 0\n",
    "\n",
    "for solver_lr in solvers:\n",
    "    model_lr = LogisticRegression(class_weight='balanced', solver=solver_lr, random_state=12345)\n",
    "    model_lr.fit(features_train, target_train)\n",
    "    predicted_valid_lr = model_lr.predict(features_valid)\n",
    "    f1_lr = f1_score(target_valid, predicted_valid_lr)\n",
    "    \n",
    "    if f1_lr >= best_f1_lr:\n",
    "        best_f1_lr = f1_lr\n",
    "        best_model_lr = model_lr\n",
    "        best_solver_lr = solver_lr\n",
    "\n",
    "probabilities_valid = best_model_lr.predict_proba(features_valid)\n",
    "probabilities_one_valid = probabilities_valid[:, 1]\n",
    "\n",
    "fpr, tpr, thresholds = roc_curve(target_valid,probabilities_one_valid)\n",
    "plt.figure()\n",
    "\n",
    "plt.plot(fpr, tpr)\n",
    "# ROC-кривая случайной модели\n",
    "plt.plot([0, 1], [0, 1], linestyle='--')\n",
    "\n",
    "plt.xlim([0,1])\n",
    "plt.ylim([0,1])\n",
    "\n",
    "plt.xlabel('False Positive Rate')\n",
    "plt.ylabel('True Positive Rate')\n",
    "\n",
    "plt.title(\"ROC-кривая\")\n",
    "plt.show()\n",
    "\n",
    "auc_roc = roc_auc_score(target_valid, probabilities_one_valid)\n",
    "print(f\"Solver:{best_solver_lr}\")\n",
    "print(\"F1-мера\", best_f1_lr)\n",
    "print(f\"AUC-ROC: {auc_roc}\")"
   ]
  },
  {
   "cell_type": "markdown",
   "metadata": {},
   "source": [
    "**Увеличинение выборки (upsampling)**\n",
    "\n",
    "Преобразование проходит в несколько этапов:\n",
    "\n",
    "- Разделить обучающую выборку на отрицательные и положительные объекты;\n",
    "- Скопировать несколько раз положительные объекты;\n",
    "- С учётом полученных данных создать новую обучающую выборку;\n",
    "- Перемешать данные: идущие друг за другом одинаковые вопросы не помогут обучению."
   ]
  },
  {
   "cell_type": "code",
   "execution_count": 31,
   "metadata": {},
   "outputs": [
    {
     "data": {
      "text/plain": [
       "0.25580811252040686"
      ]
     },
     "execution_count": 31,
     "metadata": {},
     "output_type": "execute_result"
    }
   ],
   "source": [
    "positive/negative"
   ]
  },
  {
   "cell_type": "markdown",
   "metadata": {},
   "source": [
    "Это значит, что положительных объектов в 4 раз меньше отрицательных."
   ]
  },
  {
   "cell_type": "code",
   "execution_count": 32,
   "metadata": {},
   "outputs": [],
   "source": [
    "def upsample(features, target, repeat):\n",
    "    features_zeros = features[target == 0]\n",
    "    features_ones = features[target == 1]\n",
    "    target_zeros = target[target == 0]\n",
    "    target_ones = target[target == 1]\n",
    "\n",
    "    features_upsampled = pd.concat([features_zeros] + [features_ones] * repeat)\n",
    "    target_upsampled = pd.concat([target_zeros] + [target_ones] * repeat)\n",
    "    \n",
    "    features_upsampled, target_upsampled = shuffle(\n",
    "        features_upsampled, target_upsampled, random_state=12345)\n",
    "    \n",
    "    return features_upsampled, target_upsampled\n",
    "\n",
    "features_upsampled, target_upsampled = upsample(features_train, target_train, 4)"
   ]
  },
  {
   "cell_type": "markdown",
   "metadata": {},
   "source": [
    "**Решающее дерево**"
   ]
  },
  {
   "cell_type": "code",
   "execution_count": 33,
   "metadata": {},
   "outputs": [
    {
     "data": {
      "image/png": "[encoded data removed]",
      "text/plain": [
       "<Figure size 432x288 with 1 Axes>"
      ]
     },
     "metadata": {
      "needs_background": "light"
     },
     "output_type": "display_data"
    },
    {
     "name": "stdout",
     "output_type": "stream",
     "text": [
      "Глубина: 5\n",
      "F1-мера, 0.5735449735449736\n",
      "AUC-ROC: 0.8396523192522141\n"
     ]
    }
   ],
   "source": [
    "best_depth_dtc = best_f1_dtc = 0\n",
    "\n",
    "for depth in range(1, 25):\n",
    "    model_dtc = DecisionTreeClassifier( max_depth = depth, random_state=12345)\n",
    "    model_dtc.fit(features_upsampled, target_upsampled)\n",
    "    predicted_valid_dtc = model_dtc.predict(features_valid)\n",
    "    f1_dtc = f1_score(target_valid, predicted_valid_dtc)\n",
    "    if f1_dtc >= best_f1_dtc:\n",
    "        best_f1_dtc = f1_dtc\n",
    "        best_model_dtc = model_dtc\n",
    "        best_depth_dtc = depth      \n",
    "\n",
    "probabilities_valid = best_model_dtc.predict_proba(features_valid)\n",
    "probabilities_one_valid = probabilities_valid[:, 1]\n",
    "\n",
    "fpr, tpr, thresholds = roc_curve(target_valid,probabilities_one_valid)\n",
    "plt.figure()\n",
    "\n",
    "plt.plot(fpr, tpr)\n",
    "# ROC-кривая случайной модели\n",
    "plt.plot([0, 1], [0, 1], linestyle='--')\n",
    "\n",
    "plt.xlim([0,1])\n",
    "plt.ylim([0,1])\n",
    "\n",
    "plt.xlabel('False Positive Rate')\n",
    "plt.ylabel('True Positive Rate')\n",
    "\n",
    "plt.title(\"ROC-кривая\")\n",
    "plt.show()\n",
    "\n",
    "auc_roc = roc_auc_score(target_valid, probabilities_one_valid)\n",
    "print(f\"Глубина: {best_depth_dtc}\")\n",
    "print(f\"F1-мера, {best_f1_dtc}\")\n",
    "print(f\"AUC-ROC: {auc_roc}\")\n"
   ]
  },
  {
   "cell_type": "markdown",
   "metadata": {},
   "source": [
    "**Случайный лес**"
   ]
  },
  {
   "cell_type": "code",
   "execution_count": 34,
   "metadata": {},
   "outputs": [
    {
     "data": {
      "image/png": "[encoded data removed]",
      "text/plain": [
       "<Figure size 432x288 with 1 Axes>"
      ]
     },
     "metadata": {
      "needs_background": "light"
     },
     "output_type": "display_data"
    },
    {
     "name": "stdout",
     "output_type": "stream",
     "text": [
      "Глубина: 10,\n",
      "Количество деревьев: 21,\n",
      "F1-мера: 0.6332138590203106\n",
      "AUC-ROC: 0.8576069889573443\n"
     ]
    }
   ],
   "source": [
    "best_depth_rfc = best_f1_rfc = 0 \n",
    "for est in range (1,30):\n",
    "    for depth in range(1,15):\n",
    "        model_rfc = RandomForestClassifier( random_state=12345,\n",
    "                                                               n_estimators=est, max_depth = depth ) \n",
    "        model_rfc.fit(features_upsampled, target_upsampled)\n",
    "        predicted_valid_rfc = model_rfc.predict(features_valid)\n",
    "        f1_rfc = f1_score(target_valid, predicted_valid_rfc)\n",
    "        if f1_rfc > best_f1_rfc:\n",
    "            best_model_rfc = model_rfc\n",
    "            best_depth_rfc = depth\n",
    "            best_f1_rfc = f1_rfc\n",
    "            best_est = est\n",
    "\n",
    "probabilities_valid = best_model_rfc.predict_proba(features_valid)\n",
    "probabilities_one_valid = probabilities_valid[:, 1]\n",
    "\n",
    "fpr, tpr, thresholds = roc_curve(target_valid,probabilities_one_valid)\n",
    "plt.figure()\n",
    "\n",
    "plt.plot(fpr, tpr)\n",
    "# ROC-кривая случайной модели\n",
    "plt.plot([0, 1], [0, 1], linestyle='--')\n",
    "\n",
    "plt.xlim([0,1])\n",
    "plt.ylim([0,1])\n",
    "\n",
    "plt.xlabel('False Positive Rate')\n",
    "plt.ylabel('True Positive Rate')\n",
    "\n",
    "plt.title(\"ROC-кривая\")\n",
    "plt.show()\n",
    "\n",
    "auc_roc = roc_auc_score(target_valid, probabilities_one_valid)\n",
    "print(f\"Глубина: {best_depth_rfc},\")\n",
    "print(f\"Количество деревьев: {best_est},\")\n",
    "print(f\"F1-мера: {best_f1_rfc}\")\n",
    "print(f\"AUC-ROC: {auc_roc}\")"
   ]
  },
  {
   "cell_type": "markdown",
   "metadata": {},
   "source": [
    "**Логическая регрессия**"
   ]
  },
  {
   "cell_type": "code",
   "execution_count": 35,
   "metadata": {},
   "outputs": [
    {
     "data": {
      "image/png": "[encoded data removed]",
      "text/plain": [
       "<Figure size 432x288 with 1 Axes>"
      ]
     },
     "metadata": {
      "needs_background": "light"
     },
     "output_type": "display_data"
    },
    {
     "name": "stdout",
     "output_type": "stream",
     "text": [
      "Solver:sag\n",
      "F1-мера 0.5085972850678734\n",
      "AUC-ROC: 0.7778657246938374\n"
     ]
    }
   ],
   "source": [
    "solvers = ['lbfgs', 'liblinear', 'newton-cg',  'sag'];\n",
    "best_f1_lr = 0\n",
    "\n",
    "for solver_lr in solvers:\n",
    "    model_lr = LogisticRegression( solver=solver_lr, random_state=12345)\n",
    "    model_lr.fit(features_upsampled, target_upsampled)\n",
    "    predicted_valid_lr = model_lr.predict(features_valid)\n",
    "    f1_lr = f1_score(target_valid, predicted_valid_lr)\n",
    "    \n",
    "    if f1_lr >= best_f1_lr:\n",
    "        best_f1_lr = f1_lr\n",
    "        best_model_lr = model_lr\n",
    "        best_solver_lr = solver_lr\n",
    "\n",
    "probabilities_valid = best_model_lr.predict_proba(features_valid)\n",
    "probabilities_one_valid = probabilities_valid[:, 1]\n",
    "\n",
    "fpr, tpr, thresholds = roc_curve(target_valid,probabilities_one_valid)\n",
    "plt.figure()\n",
    "\n",
    "plt.plot(fpr, tpr)\n",
    "# ROC-кривая случайной модели\n",
    "plt.plot([0, 1], [0, 1], linestyle='--')\n",
    "\n",
    "plt.xlim([0,1])\n",
    "plt.ylim([0,1])\n",
    "\n",
    "plt.xlabel('False Positive Rate')\n",
    "plt.ylabel('True Positive Rate')\n",
    "\n",
    "plt.title(\"ROC-кривая\")\n",
    "plt.show()\n",
    "\n",
    "auc_roc = roc_auc_score(target_valid, probabilities_one_valid)\n",
    "print(f\"Solver:{best_solver_lr}\")\n",
    "print(\"F1-мера\", best_f1_lr)\n",
    "print(f\"AUC-ROC: {auc_roc}\")"
   ]
  },
  {
   "cell_type": "markdown",
   "metadata": {},
   "source": [
    "**Уменьшение выборки (downsampling)**\n",
    "\n",
    "Преобразование проходит в несколько этапов:\n",
    "- Разделить обучающую выборку на отрицательные и положительные объекты;\n",
    "- Случайным образом отбросить часть из отрицательных объектов;\n",
    "- С учётом полученных данных создать новую обучающую выборку;\n",
    "- Перемешать данные. Положительные не должны идти следом за отрицательными: алгоритмам будет сложнее обучаться."
   ]
  },
  {
   "cell_type": "code",
   "execution_count": 36,
   "metadata": {},
   "outputs": [],
   "source": [
    "def downsample(features, target, fraction):\n",
    "    features_zeros = features[target == 0]\n",
    "    features_ones = features[target == 1]\n",
    "    target_zeros = target[target == 0]\n",
    "    target_ones = target[target == 1]\n",
    "\n",
    "    features_downsampled = pd.concat(\n",
    "        [features_zeros.sample(frac=fraction, random_state=12345)] + [features_ones])\n",
    "    target_downsampled = pd.concat(\n",
    "        [target_zeros.sample(frac=fraction, random_state=12345)] + [target_ones])\n",
    "    \n",
    "    features_downsampled, target_downsampled = shuffle(\n",
    "        features_downsampled, target_downsampled, random_state=12345)\n",
    "    \n",
    "    return features_downsampled, target_downsampled\n",
    "\n",
    "features_downsampled, target_downsampled = downsample(features_train, target_train, 0.25)\n"
   ]
  },
  {
   "cell_type": "markdown",
   "metadata": {},
   "source": [
    "**Решающее дерево**"
   ]
  },
  {
   "cell_type": "code",
   "execution_count": 37,
   "metadata": {},
   "outputs": [
    {
     "data": {
      "image/png": "[encoded data removed]",
      "text/plain": [
       "<Figure size 432x288 with 1 Axes>"
      ]
     },
     "metadata": {
      "needs_background": "light"
     },
     "output_type": "display_data"
    },
    {
     "name": "stdout",
     "output_type": "stream",
     "text": [
      "Глубина: 6\n",
      "F1-мера, 0.5636704119850188\n",
      "AUC-ROC: 0.8343500405885245\n"
     ]
    }
   ],
   "source": [
    "best_depth_dtc = best_f1_dtc = 0\n",
    "\n",
    "for depth in range(1, 25):\n",
    "    model_dtc = DecisionTreeClassifier( max_depth = depth, random_state=12345)\n",
    "    model_dtc.fit(features_downsampled, target_downsampled)\n",
    "    predicted_valid_dtc = model_dtc.predict(features_valid)\n",
    "    f1_dtc = f1_score(target_valid, predicted_valid_dtc)\n",
    "    if f1_dtc >= best_f1_dtc:\n",
    "        best_f1_dtc = f1_dtc\n",
    "        best_model_dtc = model_dtc\n",
    "        best_depth_dtc = depth      \n",
    "\n",
    "probabilities_valid = best_model_dtc.predict_proba(features_valid)\n",
    "probabilities_one_valid = probabilities_valid[:, 1]\n",
    "\n",
    "fpr, tpr, thresholds = roc_curve(target_valid,probabilities_one_valid)\n",
    "plt.figure()\n",
    "\n",
    "plt.plot(fpr, tpr)\n",
    "# ROC-кривая случайной модели\n",
    "plt.plot([0, 1], [0, 1], linestyle='--')\n",
    "\n",
    "plt.xlim([0,1])\n",
    "plt.ylim([0,1])\n",
    "\n",
    "plt.xlabel('False Positive Rate')\n",
    "plt.ylabel('True Positive Rate')\n",
    "\n",
    "plt.title(\"ROC-кривая\")\n",
    "plt.show()\n",
    "\n",
    "auc_roc = roc_auc_score(target_valid, probabilities_one_valid)\n",
    "print(f\"Глубина: {best_depth_dtc}\")\n",
    "print(f\"F1-мера, {best_f1_dtc}\")\n",
    "print(f\"AUC-ROC: {auc_roc}\")"
   ]
  },
  {
   "cell_type": "markdown",
   "metadata": {},
   "source": [
    "**Случайный лес**"
   ]
  },
  {
   "cell_type": "code",
   "execution_count": 38,
   "metadata": {},
   "outputs": [
    {
     "data": {
      "image/png": "[encoded data removed]",
      "text/plain": [
       "<Figure size 432x288 with 1 Axes>"
      ]
     },
     "metadata": {
      "needs_background": "light"
     },
     "output_type": "display_data"
    },
    {
     "name": "stdout",
     "output_type": "stream",
     "text": [
      "Глубина: 4,\n",
      "Количество деревьев: 5,\n",
      "F1-мера: 0.6035751840168244\n",
      "AUC-ROC: 0.8441621552966644\n"
     ]
    }
   ],
   "source": [
    "best_depth_rfc = best_f1_rfc = 0 \n",
    "for est in range (1,30):\n",
    "    for depth in range(1,15):\n",
    "        model_rfc = RandomForestClassifier( random_state=12345,\n",
    "                                                               n_estimators=est, max_depth = depth ) \n",
    "        model_rfc.fit(features_downsampled, target_downsampled)\n",
    "        predicted_valid_rfc = model_rfc.predict(features_valid)\n",
    "        f1_rfc = f1_score(target_valid, predicted_valid_rfc)\n",
    "        if f1_rfc > best_f1_rfc:\n",
    "            best_model_rfc = model_rfc\n",
    "            best_depth_rfc = depth\n",
    "            best_f1_rfc = f1_rfc\n",
    "            best_est = est\n",
    "\n",
    "probabilities_valid = best_model_rfc.predict_proba(features_valid)\n",
    "probabilities_one_valid = probabilities_valid[:, 1]\n",
    "\n",
    "fpr, tpr, thresholds = roc_curve(target_valid,probabilities_one_valid)\n",
    "plt.figure()\n",
    "\n",
    "plt.plot(fpr, tpr)\n",
    "# ROC-кривая случайной модели\n",
    "plt.plot([0, 1], [0, 1], linestyle='--')\n",
    "\n",
    "plt.xlim([0,1])\n",
    "plt.ylim([0,1])\n",
    "\n",
    "plt.xlabel('False Positive Rate')\n",
    "plt.ylabel('True Positive Rate')\n",
    "\n",
    "plt.title(\"ROC-кривая\")\n",
    "plt.show()\n",
    "\n",
    "auc_roc = roc_auc_score(target_valid, probabilities_one_valid)\n",
    "print(f\"Глубина: {best_depth_rfc},\")\n",
    "print(f\"Количество деревьев: {best_est},\")\n",
    "print(f\"F1-мера: {best_f1_rfc}\")\n",
    "print(f\"AUC-ROC: {auc_roc}\")"
   ]
  },
  {
   "cell_type": "markdown",
   "metadata": {},
   "source": [
    "**Логическая регрессия**"
   ]
  },
  {
   "cell_type": "code",
   "execution_count": 39,
   "metadata": {},
   "outputs": [
    {
     "data": {
      "image/png": "[encoded data removed]",
      "text/plain": [
       "<Figure size 432x288 with 1 Axes>"
      ]
     },
     "metadata": {
      "needs_background": "light"
     },
     "output_type": "display_data"
    },
    {
     "name": "stdout",
     "output_type": "stream",
     "text": [
      "Solver:liblinear\n",
      "F1-мера 0.5053763440860214\n",
      "AUC-ROC: 0.7771662399195961\n"
     ]
    }
   ],
   "source": [
    "solvers = ['lbfgs', 'liblinear', 'newton-cg',  'sag'];\n",
    "best_f1_lr = 0\n",
    "\n",
    "for solver_lr in solvers:\n",
    "    model_lr = LogisticRegression( solver=solver_lr, random_state=12345)\n",
    "    model_lr.fit(features_downsampled, target_downsampled)\n",
    "    predicted_valid_lr = model_lr.predict(features_valid)\n",
    "    f1_lr = f1_score(target_valid, predicted_valid_lr)\n",
    "    \n",
    "    if f1_lr >= best_f1_lr:\n",
    "        best_f1_lr = f1_lr\n",
    "        best_model_lr = model_lr\n",
    "        best_solver_lr = solver_lr\n",
    "\n",
    "probabilities_valid = best_model_lr.predict_proba(features_valid)\n",
    "probabilities_one_valid = probabilities_valid[:, 1]\n",
    "\n",
    "fpr, tpr, thresholds = roc_curve(target_valid,probabilities_one_valid)\n",
    "plt.figure()\n",
    "\n",
    "plt.plot(fpr, tpr)\n",
    "# ROC-кривая случайной модели\n",
    "plt.plot([0, 1], [0, 1], linestyle='--')\n",
    "\n",
    "plt.xlim([0,1])\n",
    "plt.ylim([0,1])\n",
    "\n",
    "plt.xlabel('False Positive Rate')\n",
    "plt.ylabel('True Positive Rate')\n",
    "\n",
    "plt.title(\"ROC-кривая\")\n",
    "plt.show()\n",
    "\n",
    "auc_roc = roc_auc_score(target_valid, probabilities_one_valid)\n",
    "print(f\"Solver:{best_solver_lr}\")\n",
    "print(\"F1-мера\", best_f1_lr)\n",
    "print(f\"AUC-ROC: {auc_roc}\")"
   ]
  },
  {
   "cell_type": "markdown",
   "metadata": {},
   "source": [
    "Самый хороший результат показал метод взвешивания классов на модели случайного леса: **F1-мера: 0.6566, AUC-ROC: 0.86566**"
   ]
  },
  {
   "cell_type": "markdown",
   "metadata": {},
   "source": [
    "## Тестирование модели"
   ]
  },
  {
   "cell_type": "code",
   "execution_count": 40,
   "metadata": {},
   "outputs": [
    {
     "data": {
      "image/png": "[encoded data removed]",
      "text/plain": [
       "<Figure size 432x288 with 1 Axes>"
      ]
     },
     "metadata": {
      "needs_background": "light"
     },
     "output_type": "display_data"
    },
    {
     "name": "stdout",
     "output_type": "stream",
     "text": [
      "Глубина: 12,\n",
      "Количество деревьев: 21,\n",
      "F1-мера: 0.6077844311377246\n",
      "AUC-ROC: 0.8409119138001973\n"
     ]
    }
   ],
   "source": [
    "#случайный лес\n",
    "model_rfc = RandomForestClassifier(class_weight='balanced', random_state=12345,\n",
    "                                                       n_estimators=26, max_depth = 9 ) \n",
    "model_rfc.fit(features_train, target_train)\n",
    "predicted_test_rfc = model_rfc.predict(features_test)\n",
    "f1_rfc = f1_score(target_test, predicted_test_rfc)\n",
    "\n",
    "probabilities_test = model_rfc.predict_proba(features_test)\n",
    "probabilities_one_test = probabilities_test[:, 1]\n",
    "\n",
    "fpr, tpr, thresholds = roc_curve(target_test,probabilities_one_test)\n",
    "plt.figure()\n",
    "\n",
    "plt.plot(fpr, tpr)\n",
    "# ROC-кривая случайной модели\n",
    "plt.plot([0, 1], [0, 1], linestyle='--')\n",
    "\n",
    "plt.xlim([0,1])\n",
    "plt.ylim([0,1])\n",
    "\n",
    "plt.xlabel('False Positive Rate')\n",
    "plt.ylabel('True Positive Rate')\n",
    "\n",
    "plt.title(\"ROC-кривая\")\n",
    "plt.show()\n",
    "\n",
    "auc_roc = roc_auc_score(target_test, probabilities_one_test)\n",
    "print(f\"Глубина: {best_depth_rfc},\")\n",
    "print(f\"Количество деревьев: {best_est},\")\n",
    "print(f\"F1-мера: {best_f1_rfc}\")\n",
    "print(f\"AUC-ROC: {auc_roc}\")"
   ]
  },
  {
   "cell_type": "markdown",
   "metadata": {},
   "source": [
    "В результате было получено, что лучшие показатели **F1 = 0.616666** имеет модель случайного леса с использованием метода взвешивания класса. Хуже всего себя показала модель линейной регрессии. **AUC-ROC = 0.756** модель достаточно адекватна."
   ]
  },
  {
   "cell_type": "markdown",
   "metadata": {},
   "source": [
    "## Итоговый вывод ##"
   ]
  },
  {
   "cell_type": "markdown",
   "metadata": {},
   "source": [
    "В рамках работы были выполнены следующие действия:\n",
    "\n",
    "- Была выполнена предобработка данных: удалены не нужные столбцы, сделано масштабирование количественных признаков, преобразованы категориальные данные;\n",
    "- Датафрейм был разбит на обучающую, тестовую и валидационную выборки.\n",
    "- Были исследованы три модели с изменением гиперпараметров: Дерево решений, Случайный лес, Логическая регрессия. Были получены значения меры F1, AUC_ROC и построена ROC-кривая для несбалансированной выборки. Лучший результат показала модель **Случайный лес, F1-мера: 0.5957, AUC-ROC: 0.85577** c гиперпараметрами: Глубина: 12, Количество деревьев: 17.\n",
    "- Была проведена борьба с дисбалансом. Использовалось три метода: **взвешивание классов**, **увеличение классов**, **уменьшение классов**. Для каждого из методов были обучены три модели с различными гиперпарметрами: Дерево решений, Случайный лес, Логическая регрессия. Лучший результат показала модель  **Случайный лес, F1-мера: 0.6566, AUC-ROC: 0.86567** c гиперпараметрами: Глубина: 9, Количество деревьев: 26 с ипользованием метода **взвешивание классов**.\n",
    "- Далее была проведена проверка на тестовой выборке и полученs значения **F1-мера: 0.608, AUC-ROC: 0.84**. Модель: случайный лес; гиперпараметры: Глубина: 12,Количество деревьев: 21; метод борьюы с дисбалансом взвешивание классов.\n"
   ]
  }
 ],
 "metadata": {
  "ExecuteTimeLog": [
   {
    "duration": 69,
    "start_time": "2023-05-06T14:49:03.333Z"
   },
   {
    "duration": 415,
    "start_time": "2023-05-06T14:49:08.131Z"
   },
   {
    "duration": 243,
    "start_time": "2023-05-06T14:49:09.421Z"
   },
   {
    "duration": 20,
    "start_time": "2023-05-06T14:49:24.110Z"
   },
   {
    "duration": 57,
    "start_time": "2023-05-07T11:53:35.676Z"
   },
   {
    "duration": 387,
    "start_time": "2023-05-07T11:53:38.712Z"
   },
   {
    "duration": 113,
    "start_time": "2023-05-07T11:53:39.197Z"
   },
   {
    "duration": 20,
    "start_time": "2023-05-07T11:53:39.869Z"
   },
   {
    "duration": 6,
    "start_time": "2023-05-07T11:53:40.775Z"
   },
   {
    "duration": 27,
    "start_time": "2023-05-07T11:53:50.322Z"
   },
   {
    "duration": 2,
    "start_time": "2023-05-07T11:54:05.122Z"
   },
   {
    "duration": 35,
    "start_time": "2023-05-07T11:54:05.523Z"
   },
   {
    "duration": 13,
    "start_time": "2023-05-07T11:54:06.121Z"
   },
   {
    "duration": 4,
    "start_time": "2023-05-07T11:54:06.971Z"
   },
   {
    "duration": 6,
    "start_time": "2023-05-07T11:54:07.878Z"
   },
   {
    "duration": 7,
    "start_time": "2023-05-07T11:54:20.508Z"
   },
   {
    "duration": 7,
    "start_time": "2023-05-07T11:54:21.279Z"
   },
   {
    "duration": 7,
    "start_time": "2023-05-07T11:54:24.207Z"
   },
   {
    "duration": 35,
    "start_time": "2023-05-07T11:54:24.631Z"
   },
   {
    "duration": 19,
    "start_time": "2023-05-07T11:54:25.291Z"
   },
   {
    "duration": 4,
    "start_time": "2023-05-07T11:54:26.224Z"
   },
   {
    "duration": 16,
    "start_time": "2023-05-07T11:54:27.160Z"
   },
   {
    "duration": 6,
    "start_time": "2023-05-07T11:57:33.460Z"
   },
   {
    "duration": 3,
    "start_time": "2023-05-07T11:58:04.388Z"
   },
   {
    "duration": 3,
    "start_time": "2023-05-07T11:58:16.083Z"
   },
   {
    "duration": 4,
    "start_time": "2023-05-07T11:58:29.785Z"
   },
   {
    "duration": 4,
    "start_time": "2023-05-07T11:58:32.743Z"
   },
   {
    "duration": 5,
    "start_time": "2023-05-07T11:58:42.015Z"
   },
   {
    "duration": 15,
    "start_time": "2023-05-07T12:00:27.583Z"
   },
   {
    "duration": 4,
    "start_time": "2023-05-07T12:03:01.109Z"
   },
   {
    "duration": 7,
    "start_time": "2023-05-07T12:04:44.660Z"
   },
   {
    "duration": 5,
    "start_time": "2023-05-07T12:05:15.705Z"
   },
   {
    "duration": 8,
    "start_time": "2023-05-07T12:06:11.176Z"
   },
   {
    "duration": 678,
    "start_time": "2023-05-07T12:08:29.442Z"
   },
   {
    "duration": 10,
    "start_time": "2023-05-07T12:08:41.515Z"
   },
   {
    "duration": 2,
    "start_time": "2023-05-07T12:11:41.611Z"
   },
   {
    "duration": 15,
    "start_time": "2023-05-07T12:13:32.530Z"
   },
   {
    "duration": 21,
    "start_time": "2023-05-07T12:13:47.669Z"
   },
   {
    "duration": 9,
    "start_time": "2023-05-07T12:14:52.033Z"
   },
   {
    "duration": 17,
    "start_time": "2023-05-07T12:15:10.128Z"
   },
   {
    "duration": 10,
    "start_time": "2023-05-07T12:17:32.523Z"
   },
   {
    "duration": 18,
    "start_time": "2023-05-07T12:19:11.709Z"
   },
   {
    "duration": 15,
    "start_time": "2023-05-07T12:19:19.922Z"
   },
   {
    "duration": 12,
    "start_time": "2023-05-07T12:19:32.830Z"
   },
   {
    "duration": 5,
    "start_time": "2023-05-07T12:20:20.911Z"
   },
   {
    "duration": 14,
    "start_time": "2023-05-07T12:20:21.923Z"
   },
   {
    "duration": 13,
    "start_time": "2023-05-07T12:20:22.723Z"
   },
   {
    "duration": 7,
    "start_time": "2023-05-07T12:20:38.115Z"
   },
   {
    "duration": 24,
    "start_time": "2023-05-07T12:20:39.191Z"
   },
   {
    "duration": 16,
    "start_time": "2023-05-07T12:20:40.052Z"
   },
   {
    "duration": 11,
    "start_time": "2023-05-07T12:23:59.684Z"
   },
   {
    "duration": 23,
    "start_time": "2023-05-07T12:24:23.362Z"
   },
   {
    "duration": 7,
    "start_time": "2023-05-07T12:24:33.541Z"
   },
   {
    "duration": 20,
    "start_time": "2023-05-07T12:24:34.513Z"
   },
   {
    "duration": 6,
    "start_time": "2023-05-07T12:24:51.467Z"
   },
   {
    "duration": 9,
    "start_time": "2023-05-07T12:24:53.968Z"
   },
   {
    "duration": 5,
    "start_time": "2023-05-07T12:24:55.026Z"
   },
   {
    "duration": 3,
    "start_time": "2023-05-07T12:28:25.439Z"
   },
   {
    "duration": 25,
    "start_time": "2023-05-07T12:28:26.483Z"
   },
   {
    "duration": 17,
    "start_time": "2023-05-07T12:28:27.274Z"
   },
   {
    "duration": 7,
    "start_time": "2023-05-07T12:28:28.226Z"
   },
   {
    "duration": 7,
    "start_time": "2023-05-07T12:32:55.093Z"
   },
   {
    "duration": 6,
    "start_time": "2023-05-07T12:33:12.917Z"
   },
   {
    "duration": 9,
    "start_time": "2023-05-07T12:33:37.511Z"
   },
   {
    "duration": 24,
    "start_time": "2023-05-07T12:33:55.585Z"
   },
   {
    "duration": 35,
    "start_time": "2023-05-07T12:33:56.332Z"
   },
   {
    "duration": 19,
    "start_time": "2023-05-07T12:33:56.488Z"
   },
   {
    "duration": 6,
    "start_time": "2023-05-07T12:33:56.738Z"
   },
   {
    "duration": 11,
    "start_time": "2023-05-07T12:33:57.081Z"
   },
   {
    "duration": 14,
    "start_time": "2023-05-07T12:33:57.297Z"
   },
   {
    "duration": 4,
    "start_time": "2023-05-07T12:33:57.865Z"
   },
   {
    "duration": 3,
    "start_time": "2023-05-07T12:33:58.109Z"
   },
   {
    "duration": 9,
    "start_time": "2023-05-07T12:33:58.577Z"
   },
   {
    "duration": 21,
    "start_time": "2023-05-07T12:33:58.881Z"
   },
   {
    "duration": 12,
    "start_time": "2023-05-07T12:33:59.594Z"
   },
   {
    "duration": 28,
    "start_time": "2023-05-07T12:33:59.969Z"
   },
   {
    "duration": 26,
    "start_time": "2023-05-07T12:34:00.285Z"
   },
   {
    "duration": 8,
    "start_time": "2023-05-07T12:34:00.739Z"
   },
   {
    "duration": 5,
    "start_time": "2023-05-07T12:34:09.708Z"
   },
   {
    "duration": 5,
    "start_time": "2023-05-07T12:34:10.773Z"
   },
   {
    "duration": 17,
    "start_time": "2023-05-07T12:34:11.989Z"
   },
   {
    "duration": 5,
    "start_time": "2023-05-07T12:34:19.081Z"
   },
   {
    "duration": 6,
    "start_time": "2023-05-07T12:34:19.936Z"
   },
   {
    "duration": 10,
    "start_time": "2023-05-07T12:37:24.664Z"
   },
   {
    "duration": 13,
    "start_time": "2023-05-07T12:37:38.265Z"
   },
   {
    "duration": 6,
    "start_time": "2023-05-07T12:37:54.238Z"
   },
   {
    "duration": 43,
    "start_time": "2023-05-07T12:45:39.689Z"
   },
   {
    "duration": 26,
    "start_time": "2023-05-07T12:46:19.072Z"
   },
   {
    "duration": 12,
    "start_time": "2023-05-07T12:46:56.368Z"
   },
   {
    "duration": 11,
    "start_time": "2023-05-07T12:47:18.436Z"
   },
   {
    "duration": 12,
    "start_time": "2023-05-07T12:47:19.608Z"
   },
   {
    "duration": 18,
    "start_time": "2023-05-07T12:47:23.908Z"
   },
   {
    "duration": 1536,
    "start_time": "2023-05-07T12:47:32.010Z"
   },
   {
    "duration": 0,
    "start_time": "2023-05-07T12:47:33.548Z"
   },
   {
    "duration": 1491,
    "start_time": "2023-05-07T12:48:16.368Z"
   },
   {
    "duration": 3,
    "start_time": "2023-05-07T12:48:24.106Z"
   },
   {
    "duration": 35,
    "start_time": "2023-05-07T12:48:24.656Z"
   },
   {
    "duration": 15,
    "start_time": "2023-05-07T12:48:25.392Z"
   },
   {
    "duration": 5,
    "start_time": "2023-05-07T12:48:26.183Z"
   },
   {
    "duration": 12,
    "start_time": "2023-05-07T12:48:27.015Z"
   },
   {
    "duration": 13,
    "start_time": "2023-05-07T12:48:28.197Z"
   },
   {
    "duration": 4,
    "start_time": "2023-05-07T12:48:29.689Z"
   },
   {
    "duration": 3,
    "start_time": "2023-05-07T12:48:30.487Z"
   },
   {
    "duration": 11,
    "start_time": "2023-05-07T12:48:31.908Z"
   },
   {
    "duration": 14,
    "start_time": "2023-05-07T12:48:35.071Z"
   },
   {
    "duration": 3,
    "start_time": "2023-05-07T12:48:39.209Z"
   },
   {
    "duration": 20,
    "start_time": "2023-05-07T12:48:40.925Z"
   },
   {
    "duration": 12,
    "start_time": "2023-05-07T12:48:41.775Z"
   },
   {
    "duration": 7,
    "start_time": "2023-05-07T12:48:43.679Z"
   },
   {
    "duration": 4,
    "start_time": "2023-05-07T12:48:44.616Z"
   },
   {
    "duration": 5,
    "start_time": "2023-05-07T12:48:45.421Z"
   },
   {
    "duration": 6,
    "start_time": "2023-05-07T12:48:46.280Z"
   },
   {
    "duration": 6,
    "start_time": "2023-05-07T12:48:47.112Z"
   },
   {
    "duration": 31,
    "start_time": "2023-05-07T12:48:49.426Z"
   },
   {
    "duration": 33,
    "start_time": "2023-05-07T12:49:57.909Z"
   },
   {
    "duration": 38,
    "start_time": "2023-05-07T12:50:05.433Z"
   },
   {
    "duration": 42,
    "start_time": "2023-05-07T12:50:14.583Z"
   },
   {
    "duration": 3,
    "start_time": "2023-05-07T12:53:12.328Z"
   },
   {
    "duration": 11,
    "start_time": "2023-05-07T12:53:16.658Z"
   },
   {
    "duration": 44,
    "start_time": "2023-05-07T12:53:24.994Z"
   },
   {
    "duration": 35,
    "start_time": "2023-05-07T12:53:42.812Z"
   },
   {
    "duration": 36,
    "start_time": "2023-05-07T12:53:52.584Z"
   },
   {
    "duration": 42,
    "start_time": "2023-05-07T12:54:01.928Z"
   },
   {
    "duration": 42,
    "start_time": "2023-05-07T12:56:43.412Z"
   },
   {
    "duration": 2,
    "start_time": "2023-05-07T12:56:54.910Z"
   },
   {
    "duration": 43,
    "start_time": "2023-05-07T12:57:07.635Z"
   },
   {
    "duration": 35,
    "start_time": "2023-05-07T12:57:17.902Z"
   },
   {
    "duration": 3,
    "start_time": "2023-05-07T12:58:23.520Z"
   },
   {
    "duration": 45,
    "start_time": "2023-05-07T12:58:29.176Z"
   },
   {
    "duration": 49,
    "start_time": "2023-05-07T12:58:41.384Z"
   },
   {
    "duration": 11,
    "start_time": "2023-05-07T13:01:54.991Z"
   },
   {
    "duration": 11,
    "start_time": "2023-05-07T13:02:00.763Z"
   },
   {
    "duration": 721,
    "start_time": "2023-05-07T13:02:04.682Z"
   },
   {
    "duration": 139,
    "start_time": "2023-05-07T13:02:43.075Z"
   },
   {
    "duration": 130,
    "start_time": "2023-05-07T13:03:02.811Z"
   },
   {
    "duration": 161,
    "start_time": "2023-05-07T13:03:16.214Z"
   },
   {
    "duration": 190,
    "start_time": "2023-05-07T13:05:10.116Z"
   },
   {
    "duration": 792,
    "start_time": "2023-05-07T13:31:02.230Z"
   },
   {
    "duration": 1136,
    "start_time": "2023-05-07T18:34:55.359Z"
   },
   {
    "duration": 185,
    "start_time": "2023-05-07T18:34:57.075Z"
   },
   {
    "duration": 22,
    "start_time": "2023-05-07T18:34:57.738Z"
   },
   {
    "duration": 6,
    "start_time": "2023-05-07T18:34:58.391Z"
   },
   {
    "duration": 12,
    "start_time": "2023-05-07T18:34:58.904Z"
   },
   {
    "duration": 12,
    "start_time": "2023-05-07T18:34:59.453Z"
   },
   {
    "duration": 5,
    "start_time": "2023-05-07T18:35:00.424Z"
   },
   {
    "duration": 3,
    "start_time": "2023-05-07T18:35:00.924Z"
   },
   {
    "duration": 11,
    "start_time": "2023-05-07T18:35:01.866Z"
   },
   {
    "duration": 14,
    "start_time": "2023-05-07T18:35:02.427Z"
   },
   {
    "duration": 3,
    "start_time": "2023-05-07T18:35:03.416Z"
   },
   {
    "duration": 20,
    "start_time": "2023-05-07T18:35:03.935Z"
   },
   {
    "duration": 13,
    "start_time": "2023-05-07T18:35:04.490Z"
   },
   {
    "duration": 7,
    "start_time": "2023-05-07T18:35:05.054Z"
   },
   {
    "duration": 4,
    "start_time": "2023-05-07T18:35:05.630Z"
   },
   {
    "duration": 4,
    "start_time": "2023-05-07T18:35:06.353Z"
   },
   {
    "duration": 6,
    "start_time": "2023-05-07T18:35:06.854Z"
   },
   {
    "duration": 7,
    "start_time": "2023-05-07T18:35:07.497Z"
   },
   {
    "duration": 156,
    "start_time": "2023-05-07T18:35:15.705Z"
   },
   {
    "duration": 45,
    "start_time": "2023-05-07T18:35:42.687Z"
   },
   {
    "duration": 47,
    "start_time": "2023-05-07T18:35:52.085Z"
   },
   {
    "duration": 48,
    "start_time": "2023-05-07T18:35:56.232Z"
   },
   {
    "duration": 828,
    "start_time": "2023-05-07T18:36:03.341Z"
   },
   {
    "duration": 863,
    "start_time": "2023-05-07T18:37:17.257Z"
   },
   {
    "duration": 890,
    "start_time": "2023-05-07T18:38:26.270Z"
   },
   {
    "duration": 887,
    "start_time": "2023-05-07T18:39:15.666Z"
   },
   {
    "duration": 87,
    "start_time": "2023-05-07T18:45:33.548Z"
   },
   {
    "duration": 51,
    "start_time": "2023-05-07T18:45:51.646Z"
   },
   {
    "duration": 48,
    "start_time": "2023-05-07T18:45:58.063Z"
   },
   {
    "duration": 760,
    "start_time": "2023-05-07T18:46:08.994Z"
   },
   {
    "duration": 736,
    "start_time": "2023-05-07T18:46:19.927Z"
   },
   {
    "duration": 585,
    "start_time": "2023-05-07T18:46:37.078Z"
   },
   {
    "duration": 560,
    "start_time": "2023-05-07T18:46:45.248Z"
   },
   {
    "duration": 579,
    "start_time": "2023-05-07T18:46:49.178Z"
   },
   {
    "duration": 606,
    "start_time": "2023-05-07T18:47:35.944Z"
   },
   {
    "duration": 589,
    "start_time": "2023-05-07T18:48:10.552Z"
   },
   {
    "duration": 590,
    "start_time": "2023-05-07T18:49:10.596Z"
   },
   {
    "duration": 583,
    "start_time": "2023-05-07T18:49:20.370Z"
   },
   {
    "duration": 141,
    "start_time": "2023-05-07T18:49:40.961Z"
   },
   {
    "duration": 13,
    "start_time": "2023-05-07T18:51:41.402Z"
   },
   {
    "duration": 4,
    "start_time": "2023-05-07T18:51:57.335Z"
   },
   {
    "duration": 16,
    "start_time": "2023-05-07T18:52:02.463Z"
   },
   {
    "duration": 444,
    "start_time": "2023-05-07T18:52:29.517Z"
   },
   {
    "duration": 44,
    "start_time": "2023-05-07T18:52:30.080Z"
   },
   {
    "duration": 17,
    "start_time": "2023-05-07T18:52:30.874Z"
   },
   {
    "duration": 5,
    "start_time": "2023-05-07T18:52:31.307Z"
   },
   {
    "duration": 13,
    "start_time": "2023-05-07T18:52:31.807Z"
   },
   {
    "duration": 12,
    "start_time": "2023-05-07T18:52:32.399Z"
   },
   {
    "duration": 4,
    "start_time": "2023-05-07T18:52:33.616Z"
   },
   {
    "duration": 3,
    "start_time": "2023-05-07T18:52:38.013Z"
   },
   {
    "duration": 10,
    "start_time": "2023-05-07T18:52:39.055Z"
   },
   {
    "duration": 14,
    "start_time": "2023-05-07T18:52:39.733Z"
   },
   {
    "duration": 3,
    "start_time": "2023-05-07T18:52:40.997Z"
   },
   {
    "duration": 20,
    "start_time": "2023-05-07T18:52:41.451Z"
   },
   {
    "duration": 14,
    "start_time": "2023-05-07T18:52:42.004Z"
   },
   {
    "duration": 7,
    "start_time": "2023-05-07T18:52:42.692Z"
   },
   {
    "duration": 4,
    "start_time": "2023-05-07T18:52:43.222Z"
   },
   {
    "duration": 5,
    "start_time": "2023-05-07T18:52:44.144Z"
   },
   {
    "duration": 6,
    "start_time": "2023-05-07T18:52:44.707Z"
   },
   {
    "duration": 6,
    "start_time": "2023-05-07T18:52:45.302Z"
   },
   {
    "duration": 580,
    "start_time": "2023-05-07T18:52:47.603Z"
   },
   {
    "duration": 24,
    "start_time": "2023-05-07T18:53:00.733Z"
   },
   {
    "duration": 612,
    "start_time": "2023-05-07T18:53:56.786Z"
   },
   {
    "duration": 13,
    "start_time": "2023-05-07T18:53:58.765Z"
   },
   {
    "duration": 12,
    "start_time": "2023-05-07T18:54:11.536Z"
   },
   {
    "duration": 610,
    "start_time": "2023-05-07T18:56:18.282Z"
   },
   {
    "duration": 772,
    "start_time": "2023-05-07T18:56:45.204Z"
   },
   {
    "duration": 589,
    "start_time": "2023-05-07T18:57:36.317Z"
   },
   {
    "duration": 610,
    "start_time": "2023-05-07T18:58:50.672Z"
   },
   {
    "duration": 603,
    "start_time": "2023-05-07T19:01:26.923Z"
   },
   {
    "duration": 710,
    "start_time": "2023-05-07T19:02:18.731Z"
   },
   {
    "duration": 780,
    "start_time": "2023-05-07T19:02:30.382Z"
   },
   {
    "duration": 706,
    "start_time": "2023-05-07T19:03:06.428Z"
   },
   {
    "duration": 728,
    "start_time": "2023-05-07T19:04:24.686Z"
   },
   {
    "duration": 4,
    "start_time": "2023-05-07T19:04:40.913Z"
   },
   {
    "duration": 861,
    "start_time": "2023-05-07T19:04:45.130Z"
   },
   {
    "duration": 54,
    "start_time": "2023-05-08T18:41:08.282Z"
   },
   {
    "duration": 1591,
    "start_time": "2023-05-08T18:41:14.194Z"
   },
   {
    "duration": 76,
    "start_time": "2023-05-08T18:41:16.672Z"
   },
   {
    "duration": 16,
    "start_time": "2023-05-08T18:41:18.258Z"
   },
   {
    "duration": 4,
    "start_time": "2023-05-08T18:41:19.240Z"
   },
   {
    "duration": 12,
    "start_time": "2023-05-08T18:41:20.083Z"
   },
   {
    "duration": 15,
    "start_time": "2023-05-08T18:41:20.779Z"
   },
   {
    "duration": 4,
    "start_time": "2023-05-08T18:41:21.941Z"
   },
   {
    "duration": 3,
    "start_time": "2023-05-08T18:41:22.501Z"
   },
   {
    "duration": 10,
    "start_time": "2023-05-08T18:41:23.706Z"
   },
   {
    "duration": 13,
    "start_time": "2023-05-08T18:41:24.484Z"
   },
   {
    "duration": 2,
    "start_time": "2023-05-08T18:41:25.717Z"
   },
   {
    "duration": 18,
    "start_time": "2023-05-08T18:41:26.342Z"
   },
   {
    "duration": 11,
    "start_time": "2023-05-08T18:41:27.062Z"
   },
   {
    "duration": 6,
    "start_time": "2023-05-08T18:41:27.746Z"
   },
   {
    "duration": 4,
    "start_time": "2023-05-08T18:41:28.386Z"
   },
   {
    "duration": 4,
    "start_time": "2023-05-08T18:41:28.974Z"
   },
   {
    "duration": 6,
    "start_time": "2023-05-08T18:41:29.601Z"
   },
   {
    "duration": 5,
    "start_time": "2023-05-08T18:41:30.162Z"
   },
   {
    "duration": 84,
    "start_time": "2023-05-08T18:41:32.200Z"
   },
   {
    "duration": 1165,
    "start_time": "2023-05-08T18:41:50.457Z"
   },
   {
    "duration": 1173,
    "start_time": "2023-05-08T18:42:00.669Z"
   },
   {
    "duration": 1209,
    "start_time": "2023-05-08T18:42:18.912Z"
   },
   {
    "duration": 115,
    "start_time": "2023-05-08T18:49:02.510Z"
   },
   {
    "duration": 90836,
    "start_time": "2023-05-08T18:49:27.236Z"
   },
   {
    "duration": 437385,
    "start_time": "2023-05-08T18:51:22.406Z"
   },
   {
    "duration": 208951,
    "start_time": "2023-05-08T18:59:02.482Z"
   },
   {
    "duration": 107644,
    "start_time": "2023-05-08T19:02:36.678Z"
   },
   {
    "duration": 69,
    "start_time": "2023-05-08T19:04:28.651Z"
   },
   {
    "duration": 1169,
    "start_time": "2023-05-08T19:04:34.903Z"
   },
   {
    "duration": 5891,
    "start_time": "2023-05-08T19:05:20.992Z"
   },
   {
    "duration": 179265,
    "start_time": "2023-05-08T19:05:32.148Z"
   },
   {
    "duration": 21869,
    "start_time": "2023-05-08T19:08:36.631Z"
   },
   {
    "duration": 1406,
    "start_time": "2023-05-08T19:09:31.834Z"
   },
   {
    "duration": 34,
    "start_time": "2023-05-08T19:09:33.242Z"
   },
   {
    "duration": 17,
    "start_time": "2023-05-08T19:09:33.278Z"
   },
   {
    "duration": 4,
    "start_time": "2023-05-08T19:09:33.297Z"
   },
   {
    "duration": 17,
    "start_time": "2023-05-08T19:09:33.304Z"
   },
   {
    "duration": 13,
    "start_time": "2023-05-08T19:09:33.323Z"
   },
   {
    "duration": 4,
    "start_time": "2023-05-08T19:09:33.337Z"
   },
   {
    "duration": 3,
    "start_time": "2023-05-08T19:09:33.355Z"
   },
   {
    "duration": 18,
    "start_time": "2023-05-08T19:09:33.359Z"
   },
   {
    "duration": 11,
    "start_time": "2023-05-08T19:09:33.379Z"
   },
   {
    "duration": 3,
    "start_time": "2023-05-08T19:09:33.392Z"
   },
   {
    "duration": 19,
    "start_time": "2023-05-08T19:09:33.396Z"
   },
   {
    "duration": 13,
    "start_time": "2023-05-08T19:09:33.417Z"
   },
   {
    "duration": 29,
    "start_time": "2023-05-08T19:09:33.432Z"
   },
   {
    "duration": 6,
    "start_time": "2023-05-08T19:09:33.462Z"
   },
   {
    "duration": 10,
    "start_time": "2023-05-08T19:09:33.470Z"
   },
   {
    "duration": 8,
    "start_time": "2023-05-08T19:09:33.482Z"
   },
   {
    "duration": 5,
    "start_time": "2023-05-08T19:09:33.492Z"
   },
   {
    "duration": 1257,
    "start_time": "2023-05-08T19:09:33.499Z"
   },
   {
    "duration": 60615,
    "start_time": "2023-05-08T19:09:34.758Z"
   },
   {
    "duration": 267,
    "start_time": "2023-05-08T19:10:35.375Z"
   },
   {
    "duration": 0,
    "start_time": "2023-05-08T19:10:35.645Z"
   },
   {
    "duration": 126,
    "start_time": "2023-05-08T19:10:48.002Z"
   },
   {
    "duration": 622947,
    "start_time": "2023-05-08T19:12:00.425Z"
   },
   {
    "duration": 125274,
    "start_time": "2023-05-08T19:22:45.357Z"
   },
   {
    "duration": 1336,
    "start_time": "2023-05-08T19:27:02.874Z"
   },
   {
    "duration": 35,
    "start_time": "2023-05-08T19:27:04.212Z"
   },
   {
    "duration": 17,
    "start_time": "2023-05-08T19:27:04.248Z"
   },
   {
    "duration": 9,
    "start_time": "2023-05-08T19:27:04.267Z"
   },
   {
    "duration": 14,
    "start_time": "2023-05-08T19:27:04.277Z"
   },
   {
    "duration": 14,
    "start_time": "2023-05-08T19:27:04.293Z"
   },
   {
    "duration": 15,
    "start_time": "2023-05-08T19:27:04.309Z"
   },
   {
    "duration": 17,
    "start_time": "2023-05-08T19:27:04.325Z"
   },
   {
    "duration": 24,
    "start_time": "2023-05-08T19:27:04.343Z"
   },
   {
    "duration": 27,
    "start_time": "2023-05-08T19:27:04.369Z"
   },
   {
    "duration": 8,
    "start_time": "2023-05-08T19:27:04.398Z"
   },
   {
    "duration": 25,
    "start_time": "2023-05-08T19:27:04.407Z"
   },
   {
    "duration": 10,
    "start_time": "2023-05-08T19:27:04.434Z"
   },
   {
    "duration": 12,
    "start_time": "2023-05-08T19:27:04.446Z"
   },
   {
    "duration": 5,
    "start_time": "2023-05-08T19:27:04.459Z"
   },
   {
    "duration": 8,
    "start_time": "2023-05-08T19:27:04.465Z"
   },
   {
    "duration": 8,
    "start_time": "2023-05-08T19:27:04.474Z"
   },
   {
    "duration": 8,
    "start_time": "2023-05-08T19:27:04.484Z"
   },
   {
    "duration": 1252,
    "start_time": "2023-05-08T19:27:04.493Z"
   },
   {
    "duration": 132051,
    "start_time": "2023-05-08T19:27:05.747Z"
   },
   {
    "duration": 131,
    "start_time": "2023-05-08T19:29:17.800Z"
   },
   {
    "duration": 922,
    "start_time": "2023-05-08T19:29:17.933Z"
   },
   {
    "duration": 1286,
    "start_time": "2023-05-08T19:37:25.121Z"
   },
   {
    "duration": 35,
    "start_time": "2023-05-08T19:37:26.409Z"
   },
   {
    "duration": 16,
    "start_time": "2023-05-08T19:37:26.446Z"
   },
   {
    "duration": 4,
    "start_time": "2023-05-08T19:37:26.464Z"
   },
   {
    "duration": 21,
    "start_time": "2023-05-08T19:37:26.470Z"
   },
   {
    "duration": 15,
    "start_time": "2023-05-08T19:37:26.493Z"
   },
   {
    "duration": 4,
    "start_time": "2023-05-08T19:37:26.509Z"
   },
   {
    "duration": 6,
    "start_time": "2023-05-08T19:37:26.515Z"
   },
   {
    "duration": 10,
    "start_time": "2023-05-08T19:37:26.523Z"
   },
   {
    "duration": 34,
    "start_time": "2023-05-08T19:37:26.535Z"
   },
   {
    "duration": 6,
    "start_time": "2023-05-08T19:37:26.570Z"
   },
   {
    "duration": 20,
    "start_time": "2023-05-08T19:37:26.578Z"
   },
   {
    "duration": 12,
    "start_time": "2023-05-08T19:37:26.599Z"
   },
   {
    "duration": 7,
    "start_time": "2023-05-08T19:37:26.613Z"
   },
   {
    "duration": 4,
    "start_time": "2023-05-08T19:37:26.621Z"
   },
   {
    "duration": 30,
    "start_time": "2023-05-08T19:37:26.626Z"
   },
   {
    "duration": 6,
    "start_time": "2023-05-08T19:37:26.658Z"
   },
   {
    "duration": 11,
    "start_time": "2023-05-08T19:37:26.666Z"
   },
   {
    "duration": 1194,
    "start_time": "2023-05-08T19:37:26.679Z"
   },
   {
    "duration": 150,
    "start_time": "2023-05-08T19:45:22.887Z"
   },
   {
    "duration": 1136,
    "start_time": "2023-05-08T19:45:23.039Z"
   },
   {
    "duration": 133,
    "start_time": "2023-05-08T19:45:24.177Z"
   },
   {
    "duration": 0,
    "start_time": "2023-05-08T19:45:24.312Z"
   },
   {
    "duration": 0,
    "start_time": "2023-05-08T19:45:24.313Z"
   },
   {
    "duration": 0,
    "start_time": "2023-05-08T19:45:24.314Z"
   },
   {
    "duration": 0,
    "start_time": "2023-05-08T19:45:24.315Z"
   },
   {
    "duration": 146,
    "start_time": "2023-05-08T19:45:36.978Z"
   },
   {
    "duration": 1162,
    "start_time": "2023-05-08T19:45:47.874Z"
   },
   {
    "duration": 20,
    "start_time": "2023-05-08T19:45:56.866Z"
   },
   {
    "duration": 3,
    "start_time": "2023-05-08T19:46:15.595Z"
   },
   {
    "duration": 23,
    "start_time": "2023-05-08T19:46:21.779Z"
   },
   {
    "duration": 32,
    "start_time": "2023-05-08T19:46:24.981Z"
   },
   {
    "duration": 311,
    "start_time": "2023-05-08T19:46:42.982Z"
   },
   {
    "duration": 299,
    "start_time": "2023-05-08T19:46:58.796Z"
   },
   {
    "duration": 117,
    "start_time": "2023-05-08T19:47:25.540Z"
   },
   {
    "duration": 165254,
    "start_time": "2023-05-08T19:50:10.702Z"
   },
   {
    "duration": 177,
    "start_time": "2023-05-08T19:53:13.841Z"
   },
   {
    "duration": 2381,
    "start_time": "2023-05-08T19:53:32.177Z"
   },
   {
    "duration": 156664,
    "start_time": "2023-05-08T19:55:43.038Z"
   },
   {
    "duration": 250523,
    "start_time": "2023-05-08T19:58:38.234Z"
   },
   {
    "duration": 494717,
    "start_time": "2023-05-08T20:02:56.239Z"
   },
   {
    "duration": 135,
    "start_time": "2023-05-08T20:11:16.543Z"
   },
   {
    "duration": 10,
    "start_time": "2023-05-08T20:11:26.310Z"
   },
   {
    "duration": 355,
    "start_time": "2023-05-08T20:11:32.138Z"
   },
   {
    "duration": 144,
    "start_time": "2023-05-08T20:11:35.315Z"
   },
   {
    "duration": 31,
    "start_time": "2023-05-08T20:11:38.077Z"
   },
   {
    "duration": 13,
    "start_time": "2023-05-08T20:11:40.155Z"
   },
   {
    "duration": 33,
    "start_time": "2023-05-08T20:11:41.497Z"
   },
   {
    "duration": 371,
    "start_time": "2023-05-08T20:11:42.050Z"
   },
   {
    "duration": 106,
    "start_time": "2023-05-08T20:11:43.420Z"
   },
   {
    "duration": 82,
    "start_time": "2023-05-08T20:12:11.823Z"
   },
   {
    "duration": 714964,
    "start_time": "2023-05-08T20:12:27.480Z"
   },
   {
    "duration": 79,
    "start_time": "2023-05-08T20:24:53.959Z"
   },
   {
    "duration": 16768,
    "start_time": "2023-05-08T20:25:10.615Z"
   },
   {
    "duration": 105795,
    "start_time": "2023-05-08T20:25:55.198Z"
   },
   {
    "duration": 639,
    "start_time": "2023-05-08T20:27:46.232Z"
   },
   {
    "duration": 646,
    "start_time": "2023-05-08T20:27:55.292Z"
   },
   {
    "duration": 735,
    "start_time": "2023-05-08T20:28:22.610Z"
   },
   {
    "duration": 165,
    "start_time": "2023-05-08T20:28:26.666Z"
   },
   {
    "duration": 1146,
    "start_time": "2023-05-08T20:28:44.702Z"
   },
   {
    "duration": 602,
    "start_time": "2023-05-08T20:29:23.119Z"
   },
   {
    "duration": 150,
    "start_time": "2023-05-08T20:29:28.484Z"
   },
   {
    "duration": 1039,
    "start_time": "2023-05-08T20:29:38.565Z"
   },
   {
    "duration": 9430,
    "start_time": "2023-05-08T20:30:26.531Z"
   },
   {
    "duration": 166,
    "start_time": "2023-05-08T20:30:40.857Z"
   },
   {
    "duration": 1173,
    "start_time": "2023-05-08T20:30:56.648Z"
   },
   {
    "duration": 9,
    "start_time": "2023-05-08T20:31:06.064Z"
   },
   {
    "duration": 14,
    "start_time": "2023-05-08T20:31:12.205Z"
   },
   {
    "duration": 12,
    "start_time": "2023-05-08T20:31:12.973Z"
   },
   {
    "duration": 275,
    "start_time": "2023-05-08T20:31:14.288Z"
   },
   {
    "duration": 24,
    "start_time": "2023-05-08T20:31:16.688Z"
   },
   {
    "duration": 15773,
    "start_time": "2023-05-08T20:31:43.361Z"
   },
   {
    "duration": 163,
    "start_time": "2023-05-08T20:31:59.136Z"
   },
   {
    "duration": 1835,
    "start_time": "2023-05-08T20:32:11.775Z"
   },
   {
    "duration": 126,
    "start_time": "2023-05-08T20:32:16.444Z"
   },
   {
    "duration": 2018,
    "start_time": "2023-05-08T20:32:28.468Z"
   },
   {
    "duration": 135,
    "start_time": "2023-05-08T20:32:30.488Z"
   },
   {
    "duration": 2436,
    "start_time": "2023-05-08T20:32:36.007Z"
   },
   {
    "duration": 122,
    "start_time": "2023-05-08T20:32:38.444Z"
   },
   {
    "duration": 2488,
    "start_time": "2023-05-08T20:32:44.459Z"
   },
   {
    "duration": 116,
    "start_time": "2023-05-08T20:32:50.796Z"
   },
   {
    "duration": 21118,
    "start_time": "2023-05-08T20:33:05.957Z"
   },
   {
    "duration": 197,
    "start_time": "2023-05-08T20:33:33.823Z"
   },
   {
    "duration": 15700,
    "start_time": "2023-05-08T20:33:42.380Z"
   },
   {
    "duration": 160,
    "start_time": "2023-05-08T20:33:58.081Z"
   },
   {
    "duration": 1063,
    "start_time": "2023-05-08T20:34:33.193Z"
   },
   {
    "duration": 13,
    "start_time": "2023-05-08T20:34:36.745Z"
   },
   {
    "duration": 36,
    "start_time": "2023-05-08T20:34:38.383Z"
   },
   {
    "duration": 1176,
    "start_time": "2023-05-08T20:34:39.636Z"
   },
   {
    "duration": 98,
    "start_time": "2023-05-08T20:34:41.881Z"
   },
   {
    "duration": 10,
    "start_time": "2023-05-08T20:34:43.732Z"
   },
   {
    "duration": 13,
    "start_time": "2023-05-08T20:34:45.514Z"
   },
   {
    "duration": 270,
    "start_time": "2023-05-08T20:34:47.358Z"
   },
   {
    "duration": 22,
    "start_time": "2023-05-08T20:34:48.700Z"
   },
   {
    "duration": 413,
    "start_time": "2023-05-08T20:35:55.453Z"
   },
   {
    "duration": 356,
    "start_time": "2023-05-08T20:36:14.506Z"
   },
   {
    "duration": 149,
    "start_time": "2023-05-08T20:36:32.608Z"
   },
   {
    "duration": 1503,
    "start_time": "2023-05-08T20:36:59.212Z"
   },
   {
    "duration": 389,
    "start_time": "2023-05-08T20:38:28.275Z"
   },
   {
    "duration": 1506,
    "start_time": "2023-05-08T20:38:32.599Z"
   },
   {
    "duration": 1565,
    "start_time": "2023-05-08T20:39:38.513Z"
   },
   {
    "duration": 1738,
    "start_time": "2023-05-08T20:42:20.054Z"
   },
   {
    "duration": 1576,
    "start_time": "2023-05-08T20:46:19.382Z"
   },
   {
    "duration": 1528,
    "start_time": "2023-05-08T20:46:55.990Z"
   },
   {
    "duration": 1497,
    "start_time": "2023-05-08T20:47:26.565Z"
   },
   {
    "duration": 2185,
    "start_time": "2023-05-08T20:49:53.342Z"
   },
   {
    "duration": 137,
    "start_time": "2023-05-08T20:49:56.795Z"
   },
   {
    "duration": 278,
    "start_time": "2023-05-08T20:50:06.811Z"
   },
   {
    "duration": 1309,
    "start_time": "2023-05-09T17:54:36.330Z"
   },
   {
    "duration": 5,
    "start_time": "2023-05-09T17:54:57.103Z"
   },
   {
    "duration": 173,
    "start_time": "2023-05-09T17:54:57.775Z"
   },
   {
    "duration": 21,
    "start_time": "2023-05-09T17:54:58.849Z"
   },
   {
    "duration": 5,
    "start_time": "2023-05-09T17:54:59.810Z"
   },
   {
    "duration": 9,
    "start_time": "2023-05-09T17:55:00.719Z"
   },
   {
    "duration": 11,
    "start_time": "2023-05-09T17:55:01.426Z"
   },
   {
    "duration": 4,
    "start_time": "2023-05-09T17:55:02.906Z"
   },
   {
    "duration": 3,
    "start_time": "2023-05-09T17:55:03.573Z"
   },
   {
    "duration": 8,
    "start_time": "2023-05-09T17:55:04.969Z"
   },
   {
    "duration": 12,
    "start_time": "2023-05-09T17:55:05.758Z"
   },
   {
    "duration": 10,
    "start_time": "2023-05-09T17:55:07.206Z"
   },
   {
    "duration": 6,
    "start_time": "2023-05-09T17:55:08.148Z"
   },
   {
    "duration": 4,
    "start_time": "2023-05-09T17:55:09.001Z"
   },
   {
    "duration": 4,
    "start_time": "2023-05-09T17:55:10.073Z"
   },
   {
    "duration": 5,
    "start_time": "2023-05-09T17:55:11.102Z"
   },
   {
    "duration": 5,
    "start_time": "2023-05-09T17:55:11.932Z"
   },
   {
    "duration": 3,
    "start_time": "2023-05-09T17:55:12.961Z"
   },
   {
    "duration": 22,
    "start_time": "2023-05-09T17:55:14.381Z"
   },
   {
    "duration": 21,
    "start_time": "2023-05-09T17:55:55.813Z"
   },
   {
    "duration": 21,
    "start_time": "2023-05-09T17:56:11.661Z"
   },
   {
    "duration": 1244,
    "start_time": "2023-05-09T17:56:16.048Z"
   },
   {
    "duration": 2154,
    "start_time": "2023-05-09T17:56:22.033Z"
   },
   {
    "duration": 107,
    "start_time": "2023-05-09T17:56:33.708Z"
   },
   {
    "duration": 915,
    "start_time": "2023-05-09T17:56:40.528Z"
   },
   {
    "duration": 16,
    "start_time": "2023-05-09T17:56:45.657Z"
   },
   {
    "duration": 249,
    "start_time": "2023-05-09T17:56:49.236Z"
   },
   {
    "duration": 53,
    "start_time": "2023-05-09T17:57:16.089Z"
   },
   {
    "duration": 152,
    "start_time": "2023-05-09T17:57:31.237Z"
   },
   {
    "duration": 332,
    "start_time": "2023-05-09T17:57:40.839Z"
   },
   {
    "duration": 269,
    "start_time": "2023-05-09T17:58:00.037Z"
   },
   {
    "duration": 372,
    "start_time": "2023-05-09T17:58:20.901Z"
   },
   {
    "duration": 9,
    "start_time": "2023-05-09T17:58:24.259Z"
   },
   {
    "duration": 14,
    "start_time": "2023-05-09T17:58:26.045Z"
   },
   {
    "duration": 40,
    "start_time": "2023-05-09T17:58:27.330Z"
   },
   {
    "duration": 17,
    "start_time": "2023-05-09T17:58:28.959Z"
   },
   {
    "duration": 280,
    "start_time": "2023-05-09T17:58:32.435Z"
   },
   {
    "duration": 2272,
    "start_time": "2023-05-09T17:59:06.780Z"
   },
   {
    "duration": 15217,
    "start_time": "2023-05-09T17:59:20.164Z"
   },
   {
    "duration": 16047,
    "start_time": "2023-05-09T17:59:44.746Z"
   },
   {
    "duration": 1583,
    "start_time": "2023-05-09T18:00:15.855Z"
   },
   {
    "duration": 1555,
    "start_time": "2023-05-09T18:02:03.996Z"
   },
   {
    "duration": 1543,
    "start_time": "2023-05-09T18:02:48.020Z"
   },
   {
    "duration": 1546,
    "start_time": "2023-05-09T18:03:29.107Z"
   },
   {
    "duration": 1555,
    "start_time": "2023-05-09T18:04:27.828Z"
   },
   {
    "duration": 1628,
    "start_time": "2023-05-09T18:05:14.479Z"
   },
   {
    "duration": 1545,
    "start_time": "2023-05-09T18:06:11.320Z"
   },
   {
    "duration": 1698,
    "start_time": "2023-05-09T18:06:25.530Z"
   },
   {
    "duration": 1467,
    "start_time": "2023-05-09T18:06:47.536Z"
   },
   {
    "duration": 153,
    "start_time": "2023-05-09T18:09:00.968Z"
   },
   {
    "duration": 1423,
    "start_time": "2023-05-09T18:09:08.991Z"
   },
   {
    "duration": 1609,
    "start_time": "2023-05-09T18:09:30.801Z"
   },
   {
    "duration": 1228,
    "start_time": "2023-05-09T18:09:45.865Z"
   },
   {
    "duration": 40,
    "start_time": "2023-05-09T18:09:47.095Z"
   },
   {
    "duration": 14,
    "start_time": "2023-05-09T18:09:47.136Z"
   },
   {
    "duration": 5,
    "start_time": "2023-05-09T18:09:47.151Z"
   },
   {
    "duration": 12,
    "start_time": "2023-05-09T18:09:47.158Z"
   },
   {
    "duration": 11,
    "start_time": "2023-05-09T18:09:47.171Z"
   },
   {
    "duration": 8,
    "start_time": "2023-05-09T18:09:47.183Z"
   },
   {
    "duration": 4,
    "start_time": "2023-05-09T18:09:47.193Z"
   },
   {
    "duration": 13,
    "start_time": "2023-05-09T18:09:47.198Z"
   },
   {
    "duration": 11,
    "start_time": "2023-05-09T18:09:47.212Z"
   },
   {
    "duration": 11,
    "start_time": "2023-05-09T18:09:47.224Z"
   },
   {
    "duration": 7,
    "start_time": "2023-05-09T18:09:47.236Z"
   },
   {
    "duration": 4,
    "start_time": "2023-05-09T18:09:47.244Z"
   },
   {
    "duration": 23,
    "start_time": "2023-05-09T18:09:47.250Z"
   },
   {
    "duration": 6,
    "start_time": "2023-05-09T18:09:47.274Z"
   },
   {
    "duration": 7,
    "start_time": "2023-05-09T18:09:47.281Z"
   },
   {
    "duration": 4,
    "start_time": "2023-05-09T18:09:47.289Z"
   },
   {
    "duration": 22,
    "start_time": "2023-05-09T18:09:47.295Z"
   },
   {
    "duration": 1225,
    "start_time": "2023-05-09T18:09:47.318Z"
   },
   {
    "duration": 16168,
    "start_time": "2023-05-09T18:09:48.544Z"
   },
   {
    "duration": 942,
    "start_time": "2023-05-09T18:10:04.713Z"
   },
   {
    "duration": 24,
    "start_time": "2023-05-09T18:10:05.657Z"
   },
   {
    "duration": 161,
    "start_time": "2023-05-09T18:10:05.682Z"
   },
   {
    "duration": 1593,
    "start_time": "2023-05-09T18:10:05.844Z"
   },
   {
    "duration": 416,
    "start_time": "2023-05-09T18:10:07.439Z"
   },
   {
    "duration": 15,
    "start_time": "2023-05-09T18:10:07.857Z"
   },
   {
    "duration": 12,
    "start_time": "2023-05-09T18:10:07.873Z"
   },
   {
    "duration": 262,
    "start_time": "2023-05-09T18:10:07.886Z"
   },
   {
    "duration": 24,
    "start_time": "2023-05-09T18:10:08.149Z"
   },
   {
    "duration": 1733,
    "start_time": "2023-05-09T18:10:08.174Z"
   },
   {
    "duration": 29745,
    "start_time": "2023-05-09T18:12:46.311Z"
   },
   {
    "duration": 30489,
    "start_time": "2023-05-09T18:14:05.011Z"
   },
   {
    "duration": 10,
    "start_time": "2023-05-09T18:14:44.702Z"
   },
   {
    "duration": 13,
    "start_time": "2023-05-09T18:14:49.044Z"
   },
   {
    "duration": 255,
    "start_time": "2023-05-09T18:14:50.209Z"
   },
   {
    "duration": 22,
    "start_time": "2023-05-09T18:14:54.321Z"
   },
   {
    "duration": 1538,
    "start_time": "2023-05-09T18:14:57.203Z"
   },
   {
    "duration": 1664,
    "start_time": "2023-05-09T18:15:15.869Z"
   },
   {
    "duration": 30676,
    "start_time": "2023-05-09T18:17:10.512Z"
   },
   {
    "duration": 29951,
    "start_time": "2023-05-09T18:17:48.553Z"
   },
   {
    "duration": 29858,
    "start_time": "2023-05-09T18:19:04.220Z"
   },
   {
    "duration": 29772,
    "start_time": "2023-05-09T18:19:43.176Z"
   },
   {
    "duration": 1595,
    "start_time": "2023-05-09T18:21:29.844Z"
   },
   {
    "duration": 116,
    "start_time": "2023-05-09T18:31:54.337Z"
   },
   {
    "duration": 10,
    "start_time": "2023-05-09T18:31:54.836Z"
   },
   {
    "duration": 4,
    "start_time": "2023-05-09T18:32:15.192Z"
   },
   {
    "duration": 38,
    "start_time": "2023-05-09T18:32:16.420Z"
   },
   {
    "duration": 11,
    "start_time": "2023-05-09T18:32:17.689Z"
   },
   {
    "duration": 5,
    "start_time": "2023-05-09T18:32:21.871Z"
   },
   {
    "duration": 12,
    "start_time": "2023-05-09T18:32:24.039Z"
   },
   {
    "duration": 15,
    "start_time": "2023-05-09T18:32:25.551Z"
   },
   {
    "duration": 4,
    "start_time": "2023-05-09T18:36:38.317Z"
   },
   {
    "duration": 10,
    "start_time": "2023-05-09T18:38:30.122Z"
   },
   {
    "duration": 6,
    "start_time": "2023-05-09T18:38:31.692Z"
   },
   {
    "duration": 60,
    "start_time": "2023-05-09T18:41:49.467Z"
   },
   {
    "duration": 6,
    "start_time": "2023-05-09T18:42:49.495Z"
   },
   {
    "duration": 5,
    "start_time": "2023-05-09T18:43:37.446Z"
   },
   {
    "duration": 5,
    "start_time": "2023-05-09T18:43:37.969Z"
   },
   {
    "duration": 3,
    "start_time": "2023-05-09T18:46:49.579Z"
   },
   {
    "duration": 20,
    "start_time": "2023-05-09T18:46:58.045Z"
   },
   {
    "duration": 21,
    "start_time": "2023-05-09T18:47:40.195Z"
   },
   {
    "duration": 16009,
    "start_time": "2023-05-09T18:50:02.848Z"
   },
   {
    "duration": 15941,
    "start_time": "2023-05-09T18:51:11.377Z"
   },
   {
    "duration": 15895,
    "start_time": "2023-05-09T18:51:42.141Z"
   },
   {
    "duration": 90160,
    "start_time": "2023-05-09T18:53:01.306Z"
   },
   {
    "duration": 1036,
    "start_time": "2023-05-09T18:54:47.687Z"
   },
   {
    "duration": 58,
    "start_time": "2023-05-09T18:59:02.201Z"
   },
   {
    "duration": 1226,
    "start_time": "2023-05-09T18:59:14.622Z"
   },
   {
    "duration": 91102,
    "start_time": "2023-05-09T19:00:03.520Z"
   },
   {
    "duration": 51,
    "start_time": "2023-05-09T19:02:21.897Z"
   },
   {
    "duration": 0,
    "start_time": "2023-05-09T19:04:53.716Z"
   },
   {
    "duration": 0,
    "start_time": "2023-05-09T19:05:30.445Z"
   },
   {
    "duration": 92240,
    "start_time": "2023-05-09T19:08:35.054Z"
   },
   {
    "duration": 755,
    "start_time": "2023-05-09T19:10:34.289Z"
   },
   {
    "duration": 57,
    "start_time": "2023-05-09T19:10:52.124Z"
   },
   {
    "duration": 663,
    "start_time": "2023-05-09T19:11:18.724Z"
   },
   {
    "duration": 187,
    "start_time": "2023-05-09T19:11:35.968Z"
   },
   {
    "duration": 147,
    "start_time": "2023-05-09T19:12:06.779Z"
   },
   {
    "duration": 778,
    "start_time": "2023-05-09T19:13:06.974Z"
   },
   {
    "duration": 702,
    "start_time": "2023-05-09T19:13:52.045Z"
   },
   {
    "duration": 792,
    "start_time": "2023-05-09T19:14:35.046Z"
   },
   {
    "duration": 628,
    "start_time": "2023-05-09T19:15:32.033Z"
   },
   {
    "duration": 381,
    "start_time": "2023-05-09T19:17:10.780Z"
   },
   {
    "duration": 353,
    "start_time": "2023-05-09T19:17:48.507Z"
   },
   {
    "duration": 608,
    "start_time": "2023-05-09T19:18:07.352Z"
   },
   {
    "duration": 144,
    "start_time": "2023-05-09T19:20:03.903Z"
   },
   {
    "duration": 151,
    "start_time": "2023-05-09T19:20:39.167Z"
   },
   {
    "duration": 217,
    "start_time": "2023-05-09T19:21:43.867Z"
   },
   {
    "duration": 239,
    "start_time": "2023-05-09T19:22:17.719Z"
   },
   {
    "duration": 13,
    "start_time": "2023-05-09T19:23:25.371Z"
   },
   {
    "duration": 573,
    "start_time": "2023-05-09T19:23:35.414Z"
   },
   {
    "duration": 216,
    "start_time": "2023-05-09T19:23:42.241Z"
   },
   {
    "duration": 692,
    "start_time": "2023-05-09T19:24:04.564Z"
   },
   {
    "duration": 511,
    "start_time": "2023-05-09T19:25:08.965Z"
   },
   {
    "duration": 1241,
    "start_time": "2023-05-09T19:25:17.910Z"
   },
   {
    "duration": 1212,
    "start_time": "2023-05-09T19:25:25.840Z"
   },
   {
    "duration": 1049,
    "start_time": "2023-05-09T19:25:35.202Z"
   },
   {
    "duration": 1178,
    "start_time": "2023-05-09T19:25:41.295Z"
   },
   {
    "duration": 1173,
    "start_time": "2023-05-09T19:25:47.311Z"
   },
   {
    "duration": 1197,
    "start_time": "2023-05-09T19:25:52.850Z"
   },
   {
    "duration": 1323,
    "start_time": "2023-05-09T19:25:58.419Z"
   },
   {
    "duration": 1242,
    "start_time": "2023-05-09T19:26:05.540Z"
   },
   {
    "duration": 1190,
    "start_time": "2023-05-09T19:26:13.333Z"
   },
   {
    "duration": 1189,
    "start_time": "2023-05-09T19:26:20.875Z"
   },
   {
    "duration": 1221,
    "start_time": "2023-05-09T19:26:26.768Z"
   },
   {
    "duration": 1224,
    "start_time": "2023-05-09T19:26:32.230Z"
   },
   {
    "duration": 1311,
    "start_time": "2023-05-09T19:26:37.871Z"
   },
   {
    "duration": 528,
    "start_time": "2023-05-09T19:26:55.906Z"
   },
   {
    "duration": 501,
    "start_time": "2023-05-09T19:27:00.717Z"
   },
   {
    "duration": 88913,
    "start_time": "2023-05-09T19:27:30.149Z"
   },
   {
    "duration": 159398,
    "start_time": "2023-05-09T19:30:07.409Z"
   },
   {
    "duration": 40,
    "start_time": "2023-05-09T19:36:43.842Z"
   },
   {
    "duration": 33646,
    "start_time": "2023-05-09T19:36:51.448Z"
   },
   {
    "duration": 42,
    "start_time": "2023-05-09T19:38:21.574Z"
   },
   {
    "duration": 3451,
    "start_time": "2023-05-09T19:38:42.825Z"
   },
   {
    "duration": 1122,
    "start_time": "2023-05-09T19:38:58.319Z"
   },
   {
    "duration": 1219,
    "start_time": "2023-05-09T19:39:19.900Z"
   },
   {
    "duration": 382,
    "start_time": "2023-05-09T19:39:38.669Z"
   },
   {
    "duration": 147,
    "start_time": "2023-05-09T19:41:53.695Z"
   },
   {
    "duration": 141,
    "start_time": "2023-05-09T19:42:30.988Z"
   },
   {
    "duration": 139,
    "start_time": "2023-05-09T19:42:46.617Z"
   },
   {
    "duration": 709,
    "start_time": "2023-05-09T19:43:49.692Z"
   },
   {
    "duration": 339,
    "start_time": "2023-05-09T19:44:26.219Z"
   },
   {
    "duration": 599,
    "start_time": "2023-05-09T19:45:26.440Z"
   },
   {
    "duration": 1219,
    "start_time": "2023-05-09T19:46:15.973Z"
   },
   {
    "duration": 40,
    "start_time": "2023-05-09T19:46:17.193Z"
   },
   {
    "duration": 14,
    "start_time": "2023-05-09T19:46:17.235Z"
   },
   {
    "duration": 4,
    "start_time": "2023-05-09T19:46:17.250Z"
   },
   {
    "duration": 36,
    "start_time": "2023-05-09T19:46:17.255Z"
   },
   {
    "duration": 45,
    "start_time": "2023-05-09T19:46:17.293Z"
   },
   {
    "duration": 15,
    "start_time": "2023-05-09T19:46:17.339Z"
   },
   {
    "duration": 20,
    "start_time": "2023-05-09T19:46:17.355Z"
   },
   {
    "duration": 10,
    "start_time": "2023-05-09T19:46:17.376Z"
   },
   {
    "duration": 8,
    "start_time": "2023-05-09T19:46:17.388Z"
   },
   {
    "duration": 12,
    "start_time": "2023-05-09T19:46:17.398Z"
   },
   {
    "duration": 12,
    "start_time": "2023-05-09T19:46:17.411Z"
   },
   {
    "duration": 16,
    "start_time": "2023-05-09T19:46:17.424Z"
   },
   {
    "duration": 19,
    "start_time": "2023-05-09T19:46:17.442Z"
   },
   {
    "duration": 28,
    "start_time": "2023-05-09T19:46:17.463Z"
   },
   {
    "duration": 50,
    "start_time": "2023-05-09T19:46:17.493Z"
   },
   {
    "duration": 22,
    "start_time": "2023-05-09T19:46:17.545Z"
   },
   {
    "duration": 3,
    "start_time": "2023-05-09T19:46:17.568Z"
   },
   {
    "duration": 27,
    "start_time": "2023-05-09T19:46:17.573Z"
   },
   {
    "duration": 662,
    "start_time": "2023-05-09T19:46:17.602Z"
   },
   {
    "duration": 158,
    "start_time": "2023-05-09T19:46:18.266Z"
   },
   {
    "duration": 0,
    "start_time": "2023-05-09T19:46:18.426Z"
   },
   {
    "duration": 0,
    "start_time": "2023-05-09T19:46:18.427Z"
   },
   {
    "duration": 0,
    "start_time": "2023-05-09T19:46:18.428Z"
   },
   {
    "duration": 0,
    "start_time": "2023-05-09T19:46:18.428Z"
   },
   {
    "duration": 0,
    "start_time": "2023-05-09T19:46:18.429Z"
   },
   {
    "duration": 0,
    "start_time": "2023-05-09T19:46:18.430Z"
   },
   {
    "duration": 0,
    "start_time": "2023-05-09T19:46:18.431Z"
   },
   {
    "duration": 0,
    "start_time": "2023-05-09T19:46:18.432Z"
   },
   {
    "duration": 0,
    "start_time": "2023-05-09T19:46:18.433Z"
   },
   {
    "duration": 0,
    "start_time": "2023-05-09T19:46:18.434Z"
   },
   {
    "duration": 0,
    "start_time": "2023-05-09T19:46:18.434Z"
   },
   {
    "duration": 0,
    "start_time": "2023-05-09T19:46:18.435Z"
   },
   {
    "duration": 0,
    "start_time": "2023-05-09T19:46:18.436Z"
   },
   {
    "duration": 0,
    "start_time": "2023-05-09T19:46:18.437Z"
   },
   {
    "duration": 15916,
    "start_time": "2023-05-09T19:50:06.920Z"
   },
   {
    "duration": 16034,
    "start_time": "2023-05-09T19:51:03.402Z"
   },
   {
    "duration": 920,
    "start_time": "2023-05-09T19:51:38.837Z"
   },
   {
    "duration": 873,
    "start_time": "2023-05-09T19:51:51.171Z"
   },
   {
    "duration": 33,
    "start_time": "2023-05-09T19:51:57.584Z"
   },
   {
    "duration": 36,
    "start_time": "2023-05-09T19:52:33.612Z"
   },
   {
    "duration": 39,
    "start_time": "2023-05-09T19:53:13.384Z"
   },
   {
    "duration": 178,
    "start_time": "2023-05-09T19:53:49.208Z"
   },
   {
    "duration": 741,
    "start_time": "2023-05-09T19:53:55.071Z"
   },
   {
    "duration": 775,
    "start_time": "2023-05-09T19:54:03.466Z"
   },
   {
    "duration": 787,
    "start_time": "2023-05-09T19:54:10.328Z"
   },
   {
    "duration": 16179,
    "start_time": "2023-05-09T19:54:21.898Z"
   },
   {
    "duration": 6162,
    "start_time": "2023-05-09T19:54:46.702Z"
   },
   {
    "duration": 6649,
    "start_time": "2023-05-09T19:55:04.437Z"
   },
   {
    "duration": 685,
    "start_time": "2023-05-09T19:55:25.079Z"
   },
   {
    "duration": 100,
    "start_time": "2023-05-09T19:55:43.673Z"
   },
   {
    "duration": 338,
    "start_time": "2023-05-09T19:56:16.822Z"
   },
   {
    "duration": 13,
    "start_time": "2023-05-09T19:56:24.575Z"
   },
   {
    "duration": 148,
    "start_time": "2023-05-09T19:56:29.473Z"
   },
   {
    "duration": 1141,
    "start_time": "2023-05-09T19:56:37.417Z"
   },
   {
    "duration": 1408,
    "start_time": "2023-05-09T19:56:57.604Z"
   },
   {
    "duration": 441,
    "start_time": "2023-05-09T19:57:07.487Z"
   },
   {
    "duration": 13,
    "start_time": "2023-05-09T19:57:10.568Z"
   },
   {
    "duration": 126,
    "start_time": "2023-05-09T19:57:12.974Z"
   },
   {
    "duration": 368,
    "start_time": "2023-05-09T19:57:17.972Z"
   },
   {
    "duration": 380,
    "start_time": "2023-05-09T19:57:26.276Z"
   },
   {
    "duration": 323,
    "start_time": "2023-05-09T19:57:30.161Z"
   },
   {
    "duration": 40,
    "start_time": "2023-05-09T19:57:35.607Z"
   },
   {
    "duration": 2,
    "start_time": "2023-05-09T19:57:44.576Z"
   },
   {
    "duration": 633,
    "start_time": "2023-05-09T19:57:46.907Z"
   },
   {
    "duration": 617,
    "start_time": "2023-05-09T19:57:57.071Z"
   },
   {
    "duration": 548,
    "start_time": "2023-05-09T19:58:02.939Z"
   },
   {
    "duration": 118,
    "start_time": "2023-05-09T20:03:02.199Z"
   },
   {
    "duration": 60,
    "start_time": "2023-05-09T20:04:19.988Z"
   },
   {
    "duration": 91,
    "start_time": "2023-05-09T20:04:24.112Z"
   },
   {
    "duration": 9,
    "start_time": "2023-05-09T20:06:20.918Z"
   },
   {
    "duration": 2063,
    "start_time": "2023-05-09T20:06:25.094Z"
   },
   {
    "duration": 76,
    "start_time": "2023-05-09T20:06:32.184Z"
   },
   {
    "duration": 6739,
    "start_time": "2023-05-09T20:07:22.518Z"
   },
   {
    "duration": 79,
    "start_time": "2023-05-09T20:07:51.534Z"
   },
   {
    "duration": 94,
    "start_time": "2023-05-09T20:08:15.902Z"
   },
   {
    "duration": 163,
    "start_time": "2023-05-09T20:08:41.889Z"
   },
   {
    "duration": 87,
    "start_time": "2023-05-09T20:08:51.453Z"
   },
   {
    "duration": 110,
    "start_time": "2023-05-09T20:09:12.305Z"
   },
   {
    "duration": 101,
    "start_time": "2023-05-09T20:09:19.065Z"
   },
   {
    "duration": 125,
    "start_time": "2023-05-09T20:09:46.194Z"
   },
   {
    "duration": 126,
    "start_time": "2023-05-09T20:09:51.526Z"
   },
   {
    "duration": 700,
    "start_time": "2023-05-09T20:10:33.001Z"
   },
   {
    "duration": 98,
    "start_time": "2023-05-09T20:11:07.351Z"
   },
   {
    "duration": 58,
    "start_time": "2023-05-09T20:13:28.112Z"
   },
   {
    "duration": 132,
    "start_time": "2023-05-09T20:30:06.568Z"
   },
   {
    "duration": 24,
    "start_time": "2023-05-09T20:32:54.860Z"
   },
   {
    "duration": 142,
    "start_time": "2023-05-09T20:37:15.144Z"
   },
   {
    "duration": 1179,
    "start_time": "2023-05-09T20:37:41.006Z"
   },
   {
    "duration": 361,
    "start_time": "2023-05-09T20:38:03.597Z"
   },
   {
    "duration": 11,
    "start_time": "2023-05-09T20:38:11.240Z"
   },
   {
    "duration": 113,
    "start_time": "2023-05-09T20:38:37.420Z"
   },
   {
    "duration": 305,
    "start_time": "2023-05-09T20:39:19.668Z"
   },
   {
    "duration": 68,
    "start_time": "2023-05-09T20:42:17.278Z"
   },
   {
    "duration": 5,
    "start_time": "2023-05-09T20:43:05.718Z"
   },
   {
    "duration": 38,
    "start_time": "2023-05-09T20:43:06.695Z"
   },
   {
    "duration": 12,
    "start_time": "2023-05-09T20:43:07.589Z"
   },
   {
    "duration": 4,
    "start_time": "2023-05-09T20:43:09.209Z"
   },
   {
    "duration": 10,
    "start_time": "2023-05-09T20:43:10.540Z"
   },
   {
    "duration": 10,
    "start_time": "2023-05-09T20:43:11.282Z"
   },
   {
    "duration": 7,
    "start_time": "2023-05-09T20:43:12.538Z"
   },
   {
    "duration": 12,
    "start_time": "2023-05-09T20:43:13.265Z"
   },
   {
    "duration": 15,
    "start_time": "2023-05-09T20:43:21.236Z"
   },
   {
    "duration": 17,
    "start_time": "2023-05-09T20:43:25.082Z"
   },
   {
    "duration": 9,
    "start_time": "2023-05-09T20:43:25.493Z"
   },
   {
    "duration": 88,
    "start_time": "2023-05-09T20:43:28.709Z"
   },
   {
    "duration": 771,
    "start_time": "2023-05-09T20:43:30.071Z"
   },
   {
    "duration": 0,
    "start_time": "2023-05-09T20:43:30.844Z"
   },
   {
    "duration": 4,
    "start_time": "2023-05-09T20:43:32.310Z"
   },
   {
    "duration": 3,
    "start_time": "2023-05-09T20:43:33.007Z"
   },
   {
    "duration": 10,
    "start_time": "2023-05-09T20:43:34.625Z"
   },
   {
    "duration": 6,
    "start_time": "2023-05-09T20:43:35.287Z"
   },
   {
    "duration": 5,
    "start_time": "2023-05-09T20:43:36.075Z"
   },
   {
    "duration": 5,
    "start_time": "2023-05-09T20:43:37.034Z"
   },
   {
    "duration": 8,
    "start_time": "2023-05-09T20:43:41.299Z"
   },
   {
    "duration": 6,
    "start_time": "2023-05-09T20:43:41.920Z"
   },
   {
    "duration": 6,
    "start_time": "2023-05-09T20:43:42.484Z"
   },
   {
    "duration": 3,
    "start_time": "2023-05-09T20:43:44.803Z"
   },
   {
    "duration": 22,
    "start_time": "2023-05-09T20:43:45.409Z"
   },
   {
    "duration": 707,
    "start_time": "2023-05-09T20:43:48.533Z"
   },
   {
    "duration": 6443,
    "start_time": "2023-05-09T20:44:00.679Z"
   },
   {
    "duration": 1043,
    "start_time": "2023-05-09T20:44:10.643Z"
   },
   {
    "duration": 99,
    "start_time": "2023-05-09T20:44:15.473Z"
   },
   {
    "duration": 99,
    "start_time": "2023-05-09T20:44:16.365Z"
   },
   {
    "duration": 82,
    "start_time": "2023-05-09T20:44:17.066Z"
   },
   {
    "duration": 134,
    "start_time": "2023-05-09T20:44:21.284Z"
   },
   {
    "duration": 700,
    "start_time": "2023-05-09T20:44:24.052Z"
   },
   {
    "duration": 304,
    "start_time": "2023-05-09T20:44:28.809Z"
   },
   {
    "duration": 18,
    "start_time": "2023-05-09T20:44:31.131Z"
   },
   {
    "duration": 166,
    "start_time": "2023-05-09T20:44:31.582Z"
   },
   {
    "duration": 1182,
    "start_time": "2023-05-09T20:44:32.042Z"
   },
   {
    "duration": 414,
    "start_time": "2023-05-09T20:44:33.226Z"
   },
   {
    "duration": 12,
    "start_time": "2023-05-09T20:44:33.641Z"
   },
   {
    "duration": 181,
    "start_time": "2023-05-09T20:44:33.827Z"
   },
   {
    "duration": 441,
    "start_time": "2023-05-09T20:44:34.263Z"
   },
   {
    "duration": 386,
    "start_time": "2023-05-09T20:44:34.736Z"
   },
   {
    "duration": 548,
    "start_time": "2023-05-09T20:44:39.289Z"
   },
   {
    "duration": 649,
    "start_time": "2023-05-09T20:48:34.754Z"
   },
   {
    "duration": 1352,
    "start_time": "2023-05-09T20:49:44.078Z"
   },
   {
    "duration": 39,
    "start_time": "2023-05-09T20:49:45.434Z"
   },
   {
    "duration": 15,
    "start_time": "2023-05-09T20:49:45.475Z"
   },
   {
    "duration": 13,
    "start_time": "2023-05-09T20:49:45.492Z"
   },
   {
    "duration": 29,
    "start_time": "2023-05-09T20:49:45.506Z"
   },
   {
    "duration": 15,
    "start_time": "2023-05-09T20:49:45.537Z"
   },
   {
    "duration": 9,
    "start_time": "2023-05-09T20:49:45.554Z"
   },
   {
    "duration": 15,
    "start_time": "2023-05-09T20:49:45.565Z"
   },
   {
    "duration": 10,
    "start_time": "2023-05-09T20:49:45.582Z"
   },
   {
    "duration": 9,
    "start_time": "2023-05-09T20:49:45.594Z"
   },
   {
    "duration": 13,
    "start_time": "2023-05-09T20:49:45.605Z"
   },
   {
    "duration": 10,
    "start_time": "2023-05-09T20:49:45.619Z"
   },
   {
    "duration": 4,
    "start_time": "2023-05-09T20:49:45.631Z"
   },
   {
    "duration": 7,
    "start_time": "2023-05-09T20:49:45.637Z"
   },
   {
    "duration": 27,
    "start_time": "2023-05-09T20:49:45.645Z"
   },
   {
    "duration": 6,
    "start_time": "2023-05-09T20:49:45.673Z"
   },
   {
    "duration": 23,
    "start_time": "2023-05-09T20:49:45.680Z"
   },
   {
    "duration": 9,
    "start_time": "2023-05-09T20:49:45.704Z"
   },
   {
    "duration": 33,
    "start_time": "2023-05-09T20:49:45.715Z"
   },
   {
    "duration": 775,
    "start_time": "2023-05-09T20:49:45.750Z"
   },
   {
    "duration": 6347,
    "start_time": "2023-05-09T20:49:46.527Z"
   },
   {
    "duration": 1402,
    "start_time": "2023-05-09T20:49:52.876Z"
   },
   {
    "duration": 108,
    "start_time": "2023-05-09T20:49:54.279Z"
   },
   {
    "duration": 137,
    "start_time": "2023-05-09T20:49:54.389Z"
   },
   {
    "duration": 162,
    "start_time": "2023-05-09T20:49:54.528Z"
   },
   {
    "duration": 185,
    "start_time": "2023-05-09T20:49:54.692Z"
   },
   {
    "duration": 679,
    "start_time": "2023-05-09T20:49:54.878Z"
   },
   {
    "duration": 364,
    "start_time": "2023-05-09T20:49:55.558Z"
   },
   {
    "duration": 15,
    "start_time": "2023-05-09T20:49:55.926Z"
   },
   {
    "duration": 195,
    "start_time": "2023-05-09T20:49:55.943Z"
   },
   {
    "duration": 1208,
    "start_time": "2023-05-09T20:49:56.141Z"
   },
   {
    "duration": 403,
    "start_time": "2023-05-09T20:49:57.350Z"
   },
   {
    "duration": 23,
    "start_time": "2023-05-09T20:49:57.755Z"
   },
   {
    "duration": 151,
    "start_time": "2023-05-09T20:49:57.780Z"
   },
   {
    "duration": 369,
    "start_time": "2023-05-09T20:49:57.933Z"
   },
   {
    "duration": 370,
    "start_time": "2023-05-09T20:49:58.304Z"
   },
   {
    "duration": 674,
    "start_time": "2023-05-09T20:49:58.676Z"
   },
   {
    "duration": 1929,
    "start_time": "2023-05-10T12:53:02.783Z"
   },
   {
    "duration": 78,
    "start_time": "2023-05-10T12:53:04.715Z"
   },
   {
    "duration": 20,
    "start_time": "2023-05-10T12:53:04.796Z"
   },
   {
    "duration": 4,
    "start_time": "2023-05-10T12:53:04.818Z"
   },
   {
    "duration": 14,
    "start_time": "2023-05-10T12:53:04.824Z"
   },
   {
    "duration": 15,
    "start_time": "2023-05-10T12:53:04.840Z"
   },
   {
    "duration": 37,
    "start_time": "2023-05-10T12:53:04.857Z"
   },
   {
    "duration": 14,
    "start_time": "2023-05-10T12:53:04.895Z"
   },
   {
    "duration": 7,
    "start_time": "2023-05-10T12:53:04.910Z"
   },
   {
    "duration": 5,
    "start_time": "2023-05-10T12:53:04.919Z"
   },
   {
    "duration": 17,
    "start_time": "2023-05-10T12:53:04.926Z"
   },
   {
    "duration": 24,
    "start_time": "2023-05-10T12:53:04.945Z"
   },
   {
    "duration": 24,
    "start_time": "2023-05-10T12:53:04.971Z"
   },
   {
    "duration": 21,
    "start_time": "2023-05-10T12:53:04.998Z"
   },
   {
    "duration": 15,
    "start_time": "2023-05-10T12:53:05.020Z"
   },
   {
    "duration": 18,
    "start_time": "2023-05-10T12:53:05.037Z"
   },
   {
    "duration": 27,
    "start_time": "2023-05-10T12:53:05.057Z"
   },
   {
    "duration": 21,
    "start_time": "2023-05-10T12:53:05.085Z"
   },
   {
    "duration": 45,
    "start_time": "2023-05-10T12:53:05.108Z"
   },
   {
    "duration": 15,
    "start_time": "2023-05-10T12:53:18.281Z"
   },
   {
    "duration": 635,
    "start_time": "2023-05-10T12:53:33.689Z"
   },
   {
    "duration": 841,
    "start_time": "2023-05-10T12:54:04.186Z"
   },
   {
    "duration": 49,
    "start_time": "2023-05-10T14:11:03.201Z"
   },
   {
    "duration": 1740,
    "start_time": "2023-05-10T14:11:11.548Z"
   },
   {
    "duration": 183,
    "start_time": "2023-05-10T14:11:15.240Z"
   },
   {
    "duration": 17,
    "start_time": "2023-05-10T14:11:16.990Z"
   },
   {
    "duration": 4,
    "start_time": "2023-05-10T14:11:19.120Z"
   },
   {
    "duration": 10,
    "start_time": "2023-05-10T14:11:20.207Z"
   },
   {
    "duration": 13,
    "start_time": "2023-05-10T14:11:21.087Z"
   },
   {
    "duration": 9,
    "start_time": "2023-05-10T14:11:23.474Z"
   },
   {
    "duration": 12,
    "start_time": "2023-05-10T14:11:24.093Z"
   },
   {
    "duration": 4,
    "start_time": "2023-05-10T14:11:31.637Z"
   },
   {
    "duration": 4,
    "start_time": "2023-05-10T14:11:32.424Z"
   },
   {
    "duration": 12,
    "start_time": "2023-05-10T14:11:35.022Z"
   },
   {
    "duration": 8,
    "start_time": "2023-05-10T14:11:35.762Z"
   },
   {
    "duration": 3,
    "start_time": "2023-05-10T14:11:39.852Z"
   },
   {
    "duration": 10,
    "start_time": "2023-05-10T14:11:42.893Z"
   },
   {
    "duration": 103,
    "start_time": "2023-05-10T14:11:56.706Z"
   },
   {
    "duration": 9,
    "start_time": "2023-05-10T14:12:02.987Z"
   },
   {
    "duration": 47,
    "start_time": "2023-05-10T14:12:30.572Z"
   },
   {
    "duration": 16,
    "start_time": "2023-05-10T14:12:31.073Z"
   },
   {
    "duration": 4,
    "start_time": "2023-05-10T14:12:32.275Z"
   },
   {
    "duration": 10,
    "start_time": "2023-05-10T14:12:32.605Z"
   },
   {
    "duration": 14,
    "start_time": "2023-05-10T14:12:33.035Z"
   },
   {
    "duration": 8,
    "start_time": "2023-05-10T14:12:33.920Z"
   },
   {
    "duration": 25,
    "start_time": "2023-05-10T14:12:34.442Z"
   },
   {
    "duration": 4,
    "start_time": "2023-05-10T14:12:36.113Z"
   },
   {
    "duration": 2,
    "start_time": "2023-05-10T14:12:36.723Z"
   },
   {
    "duration": 10,
    "start_time": "2023-05-10T14:12:38.300Z"
   },
   {
    "duration": 6,
    "start_time": "2023-05-10T14:12:38.943Z"
   },
   {
    "duration": 3,
    "start_time": "2023-05-10T14:12:39.733Z"
   },
   {
    "duration": 7,
    "start_time": "2023-05-10T14:12:41.810Z"
   },
   {
    "duration": 7,
    "start_time": "2023-05-10T14:12:43.218Z"
   },
   {
    "duration": 113,
    "start_time": "2023-05-10T14:13:29.183Z"
   },
   {
    "duration": 7,
    "start_time": "2023-05-10T14:13:34.931Z"
   },
   {
    "duration": 4,
    "start_time": "2023-05-10T14:13:36.552Z"
   },
   {
    "duration": 5,
    "start_time": "2023-05-10T14:13:39.435Z"
   },
   {
    "duration": 6,
    "start_time": "2023-05-10T14:13:40.431Z"
   },
   {
    "duration": 8,
    "start_time": "2023-05-10T14:13:41.297Z"
   },
   {
    "duration": 2,
    "start_time": "2023-05-10T14:13:50.852Z"
   },
   {
    "duration": 24,
    "start_time": "2023-05-10T14:13:53.247Z"
   },
   {
    "duration": 693,
    "start_time": "2023-05-10T14:14:05.208Z"
   },
   {
    "duration": 3206,
    "start_time": "2023-05-10T14:14:37.932Z"
   },
   {
    "duration": 4,
    "start_time": "2023-05-10T15:30:31.308Z"
   },
   {
    "duration": 3,
    "start_time": "2023-05-10T15:32:03.833Z"
   },
   {
    "duration": 15,
    "start_time": "2023-05-10T15:33:26.958Z"
   },
   {
    "duration": 3,
    "start_time": "2023-05-10T15:33:31.878Z"
   },
   {
    "duration": 39,
    "start_time": "2023-05-10T15:33:32.820Z"
   },
   {
    "duration": 13,
    "start_time": "2023-05-10T15:33:33.296Z"
   },
   {
    "duration": 4,
    "start_time": "2023-05-10T15:33:34.414Z"
   },
   {
    "duration": 11,
    "start_time": "2023-05-10T15:33:34.613Z"
   },
   {
    "duration": 14,
    "start_time": "2023-05-10T15:33:34.799Z"
   },
   {
    "duration": 2,
    "start_time": "2023-05-10T15:33:35.289Z"
   },
   {
    "duration": 13,
    "start_time": "2023-05-10T15:33:35.729Z"
   },
   {
    "duration": 4,
    "start_time": "2023-05-10T15:33:37.504Z"
   },
   {
    "duration": 3,
    "start_time": "2023-05-10T15:33:37.924Z"
   },
   {
    "duration": 10,
    "start_time": "2023-05-10T15:33:39.384Z"
   },
   {
    "duration": 7,
    "start_time": "2023-05-10T15:33:39.964Z"
   },
   {
    "duration": 3,
    "start_time": "2023-05-10T15:33:40.677Z"
   },
   {
    "duration": 6,
    "start_time": "2023-05-10T15:33:42.194Z"
   },
   {
    "duration": 6,
    "start_time": "2023-05-10T15:33:43.901Z"
   },
   {
    "duration": 5,
    "start_time": "2023-05-10T15:33:44.539Z"
   },
   {
    "duration": 6,
    "start_time": "2023-05-10T15:33:46.662Z"
   },
   {
    "duration": 5,
    "start_time": "2023-05-10T15:33:47.146Z"
   },
   {
    "duration": 7,
    "start_time": "2023-05-10T15:33:47.924Z"
   },
   {
    "duration": 6,
    "start_time": "2023-05-10T15:33:50.941Z"
   },
   {
    "duration": 20,
    "start_time": "2023-05-10T15:34:37.698Z"
   },
   {
    "duration": 4,
    "start_time": "2023-05-10T15:35:26.788Z"
   },
   {
    "duration": 41,
    "start_time": "2023-05-10T15:35:27.664Z"
   },
   {
    "duration": 12,
    "start_time": "2023-05-10T15:35:27.946Z"
   },
   {
    "duration": 5,
    "start_time": "2023-05-10T15:35:28.441Z"
   },
   {
    "duration": 11,
    "start_time": "2023-05-10T15:35:28.607Z"
   },
   {
    "duration": 11,
    "start_time": "2023-05-10T15:35:28.781Z"
   },
   {
    "duration": 2,
    "start_time": "2023-05-10T15:35:29.263Z"
   },
   {
    "duration": 12,
    "start_time": "2023-05-10T15:35:29.529Z"
   },
   {
    "duration": 3,
    "start_time": "2023-05-10T15:35:30.369Z"
   },
   {
    "duration": 4,
    "start_time": "2023-05-10T15:35:30.566Z"
   },
   {
    "duration": 12,
    "start_time": "2023-05-10T15:35:31.326Z"
   },
   {
    "duration": 7,
    "start_time": "2023-05-10T15:35:31.648Z"
   },
   {
    "duration": 3,
    "start_time": "2023-05-10T15:35:31.982Z"
   },
   {
    "duration": 7,
    "start_time": "2023-05-10T15:35:32.946Z"
   },
   {
    "duration": 8,
    "start_time": "2023-05-10T15:35:33.980Z"
   },
   {
    "duration": 6,
    "start_time": "2023-05-10T15:35:34.496Z"
   },
   {
    "duration": 6,
    "start_time": "2023-05-10T15:35:36.322Z"
   },
   {
    "duration": 6,
    "start_time": "2023-05-10T15:35:36.758Z"
   },
   {
    "duration": 6,
    "start_time": "2023-05-10T15:35:37.306Z"
   },
   {
    "duration": 19,
    "start_time": "2023-05-10T15:35:39.973Z"
   },
   {
    "duration": 21,
    "start_time": "2023-05-10T15:37:37.022Z"
   },
   {
    "duration": 25,
    "start_time": "2023-05-10T15:38:54.894Z"
   },
   {
    "duration": 19,
    "start_time": "2023-05-10T15:43:25.748Z"
   },
   {
    "duration": 27,
    "start_time": "2023-05-10T15:51:57.054Z"
   },
   {
    "duration": 4,
    "start_time": "2023-05-10T15:52:28.911Z"
   },
   {
    "duration": 40,
    "start_time": "2023-05-10T15:52:29.699Z"
   },
   {
    "duration": 11,
    "start_time": "2023-05-10T15:52:29.919Z"
   },
   {
    "duration": 5,
    "start_time": "2023-05-10T15:52:30.710Z"
   },
   {
    "duration": 11,
    "start_time": "2023-05-10T15:52:30.887Z"
   },
   {
    "duration": 12,
    "start_time": "2023-05-10T15:52:31.078Z"
   },
   {
    "duration": 8,
    "start_time": "2023-05-10T15:52:31.478Z"
   },
   {
    "duration": 12,
    "start_time": "2023-05-10T15:52:31.724Z"
   },
   {
    "duration": 4,
    "start_time": "2023-05-10T15:52:32.349Z"
   },
   {
    "duration": 3,
    "start_time": "2023-05-10T15:52:32.690Z"
   },
   {
    "duration": 10,
    "start_time": "2023-05-10T15:52:33.301Z"
   },
   {
    "duration": 7,
    "start_time": "2023-05-10T15:52:33.514Z"
   },
   {
    "duration": 2,
    "start_time": "2023-05-10T15:52:33.772Z"
   },
   {
    "duration": 7,
    "start_time": "2023-05-10T15:52:34.297Z"
   },
   {
    "duration": 6,
    "start_time": "2023-05-10T15:52:35.058Z"
   },
   {
    "duration": 4,
    "start_time": "2023-05-10T15:52:35.457Z"
   },
   {
    "duration": 5,
    "start_time": "2023-05-10T15:52:36.143Z"
   },
   {
    "duration": 5,
    "start_time": "2023-05-10T15:52:36.369Z"
   },
   {
    "duration": 6,
    "start_time": "2023-05-10T15:52:36.774Z"
   },
   {
    "duration": 2,
    "start_time": "2023-05-10T15:52:39.986Z"
   },
   {
    "duration": 23,
    "start_time": "2023-05-10T15:52:41.185Z"
   },
   {
    "duration": 748,
    "start_time": "2023-05-10T15:52:44.388Z"
   },
   {
    "duration": 6756,
    "start_time": "2023-05-10T15:52:49.881Z"
   },
   {
    "duration": 30322,
    "start_time": "2023-05-10T15:54:04.517Z"
   },
   {
    "duration": 691,
    "start_time": "2023-05-10T15:55:12.965Z"
   },
   {
    "duration": 709,
    "start_time": "2023-05-10T15:55:43.158Z"
   },
   {
    "duration": 31111,
    "start_time": "2023-05-10T15:55:47.289Z"
   },
   {
    "duration": 3,
    "start_time": "2023-05-10T16:10:36.514Z"
   },
   {
    "duration": 11,
    "start_time": "2023-05-10T16:11:41.457Z"
   },
   {
    "duration": 11,
    "start_time": "2023-05-10T16:12:25.112Z"
   },
   {
    "duration": 845,
    "start_time": "2023-05-10T16:12:31.073Z"
   },
   {
    "duration": 975,
    "start_time": "2023-05-10T16:14:21.879Z"
   },
   {
    "duration": 41264,
    "start_time": "2023-05-10T16:15:42.573Z"
   },
   {
    "duration": 1121,
    "start_time": "2023-05-10T16:16:57.136Z"
   },
   {
    "duration": 12,
    "start_time": "2023-05-10T16:18:49.928Z"
   },
   {
    "duration": 11,
    "start_time": "2023-05-10T16:18:55.622Z"
   },
   {
    "duration": 397,
    "start_time": "2023-05-10T16:18:57.678Z"
   },
   {
    "duration": 18452,
    "start_time": "2023-05-10T16:19:52.052Z"
   },
   {
    "duration": 1880,
    "start_time": "2023-05-10T16:20:46.571Z"
   },
   {
    "duration": 28,
    "start_time": "2023-05-10T16:24:23.381Z"
   },
   {
    "duration": 30899,
    "start_time": "2023-05-10T16:25:31.473Z"
   },
   {
    "duration": 63,
    "start_time": "2023-05-10T17:20:50.753Z"
   },
   {
    "duration": 70,
    "start_time": "2023-05-10T17:21:23.478Z"
   },
   {
    "duration": 72,
    "start_time": "2023-05-10T17:21:39.970Z"
   },
   {
    "duration": 168,
    "start_time": "2023-05-10T17:23:44.772Z"
   },
   {
    "duration": 1571,
    "start_time": "2023-05-10T17:25:00.936Z"
   },
   {
    "duration": 43,
    "start_time": "2023-05-10T17:25:02.508Z"
   },
   {
    "duration": 30,
    "start_time": "2023-05-10T17:25:02.552Z"
   },
   {
    "duration": 46,
    "start_time": "2023-05-10T17:25:02.584Z"
   },
   {
    "duration": 40,
    "start_time": "2023-05-10T17:25:02.632Z"
   },
   {
    "duration": 60,
    "start_time": "2023-05-10T17:25:02.674Z"
   },
   {
    "duration": 80,
    "start_time": "2023-05-10T17:25:02.736Z"
   },
   {
    "duration": 38,
    "start_time": "2023-05-10T17:25:02.818Z"
   },
   {
    "duration": 51,
    "start_time": "2023-05-10T17:25:02.858Z"
   },
   {
    "duration": 65,
    "start_time": "2023-05-10T17:25:02.911Z"
   },
   {
    "duration": 52,
    "start_time": "2023-05-10T17:25:02.978Z"
   },
   {
    "duration": 36,
    "start_time": "2023-05-10T17:25:03.032Z"
   },
   {
    "duration": 57,
    "start_time": "2023-05-10T17:25:03.070Z"
   },
   {
    "duration": 63,
    "start_time": "2023-05-10T17:25:03.130Z"
   },
   {
    "duration": 48,
    "start_time": "2023-05-10T17:25:03.195Z"
   },
   {
    "duration": 32,
    "start_time": "2023-05-10T17:25:03.244Z"
   },
   {
    "duration": 40,
    "start_time": "2023-05-10T17:25:03.278Z"
   },
   {
    "duration": 39,
    "start_time": "2023-05-10T17:25:03.320Z"
   },
   {
    "duration": 63,
    "start_time": "2023-05-10T17:25:03.360Z"
   },
   {
    "duration": 51,
    "start_time": "2023-05-10T17:25:03.425Z"
   },
   {
    "duration": 61,
    "start_time": "2023-05-10T17:25:03.477Z"
   },
   {
    "duration": 721,
    "start_time": "2023-05-10T17:25:03.539Z"
   },
   {
    "duration": 30615,
    "start_time": "2023-05-10T17:25:04.261Z"
   },
   {
    "duration": 1046,
    "start_time": "2023-05-10T17:25:34.878Z"
   },
   {
    "duration": 111,
    "start_time": "2023-05-10T17:25:35.925Z"
   },
   {
    "duration": 151,
    "start_time": "2023-05-10T17:25:36.038Z"
   },
   {
    "duration": 99,
    "start_time": "2023-05-10T17:25:36.190Z"
   },
   {
    "duration": 699,
    "start_time": "2023-05-10T17:25:36.291Z"
   },
   {
    "duration": 30629,
    "start_time": "2023-05-10T17:25:36.992Z"
   },
   {
    "duration": 1195,
    "start_time": "2023-05-10T17:26:07.623Z"
   },
   {
    "duration": 4,
    "start_time": "2023-05-10T17:26:08.819Z"
   },
   {
    "duration": 27,
    "start_time": "2023-05-10T17:26:08.825Z"
   },
   {
    "duration": 854,
    "start_time": "2023-05-10T17:26:08.854Z"
   },
   {
    "duration": 40251,
    "start_time": "2023-05-10T17:26:09.709Z"
   },
   {
    "duration": 1259,
    "start_time": "2023-05-10T17:26:49.961Z"
   },
   {
    "duration": 10,
    "start_time": "2023-05-10T17:26:51.221Z"
   },
   {
    "duration": 399,
    "start_time": "2023-05-10T17:26:51.233Z"
   },
   {
    "duration": 18534,
    "start_time": "2023-05-10T17:26:51.633Z"
   },
   {
    "duration": 832,
    "start_time": "2023-05-10T17:27:10.169Z"
   },
   {
    "duration": 30618,
    "start_time": "2023-05-10T17:27:11.003Z"
   }
  ],
  "kernelspec": {
   "display_name": "Python 3 (ipykernel)",
   "language": "python",
   "name": "python3"
  },
  "language_info": {
   "codemirror_mode": {
    "name": "ipython",
    "version": 3
   },
   "file_extension": ".py",
   "mimetype": "text/x-python",
   "name": "python",
   "nbconvert_exporter": "python",
   "pygments_lexer": "ipython3",
   "version": "3.10.9"
  },
  "toc": {
   "base_numbering": 1,
   "nav_menu": {},
   "number_sections": true,
   "sideBar": true,
   "skip_h1_title": true,
   "title_cell": "Содержание",
   "title_sidebar": "Contents",
   "toc_cell": true,
   "toc_position": {
    "height": "calc(100% - 180px)",
    "left": "10px",
    "top": "150px",
    "width": "165px"
   },
   "toc_section_display": true,
   "toc_window_display": false
  }
 },
 "nbformat": 4,
 "nbformat_minor": 2
}

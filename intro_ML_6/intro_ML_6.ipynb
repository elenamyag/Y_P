{
 "cells": [
  {
   "cell_type": "markdown",
   "metadata": {},
   "source": [
    "# Рекомендация тарифов"
   ]
  },
  {
   "cell_type": "markdown",
   "metadata": {},
   "source": [
    "**Описание проекта**\n",
    "\n",
    "Оператор мобильной связи «Мегалайн» выяснил: многие клиенты пользуются архивными тарифами. Они хотят построить систему, способную проанализировать поведение клиентов и предложить пользователям новый тариф: «Смарт» или «Ультра».\n",
    "\n",
    "В вашем распоряжении данные о поведении клиентов, которые уже перешли на эти тарифы (из проекта курса «Статистический анализ данных»). Нужно построить модель для задачи классификации, которая выберет подходящий тариф. Предобработка данных не понадобится — вы её уже сделали.\n",
    "\n",
    "Постройте модель с максимально большим значением accuracy. Чтобы сдать проект успешно, нужно довести долю правильных ответов по крайней мере до 0.75. Проверьте accuracy на тестовой выборке самостоятельно.\n"
   ]
  },
  {
   "cell_type": "markdown",
   "metadata": {},
   "source": [
    "## Откройте и изучите файл"
   ]
  },
  {
   "cell_type": "code",
   "execution_count": 1,
   "metadata": {},
   "outputs": [],
   "source": [
    "import pandas as pd\n",
    "from sklearn.model_selection import train_test_split\n",
    "from sklearn.tree import DecisionTreeClassifier\n",
    "from sklearn.metrics import accuracy_score\n",
    "from sklearn.ensemble import RandomForestClassifier \n",
    "from sklearn.linear_model import LogisticRegression \n",
    "from sklearn.dummy import DummyClassifier"
   ]
  },
  {
   "cell_type": "code",
   "execution_count": 2,
   "metadata": {},
   "outputs": [],
   "source": [
    "data = pd.read_csv('/datasets/users_behavior.csv')"
   ]
  },
  {
   "cell_type": "code",
   "execution_count": 3,
   "metadata": {},
   "outputs": [
    {
     "data": {
      "text/html": [
       "<div>\n",
       "<style scoped>\n",
       "    .dataframe tbody tr th:only-of-type {\n",
       "        vertical-align: middle;\n",
       "    }\n",
       "\n",
       "    .dataframe tbody tr th {\n",
       "        vertical-align: top;\n",
       "    }\n",
       "\n",
       "    .dataframe thead th {\n",
       "        text-align: right;\n",
       "    }\n",
       "</style>\n",
       "<table border=\"1\" class=\"dataframe\">\n",
       "  <thead>\n",
       "    <tr style=\"text-align: right;\">\n",
       "      <th></th>\n",
       "      <th>calls</th>\n",
       "      <th>minutes</th>\n",
       "      <th>messages</th>\n",
       "      <th>mb_used</th>\n",
       "      <th>is_ultra</th>\n",
       "    </tr>\n",
       "  </thead>\n",
       "  <tbody>\n",
       "    <tr>\n",
       "      <th>0</th>\n",
       "      <td>40.0</td>\n",
       "      <td>311.90</td>\n",
       "      <td>83.0</td>\n",
       "      <td>19915.42</td>\n",
       "      <td>0</td>\n",
       "    </tr>\n",
       "    <tr>\n",
       "      <th>1</th>\n",
       "      <td>85.0</td>\n",
       "      <td>516.75</td>\n",
       "      <td>56.0</td>\n",
       "      <td>22696.96</td>\n",
       "      <td>0</td>\n",
       "    </tr>\n",
       "    <tr>\n",
       "      <th>2</th>\n",
       "      <td>77.0</td>\n",
       "      <td>467.66</td>\n",
       "      <td>86.0</td>\n",
       "      <td>21060.45</td>\n",
       "      <td>0</td>\n",
       "    </tr>\n",
       "    <tr>\n",
       "      <th>3</th>\n",
       "      <td>106.0</td>\n",
       "      <td>745.53</td>\n",
       "      <td>81.0</td>\n",
       "      <td>8437.39</td>\n",
       "      <td>1</td>\n",
       "    </tr>\n",
       "    <tr>\n",
       "      <th>4</th>\n",
       "      <td>66.0</td>\n",
       "      <td>418.74</td>\n",
       "      <td>1.0</td>\n",
       "      <td>14502.75</td>\n",
       "      <td>0</td>\n",
       "    </tr>\n",
       "    <tr>\n",
       "      <th>5</th>\n",
       "      <td>58.0</td>\n",
       "      <td>344.56</td>\n",
       "      <td>21.0</td>\n",
       "      <td>15823.37</td>\n",
       "      <td>0</td>\n",
       "    </tr>\n",
       "    <tr>\n",
       "      <th>6</th>\n",
       "      <td>57.0</td>\n",
       "      <td>431.64</td>\n",
       "      <td>20.0</td>\n",
       "      <td>3738.90</td>\n",
       "      <td>1</td>\n",
       "    </tr>\n",
       "    <tr>\n",
       "      <th>7</th>\n",
       "      <td>15.0</td>\n",
       "      <td>132.40</td>\n",
       "      <td>6.0</td>\n",
       "      <td>21911.60</td>\n",
       "      <td>0</td>\n",
       "    </tr>\n",
       "    <tr>\n",
       "      <th>8</th>\n",
       "      <td>7.0</td>\n",
       "      <td>43.39</td>\n",
       "      <td>3.0</td>\n",
       "      <td>2538.67</td>\n",
       "      <td>1</td>\n",
       "    </tr>\n",
       "    <tr>\n",
       "      <th>9</th>\n",
       "      <td>90.0</td>\n",
       "      <td>665.41</td>\n",
       "      <td>38.0</td>\n",
       "      <td>17358.61</td>\n",
       "      <td>0</td>\n",
       "    </tr>\n",
       "  </tbody>\n",
       "</table>\n",
       "</div>"
      ],
      "text/plain": [
       "   calls  minutes  messages   mb_used  is_ultra\n",
       "0   40.0   311.90      83.0  19915.42         0\n",
       "1   85.0   516.75      56.0  22696.96         0\n",
       "2   77.0   467.66      86.0  21060.45         0\n",
       "3  106.0   745.53      81.0   8437.39         1\n",
       "4   66.0   418.74       1.0  14502.75         0\n",
       "5   58.0   344.56      21.0  15823.37         0\n",
       "6   57.0   431.64      20.0   3738.90         1\n",
       "7   15.0   132.40       6.0  21911.60         0\n",
       "8    7.0    43.39       3.0   2538.67         1\n",
       "9   90.0   665.41      38.0  17358.61         0"
      ]
     },
     "execution_count": 3,
     "metadata": {},
     "output_type": "execute_result"
    }
   ],
   "source": [
    "data.head(10)"
   ]
  },
  {
   "cell_type": "code",
   "execution_count": 4,
   "metadata": {},
   "outputs": [
    {
     "name": "stdout",
     "output_type": "stream",
     "text": [
      "<class 'pandas.core.frame.DataFrame'>\n",
      "RangeIndex: 3214 entries, 0 to 3213\n",
      "Data columns (total 5 columns):\n",
      " #   Column    Non-Null Count  Dtype  \n",
      "---  ------    --------------  -----  \n",
      " 0   calls     3214 non-null   float64\n",
      " 1   minutes   3214 non-null   float64\n",
      " 2   messages  3214 non-null   float64\n",
      " 3   mb_used   3214 non-null   float64\n",
      " 4   is_ultra  3214 non-null   int64  \n",
      "dtypes: float64(4), int64(1)\n",
      "memory usage: 125.7 KB\n"
     ]
    }
   ],
   "source": [
    "data.info()"
   ]
  },
  {
   "cell_type": "code",
   "execution_count": 5,
   "metadata": {},
   "outputs": [],
   "source": [
    "data['calls'] = data['calls'].astype(int)\n",
    "data['messages'] = data['messages'].astype(int)"
   ]
  },
  {
   "cell_type": "code",
   "execution_count": 6,
   "metadata": {},
   "outputs": [
    {
     "data": {
      "text/plain": [
       "calls       0\n",
       "minutes     0\n",
       "messages    0\n",
       "mb_used     0\n",
       "is_ultra    0\n",
       "dtype: int64"
      ]
     },
     "execution_count": 6,
     "metadata": {},
     "output_type": "execute_result"
    }
   ],
   "source": [
    "data.isna().sum()"
   ]
  },
  {
   "cell_type": "code",
   "execution_count": 7,
   "metadata": {},
   "outputs": [
    {
     "data": {
      "text/plain": [
       "0"
      ]
     },
     "execution_count": 7,
     "metadata": {},
     "output_type": "execute_result"
    }
   ],
   "source": [
    "data.duplicated().sum()"
   ]
  },
  {
   "cell_type": "markdown",
   "metadata": {},
   "source": [
    "**Вывод по 1 пункту**: \n",
    "- в таблице нет пропусков;\n",
    "- в столбцах **calls**, **messages** изменила тип данных;\n",
    "- явных дубликатов нет."
   ]
  },
  {
   "cell_type": "markdown",
   "metadata": {},
   "source": [
    "<div class=\"alert-success\"> \n",
    "<b>Комментарий ревьюера 👍</b>\n",
    "\n",
    "Хороший первичный анализ данных"
   ]
  },
  {
   "cell_type": "markdown",
   "metadata": {},
   "source": [
    "## Разбейте данные на выборки"
   ]
  },
  {
   "cell_type": "markdown",
   "metadata": {},
   "source": [
    "Разобьем сначала на два набора: признаки (**features**) и целевой признак (**target**)."
   ]
  },
  {
   "cell_type": "code",
   "execution_count": 8,
   "metadata": {},
   "outputs": [],
   "source": [
    "features = data.drop(['is_ultra'], axis=1)\n",
    "target = data['is_ultra']"
   ]
  },
  {
   "cell_type": "markdown",
   "metadata": {},
   "source": [
    "Далее разобьем каждый набор на обучащую, валидационную и тестовую выборку в соотношении 60:20:20."
   ]
  },
  {
   "cell_type": "code",
   "execution_count": 9,
   "metadata": {},
   "outputs": [],
   "source": [
    "features_train,features_valid_test,target_train, target_valid_test = train_test_split(features, target, test_size=0.4, random_state=12345)"
   ]
  },
  {
   "cell_type": "code",
   "execution_count": 10,
   "metadata": {},
   "outputs": [],
   "source": [
    "features_test, features_valid, target_test, target_valid= train_test_split(features_valid_test, target_valid_test, test_size=0.5, random_state=12345)"
   ]
  },
  {
   "cell_type": "code",
   "execution_count": 11,
   "metadata": {},
   "outputs": [
    {
     "name": "stdout",
     "output_type": "stream",
     "text": [
      "Исходная выборка: размер features - (3214, 4) , размер target - (3214,)\n",
      "Обучающая выборка: размер features- (1928, 4) , размер target - (1928,)\n",
      "Валидационная выборка: размер features- (643, 4) , размер target- (643,)\n",
      "Тестовая выборка: размер features- (643, 4) , размер target- (643,)\n"
     ]
    }
   ],
   "source": [
    "print('Исходная выборка:','размер features -', features.shape,',', 'размер target -', target.shape)\n",
    "print('Обучающая выборка:','размер features-', features_train.shape,',', 'размер target -', target_train.shape)\n",
    "print('Валидационная выборка:', 'размер features-', features_valid.shape,',', 'размер target-', target_valid.shape)\n",
    "print('Тестовая выборка:','размер features-', features_test.shape,',', 'размер target-', target_test.shape)\n"
   ]
  },
  {
   "cell_type": "markdown",
   "metadata": {},
   "source": [
    "<div class=\"alert-success\"> \n",
    "<b>Комментарий ревьюера 👍</b>\n",
    "\n",
    "Выборки разделены верно, здорово, что проверены их размеры"
   ]
  },
  {
   "cell_type": "markdown",
   "metadata": {},
   "source": [
    "## Исследуйте модели"
   ]
  },
  {
   "cell_type": "markdown",
   "metadata": {},
   "source": [
    "Расcмотрим три модели с различными гиперпараметрами: \n",
    "   - DecisionTreeClassifier;\n",
    "   - DecisionTreeClassifier;\n",
    "   - LogisticRegression."
   ]
  },
  {
   "cell_type": "markdown",
   "metadata": {},
   "source": [
    "**DecisionTreeClassifier**"
   ]
  },
  {
   "cell_type": "code",
   "execution_count": 12,
   "metadata": {},
   "outputs": [
    {
     "name": "stdout",
     "output_type": "stream",
     "text": [
      "Accuracy лучшей модели на валидационной выборке: 0.8009331259720062\n",
      "Глубина лучшей модели на валидационной выборке: 8\n",
      "Лучшая функция качества модели на валидационной выборке: entropy\n",
      "Лучшее минимальное количество примеров для разделения: 2\n"
     ]
    }
   ],
   "source": [
    "best_depth_decision_tree_classifier = 0\n",
    "best_accuracy_decision_tree_classifier = 0.75\n",
    "best_split = 0\n",
    "best_criterion = None\n",
    "list_criterion = ['gini', 'entropy']\n",
    "\n",
    "for crit in list_criterion:\n",
    "    for split in range(2,10):\n",
    "        for depth in range(1, 11):\n",
    "            model_decision_tree_classifier = DecisionTreeClassifier(criterion=crit,min_samples_split=split, random_state=12345, max_depth = depth)\n",
    "            model_decision_tree_classifier.fit(features_train, target_train);\n",
    "            prediction_decision_tree_classifier = model_decision_tree_classifier.predict(features_valid)\n",
    "            accuracy_decision_tree_classifier = accuracy_score(target_valid, prediction_decision_tree_classifier)\n",
    "    \n",
    "            if accuracy_decision_tree_classifier > best_accuracy_decision_tree_classifier:\n",
    "                model_best_decision_tree_classifier = model_decision_tree_classifier\n",
    "                best_accuracy_decision_tree_classifier = accuracy_decision_tree_classifier;\n",
    "                best_depth_decision_tree_classifier = depth\n",
    "                best_criterion = crit\n",
    "                best_split = split\n",
    "\n",
    "print(f'Accuracy лучшей модели на валидационной выборке: {best_accuracy_decision_tree_classifier}')\n",
    "print(f'Глубина лучшей модели на валидационной выборке: {best_depth_decision_tree_classifier}')\n",
    "print(f'Лучшая функция качества модели на валидационной выборке: {best_criterion}')\n",
    "print(f'Лучшее минимальное количество примеров для разделения: {best_split}')\n",
    "    "
   ]
  },
  {
   "cell_type": "markdown",
   "metadata": {},
   "source": [
    "**RandomForestClassifier**"
   ]
  },
  {
   "cell_type": "code",
   "execution_count": 13,
   "metadata": {
    "scrolled": false
   },
   "outputs": [
    {
     "name": "stdout",
     "output_type": "stream",
     "text": [
      "Accuracy лучшей модели на валидационной выборке: 0.8242612752721618\n",
      "Количество деревьев лучшей модели на валидационной выборке: 17\n",
      "Глубина лучшей модели на валидационной выборке: 9\n",
      "Лучшая функция качества модели на валидационной выборке: entropy\n",
      "Лучшее число признаков для выбора расщепления: log2\n"
     ]
    }
   ],
   "source": [
    "best_accuracy_random_forest_classifier = 0.75\n",
    "best_est_random_forest_classifier = 0\n",
    "best_depth_random_forest_classifier = 0\n",
    "best_max_features_random_forest_classifier = None\n",
    "best_crit_random_forest_classifier = None\n",
    "list_max_features = ['sqrt', 'log2']    \n",
    "\n",
    "for mf in list_max_features:\n",
    "    for crit in list_criterion:\n",
    "        for est in range(1,20):\n",
    "    \n",
    "            for depth in range(1,11):\n",
    "                model_random_forest_classifier = RandomForestClassifier(criterion=crit, random_state=12345, n_estimators=est, max_depth=depth, max_features = mf) \n",
    "                model_random_forest_classifier.fit(features_train, target_train);\n",
    "                prediction_random_forest_classifier = model_random_forest_classifier.predict(features_valid)\n",
    "                accuracy_random_forest_classifier = accuracy_score(target_valid,prediction_random_forest_classifier)\n",
    "        \n",
    "                if accuracy_random_forest_classifier >= best_accuracy_random_forest_classifier:\n",
    "                    model_best_random_forest_classifier = model_random_forest_classifier\n",
    "                    best_accuracy_random_forest_classifier = accuracy_random_forest_classifier;\n",
    "                    best_est_random_forest_classifier = est\n",
    "                    best_depth_random_forest_classifier = depth\n",
    "                    best_crit_random_forest_classifier = crit\n",
    "                    best_max_features_random_forest_classifier = mf\n",
    "\n",
    "            \n",
    "print(f'Accuracy лучшей модели на валидационной выборке: {best_accuracy_random_forest_classifier}')\n",
    "print(f'Количество деревьев лучшей модели на валидационной выборке: {best_est_random_forest_classifier}')\n",
    "print(f'Глубина лучшей модели на валидационной выборке: {best_depth_random_forest_classifier}')\n",
    "print(f'Лучшая функция качества модели на валидационной выборке: {best_crit_random_forest_classifier}')\n",
    "print(f'Лучшее число признаков для выбора расщепления: {best_max_features_random_forest_classifier}')"
   ]
  },
  {
   "cell_type": "markdown",
   "metadata": {},
   "source": [
    "**LogisticRegression**"
   ]
  },
  {
   "cell_type": "code",
   "execution_count": 23,
   "metadata": {},
   "outputs": [
    {
     "name": "stderr",
     "output_type": "stream",
     "text": [
      "/opt/conda/lib/python3.9/site-packages/scipy/optimize/_linesearch.py:456: LineSearchWarning: The line search algorithm did not converge\n",
      "  warn('The line search algorithm did not converge', LineSearchWarning)\n",
      "/opt/conda/lib/python3.9/site-packages/scipy/optimize/_linesearch.py:305: LineSearchWarning: The line search algorithm did not converge\n",
      "  warn('The line search algorithm did not converge', LineSearchWarning)\n",
      "/opt/conda/lib/python3.9/site-packages/scipy/optimize/_linesearch.py:456: LineSearchWarning: The line search algorithm did not converge\n",
      "  warn('The line search algorithm did not converge', LineSearchWarning)\n",
      "/opt/conda/lib/python3.9/site-packages/scipy/optimize/_linesearch.py:305: LineSearchWarning: The line search algorithm did not converge\n",
      "  warn('The line search algorithm did not converge', LineSearchWarning)\n",
      "/opt/conda/lib/python3.9/site-packages/scipy/optimize/_linesearch.py:456: LineSearchWarning: The line search algorithm did not converge\n",
      "  warn('The line search algorithm did not converge', LineSearchWarning)\n",
      "/opt/conda/lib/python3.9/site-packages/scipy/optimize/_linesearch.py:305: LineSearchWarning: The line search algorithm did not converge\n",
      "  warn('The line search algorithm did not converge', LineSearchWarning)\n",
      "/opt/conda/lib/python3.9/site-packages/scipy/optimize/_linesearch.py:305: LineSearchWarning: The line search algorithm did not converge\n",
      "  warn('The line search algorithm did not converge', LineSearchWarning)\n",
      "/opt/conda/lib/python3.9/site-packages/sklearn/utils/optimize.py:195: UserWarning: Line Search failed\n",
      "  warnings.warn('Line Search failed')\n"
     ]
    },
    {
     "name": "stdout",
     "output_type": "stream",
     "text": [
      "Accuracy лучшей модели на валидационной выборке: 0.6842923794712286\n",
      "Лучшей алгоритм для оптимизиции: newton-cg\n"
     ]
    },
    {
     "name": "stderr",
     "output_type": "stream",
     "text": [
      "/opt/conda/lib/python3.9/site-packages/sklearn/linear_model/_sag.py:328: ConvergenceWarning: The max_iter was reached which means the coef_ did not converge\n",
      "  warnings.warn(\"The max_iter was reached which means \"\n"
     ]
    }
   ],
   "source": [
    "solvers = ['lbfgs', 'liblinear', 'newton-cg',  'sag'];\n",
    "best_accuracy_lr = 0\n",
    "best_solver=None\n",
    "best_lr_model= None\n",
    "for solv in solvers:\n",
    "    model_logistic_regression = LogisticRegression( random_state=12345, solver=solv, max_iter=1000);\n",
    "    model_logistic_regression.fit(features_train, target_train);\n",
    "    prediction_logistic_regression = model_logistic_regression.predict(features_valid)\n",
    "    accuracy_prediction_logistic_regression = accuracy_score(target_valid,prediction_logistic_regression)\n",
    "    if accuracy_prediction_logistic_regression > best_accuracy_lr:\n",
    "        best_lr_model =  model_logistic_regression\n",
    "        best_solver = solv\n",
    "        best_accuracy_lr = accuracy_prediction_logistic_regression\n",
    "           \n",
    "print(f'Accuracy лучшей модели на валидационной выборке: {accuracy_prediction_logistic_regression}')\n",
    "print(f'Лучшей алгоритм для оптимизиции: {best_solver}')\n"
   ]
  },
  {
   "cell_type": "markdown",
   "metadata": {},
   "source": [
    "**Вывод по 3 пункту**: \n",
    "- самое высокое качество **accuracy = 0.824261** обучения показала модель **RandomForestClassifier** c гипперпараметрами: **max_depth = 9** (глубина дерева),  **n_estimators = 17** (количестово деревьев), **criterion = entropy**, **max_features** = log2\n",
    "- самое низкое качество показала модель **LogisticRegression**."
   ]
  },
  {
   "cell_type": "markdown",
   "metadata": {},
   "source": [
    "## Проверьте модель на тестовой выборке"
   ]
  },
  {
   "cell_type": "code",
   "execution_count": 15,
   "metadata": {},
   "outputs": [
    {
     "name": "stdout",
     "output_type": "stream",
     "text": [
      "Accuracy  DecisionTreeClassifier на тестовой выборке: 0.7776049766718507\n"
     ]
    }
   ],
   "source": [
    "accuracy_tree_test = model_best_decision_tree_classifier.score(features_test, target_test)\n",
    "print(f'Accuracy  DecisionTreeClassifier на тестовой выборке: {accuracy_tree_test}')"
   ]
  },
  {
   "cell_type": "code",
   "execution_count": 16,
   "metadata": {},
   "outputs": [
    {
     "name": "stdout",
     "output_type": "stream",
     "text": [
      "Accuracy DecisionTreeClassifier на тестовой выборке: 0.8055987558320373\n"
     ]
    }
   ],
   "source": [
    "accuracy_forest_test = model_best_random_forest_classifier.score(features_test, target_test)\n",
    "print(f'Accuracy DecisionTreeClassifier на тестовой выборке: {accuracy_forest_test}')"
   ]
  },
  {
   "cell_type": "code",
   "execution_count": 17,
   "metadata": {},
   "outputs": [
    {
     "name": "stdout",
     "output_type": "stream",
     "text": [
      "Accuracy DecisionTreeClassifier на тестовой выборке: 0.7045101088646968\n"
     ]
    }
   ],
   "source": [
    "accuracy_logistic_test = model_logistic_regression.score(features_test, target_test)\n",
    "print(f'Accuracy DecisionTreeClassifier на тестовой выборке: {accuracy_logistic_test}')"
   ]
  },
  {
   "cell_type": "code",
   "execution_count": 18,
   "metadata": {},
   "outputs": [],
   "source": [
    "accuracy = max(accuracy_tree_test,accuracy_forest_test, accuracy_logistic_test)"
   ]
  },
  {
   "cell_type": "markdown",
   "metadata": {},
   "source": [
    "<div class=\"alert-success\"> \n",
    "<b>Комментарий ревьюера 👍 </b>\n",
    "\n",
    "Модели проверены на тесте"
   ]
  },
  {
   "cell_type": "markdown",
   "metadata": {},
   "source": [
    "## (бонус) Проверьте модели на адекватность"
   ]
  },
  {
   "cell_type": "code",
   "execution_count": 19,
   "metadata": {},
   "outputs": [
    {
     "name": "stdout",
     "output_type": "stream",
     "text": [
      "Accuracy DummyClassifier: 0.7060653188180405\n",
      "Accuracy нашего прогноза 0.8055987558320373\n"
     ]
    }
   ],
   "source": [
    "dummy_model = DummyClassifier(strategy=\"most_frequent\")\n",
    "dummy_model.fit(features_train, target_train)\n",
    "dummy_valid_accuracy = dummy_model.score(features_valid, target_valid)\n",
    "dummy_test_accuracy = dummy_model.score(features_test, target_test)\n",
    "print(f'Accuracy DummyClassifier: {dummy_test_accuracy}')\n",
    "print(f'Accuracy нашего прогноза {accuracy}')"
   ]
  },
  {
   "cell_type": "code",
   "execution_count": 20,
   "metadata": {},
   "outputs": [
    {
     "name": "stdout",
     "output_type": "stream",
     "text": [
      "Accuracy DummyClassifier: 0.47900466562986005\n",
      "Accuracy нашего прогноза 0.8055987558320373\n"
     ]
    }
   ],
   "source": [
    "dummy_model = DummyClassifier(strategy=\"uniform\")\n",
    "dummy_model.fit(features_train, target_train)\n",
    "dummy_valid_accuracy = dummy_model.score(features_valid, target_valid)\n",
    "dummy_test_accuracy = dummy_model.score(features_test, target_test)\n",
    "print(f'Accuracy DummyClassifier: {dummy_test_accuracy}')\n",
    "print(f'Accuracy нашего прогноза {accuracy}')"
   ]
  },
  {
   "cell_type": "code",
   "execution_count": 21,
   "metadata": {},
   "outputs": [
    {
     "name": "stdout",
     "output_type": "stream",
     "text": [
      "Accuracy DummyClassifier: 0.5443234836702955\n",
      "Accuracy нашего прогноза 0.8055987558320373\n"
     ]
    }
   ],
   "source": [
    "dummy_model = DummyClassifier(strategy=\"stratified\")\n",
    "dummy_model.fit(features_train, target_train)\n",
    "dummy_valid_accuracy = dummy_model.score(features_valid, target_valid)\n",
    "dummy_test_accuracy = dummy_model.score(features_test, target_test)\n",
    "print(f'Accuracy DummyClassifier: {dummy_test_accuracy}')\n",
    "print(f'Accuracy нашего прогноза {accuracy}')"
   ]
  },
  {
   "cell_type": "markdown",
   "metadata": {},
   "source": [
    "## Вывод\n",
    "Было проверено три модели: \n",
    "- **DecisionTreeClassifier**(Дерево решений), \n",
    "- **RandomForestClassifier** (Случайный лес), \n",
    "- **LogisticRegression**(Логическая регрессия). \n",
    "\n",
    "Cамый высокий показатель **accuracy = 0.824261** обучения показала модель **RandomForestClassifier** c гипперпараметрами: **max_depth = 9** (глубина дерева),  **n_estimators = 17** (количестово деревьев), **criterion = entropy** (функция измерения качества разделения), **max_features** = log2 (число признаков для выбора расщепления)."
   ]
  }
 ],
 "metadata": {
  "ExecuteTimeLog": [
   {
    "duration": 434,
    "start_time": "2023-04-22T09:10:24.263Z"
   },
   {
    "duration": 113,
    "start_time": "2023-04-22T09:11:34.252Z"
   },
   {
    "duration": 12,
    "start_time": "2023-04-22T09:11:54.138Z"
   },
   {
    "duration": 28,
    "start_time": "2023-04-22T09:12:08.771Z"
   },
   {
    "duration": 7,
    "start_time": "2023-04-22T09:12:25.704Z"
   },
   {
    "duration": 8,
    "start_time": "2023-04-22T09:12:36.969Z"
   },
   {
    "duration": 8,
    "start_time": "2023-04-22T09:12:44.836Z"
   },
   {
    "duration": 6,
    "start_time": "2023-04-22T09:15:20.673Z"
   },
   {
    "duration": 73,
    "start_time": "2023-04-22T09:16:13.268Z"
   },
   {
    "duration": 9,
    "start_time": "2023-04-22T09:16:22.935Z"
   },
   {
    "duration": 7,
    "start_time": "2023-04-22T09:16:42.397Z"
   },
   {
    "duration": 8,
    "start_time": "2023-04-22T09:16:50.440Z"
   },
   {
    "duration": 7,
    "start_time": "2023-04-22T09:17:56.907Z"
   },
   {
    "duration": 6,
    "start_time": "2023-04-22T09:22:33.317Z"
   },
   {
    "duration": 7,
    "start_time": "2023-04-22T09:22:38.036Z"
   },
   {
    "duration": 665,
    "start_time": "2023-04-22T09:22:57.089Z"
   },
   {
    "duration": 5,
    "start_time": "2023-04-22T09:23:02.232Z"
   },
   {
    "duration": 4,
    "start_time": "2023-04-22T09:25:09.521Z"
   },
   {
    "duration": 24,
    "start_time": "2023-04-22T09:26:41.073Z"
   },
   {
    "duration": 51,
    "start_time": "2023-04-22T09:27:19.380Z"
   },
   {
    "duration": 10,
    "start_time": "2023-04-22T09:27:32.344Z"
   },
   {
    "duration": 5,
    "start_time": "2023-04-22T09:28:13.164Z"
   },
   {
    "duration": 41,
    "start_time": "2023-04-22T09:30:58.138Z"
   },
   {
    "duration": 3,
    "start_time": "2023-04-22T09:31:04.465Z"
   },
   {
    "duration": 4,
    "start_time": "2023-04-22T09:38:09.428Z"
   },
   {
    "duration": 3,
    "start_time": "2023-04-22T09:38:27.828Z"
   },
   {
    "duration": 12,
    "start_time": "2023-04-22T09:40:00.779Z"
   },
   {
    "duration": 17,
    "start_time": "2023-04-22T09:43:03.294Z"
   },
   {
    "duration": 8,
    "start_time": "2023-04-22T09:43:30.112Z"
   },
   {
    "duration": 5,
    "start_time": "2023-04-22T09:43:40.847Z"
   },
   {
    "duration": 5,
    "start_time": "2023-04-22T09:45:20.168Z"
   },
   {
    "duration": 20,
    "start_time": "2023-04-22T09:48:03.520Z"
   },
   {
    "duration": 11,
    "start_time": "2023-04-22T09:48:24.922Z"
   },
   {
    "duration": 5,
    "start_time": "2023-04-22T09:48:46.114Z"
   },
   {
    "duration": 6,
    "start_time": "2023-04-22T09:48:46.918Z"
   },
   {
    "duration": 6,
    "start_time": "2023-04-22T09:49:17.676Z"
   },
   {
    "duration": 5,
    "start_time": "2023-04-22T09:49:38.096Z"
   },
   {
    "duration": 6,
    "start_time": "2023-04-22T09:49:54.113Z"
   },
   {
    "duration": 5,
    "start_time": "2023-04-22T09:51:11.859Z"
   },
   {
    "duration": 8,
    "start_time": "2023-04-22T09:52:34.318Z"
   },
   {
    "duration": 8,
    "start_time": "2023-04-22T09:53:57.597Z"
   },
   {
    "duration": 5,
    "start_time": "2023-04-22T09:54:30.096Z"
   },
   {
    "duration": 5,
    "start_time": "2023-04-22T09:54:31.597Z"
   },
   {
    "duration": 6,
    "start_time": "2023-04-22T09:54:32.356Z"
   },
   {
    "duration": 16,
    "start_time": "2023-04-22T09:54:44.926Z"
   },
   {
    "duration": 12,
    "start_time": "2023-04-22T09:54:50.640Z"
   },
   {
    "duration": 18,
    "start_time": "2023-04-22T09:56:39.281Z"
   },
   {
    "duration": 4,
    "start_time": "2023-04-22T09:57:32.696Z"
   },
   {
    "duration": 17,
    "start_time": "2023-04-22T09:58:05.619Z"
   },
   {
    "duration": 20,
    "start_time": "2023-04-22T09:58:35.744Z"
   },
   {
    "duration": 17,
    "start_time": "2023-04-22T09:58:39.103Z"
   },
   {
    "duration": 10,
    "start_time": "2023-04-22T09:59:51.799Z"
   },
   {
    "duration": 22,
    "start_time": "2023-04-22T10:03:41.701Z"
   },
   {
    "duration": 3,
    "start_time": "2023-04-22T10:04:24.094Z"
   },
   {
    "duration": 27,
    "start_time": "2023-04-22T10:08:09.302Z"
   },
   {
    "duration": 23,
    "start_time": "2023-04-22T10:08:17.348Z"
   },
   {
    "duration": 26,
    "start_time": "2023-04-22T10:09:02.139Z"
   },
   {
    "duration": 64,
    "start_time": "2023-04-22T10:26:21.976Z"
   },
   {
    "duration": 70,
    "start_time": "2023-04-22T10:26:40.871Z"
   },
   {
    "duration": 29,
    "start_time": "2023-04-22T10:27:02.427Z"
   },
   {
    "duration": 29,
    "start_time": "2023-04-22T10:27:09.108Z"
   },
   {
    "duration": 37,
    "start_time": "2023-04-22T10:27:22.759Z"
   },
   {
    "duration": 40,
    "start_time": "2023-04-22T10:27:35.959Z"
   },
   {
    "duration": 65,
    "start_time": "2023-04-22T10:27:43.291Z"
   },
   {
    "duration": 121,
    "start_time": "2023-04-22T10:27:50.557Z"
   },
   {
    "duration": 72,
    "start_time": "2023-04-22T10:27:59.022Z"
   },
   {
    "duration": 154,
    "start_time": "2023-04-22T10:28:03.175Z"
   },
   {
    "duration": 52,
    "start_time": "2023-04-22T10:28:07.761Z"
   },
   {
    "duration": 59,
    "start_time": "2023-04-22T10:28:11.443Z"
   },
   {
    "duration": 34,
    "start_time": "2023-04-22T10:28:15.297Z"
   },
   {
    "duration": 50,
    "start_time": "2023-04-22T10:28:19.097Z"
   },
   {
    "duration": 48,
    "start_time": "2023-04-22T10:28:24.326Z"
   },
   {
    "duration": 43,
    "start_time": "2023-04-22T10:32:12.731Z"
   },
   {
    "duration": 3733,
    "start_time": "2023-04-22T10:34:30.063Z"
   },
   {
    "duration": 3921,
    "start_time": "2023-04-22T10:35:44.151Z"
   },
   {
    "duration": 16,
    "start_time": "2023-04-22T10:37:29.056Z"
   },
   {
    "duration": 180,
    "start_time": "2023-04-22T10:37:43.216Z"
   },
   {
    "duration": 15,
    "start_time": "2023-04-22T10:38:06.090Z"
   },
   {
    "duration": 206,
    "start_time": "2023-04-22T10:38:21.954Z"
   },
   {
    "duration": 189,
    "start_time": "2023-04-22T10:38:26.858Z"
   },
   {
    "duration": 164,
    "start_time": "2023-04-22T10:39:10.510Z"
   },
   {
    "duration": 54,
    "start_time": "2023-04-22T10:39:17.239Z"
   },
   {
    "duration": 4139,
    "start_time": "2023-04-22T10:39:18.915Z"
   },
   {
    "duration": 196,
    "start_time": "2023-04-22T10:39:23.056Z"
   },
   {
    "duration": 27,
    "start_time": "2023-04-22T10:39:43.197Z"
   },
   {
    "duration": 43,
    "start_time": "2023-04-22T10:43:01.708Z"
   },
   {
    "duration": 66,
    "start_time": "2023-04-22T10:43:11.666Z"
   },
   {
    "duration": 10,
    "start_time": "2023-04-22T10:49:11.453Z"
   },
   {
    "duration": 4049,
    "start_time": "2023-04-22T10:49:16.700Z"
   },
   {
    "duration": 9,
    "start_time": "2023-04-22T10:49:22.618Z"
   },
   {
    "duration": 13,
    "start_time": "2023-04-22T10:49:32.586Z"
   },
   {
    "duration": 4,
    "start_time": "2023-04-22T10:50:47.332Z"
   },
   {
    "duration": 6,
    "start_time": "2023-04-22T10:53:52.197Z"
   },
   {
    "duration": 5,
    "start_time": "2023-04-22T10:54:10.044Z"
   },
   {
    "duration": 5,
    "start_time": "2023-04-22T10:55:44.370Z"
   },
   {
    "duration": 3,
    "start_time": "2023-04-22T10:56:17.443Z"
   },
   {
    "duration": 125036,
    "start_time": "2023-04-22T11:15:42.724Z"
   },
   {
    "duration": 32691,
    "start_time": "2023-04-22T11:18:00.705Z"
   },
   {
    "duration": 6,
    "start_time": "2023-04-22T11:27:31.534Z"
   },
   {
    "duration": 11,
    "start_time": "2023-04-22T11:29:42.934Z"
   },
   {
    "duration": 4,
    "start_time": "2023-04-22T11:30:16.251Z"
   },
   {
    "duration": 5,
    "start_time": "2023-04-22T11:30:28.909Z"
   },
   {
    "duration": 11,
    "start_time": "2023-04-22T11:30:31.193Z"
   },
   {
    "duration": 3,
    "start_time": "2023-04-22T11:45:26.347Z"
   },
   {
    "duration": 71,
    "start_time": "2023-04-22T16:42:54.539Z"
   },
   {
    "duration": 1676,
    "start_time": "2023-04-22T16:42:59.767Z"
   },
   {
    "duration": 187,
    "start_time": "2023-04-22T16:43:02.450Z"
   },
   {
    "duration": 1384,
    "start_time": "2023-04-22T16:43:08.385Z"
   },
   {
    "duration": 42,
    "start_time": "2023-04-22T16:43:09.771Z"
   },
   {
    "duration": 34,
    "start_time": "2023-04-22T16:43:09.818Z"
   },
   {
    "duration": 18,
    "start_time": "2023-04-22T16:43:09.854Z"
   },
   {
    "duration": 9,
    "start_time": "2023-04-22T16:43:09.876Z"
   },
   {
    "duration": 24,
    "start_time": "2023-04-22T16:43:09.888Z"
   },
   {
    "duration": 39,
    "start_time": "2023-04-22T16:43:09.913Z"
   },
   {
    "duration": 6,
    "start_time": "2023-04-22T16:43:09.954Z"
   },
   {
    "duration": 9,
    "start_time": "2023-04-22T16:43:09.964Z"
   },
   {
    "duration": 6,
    "start_time": "2023-04-22T16:43:09.977Z"
   },
   {
    "duration": 64,
    "start_time": "2023-04-22T16:43:09.992Z"
   },
   {
    "duration": 119,
    "start_time": "2023-04-22T16:43:10.059Z"
   },
   {
    "duration": 46688,
    "start_time": "2023-04-22T16:43:10.181Z"
   },
   {
    "duration": 33,
    "start_time": "2023-04-22T16:43:56.872Z"
   },
   {
    "duration": 17,
    "start_time": "2023-04-22T16:43:56.906Z"
   },
   {
    "duration": 15,
    "start_time": "2023-04-22T16:43:56.925Z"
   },
   {
    "duration": 15,
    "start_time": "2023-04-22T16:43:56.941Z"
   },
   {
    "duration": 86,
    "start_time": "2023-04-22T18:45:52.337Z"
   },
   {
    "duration": 81,
    "start_time": "2023-04-22T18:47:06.954Z"
   },
   {
    "duration": 79,
    "start_time": "2023-04-22T18:47:32.962Z"
   },
   {
    "duration": 76,
    "start_time": "2023-04-22T18:47:44.010Z"
   },
   {
    "duration": 83,
    "start_time": "2023-04-22T18:47:52.558Z"
   },
   {
    "duration": 83,
    "start_time": "2023-04-22T18:48:16.703Z"
   },
   {
    "duration": 79,
    "start_time": "2023-04-22T18:48:39.276Z"
   },
   {
    "duration": 43004,
    "start_time": "2023-04-22T18:50:58.382Z"
   },
   {
    "duration": 38907,
    "start_time": "2023-04-22T18:55:04.801Z"
   },
   {
    "duration": 1577,
    "start_time": "2023-04-22T18:57:24.766Z"
   },
   {
    "duration": 36,
    "start_time": "2023-04-22T18:57:26.345Z"
   },
   {
    "duration": 70,
    "start_time": "2023-04-22T18:57:26.383Z"
   },
   {
    "duration": 44,
    "start_time": "2023-04-22T18:57:26.456Z"
   },
   {
    "duration": 40,
    "start_time": "2023-04-22T18:57:26.503Z"
   },
   {
    "duration": 34,
    "start_time": "2023-04-22T18:57:26.545Z"
   },
   {
    "duration": 21,
    "start_time": "2023-04-22T18:57:26.582Z"
   },
   {
    "duration": 30,
    "start_time": "2023-04-22T18:57:26.605Z"
   },
   {
    "duration": 27,
    "start_time": "2023-04-22T18:57:26.638Z"
   },
   {
    "duration": 10,
    "start_time": "2023-04-22T18:57:26.670Z"
   },
   {
    "duration": 39,
    "start_time": "2023-04-22T18:57:26.683Z"
   },
   {
    "duration": 127,
    "start_time": "2023-04-22T18:57:26.725Z"
   },
   {
    "duration": 42403,
    "start_time": "2023-04-22T18:57:26.855Z"
   },
   {
    "duration": 46,
    "start_time": "2023-04-22T18:58:09.260Z"
   },
   {
    "duration": 200,
    "start_time": "2023-04-22T18:58:09.308Z"
   },
   {
    "duration": 0,
    "start_time": "2023-04-22T18:58:09.518Z"
   },
   {
    "duration": 0,
    "start_time": "2023-04-22T18:58:09.519Z"
   },
   {
    "duration": 8872,
    "start_time": "2023-04-22T19:01:42.220Z"
   },
   {
    "duration": 87,
    "start_time": "2023-04-22T19:02:06.345Z"
   },
   {
    "duration": 8,
    "start_time": "2023-04-22T19:02:31.601Z"
   },
   {
    "duration": 6,
    "start_time": "2023-04-22T19:02:33.402Z"
   },
   {
    "duration": 7,
    "start_time": "2023-04-22T19:02:35.262Z"
   },
   {
    "duration": 7,
    "start_time": "2023-04-22T19:02:35.935Z"
   },
   {
    "duration": 99,
    "start_time": "2023-04-22T19:02:39.607Z"
   },
   {
    "duration": 114,
    "start_time": "2023-04-22T19:02:55.302Z"
   },
   {
    "duration": 107,
    "start_time": "2023-04-22T19:03:50.394Z"
   },
   {
    "duration": 6737,
    "start_time": "2023-04-22T19:04:15.219Z"
   },
   {
    "duration": 6387,
    "start_time": "2023-04-22T19:04:33.533Z"
   },
   {
    "duration": 98,
    "start_time": "2023-04-22T19:07:32.173Z"
   },
   {
    "duration": 101,
    "start_time": "2023-04-22T19:07:37.452Z"
   },
   {
    "duration": 39,
    "start_time": "2023-04-22T19:08:08.810Z"
   },
   {
    "duration": 10,
    "start_time": "2023-04-22T19:12:13.111Z"
   },
   {
    "duration": 7,
    "start_time": "2023-04-22T19:14:42.310Z"
   },
   {
    "duration": 11,
    "start_time": "2023-04-22T19:15:48.580Z"
   },
   {
    "duration": 9,
    "start_time": "2023-04-22T19:16:39.401Z"
   },
   {
    "duration": 11,
    "start_time": "2023-04-22T19:16:40.764Z"
   },
   {
    "duration": 10,
    "start_time": "2023-04-22T19:16:47.207Z"
   },
   {
    "duration": 6,
    "start_time": "2023-04-22T19:17:28.362Z"
   },
   {
    "duration": 7,
    "start_time": "2023-04-22T19:18:59.922Z"
   },
   {
    "duration": 11,
    "start_time": "2023-04-22T19:19:29.626Z"
   },
   {
    "duration": 12,
    "start_time": "2023-04-22T19:19:52.679Z"
   },
   {
    "duration": 41,
    "start_time": "2023-04-22T19:20:09.719Z"
   },
   {
    "duration": 14,
    "start_time": "2023-04-22T19:20:12.024Z"
   },
   {
    "duration": 14,
    "start_time": "2023-04-22T19:20:13.283Z"
   },
   {
    "duration": 25,
    "start_time": "2023-04-22T19:20:16.717Z"
   },
   {
    "duration": 7,
    "start_time": "2023-04-22T19:20:47.031Z"
   },
   {
    "duration": 8,
    "start_time": "2023-04-22T19:21:10.617Z"
   },
   {
    "duration": 12,
    "start_time": "2023-04-22T19:21:11.213Z"
   },
   {
    "duration": 9,
    "start_time": "2023-04-22T19:21:12.026Z"
   },
   {
    "duration": 4,
    "start_time": "2023-04-22T19:22:29.118Z"
   },
   {
    "duration": 6,
    "start_time": "2023-04-22T19:22:38.307Z"
   },
   {
    "duration": 3,
    "start_time": "2023-04-22T19:23:00.120Z"
   },
   {
    "duration": 7,
    "start_time": "2023-04-22T19:24:34.478Z"
   },
   {
    "duration": 7,
    "start_time": "2023-04-22T19:24:36.706Z"
   },
   {
    "duration": 12,
    "start_time": "2023-04-22T19:24:59.932Z"
   },
   {
    "duration": 7,
    "start_time": "2023-04-22T19:25:16.320Z"
   },
   {
    "duration": 18,
    "start_time": "2023-04-22T19:25:32.963Z"
   },
   {
    "duration": 8,
    "start_time": "2023-04-22T19:27:35.010Z"
   },
   {
    "duration": 17,
    "start_time": "2023-04-22T19:27:50.578Z"
   },
   {
    "duration": 9,
    "start_time": "2023-04-22T19:28:25.874Z"
   },
   {
    "duration": 9,
    "start_time": "2023-04-22T19:28:36.630Z"
   },
   {
    "duration": 7,
    "start_time": "2023-04-22T19:28:38.146Z"
   },
   {
    "duration": 44,
    "start_time": "2023-04-22T19:38:39.731Z"
   },
   {
    "duration": 9,
    "start_time": "2023-04-22T19:38:43.150Z"
   },
   {
    "duration": 13,
    "start_time": "2023-04-22T19:38:43.843Z"
   },
   {
    "duration": 9,
    "start_time": "2023-04-22T19:38:44.522Z"
   },
   {
    "duration": 3,
    "start_time": "2023-04-22T19:38:45.682Z"
   },
   {
    "duration": 11,
    "start_time": "2023-04-22T19:38:51.146Z"
   },
   {
    "duration": 17,
    "start_time": "2023-04-22T19:38:51.714Z"
   },
   {
    "duration": 8,
    "start_time": "2023-04-22T19:38:52.577Z"
   },
   {
    "duration": 84,
    "start_time": "2023-04-24T11:14:14.250Z"
   },
   {
    "duration": 46,
    "start_time": "2023-04-24T11:14:19.333Z"
   },
   {
    "duration": 1158,
    "start_time": "2023-04-24T11:14:30.021Z"
   },
   {
    "duration": 64,
    "start_time": "2023-04-24T11:14:31.181Z"
   },
   {
    "duration": 18,
    "start_time": "2023-04-24T11:14:31.247Z"
   },
   {
    "duration": 11,
    "start_time": "2023-04-24T11:14:31.915Z"
   },
   {
    "duration": 5,
    "start_time": "2023-04-24T11:14:32.495Z"
   },
   {
    "duration": 9,
    "start_time": "2023-04-24T11:14:33.326Z"
   },
   {
    "duration": 9,
    "start_time": "2023-04-24T11:14:34.060Z"
   },
   {
    "duration": 4,
    "start_time": "2023-04-24T11:14:37.060Z"
   },
   {
    "duration": 9,
    "start_time": "2023-04-24T11:14:38.229Z"
   },
   {
    "duration": 5,
    "start_time": "2023-04-24T11:14:38.930Z"
   },
   {
    "duration": 7,
    "start_time": "2023-04-24T11:14:39.540Z"
   },
   {
    "duration": 208,
    "start_time": "2023-04-24T11:14:43.278Z"
   },
   {
    "duration": 145,
    "start_time": "2023-04-24T11:14:52.755Z"
   },
   {
    "duration": 136,
    "start_time": "2023-04-24T11:15:33.732Z"
   },
   {
    "duration": 1042,
    "start_time": "2023-04-24T11:17:07.018Z"
   },
   {
    "duration": 1054,
    "start_time": "2023-04-24T11:18:23.489Z"
   },
   {
    "duration": 1105,
    "start_time": "2023-04-24T11:19:00.038Z"
   },
   {
    "duration": 10797,
    "start_time": "2023-04-24T11:22:33.541Z"
   },
   {
    "duration": 22152,
    "start_time": "2023-04-24T11:28:04.906Z"
   },
   {
    "duration": 87,
    "start_time": "2023-04-24T11:32:46.130Z"
   },
   {
    "duration": 79,
    "start_time": "2023-04-24T11:32:50.861Z"
   },
   {
    "duration": 102,
    "start_time": "2023-04-24T11:33:28.380Z"
   },
   {
    "duration": 74,
    "start_time": "2023-04-24T11:33:35.284Z"
   },
   {
    "duration": 78,
    "start_time": "2023-04-24T11:33:41.509Z"
   },
   {
    "duration": 14,
    "start_time": "2023-04-24T11:33:55.285Z"
   },
   {
    "duration": 13,
    "start_time": "2023-04-24T11:34:17.975Z"
   },
   {
    "duration": 531,
    "start_time": "2023-04-24T11:34:39.033Z"
   },
   {
    "duration": 552,
    "start_time": "2023-04-24T11:34:50.044Z"
   },
   {
    "duration": 365,
    "start_time": "2023-04-24T11:35:07.926Z"
   },
   {
    "duration": 346,
    "start_time": "2023-04-24T11:35:40.783Z"
   },
   {
    "duration": 541,
    "start_time": "2023-04-24T11:35:57.004Z"
   },
   {
    "duration": 703,
    "start_time": "2023-04-24T11:37:03.245Z"
   },
   {
    "duration": 581,
    "start_time": "2023-04-24T11:37:13.994Z"
   },
   {
    "duration": 527,
    "start_time": "2023-04-24T11:37:19.152Z"
   },
   {
    "duration": 504,
    "start_time": "2023-04-24T11:37:22.622Z"
   },
   {
    "duration": 525,
    "start_time": "2023-04-24T11:37:42.276Z"
   },
   {
    "duration": 12,
    "start_time": "2023-04-24T11:40:10.754Z"
   },
   {
    "duration": 511,
    "start_time": "2023-04-24T11:40:37.163Z"
   },
   {
    "duration": 13,
    "start_time": "2023-04-24T11:40:52.640Z"
   },
   {
    "duration": 20,
    "start_time": "2023-04-24T11:41:28.766Z"
   },
   {
    "duration": 13,
    "start_time": "2023-04-24T11:42:32.591Z"
   },
   {
    "duration": 13,
    "start_time": "2023-04-24T11:42:48.788Z"
   },
   {
    "duration": 3111,
    "start_time": "2023-04-24T11:43:50.096Z"
   },
   {
    "duration": 31631,
    "start_time": "2023-04-24T11:44:10.521Z"
   },
   {
    "duration": 412,
    "start_time": "2023-04-24T11:44:48.057Z"
   },
   {
    "duration": 7,
    "start_time": "2023-04-24T11:44:57.240Z"
   },
   {
    "duration": 10,
    "start_time": "2023-04-24T11:44:59.503Z"
   },
   {
    "duration": 8,
    "start_time": "2023-04-24T11:45:00.645Z"
   },
   {
    "duration": 3,
    "start_time": "2023-04-24T11:45:04.349Z"
   },
   {
    "duration": 5,
    "start_time": "2023-04-24T11:45:16.054Z"
   },
   {
    "duration": 6,
    "start_time": "2023-04-24T11:45:17.536Z"
   },
   {
    "duration": 6,
    "start_time": "2023-04-24T11:45:20.902Z"
   },
   {
    "duration": 71,
    "start_time": "2023-05-08T20:01:52.713Z"
   },
   {
    "duration": 26,
    "start_time": "2023-05-08T20:01:58.930Z"
   },
   {
    "duration": 1694,
    "start_time": "2023-05-08T20:02:03.510Z"
   },
   {
    "duration": 61,
    "start_time": "2023-05-08T20:02:05.256Z"
   },
   {
    "duration": 19,
    "start_time": "2023-05-08T20:02:06.401Z"
   },
   {
    "duration": 11,
    "start_time": "2023-05-08T20:02:06.972Z"
   },
   {
    "duration": 6,
    "start_time": "2023-05-08T20:02:07.426Z"
   },
   {
    "duration": 7,
    "start_time": "2023-05-08T20:02:07.920Z"
   },
   {
    "duration": 8,
    "start_time": "2023-05-08T20:02:08.528Z"
   },
   {
    "duration": 5,
    "start_time": "2023-05-08T20:02:11.327Z"
   },
   {
    "duration": 7,
    "start_time": "2023-05-08T20:02:12.356Z"
   },
   {
    "duration": 6,
    "start_time": "2023-05-08T20:02:12.781Z"
   },
   {
    "duration": 5,
    "start_time": "2023-05-08T20:02:13.156Z"
   },
   {
    "duration": 2159,
    "start_time": "2023-05-08T20:02:15.930Z"
   },
   {
    "duration": 22112,
    "start_time": "2023-05-08T20:02:22.090Z"
   },
   {
    "duration": 1349,
    "start_time": "2023-10-04T09:09:18.380Z"
   },
   {
    "duration": 75,
    "start_time": "2023-10-04T09:09:19.730Z"
   },
   {
    "duration": 20,
    "start_time": "2023-10-04T09:09:19.807Z"
   },
   {
    "duration": 15,
    "start_time": "2023-10-04T09:09:19.830Z"
   },
   {
    "duration": 18,
    "start_time": "2023-10-04T09:09:19.849Z"
   },
   {
    "duration": 11,
    "start_time": "2023-10-04T09:09:19.870Z"
   },
   {
    "duration": 28,
    "start_time": "2023-10-04T09:09:19.882Z"
   },
   {
    "duration": 10,
    "start_time": "2023-10-04T09:09:19.912Z"
   },
   {
    "duration": 33,
    "start_time": "2023-10-04T09:09:19.924Z"
   },
   {
    "duration": 28,
    "start_time": "2023-10-04T09:09:19.959Z"
   },
   {
    "duration": 7,
    "start_time": "2023-10-04T09:09:19.989Z"
   },
   {
    "duration": 1207,
    "start_time": "2023-10-04T09:09:19.997Z"
   },
   {
    "duration": 23270,
    "start_time": "2023-10-04T09:09:21.206Z"
   },
   {
    "duration": 421,
    "start_time": "2023-10-04T09:09:44.479Z"
   },
   {
    "duration": 6,
    "start_time": "2023-10-04T09:09:44.902Z"
   },
   {
    "duration": 42,
    "start_time": "2023-10-04T09:09:44.909Z"
   },
   {
    "duration": 27,
    "start_time": "2023-10-04T09:09:44.953Z"
   },
   {
    "duration": 32,
    "start_time": "2023-10-04T09:09:44.981Z"
   },
   {
    "duration": 56,
    "start_time": "2023-10-04T09:09:45.015Z"
   },
   {
    "duration": 26,
    "start_time": "2023-10-04T09:09:45.072Z"
   },
   {
    "duration": 51,
    "start_time": "2023-10-04T09:09:45.100Z"
   },
   {
    "duration": 548,
    "start_time": "2023-10-04T09:10:10.548Z"
   },
   {
    "duration": 377,
    "start_time": "2023-10-04T09:10:17.024Z"
   }
  ],
  "kernelspec": {
   "display_name": "Python 3 (ipykernel)",
   "language": "python",
   "name": "python3"
  },
  "language_info": {
   "codemirror_mode": {
    "name": "ipython",
    "version": 3
   },
   "file_extension": ".py",
   "mimetype": "text/x-python",
   "name": "python",
   "nbconvert_exporter": "python",
   "pygments_lexer": "ipython3",
   "version": "3.10.9"
  },
  "toc": {
   "base_numbering": 1,
   "nav_menu": {},
   "number_sections": true,
   "sideBar": true,
   "skip_h1_title": true,
   "title_cell": "Table of Contents",
   "title_sidebar": "Contents",
   "toc_cell": false,
   "toc_position": {},
   "toc_section_display": true,
   "toc_window_display": false
  }
 },
 "nbformat": 4,
 "nbformat_minor": 2
}

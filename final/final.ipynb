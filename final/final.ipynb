{
 "cells": [
  {
   "cell_type": "markdown",
   "metadata": {},
   "source": [
    "# Финальный проект - Телекоммуникации"
   ]
  },
  {
   "cell_type": "markdown",
   "metadata": {},
   "source": [
    "Оператор связи «Ниединогоразрыва.ком» хочет научиться прогнозировать отток клиентов. Если выяснится, что пользователь планирует уйти, ему будут предложены промокоды и специальные условия. Команда оператора собрала персональные данные о некоторых клиентах, информацию об их тарифах и договорах.\n",
    "\n",
    "\n",
    "**Описание услуг**\n",
    "\n",
    "- Оператор предоставляет два основных типа услуг: \n",
    "    \n",
    "    - Стационарную телефонную связь. Возможно подключение телефонного аппарата к нескольким линиям одновременно.\n",
    "    - Интернет. Подключение может быть двух типов: через телефонную линию (DSL, от англ. digital subscriber line, «цифровая абонентская линия») или оптоволоконный кабель (Fiber optic).\n",
    "    \n",
    "\n",
    "- Также доступны такие услуги:\n",
    "\n",
    "    - Интернет-безопасность: антивирус (DeviceProtection) и блокировка небезопасных сайтов (OnlineSecurity);\n",
    "    - Выделенная линия технической поддержки (TechSupport);\n",
    "    - Облачное хранилище файлов для резервного копирования данных (OnlineBackup);\n",
    "    - Стриминговое телевидение (StreamingTV) и каталог фильмов (StreamingMovies).\n",
    "\n",
    "За услуги клиенты могут платить каждый месяц или заключить договор на 1–2 года. Доступны различные способы расчёта и возможность получения электронного чека."
   ]
  },
  {
   "cell_type": "markdown",
   "metadata": {},
   "source": [
    "**Описание данных**\n",
    "\n",
    "Данные состоят из файлов, полученных из разных источников:\n",
    "\n",
    "- contract_new.csv — информация о договоре;\n",
    "- personal_new.csv — персональные данные клиента;\n",
    "- internet_new.csv — информация об интернет-услугах;\n",
    "- phone_new.csv — информация об услугах телефонии.\n",
    "\n",
    "Во всех файлах столбец customerID содержит код клиента.\n",
    "Информация о договорах актуальна на 1 февраля 2020."
   ]
  },
  {
   "cell_type": "markdown",
   "metadata": {},
   "source": [
    "**Цель** : Получить модель машинного обучения, которая будет предсказывать отток клиентов. И на основе этих предсказаний, предпринимать какие-либо действия для удержания клиента."
   ]
  },
  {
   "cell_type": "markdown",
   "metadata": {},
   "source": [
    "*Используемые библиотеки:*"
   ]
  },
  {
   "cell_type": "code",
   "execution_count": 1,
   "metadata": {},
   "outputs": [
    {
     "name": "stdout",
     "output_type": "stream",
     "text": [
      "Collecting matplotlib==3.8.0\n",
      "  Downloading matplotlib-3.8.0-cp39-cp39-manylinux_2_17_x86_64.manylinux2014_x86_64.whl (11.6 MB)\n",
      "\u001b[K     |████████████████████████████████| 11.6 MB 1.1 MB/s eta 0:00:01\n",
      "\u001b[?25hCollecting fonttools>=4.22.0\n",
      "  Downloading fonttools-4.42.1-cp39-cp39-manylinux_2_17_x86_64.manylinux2014_x86_64.whl (4.5 MB)\n",
      "\u001b[K     |████████████████████████████████| 4.5 MB 50.8 MB/s eta 0:00:01\n",
      "\u001b[?25hRequirement already satisfied: packaging>=20.0 in /opt/conda/lib/python3.9/site-packages (from matplotlib==3.8.0) (21.3)\n",
      "Requirement already satisfied: kiwisolver>=1.0.1 in /opt/conda/lib/python3.9/site-packages (from matplotlib==3.8.0) (1.4.4)\n",
      "Collecting contourpy>=1.0.1\n",
      "  Downloading contourpy-1.1.1-cp39-cp39-manylinux_2_17_x86_64.manylinux2014_x86_64.whl (301 kB)\n",
      "\u001b[K     |████████████████████████████████| 301 kB 74.0 MB/s eta 0:00:01\n",
      "\u001b[?25hRequirement already satisfied: python-dateutil>=2.7 in /opt/conda/lib/python3.9/site-packages (from matplotlib==3.8.0) (2.8.1)\n",
      "Collecting importlib-resources>=3.2.0\n",
      "  Downloading importlib_resources-6.1.0-py3-none-any.whl (33 kB)\n",
      "Requirement already satisfied: numpy<2,>=1.21 in /opt/conda/lib/python3.9/site-packages (from matplotlib==3.8.0) (1.21.1)\n",
      "Requirement already satisfied: pyparsing>=2.3.1 in /opt/conda/lib/python3.9/site-packages (from matplotlib==3.8.0) (2.4.7)\n",
      "Requirement already satisfied: pillow>=6.2.0 in /opt/conda/lib/python3.9/site-packages (from matplotlib==3.8.0) (8.4.0)\n",
      "Requirement already satisfied: cycler>=0.10 in /opt/conda/lib/python3.9/site-packages (from matplotlib==3.8.0) (0.11.0)\n",
      "Requirement already satisfied: zipp>=3.1.0 in /opt/conda/lib/python3.9/site-packages (from importlib-resources>=3.2.0->matplotlib==3.8.0) (3.5.0)\n",
      "Requirement already satisfied: six>=1.5 in /opt/conda/lib/python3.9/site-packages (from python-dateutil>=2.7->matplotlib==3.8.0) (1.16.0)\n",
      "Installing collected packages: importlib-resources, fonttools, contourpy, matplotlib\n",
      "  Attempting uninstall: matplotlib\n",
      "    Found existing installation: matplotlib 3.3.4\n",
      "    Uninstalling matplotlib-3.3.4:\n",
      "      Successfully uninstalled matplotlib-3.3.4\n",
      "Successfully installed contourpy-1.1.1 fonttools-4.42.1 importlib-resources-6.1.0 matplotlib-3.8.0\n",
      "Note: you may need to restart the kernel to use updated packages.\n"
     ]
    }
   ],
   "source": [
    "pip install matplotlib==3.8.0"
   ]
  },
  {
   "cell_type": "code",
   "execution_count": 2,
   "metadata": {},
   "outputs": [
    {
     "name": "stdout",
     "output_type": "stream",
     "text": [
      "Collecting scikit-learn==1.3.1\n",
      "  Downloading scikit_learn-1.3.1-cp39-cp39-manylinux_2_17_x86_64.manylinux2014_x86_64.whl (10.9 MB)\n",
      "\u001b[K     |████████████████████████████████| 10.9 MB 1.0 MB/s eta 0:00:01\n",
      "\u001b[?25hRequirement already satisfied: threadpoolctl>=2.0.0 in /opt/conda/lib/python3.9/site-packages (from scikit-learn==1.3.1) (3.1.0)\n",
      "Requirement already satisfied: scipy>=1.5.0 in /opt/conda/lib/python3.9/site-packages (from scikit-learn==1.3.1) (1.9.1)\n",
      "Collecting joblib>=1.1.1\n",
      "  Downloading joblib-1.3.2-py3-none-any.whl (302 kB)\n",
      "\u001b[K     |████████████████████████████████| 302 kB 62.1 MB/s eta 0:00:01\n",
      "\u001b[?25hRequirement already satisfied: numpy<2.0,>=1.17.3 in /opt/conda/lib/python3.9/site-packages (from scikit-learn==1.3.1) (1.21.1)\n",
      "Installing collected packages: joblib, scikit-learn\n",
      "  Attempting uninstall: joblib\n",
      "    Found existing installation: joblib 1.1.0\n",
      "    Uninstalling joblib-1.1.0:\n",
      "      Successfully uninstalled joblib-1.1.0\n",
      "  Attempting uninstall: scikit-learn\n",
      "    Found existing installation: scikit-learn 0.24.1\n",
      "    Uninstalling scikit-learn-0.24.1:\n",
      "      Successfully uninstalled scikit-learn-0.24.1\n",
      "Successfully installed joblib-1.3.2 scikit-learn-1.3.1\n",
      "Note: you may need to restart the kernel to use updated packages.\n"
     ]
    }
   ],
   "source": [
    "pip install scikit-learn==1.3.1"
   ]
  },
  {
   "cell_type": "code",
   "execution_count": 3,
   "metadata": {},
   "outputs": [
    {
     "name": "stdout",
     "output_type": "stream",
     "text": [
      "Requirement already satisfied: phik in /opt/conda/lib/python3.9/site-packages (0.12.3)\n",
      "Requirement already satisfied: scipy>=1.5.2 in /opt/conda/lib/python3.9/site-packages (from phik) (1.9.1)\n",
      "Requirement already satisfied: matplotlib>=2.2.3 in /opt/conda/lib/python3.9/site-packages (from phik) (3.8.0)\n",
      "Requirement already satisfied: pandas>=0.25.1 in /opt/conda/lib/python3.9/site-packages (from phik) (1.2.4)\n",
      "Requirement already satisfied: numpy>=1.18.0 in /opt/conda/lib/python3.9/site-packages (from phik) (1.21.1)\n",
      "Requirement already satisfied: joblib>=0.14.1 in /opt/conda/lib/python3.9/site-packages (from phik) (1.3.2)\n",
      "Requirement already satisfied: cycler>=0.10 in /opt/conda/lib/python3.9/site-packages (from matplotlib>=2.2.3->phik) (0.11.0)\n",
      "Requirement already satisfied: python-dateutil>=2.7 in /opt/conda/lib/python3.9/site-packages (from matplotlib>=2.2.3->phik) (2.8.1)\n",
      "Requirement already satisfied: contourpy>=1.0.1 in /opt/conda/lib/python3.9/site-packages (from matplotlib>=2.2.3->phik) (1.1.1)\n",
      "Requirement already satisfied: pillow>=6.2.0 in /opt/conda/lib/python3.9/site-packages (from matplotlib>=2.2.3->phik) (8.4.0)\n",
      "Requirement already satisfied: importlib-resources>=3.2.0 in /opt/conda/lib/python3.9/site-packages (from matplotlib>=2.2.3->phik) (6.1.0)\n",
      "Requirement already satisfied: packaging>=20.0 in /opt/conda/lib/python3.9/site-packages (from matplotlib>=2.2.3->phik) (21.3)\n",
      "Requirement already satisfied: kiwisolver>=1.0.1 in /opt/conda/lib/python3.9/site-packages (from matplotlib>=2.2.3->phik) (1.4.4)\n",
      "Requirement already satisfied: pyparsing>=2.3.1 in /opt/conda/lib/python3.9/site-packages (from matplotlib>=2.2.3->phik) (2.4.7)\n",
      "Requirement already satisfied: fonttools>=4.22.0 in /opt/conda/lib/python3.9/site-packages (from matplotlib>=2.2.3->phik) (4.42.1)\n",
      "Requirement already satisfied: zipp>=3.1.0 in /opt/conda/lib/python3.9/site-packages (from importlib-resources>=3.2.0->matplotlib>=2.2.3->phik) (3.5.0)\n",
      "Requirement already satisfied: pytz>=2017.3 in /opt/conda/lib/python3.9/site-packages (from pandas>=0.25.1->phik) (2021.1)\n",
      "Requirement already satisfied: six>=1.5 in /opt/conda/lib/python3.9/site-packages (from python-dateutil>=2.7->matplotlib>=2.2.3->phik) (1.16.0)\n",
      "Note: you may need to restart the kernel to use updated packages.\n"
     ]
    }
   ],
   "source": [
    "pip install phik"
   ]
  },
  {
   "cell_type": "code",
   "execution_count": 4,
   "metadata": {},
   "outputs": [
    {
     "name": "stdout",
     "output_type": "stream",
     "text": [
      "Collecting optuna\n",
      "  Downloading optuna-3.3.0-py3-none-any.whl (404 kB)\n",
      "\u001b[K     |████████████████████████████████| 404 kB 1.1 MB/s eta 0:00:01\n",
      "\u001b[?25hRequirement already satisfied: PyYAML in /opt/conda/lib/python3.9/site-packages (from optuna) (6.0)\n",
      "Requirement already satisfied: numpy in /opt/conda/lib/python3.9/site-packages (from optuna) (1.21.1)\n",
      "Collecting cmaes>=0.10.0\n",
      "  Downloading cmaes-0.10.0-py3-none-any.whl (29 kB)\n",
      "Collecting colorlog\n",
      "  Downloading colorlog-6.7.0-py2.py3-none-any.whl (11 kB)\n",
      "Requirement already satisfied: tqdm in /opt/conda/lib/python3.9/site-packages (from optuna) (4.61.2)\n",
      "Requirement already satisfied: alembic>=1.5.0 in /opt/conda/lib/python3.9/site-packages (from optuna) (1.6.5)\n",
      "Requirement already satisfied: sqlalchemy>=1.3.0 in /opt/conda/lib/python3.9/site-packages (from optuna) (1.4.20)\n",
      "Requirement already satisfied: packaging>=20.0 in /opt/conda/lib/python3.9/site-packages (from optuna) (21.3)\n",
      "Requirement already satisfied: Mako in /opt/conda/lib/python3.9/site-packages (from alembic>=1.5.0->optuna) (1.1.4)\n",
      "Requirement already satisfied: python-dateutil in /opt/conda/lib/python3.9/site-packages (from alembic>=1.5.0->optuna) (2.8.1)\n",
      "Requirement already satisfied: python-editor>=0.3 in /opt/conda/lib/python3.9/site-packages (from alembic>=1.5.0->optuna) (1.0.4)\n",
      "Requirement already satisfied: pyparsing!=3.0.5,>=2.0.2 in /opt/conda/lib/python3.9/site-packages (from packaging>=20.0->optuna) (2.4.7)\n",
      "Requirement already satisfied: greenlet!=0.4.17 in /opt/conda/lib/python3.9/site-packages (from sqlalchemy>=1.3.0->optuna) (1.1.0)\n",
      "Requirement already satisfied: MarkupSafe>=0.9.2 in /opt/conda/lib/python3.9/site-packages (from Mako->alembic>=1.5.0->optuna) (2.1.1)\n",
      "Requirement already satisfied: six>=1.5 in /opt/conda/lib/python3.9/site-packages (from python-dateutil->alembic>=1.5.0->optuna) (1.16.0)\n",
      "Installing collected packages: colorlog, cmaes, optuna\n",
      "Successfully installed cmaes-0.10.0 colorlog-6.7.0 optuna-3.3.0\n",
      "Note: you may need to restart the kernel to use updated packages.\n"
     ]
    }
   ],
   "source": [
    "pip install optuna"
   ]
  },
  {
   "cell_type": "code",
   "execution_count": 5,
   "metadata": {},
   "outputs": [],
   "source": [
    "import pandas as pd\n",
    "import seaborn as sns\n",
    "import matplotlib.pyplot as plt\n",
    "import phik\n",
    "import numpy as np\n",
    "\n",
    "from sklearn.model_selection import train_test_split\n",
    "\n",
    "from sklearn.model_selection import train_test_split, cross_val_score\n",
    "\n",
    "from sklearn.preprocessing import OneHotEncoder, StandardScaler, OrdinalEncoder\n",
    "\n",
    "import optuna\n",
    "\n",
    "from sklearn.pipeline import Pipeline\n",
    "\n",
    "from sklearn.compose import ColumnTransformer\n",
    "\n",
    "from sklearn.linear_model import LogisticRegression\n",
    "from sklearn.ensemble import RandomForestClassifier\n",
    "from catboost import CatBoostClassifier\n",
    "\n",
    "from sklearn.metrics import confusion_matrix, roc_auc_score, accuracy_score, ConfusionMatrixDisplay\n"
   ]
  },
  {
   "cell_type": "code",
   "execution_count": 6,
   "metadata": {},
   "outputs": [],
   "source": [
    "pd.set_option('display.max_rows', None)\n",
    "pd.set_option('display.max_columns', None)\n",
    "pd.set_option('display.max_colwidth', None)"
   ]
  },
  {
   "cell_type": "markdown",
   "metadata": {},
   "source": [
    "## Изучение, подготовка данных"
   ]
  },
  {
   "cell_type": "code",
   "execution_count": 7,
   "metadata": {},
   "outputs": [],
   "source": [
    "try:\n",
    "    contract = pd.read_csv('contract_new.csv')\n",
    "    personal = pd.read_csv('personal_new.csv')\n",
    "    internet = pd.read_csv('internet_new.csv')\n",
    "    phone = pd.read_csv('phone_new.csv')\n",
    "except Exception:\n",
    "    contract = pd.read_csv('/datasets/contract_new.csv')\n",
    "    personal = pd.read_csv('/datasets/personal_new.csv')\n",
    "    internet = pd.read_csv('/datasets/internet_new.csv')\n",
    "    phone = pd.read_csv('/datasets/phone_new.csv')"
   ]
  },
  {
   "cell_type": "markdown",
   "metadata": {},
   "source": [
    "Рассмотрим таблицу ***contract***:"
   ]
  },
  {
   "cell_type": "code",
   "execution_count": 8,
   "metadata": {},
   "outputs": [
    {
     "data": {
      "text/plain": [
       "(7043, 8)"
      ]
     },
     "execution_count": 8,
     "metadata": {},
     "output_type": "execute_result"
    }
   ],
   "source": [
    "contract.shape"
   ]
  },
  {
   "cell_type": "code",
   "execution_count": 9,
   "metadata": {},
   "outputs": [
    {
     "data": {
      "text/html": [
       "<div>\n",
       "<style scoped>\n",
       "    .dataframe tbody tr th:only-of-type {\n",
       "        vertical-align: middle;\n",
       "    }\n",
       "\n",
       "    .dataframe tbody tr th {\n",
       "        vertical-align: top;\n",
       "    }\n",
       "\n",
       "    .dataframe thead th {\n",
       "        text-align: right;\n",
       "    }\n",
       "</style>\n",
       "<table border=\"1\" class=\"dataframe\">\n",
       "  <thead>\n",
       "    <tr style=\"text-align: right;\">\n",
       "      <th></th>\n",
       "      <th>customerID</th>\n",
       "      <th>BeginDate</th>\n",
       "      <th>EndDate</th>\n",
       "      <th>Type</th>\n",
       "      <th>PaperlessBilling</th>\n",
       "      <th>PaymentMethod</th>\n",
       "      <th>MonthlyCharges</th>\n",
       "      <th>TotalCharges</th>\n",
       "    </tr>\n",
       "  </thead>\n",
       "  <tbody>\n",
       "    <tr>\n",
       "      <th>0</th>\n",
       "      <td>7590-VHVEG</td>\n",
       "      <td>2020-01-01</td>\n",
       "      <td>No</td>\n",
       "      <td>Month-to-month</td>\n",
       "      <td>Yes</td>\n",
       "      <td>Electronic check</td>\n",
       "      <td>29.85</td>\n",
       "      <td>31.04</td>\n",
       "    </tr>\n",
       "    <tr>\n",
       "      <th>1</th>\n",
       "      <td>5575-GNVDE</td>\n",
       "      <td>2017-04-01</td>\n",
       "      <td>No</td>\n",
       "      <td>One year</td>\n",
       "      <td>No</td>\n",
       "      <td>Mailed check</td>\n",
       "      <td>56.95</td>\n",
       "      <td>2071.84</td>\n",
       "    </tr>\n",
       "    <tr>\n",
       "      <th>2</th>\n",
       "      <td>3668-QPYBK</td>\n",
       "      <td>2019-10-01</td>\n",
       "      <td>No</td>\n",
       "      <td>Month-to-month</td>\n",
       "      <td>Yes</td>\n",
       "      <td>Mailed check</td>\n",
       "      <td>53.85</td>\n",
       "      <td>226.17</td>\n",
       "    </tr>\n",
       "    <tr>\n",
       "      <th>3</th>\n",
       "      <td>7795-CFOCW</td>\n",
       "      <td>2016-05-01</td>\n",
       "      <td>No</td>\n",
       "      <td>One year</td>\n",
       "      <td>No</td>\n",
       "      <td>Bank transfer (automatic)</td>\n",
       "      <td>42.30</td>\n",
       "      <td>1960.6</td>\n",
       "    </tr>\n",
       "    <tr>\n",
       "      <th>4</th>\n",
       "      <td>9237-HQITU</td>\n",
       "      <td>2019-09-01</td>\n",
       "      <td>No</td>\n",
       "      <td>Month-to-month</td>\n",
       "      <td>Yes</td>\n",
       "      <td>Electronic check</td>\n",
       "      <td>70.70</td>\n",
       "      <td>353.5</td>\n",
       "    </tr>\n",
       "    <tr>\n",
       "      <th>5</th>\n",
       "      <td>9305-CDSKC</td>\n",
       "      <td>2019-03-01</td>\n",
       "      <td>No</td>\n",
       "      <td>Month-to-month</td>\n",
       "      <td>Yes</td>\n",
       "      <td>Electronic check</td>\n",
       "      <td>99.65</td>\n",
       "      <td>1150.96</td>\n",
       "    </tr>\n",
       "    <tr>\n",
       "      <th>6</th>\n",
       "      <td>1452-KIOVK</td>\n",
       "      <td>2018-04-01</td>\n",
       "      <td>No</td>\n",
       "      <td>Month-to-month</td>\n",
       "      <td>Yes</td>\n",
       "      <td>Credit card (automatic)</td>\n",
       "      <td>89.10</td>\n",
       "      <td>2058.21</td>\n",
       "    </tr>\n",
       "    <tr>\n",
       "      <th>7</th>\n",
       "      <td>6713-OKOMC</td>\n",
       "      <td>2019-04-01</td>\n",
       "      <td>No</td>\n",
       "      <td>Month-to-month</td>\n",
       "      <td>No</td>\n",
       "      <td>Mailed check</td>\n",
       "      <td>29.75</td>\n",
       "      <td>300.48</td>\n",
       "    </tr>\n",
       "    <tr>\n",
       "      <th>8</th>\n",
       "      <td>7892-POOKP</td>\n",
       "      <td>2017-07-01</td>\n",
       "      <td>No</td>\n",
       "      <td>Month-to-month</td>\n",
       "      <td>Yes</td>\n",
       "      <td>Electronic check</td>\n",
       "      <td>104.80</td>\n",
       "      <td>3573.68</td>\n",
       "    </tr>\n",
       "    <tr>\n",
       "      <th>9</th>\n",
       "      <td>6388-TABGU</td>\n",
       "      <td>2014-12-01</td>\n",
       "      <td>2017-05-01</td>\n",
       "      <td>One year</td>\n",
       "      <td>No</td>\n",
       "      <td>Bank transfer (automatic)</td>\n",
       "      <td>56.15</td>\n",
       "      <td>1628.35</td>\n",
       "    </tr>\n",
       "  </tbody>\n",
       "</table>\n",
       "</div>"
      ],
      "text/plain": [
       "   customerID   BeginDate     EndDate            Type PaperlessBilling  \\\n",
       "0  7590-VHVEG  2020-01-01          No  Month-to-month              Yes   \n",
       "1  5575-GNVDE  2017-04-01          No        One year               No   \n",
       "2  3668-QPYBK  2019-10-01          No  Month-to-month              Yes   \n",
       "3  7795-CFOCW  2016-05-01          No        One year               No   \n",
       "4  9237-HQITU  2019-09-01          No  Month-to-month              Yes   \n",
       "5  9305-CDSKC  2019-03-01          No  Month-to-month              Yes   \n",
       "6  1452-KIOVK  2018-04-01          No  Month-to-month              Yes   \n",
       "7  6713-OKOMC  2019-04-01          No  Month-to-month               No   \n",
       "8  7892-POOKP  2017-07-01          No  Month-to-month              Yes   \n",
       "9  6388-TABGU  2014-12-01  2017-05-01        One year               No   \n",
       "\n",
       "               PaymentMethod  MonthlyCharges TotalCharges  \n",
       "0           Electronic check           29.85        31.04  \n",
       "1               Mailed check           56.95      2071.84  \n",
       "2               Mailed check           53.85       226.17  \n",
       "3  Bank transfer (automatic)           42.30       1960.6  \n",
       "4           Electronic check           70.70        353.5  \n",
       "5           Electronic check           99.65      1150.96  \n",
       "6    Credit card (automatic)           89.10      2058.21  \n",
       "7               Mailed check           29.75       300.48  \n",
       "8           Electronic check          104.80      3573.68  \n",
       "9  Bank transfer (automatic)           56.15      1628.35  "
      ]
     },
     "execution_count": 9,
     "metadata": {},
     "output_type": "execute_result"
    }
   ],
   "source": [
    "contract.head(10)"
   ]
  },
  {
   "cell_type": "code",
   "execution_count": 10,
   "metadata": {},
   "outputs": [
    {
     "name": "stdout",
     "output_type": "stream",
     "text": [
      "<class 'pandas.core.frame.DataFrame'>\n",
      "RangeIndex: 7043 entries, 0 to 7042\n",
      "Data columns (total 8 columns):\n",
      " #   Column            Non-Null Count  Dtype  \n",
      "---  ------            --------------  -----  \n",
      " 0   customerID        7043 non-null   object \n",
      " 1   BeginDate         7043 non-null   object \n",
      " 2   EndDate           7043 non-null   object \n",
      " 3   Type              7043 non-null   object \n",
      " 4   PaperlessBilling  7043 non-null   object \n",
      " 5   PaymentMethod     7043 non-null   object \n",
      " 6   MonthlyCharges    7043 non-null   float64\n",
      " 7   TotalCharges      7043 non-null   object \n",
      "dtypes: float64(1), object(7)\n",
      "memory usage: 440.3+ KB\n"
     ]
    }
   ],
   "source": [
    "contract.info()"
   ]
  },
  {
   "cell_type": "code",
   "execution_count": 11,
   "metadata": {},
   "outputs": [
    {
     "data": {
      "text/plain": [
       "customerID          0\n",
       "BeginDate           0\n",
       "EndDate             0\n",
       "Type                0\n",
       "PaperlessBilling    0\n",
       "PaymentMethod       0\n",
       "MonthlyCharges      0\n",
       "TotalCharges        0\n",
       "dtype: int64"
      ]
     },
     "execution_count": 11,
     "metadata": {},
     "output_type": "execute_result"
    }
   ],
   "source": [
    "contract.isnull().sum()"
   ]
  },
  {
   "cell_type": "markdown",
   "metadata": {},
   "source": [
    "**Вывод** по таблице ***contract***:\n",
    "\n",
    "- В таблице **7043** строки и **8** столбцов. Это значит всего 7043 клиента.\n",
    "\n",
    "- Рассмотрели таблицу на наличие пропусков, пропусков нет. Приведем названия столбцов к одному виду:\n",
    "`customerID` $\\to$ `CustomerID`. \n",
    "\n",
    "- Поменям тип данных:\n",
    "    - `BeginDate`: object $\\to$ date;\n",
    "    - `EndDate`: object $\\to$ date;\n",
    "    - `TotalCharges`: object $\\to$ float.\n",
    "\n",
    "- К `Type`, `PaperlessBilling`, `PaymentMethod` в дальнейшем надо будет применить **One Hot Encoder**.\n",
    "\n",
    "- С помощью столбца `EndDate` надо выделить целевой признак. Если в `EndDate` No, тогда целевой признак равен **0**, если стоит дата целевой признак равен **1**."
   ]
  },
  {
   "cell_type": "markdown",
   "metadata": {},
   "source": [
    "Рассмотрим таблицу ***personal***:"
   ]
  },
  {
   "cell_type": "code",
   "execution_count": 12,
   "metadata": {},
   "outputs": [
    {
     "data": {
      "text/plain": [
       "(7043, 5)"
      ]
     },
     "execution_count": 12,
     "metadata": {},
     "output_type": "execute_result"
    }
   ],
   "source": [
    "personal.shape"
   ]
  },
  {
   "cell_type": "code",
   "execution_count": 13,
   "metadata": {},
   "outputs": [
    {
     "data": {
      "text/html": [
       "<div>\n",
       "<style scoped>\n",
       "    .dataframe tbody tr th:only-of-type {\n",
       "        vertical-align: middle;\n",
       "    }\n",
       "\n",
       "    .dataframe tbody tr th {\n",
       "        vertical-align: top;\n",
       "    }\n",
       "\n",
       "    .dataframe thead th {\n",
       "        text-align: right;\n",
       "    }\n",
       "</style>\n",
       "<table border=\"1\" class=\"dataframe\">\n",
       "  <thead>\n",
       "    <tr style=\"text-align: right;\">\n",
       "      <th></th>\n",
       "      <th>customerID</th>\n",
       "      <th>gender</th>\n",
       "      <th>SeniorCitizen</th>\n",
       "      <th>Partner</th>\n",
       "      <th>Dependents</th>\n",
       "    </tr>\n",
       "  </thead>\n",
       "  <tbody>\n",
       "    <tr>\n",
       "      <th>0</th>\n",
       "      <td>7590-VHVEG</td>\n",
       "      <td>Female</td>\n",
       "      <td>0</td>\n",
       "      <td>Yes</td>\n",
       "      <td>No</td>\n",
       "    </tr>\n",
       "    <tr>\n",
       "      <th>1</th>\n",
       "      <td>5575-GNVDE</td>\n",
       "      <td>Male</td>\n",
       "      <td>0</td>\n",
       "      <td>No</td>\n",
       "      <td>No</td>\n",
       "    </tr>\n",
       "    <tr>\n",
       "      <th>2</th>\n",
       "      <td>3668-QPYBK</td>\n",
       "      <td>Male</td>\n",
       "      <td>0</td>\n",
       "      <td>No</td>\n",
       "      <td>No</td>\n",
       "    </tr>\n",
       "    <tr>\n",
       "      <th>3</th>\n",
       "      <td>7795-CFOCW</td>\n",
       "      <td>Male</td>\n",
       "      <td>0</td>\n",
       "      <td>No</td>\n",
       "      <td>No</td>\n",
       "    </tr>\n",
       "    <tr>\n",
       "      <th>4</th>\n",
       "      <td>9237-HQITU</td>\n",
       "      <td>Female</td>\n",
       "      <td>0</td>\n",
       "      <td>No</td>\n",
       "      <td>No</td>\n",
       "    </tr>\n",
       "  </tbody>\n",
       "</table>\n",
       "</div>"
      ],
      "text/plain": [
       "   customerID  gender  SeniorCitizen Partner Dependents\n",
       "0  7590-VHVEG  Female              0     Yes         No\n",
       "1  5575-GNVDE    Male              0      No         No\n",
       "2  3668-QPYBK    Male              0      No         No\n",
       "3  7795-CFOCW    Male              0      No         No\n",
       "4  9237-HQITU  Female              0      No         No"
      ]
     },
     "execution_count": 13,
     "metadata": {},
     "output_type": "execute_result"
    }
   ],
   "source": [
    "personal.head()"
   ]
  },
  {
   "cell_type": "code",
   "execution_count": 14,
   "metadata": {},
   "outputs": [
    {
     "name": "stdout",
     "output_type": "stream",
     "text": [
      "<class 'pandas.core.frame.DataFrame'>\n",
      "RangeIndex: 7043 entries, 0 to 7042\n",
      "Data columns (total 5 columns):\n",
      " #   Column         Non-Null Count  Dtype \n",
      "---  ------         --------------  ----- \n",
      " 0   customerID     7043 non-null   object\n",
      " 1   gender         7043 non-null   object\n",
      " 2   SeniorCitizen  7043 non-null   int64 \n",
      " 3   Partner        7043 non-null   object\n",
      " 4   Dependents     7043 non-null   object\n",
      "dtypes: int64(1), object(4)\n",
      "memory usage: 275.2+ KB\n"
     ]
    }
   ],
   "source": [
    "personal.info()"
   ]
  },
  {
   "cell_type": "code",
   "execution_count": 15,
   "metadata": {},
   "outputs": [
    {
     "data": {
      "text/plain": [
       "customerID       0\n",
       "gender           0\n",
       "SeniorCitizen    0\n",
       "Partner          0\n",
       "Dependents       0\n",
       "dtype: int64"
      ]
     },
     "execution_count": 15,
     "metadata": {},
     "output_type": "execute_result"
    }
   ],
   "source": [
    "personal.isnull().sum()"
   ]
  },
  {
   "cell_type": "markdown",
   "metadata": {},
   "source": [
    "**Вывод** по таблице ***personal***:\n",
    "\n",
    "- В таблице **7043** строки и **5** столбцов. Количесвто строк в данной таблице столько же сколько и в таблице **clients** значит представлена информация по всем клиентам.\n",
    "- В таблице ***personal*** также нет пропусков. Для единообразия изменим названия некоторых столбцов: \n",
    "    - `сustomerID` $\\to$ `CustomerID`;\n",
    "    - `gender` $\\to$ `Gender`.\n",
    "\n",
    "- В дальнейшем для столбцов `Gender`, `SeniorCitizen`, `Partner` и `Dependents` понадобится **One Hot Encoder**."
   ]
  },
  {
   "cell_type": "code",
   "execution_count": 16,
   "metadata": {},
   "outputs": [
    {
     "data": {
      "text/html": [
       "<div>\n",
       "<style scoped>\n",
       "    .dataframe tbody tr th:only-of-type {\n",
       "        vertical-align: middle;\n",
       "    }\n",
       "\n",
       "    .dataframe tbody tr th {\n",
       "        vertical-align: top;\n",
       "    }\n",
       "\n",
       "    .dataframe thead th {\n",
       "        text-align: right;\n",
       "    }\n",
       "</style>\n",
       "<table border=\"1\" class=\"dataframe\">\n",
       "  <thead>\n",
       "    <tr style=\"text-align: right;\">\n",
       "      <th></th>\n",
       "      <th>customerID</th>\n",
       "      <th>InternetService</th>\n",
       "      <th>OnlineSecurity</th>\n",
       "      <th>OnlineBackup</th>\n",
       "      <th>DeviceProtection</th>\n",
       "      <th>TechSupport</th>\n",
       "      <th>StreamingTV</th>\n",
       "      <th>StreamingMovies</th>\n",
       "    </tr>\n",
       "  </thead>\n",
       "  <tbody>\n",
       "    <tr>\n",
       "      <th>0</th>\n",
       "      <td>7590-VHVEG</td>\n",
       "      <td>DSL</td>\n",
       "      <td>No</td>\n",
       "      <td>Yes</td>\n",
       "      <td>No</td>\n",
       "      <td>No</td>\n",
       "      <td>No</td>\n",
       "      <td>No</td>\n",
       "    </tr>\n",
       "    <tr>\n",
       "      <th>1</th>\n",
       "      <td>5575-GNVDE</td>\n",
       "      <td>DSL</td>\n",
       "      <td>Yes</td>\n",
       "      <td>No</td>\n",
       "      <td>Yes</td>\n",
       "      <td>No</td>\n",
       "      <td>No</td>\n",
       "      <td>No</td>\n",
       "    </tr>\n",
       "    <tr>\n",
       "      <th>2</th>\n",
       "      <td>3668-QPYBK</td>\n",
       "      <td>DSL</td>\n",
       "      <td>Yes</td>\n",
       "      <td>Yes</td>\n",
       "      <td>No</td>\n",
       "      <td>No</td>\n",
       "      <td>No</td>\n",
       "      <td>No</td>\n",
       "    </tr>\n",
       "    <tr>\n",
       "      <th>3</th>\n",
       "      <td>7795-CFOCW</td>\n",
       "      <td>DSL</td>\n",
       "      <td>Yes</td>\n",
       "      <td>No</td>\n",
       "      <td>Yes</td>\n",
       "      <td>Yes</td>\n",
       "      <td>No</td>\n",
       "      <td>No</td>\n",
       "    </tr>\n",
       "    <tr>\n",
       "      <th>4</th>\n",
       "      <td>9237-HQITU</td>\n",
       "      <td>Fiber optic</td>\n",
       "      <td>No</td>\n",
       "      <td>No</td>\n",
       "      <td>No</td>\n",
       "      <td>No</td>\n",
       "      <td>No</td>\n",
       "      <td>No</td>\n",
       "    </tr>\n",
       "  </tbody>\n",
       "</table>\n",
       "</div>"
      ],
      "text/plain": [
       "   customerID InternetService OnlineSecurity OnlineBackup DeviceProtection  \\\n",
       "0  7590-VHVEG             DSL             No          Yes               No   \n",
       "1  5575-GNVDE             DSL            Yes           No              Yes   \n",
       "2  3668-QPYBK             DSL            Yes          Yes               No   \n",
       "3  7795-CFOCW             DSL            Yes           No              Yes   \n",
       "4  9237-HQITU     Fiber optic             No           No               No   \n",
       "\n",
       "  TechSupport StreamingTV StreamingMovies  \n",
       "0          No          No              No  \n",
       "1          No          No              No  \n",
       "2          No          No              No  \n",
       "3         Yes          No              No  \n",
       "4          No          No              No  "
      ]
     },
     "execution_count": 16,
     "metadata": {},
     "output_type": "execute_result"
    }
   ],
   "source": [
    "internet.head()"
   ]
  },
  {
   "cell_type": "markdown",
   "metadata": {},
   "source": [
    "Рассмотрим таблицу ***internet***:"
   ]
  },
  {
   "cell_type": "code",
   "execution_count": 17,
   "metadata": {},
   "outputs": [
    {
     "data": {
      "text/plain": [
       "(5517, 8)"
      ]
     },
     "execution_count": 17,
     "metadata": {},
     "output_type": "execute_result"
    }
   ],
   "source": [
    "internet.shape"
   ]
  },
  {
   "cell_type": "code",
   "execution_count": 18,
   "metadata": {},
   "outputs": [
    {
     "name": "stdout",
     "output_type": "stream",
     "text": [
      "<class 'pandas.core.frame.DataFrame'>\n",
      "RangeIndex: 5517 entries, 0 to 5516\n",
      "Data columns (total 8 columns):\n",
      " #   Column            Non-Null Count  Dtype \n",
      "---  ------            --------------  ----- \n",
      " 0   customerID        5517 non-null   object\n",
      " 1   InternetService   5517 non-null   object\n",
      " 2   OnlineSecurity    5517 non-null   object\n",
      " 3   OnlineBackup      5517 non-null   object\n",
      " 4   DeviceProtection  5517 non-null   object\n",
      " 5   TechSupport       5517 non-null   object\n",
      " 6   StreamingTV       5517 non-null   object\n",
      " 7   StreamingMovies   5517 non-null   object\n",
      "dtypes: object(8)\n",
      "memory usage: 344.9+ KB\n"
     ]
    }
   ],
   "source": [
    "internet.info()"
   ]
  },
  {
   "cell_type": "code",
   "execution_count": 19,
   "metadata": {},
   "outputs": [
    {
     "data": {
      "text/plain": [
       "customerID          0\n",
       "InternetService     0\n",
       "OnlineSecurity      0\n",
       "OnlineBackup        0\n",
       "DeviceProtection    0\n",
       "TechSupport         0\n",
       "StreamingTV         0\n",
       "StreamingMovies     0\n",
       "dtype: int64"
      ]
     },
     "execution_count": 19,
     "metadata": {},
     "output_type": "execute_result"
    }
   ],
   "source": [
    "internet.isnull().sum()"
   ]
  },
  {
   "cell_type": "markdown",
   "metadata": {},
   "source": [
    "**Вывод** по таблице ***internet***:\n",
    "\n",
    "- В таблице **5517** строк и **8** столбцов. Строк меньше, чем в таблице **clients**, это значит, что информация не по всем клиентам.\n",
    "- В таблице ***internet*** также нет пропусков. Для единообразия изменим названия некоторых столбцов: \n",
    "    - `сustomerID` $\\to$ `CustomerID`.\n",
    "\n",
    "- В дальнейшем для столбцов `InternetService`, `OnlineSecurity`, `OnlineBackup`, `DeviceProtection`,\t`TechSupport`, `StreamingTV` и `StreamingMovies` понадобится **One Hot Encoder**."
   ]
  },
  {
   "cell_type": "markdown",
   "metadata": {},
   "source": [
    "Рассмотрим таблицу ***phone***:"
   ]
  },
  {
   "cell_type": "code",
   "execution_count": 20,
   "metadata": {},
   "outputs": [
    {
     "data": {
      "text/plain": [
       "(6361, 2)"
      ]
     },
     "execution_count": 20,
     "metadata": {},
     "output_type": "execute_result"
    }
   ],
   "source": [
    "phone.shape"
   ]
  },
  {
   "cell_type": "code",
   "execution_count": 21,
   "metadata": {},
   "outputs": [
    {
     "data": {
      "text/html": [
       "<div>\n",
       "<style scoped>\n",
       "    .dataframe tbody tr th:only-of-type {\n",
       "        vertical-align: middle;\n",
       "    }\n",
       "\n",
       "    .dataframe tbody tr th {\n",
       "        vertical-align: top;\n",
       "    }\n",
       "\n",
       "    .dataframe thead th {\n",
       "        text-align: right;\n",
       "    }\n",
       "</style>\n",
       "<table border=\"1\" class=\"dataframe\">\n",
       "  <thead>\n",
       "    <tr style=\"text-align: right;\">\n",
       "      <th></th>\n",
       "      <th>customerID</th>\n",
       "      <th>MultipleLines</th>\n",
       "    </tr>\n",
       "  </thead>\n",
       "  <tbody>\n",
       "    <tr>\n",
       "      <th>0</th>\n",
       "      <td>5575-GNVDE</td>\n",
       "      <td>No</td>\n",
       "    </tr>\n",
       "    <tr>\n",
       "      <th>1</th>\n",
       "      <td>3668-QPYBK</td>\n",
       "      <td>No</td>\n",
       "    </tr>\n",
       "    <tr>\n",
       "      <th>2</th>\n",
       "      <td>9237-HQITU</td>\n",
       "      <td>No</td>\n",
       "    </tr>\n",
       "    <tr>\n",
       "      <th>3</th>\n",
       "      <td>9305-CDSKC</td>\n",
       "      <td>Yes</td>\n",
       "    </tr>\n",
       "    <tr>\n",
       "      <th>4</th>\n",
       "      <td>1452-KIOVK</td>\n",
       "      <td>Yes</td>\n",
       "    </tr>\n",
       "  </tbody>\n",
       "</table>\n",
       "</div>"
      ],
      "text/plain": [
       "   customerID MultipleLines\n",
       "0  5575-GNVDE            No\n",
       "1  3668-QPYBK            No\n",
       "2  9237-HQITU            No\n",
       "3  9305-CDSKC           Yes\n",
       "4  1452-KIOVK           Yes"
      ]
     },
     "execution_count": 21,
     "metadata": {},
     "output_type": "execute_result"
    }
   ],
   "source": [
    "phone.head()"
   ]
  },
  {
   "cell_type": "code",
   "execution_count": 22,
   "metadata": {},
   "outputs": [
    {
     "name": "stdout",
     "output_type": "stream",
     "text": [
      "<class 'pandas.core.frame.DataFrame'>\n",
      "RangeIndex: 6361 entries, 0 to 6360\n",
      "Data columns (total 2 columns):\n",
      " #   Column         Non-Null Count  Dtype \n",
      "---  ------         --------------  ----- \n",
      " 0   customerID     6361 non-null   object\n",
      " 1   MultipleLines  6361 non-null   object\n",
      "dtypes: object(2)\n",
      "memory usage: 99.5+ KB\n"
     ]
    }
   ],
   "source": [
    "phone.info()"
   ]
  },
  {
   "cell_type": "code",
   "execution_count": 23,
   "metadata": {},
   "outputs": [
    {
     "data": {
      "text/plain": [
       "customerID       0\n",
       "MultipleLines    0\n",
       "dtype: int64"
      ]
     },
     "execution_count": 23,
     "metadata": {},
     "output_type": "execute_result"
    }
   ],
   "source": [
    "phone.isnull().sum()"
   ]
  },
  {
   "cell_type": "markdown",
   "metadata": {},
   "source": [
    "**Вывод** по таблице ***phone***:\n",
    "\n",
    "- В таблице **6361** строк и **2** столбцов. Строк меньше, чем в таблице **clients**, это значит, что информация не по всем клиентам.\n",
    "- В таблице ***phone*** также нет пропусков. Для единообразия изменим названия некоторых столбцов: \n",
    "    - `сustomerID` $\\to$ `CustomerID`.\n",
    "\n",
    "- В дальнейшем для столбца `MultipleLines` понадобится **One Hot Encoder**."
   ]
  },
  {
   "cell_type": "markdown",
   "metadata": {},
   "source": [
    "План \n",
    "--"
   ]
  },
  {
   "cell_type": "markdown",
   "metadata": {},
   "source": [
    "1. Изучить данные, выполнить первичную обработку данных (изменить: названия столбцов, тип данных и т.д)\n",
    "2. Выполнить исследовательский анализ, проверить данные на аномалии. Сделать визуализацию данных: построить графики, диаграммы и т.д.\n",
    "3. Подготовить данные к моделированию: масштабирование, кодировка данных.\n",
    "4. Построить модель машинного обучения, подобрать гиперпараметры. Проанализировать AUC-ROC моделей и выбрать лучшую модель.\n",
    "5. Проверить модель на тестовой выборке и посчитать accuracy. Построить матрицу ошибок и оценить важность признаков.\n",
    "6. Сделать выводы.\n"
   ]
  },
  {
   "cell_type": "markdown",
   "metadata": {},
   "source": [
    "## Первичная обработка данных"
   ]
  },
  {
   "cell_type": "markdown",
   "metadata": {},
   "source": [
    "В данном разделе:\n",
    "- изменим названия столбцов;\n",
    "- изменим типы данных;\n",
    "- добавим новый  2 столбца в таблицу ***contract*** : `TotalDays`(всего дней сколько человек пользовался услугами), `Quit` (целеыой признак, ушел или нет)."
   ]
  },
  {
   "cell_type": "markdown",
   "metadata": {},
   "source": [
    "* Изменим названия столбца `сustomerID` на `СustomerID` во всех таблицах (***contract***,***internet***, ***personal***, ***phone*** ). Также в таблице ***personal*** изменим `gender` на `Gender`."
   ]
  },
  {
   "cell_type": "code",
   "execution_count": 24,
   "metadata": {},
   "outputs": [],
   "source": [
    "contract.rename(columns={'customerID': 'CustomerID'}, inplace=True)"
   ]
  },
  {
   "cell_type": "code",
   "execution_count": 25,
   "metadata": {},
   "outputs": [
    {
     "data": {
      "text/html": [
       "<div>\n",
       "<style scoped>\n",
       "    .dataframe tbody tr th:only-of-type {\n",
       "        vertical-align: middle;\n",
       "    }\n",
       "\n",
       "    .dataframe tbody tr th {\n",
       "        vertical-align: top;\n",
       "    }\n",
       "\n",
       "    .dataframe thead th {\n",
       "        text-align: right;\n",
       "    }\n",
       "</style>\n",
       "<table border=\"1\" class=\"dataframe\">\n",
       "  <thead>\n",
       "    <tr style=\"text-align: right;\">\n",
       "      <th></th>\n",
       "      <th>CustomerID</th>\n",
       "      <th>BeginDate</th>\n",
       "      <th>EndDate</th>\n",
       "      <th>Type</th>\n",
       "      <th>PaperlessBilling</th>\n",
       "      <th>PaymentMethod</th>\n",
       "      <th>MonthlyCharges</th>\n",
       "      <th>TotalCharges</th>\n",
       "    </tr>\n",
       "  </thead>\n",
       "  <tbody>\n",
       "    <tr>\n",
       "      <th>0</th>\n",
       "      <td>7590-VHVEG</td>\n",
       "      <td>2020-01-01</td>\n",
       "      <td>No</td>\n",
       "      <td>Month-to-month</td>\n",
       "      <td>Yes</td>\n",
       "      <td>Electronic check</td>\n",
       "      <td>29.85</td>\n",
       "      <td>31.04</td>\n",
       "    </tr>\n",
       "    <tr>\n",
       "      <th>1</th>\n",
       "      <td>5575-GNVDE</td>\n",
       "      <td>2017-04-01</td>\n",
       "      <td>No</td>\n",
       "      <td>One year</td>\n",
       "      <td>No</td>\n",
       "      <td>Mailed check</td>\n",
       "      <td>56.95</td>\n",
       "      <td>2071.84</td>\n",
       "    </tr>\n",
       "    <tr>\n",
       "      <th>2</th>\n",
       "      <td>3668-QPYBK</td>\n",
       "      <td>2019-10-01</td>\n",
       "      <td>No</td>\n",
       "      <td>Month-to-month</td>\n",
       "      <td>Yes</td>\n",
       "      <td>Mailed check</td>\n",
       "      <td>53.85</td>\n",
       "      <td>226.17</td>\n",
       "    </tr>\n",
       "    <tr>\n",
       "      <th>3</th>\n",
       "      <td>7795-CFOCW</td>\n",
       "      <td>2016-05-01</td>\n",
       "      <td>No</td>\n",
       "      <td>One year</td>\n",
       "      <td>No</td>\n",
       "      <td>Bank transfer (automatic)</td>\n",
       "      <td>42.30</td>\n",
       "      <td>1960.6</td>\n",
       "    </tr>\n",
       "    <tr>\n",
       "      <th>4</th>\n",
       "      <td>9237-HQITU</td>\n",
       "      <td>2019-09-01</td>\n",
       "      <td>No</td>\n",
       "      <td>Month-to-month</td>\n",
       "      <td>Yes</td>\n",
       "      <td>Electronic check</td>\n",
       "      <td>70.70</td>\n",
       "      <td>353.5</td>\n",
       "    </tr>\n",
       "  </tbody>\n",
       "</table>\n",
       "</div>"
      ],
      "text/plain": [
       "   CustomerID   BeginDate EndDate            Type PaperlessBilling  \\\n",
       "0  7590-VHVEG  2020-01-01      No  Month-to-month              Yes   \n",
       "1  5575-GNVDE  2017-04-01      No        One year               No   \n",
       "2  3668-QPYBK  2019-10-01      No  Month-to-month              Yes   \n",
       "3  7795-CFOCW  2016-05-01      No        One year               No   \n",
       "4  9237-HQITU  2019-09-01      No  Month-to-month              Yes   \n",
       "\n",
       "               PaymentMethod  MonthlyCharges TotalCharges  \n",
       "0           Electronic check           29.85        31.04  \n",
       "1               Mailed check           56.95      2071.84  \n",
       "2               Mailed check           53.85       226.17  \n",
       "3  Bank transfer (automatic)           42.30       1960.6  \n",
       "4           Electronic check           70.70        353.5  "
      ]
     },
     "execution_count": 25,
     "metadata": {},
     "output_type": "execute_result"
    }
   ],
   "source": [
    "contract.head()"
   ]
  },
  {
   "cell_type": "code",
   "execution_count": 26,
   "metadata": {},
   "outputs": [],
   "source": [
    "internet.rename(columns={'customerID': 'CustomerID'}, inplace=True)"
   ]
  },
  {
   "cell_type": "code",
   "execution_count": 27,
   "metadata": {},
   "outputs": [
    {
     "data": {
      "text/html": [
       "<div>\n",
       "<style scoped>\n",
       "    .dataframe tbody tr th:only-of-type {\n",
       "        vertical-align: middle;\n",
       "    }\n",
       "\n",
       "    .dataframe tbody tr th {\n",
       "        vertical-align: top;\n",
       "    }\n",
       "\n",
       "    .dataframe thead th {\n",
       "        text-align: right;\n",
       "    }\n",
       "</style>\n",
       "<table border=\"1\" class=\"dataframe\">\n",
       "  <thead>\n",
       "    <tr style=\"text-align: right;\">\n",
       "      <th></th>\n",
       "      <th>CustomerID</th>\n",
       "      <th>InternetService</th>\n",
       "      <th>OnlineSecurity</th>\n",
       "      <th>OnlineBackup</th>\n",
       "      <th>DeviceProtection</th>\n",
       "      <th>TechSupport</th>\n",
       "      <th>StreamingTV</th>\n",
       "      <th>StreamingMovies</th>\n",
       "    </tr>\n",
       "  </thead>\n",
       "  <tbody>\n",
       "    <tr>\n",
       "      <th>0</th>\n",
       "      <td>7590-VHVEG</td>\n",
       "      <td>DSL</td>\n",
       "      <td>No</td>\n",
       "      <td>Yes</td>\n",
       "      <td>No</td>\n",
       "      <td>No</td>\n",
       "      <td>No</td>\n",
       "      <td>No</td>\n",
       "    </tr>\n",
       "    <tr>\n",
       "      <th>1</th>\n",
       "      <td>5575-GNVDE</td>\n",
       "      <td>DSL</td>\n",
       "      <td>Yes</td>\n",
       "      <td>No</td>\n",
       "      <td>Yes</td>\n",
       "      <td>No</td>\n",
       "      <td>No</td>\n",
       "      <td>No</td>\n",
       "    </tr>\n",
       "    <tr>\n",
       "      <th>2</th>\n",
       "      <td>3668-QPYBK</td>\n",
       "      <td>DSL</td>\n",
       "      <td>Yes</td>\n",
       "      <td>Yes</td>\n",
       "      <td>No</td>\n",
       "      <td>No</td>\n",
       "      <td>No</td>\n",
       "      <td>No</td>\n",
       "    </tr>\n",
       "    <tr>\n",
       "      <th>3</th>\n",
       "      <td>7795-CFOCW</td>\n",
       "      <td>DSL</td>\n",
       "      <td>Yes</td>\n",
       "      <td>No</td>\n",
       "      <td>Yes</td>\n",
       "      <td>Yes</td>\n",
       "      <td>No</td>\n",
       "      <td>No</td>\n",
       "    </tr>\n",
       "    <tr>\n",
       "      <th>4</th>\n",
       "      <td>9237-HQITU</td>\n",
       "      <td>Fiber optic</td>\n",
       "      <td>No</td>\n",
       "      <td>No</td>\n",
       "      <td>No</td>\n",
       "      <td>No</td>\n",
       "      <td>No</td>\n",
       "      <td>No</td>\n",
       "    </tr>\n",
       "  </tbody>\n",
       "</table>\n",
       "</div>"
      ],
      "text/plain": [
       "   CustomerID InternetService OnlineSecurity OnlineBackup DeviceProtection  \\\n",
       "0  7590-VHVEG             DSL             No          Yes               No   \n",
       "1  5575-GNVDE             DSL            Yes           No              Yes   \n",
       "2  3668-QPYBK             DSL            Yes          Yes               No   \n",
       "3  7795-CFOCW             DSL            Yes           No              Yes   \n",
       "4  9237-HQITU     Fiber optic             No           No               No   \n",
       "\n",
       "  TechSupport StreamingTV StreamingMovies  \n",
       "0          No          No              No  \n",
       "1          No          No              No  \n",
       "2          No          No              No  \n",
       "3         Yes          No              No  \n",
       "4          No          No              No  "
      ]
     },
     "execution_count": 27,
     "metadata": {},
     "output_type": "execute_result"
    }
   ],
   "source": [
    "internet.head()"
   ]
  },
  {
   "cell_type": "code",
   "execution_count": 28,
   "metadata": {},
   "outputs": [],
   "source": [
    "personal.rename(columns={'customerID': 'CustomerID'}, inplace=True)\n",
    "personal.rename(columns={'gender': 'Gender'}, inplace=True)"
   ]
  },
  {
   "cell_type": "code",
   "execution_count": 29,
   "metadata": {},
   "outputs": [
    {
     "data": {
      "text/html": [
       "<div>\n",
       "<style scoped>\n",
       "    .dataframe tbody tr th:only-of-type {\n",
       "        vertical-align: middle;\n",
       "    }\n",
       "\n",
       "    .dataframe tbody tr th {\n",
       "        vertical-align: top;\n",
       "    }\n",
       "\n",
       "    .dataframe thead th {\n",
       "        text-align: right;\n",
       "    }\n",
       "</style>\n",
       "<table border=\"1\" class=\"dataframe\">\n",
       "  <thead>\n",
       "    <tr style=\"text-align: right;\">\n",
       "      <th></th>\n",
       "      <th>CustomerID</th>\n",
       "      <th>Gender</th>\n",
       "      <th>SeniorCitizen</th>\n",
       "      <th>Partner</th>\n",
       "      <th>Dependents</th>\n",
       "    </tr>\n",
       "  </thead>\n",
       "  <tbody>\n",
       "    <tr>\n",
       "      <th>0</th>\n",
       "      <td>7590-VHVEG</td>\n",
       "      <td>Female</td>\n",
       "      <td>0</td>\n",
       "      <td>Yes</td>\n",
       "      <td>No</td>\n",
       "    </tr>\n",
       "    <tr>\n",
       "      <th>1</th>\n",
       "      <td>5575-GNVDE</td>\n",
       "      <td>Male</td>\n",
       "      <td>0</td>\n",
       "      <td>No</td>\n",
       "      <td>No</td>\n",
       "    </tr>\n",
       "    <tr>\n",
       "      <th>2</th>\n",
       "      <td>3668-QPYBK</td>\n",
       "      <td>Male</td>\n",
       "      <td>0</td>\n",
       "      <td>No</td>\n",
       "      <td>No</td>\n",
       "    </tr>\n",
       "    <tr>\n",
       "      <th>3</th>\n",
       "      <td>7795-CFOCW</td>\n",
       "      <td>Male</td>\n",
       "      <td>0</td>\n",
       "      <td>No</td>\n",
       "      <td>No</td>\n",
       "    </tr>\n",
       "    <tr>\n",
       "      <th>4</th>\n",
       "      <td>9237-HQITU</td>\n",
       "      <td>Female</td>\n",
       "      <td>0</td>\n",
       "      <td>No</td>\n",
       "      <td>No</td>\n",
       "    </tr>\n",
       "  </tbody>\n",
       "</table>\n",
       "</div>"
      ],
      "text/plain": [
       "   CustomerID  Gender  SeniorCitizen Partner Dependents\n",
       "0  7590-VHVEG  Female              0     Yes         No\n",
       "1  5575-GNVDE    Male              0      No         No\n",
       "2  3668-QPYBK    Male              0      No         No\n",
       "3  7795-CFOCW    Male              0      No         No\n",
       "4  9237-HQITU  Female              0      No         No"
      ]
     },
     "execution_count": 29,
     "metadata": {},
     "output_type": "execute_result"
    }
   ],
   "source": [
    "personal.head()"
   ]
  },
  {
   "cell_type": "code",
   "execution_count": 30,
   "metadata": {},
   "outputs": [],
   "source": [
    "phone.rename(columns={'customerID': 'CustomerID'}, inplace=True)"
   ]
  },
  {
   "cell_type": "code",
   "execution_count": 31,
   "metadata": {},
   "outputs": [
    {
     "data": {
      "text/html": [
       "<div>\n",
       "<style scoped>\n",
       "    .dataframe tbody tr th:only-of-type {\n",
       "        vertical-align: middle;\n",
       "    }\n",
       "\n",
       "    .dataframe tbody tr th {\n",
       "        vertical-align: top;\n",
       "    }\n",
       "\n",
       "    .dataframe thead th {\n",
       "        text-align: right;\n",
       "    }\n",
       "</style>\n",
       "<table border=\"1\" class=\"dataframe\">\n",
       "  <thead>\n",
       "    <tr style=\"text-align: right;\">\n",
       "      <th></th>\n",
       "      <th>CustomerID</th>\n",
       "      <th>MultipleLines</th>\n",
       "    </tr>\n",
       "  </thead>\n",
       "  <tbody>\n",
       "    <tr>\n",
       "      <th>0</th>\n",
       "      <td>5575-GNVDE</td>\n",
       "      <td>No</td>\n",
       "    </tr>\n",
       "    <tr>\n",
       "      <th>1</th>\n",
       "      <td>3668-QPYBK</td>\n",
       "      <td>No</td>\n",
       "    </tr>\n",
       "    <tr>\n",
       "      <th>2</th>\n",
       "      <td>9237-HQITU</td>\n",
       "      <td>No</td>\n",
       "    </tr>\n",
       "    <tr>\n",
       "      <th>3</th>\n",
       "      <td>9305-CDSKC</td>\n",
       "      <td>Yes</td>\n",
       "    </tr>\n",
       "    <tr>\n",
       "      <th>4</th>\n",
       "      <td>1452-KIOVK</td>\n",
       "      <td>Yes</td>\n",
       "    </tr>\n",
       "  </tbody>\n",
       "</table>\n",
       "</div>"
      ],
      "text/plain": [
       "   CustomerID MultipleLines\n",
       "0  5575-GNVDE            No\n",
       "1  3668-QPYBK            No\n",
       "2  9237-HQITU            No\n",
       "3  9305-CDSKC           Yes\n",
       "4  1452-KIOVK           Yes"
      ]
     },
     "execution_count": 31,
     "metadata": {},
     "output_type": "execute_result"
    }
   ],
   "source": [
    "phone.head()"
   ]
  },
  {
   "cell_type": "markdown",
   "metadata": {},
   "source": [
    "* добавим целевой признак `Quit`;\n",
    "  - если в ***EndDate*** 'No'значит человек не ушел и в `Quit` будет 0,\n",
    "  - если в ***EndDate*** число значит человек ушел и в `Quit` будет 1."
   ]
  },
  {
   "cell_type": "code",
   "execution_count": 32,
   "metadata": {},
   "outputs": [],
   "source": [
    "contract['Quit'] = contract['EndDate'] != 'No'"
   ]
  },
  {
   "cell_type": "code",
   "execution_count": 33,
   "metadata": {},
   "outputs": [
    {
     "data": {
      "text/html": [
       "<div>\n",
       "<style scoped>\n",
       "    .dataframe tbody tr th:only-of-type {\n",
       "        vertical-align: middle;\n",
       "    }\n",
       "\n",
       "    .dataframe tbody tr th {\n",
       "        vertical-align: top;\n",
       "    }\n",
       "\n",
       "    .dataframe thead th {\n",
       "        text-align: right;\n",
       "    }\n",
       "</style>\n",
       "<table border=\"1\" class=\"dataframe\">\n",
       "  <thead>\n",
       "    <tr style=\"text-align: right;\">\n",
       "      <th></th>\n",
       "      <th>CustomerID</th>\n",
       "      <th>BeginDate</th>\n",
       "      <th>EndDate</th>\n",
       "      <th>Type</th>\n",
       "      <th>PaperlessBilling</th>\n",
       "      <th>PaymentMethod</th>\n",
       "      <th>MonthlyCharges</th>\n",
       "      <th>TotalCharges</th>\n",
       "      <th>Quit</th>\n",
       "    </tr>\n",
       "  </thead>\n",
       "  <tbody>\n",
       "    <tr>\n",
       "      <th>0</th>\n",
       "      <td>7590-VHVEG</td>\n",
       "      <td>2020-01-01</td>\n",
       "      <td>No</td>\n",
       "      <td>Month-to-month</td>\n",
       "      <td>Yes</td>\n",
       "      <td>Electronic check</td>\n",
       "      <td>29.85</td>\n",
       "      <td>31.04</td>\n",
       "      <td>False</td>\n",
       "    </tr>\n",
       "    <tr>\n",
       "      <th>1</th>\n",
       "      <td>5575-GNVDE</td>\n",
       "      <td>2017-04-01</td>\n",
       "      <td>No</td>\n",
       "      <td>One year</td>\n",
       "      <td>No</td>\n",
       "      <td>Mailed check</td>\n",
       "      <td>56.95</td>\n",
       "      <td>2071.84</td>\n",
       "      <td>False</td>\n",
       "    </tr>\n",
       "    <tr>\n",
       "      <th>2</th>\n",
       "      <td>3668-QPYBK</td>\n",
       "      <td>2019-10-01</td>\n",
       "      <td>No</td>\n",
       "      <td>Month-to-month</td>\n",
       "      <td>Yes</td>\n",
       "      <td>Mailed check</td>\n",
       "      <td>53.85</td>\n",
       "      <td>226.17</td>\n",
       "      <td>False</td>\n",
       "    </tr>\n",
       "    <tr>\n",
       "      <th>3</th>\n",
       "      <td>7795-CFOCW</td>\n",
       "      <td>2016-05-01</td>\n",
       "      <td>No</td>\n",
       "      <td>One year</td>\n",
       "      <td>No</td>\n",
       "      <td>Bank transfer (automatic)</td>\n",
       "      <td>42.30</td>\n",
       "      <td>1960.6</td>\n",
       "      <td>False</td>\n",
       "    </tr>\n",
       "    <tr>\n",
       "      <th>4</th>\n",
       "      <td>9237-HQITU</td>\n",
       "      <td>2019-09-01</td>\n",
       "      <td>No</td>\n",
       "      <td>Month-to-month</td>\n",
       "      <td>Yes</td>\n",
       "      <td>Electronic check</td>\n",
       "      <td>70.70</td>\n",
       "      <td>353.5</td>\n",
       "      <td>False</td>\n",
       "    </tr>\n",
       "  </tbody>\n",
       "</table>\n",
       "</div>"
      ],
      "text/plain": [
       "   CustomerID   BeginDate EndDate            Type PaperlessBilling  \\\n",
       "0  7590-VHVEG  2020-01-01      No  Month-to-month              Yes   \n",
       "1  5575-GNVDE  2017-04-01      No        One year               No   \n",
       "2  3668-QPYBK  2019-10-01      No  Month-to-month              Yes   \n",
       "3  7795-CFOCW  2016-05-01      No        One year               No   \n",
       "4  9237-HQITU  2019-09-01      No  Month-to-month              Yes   \n",
       "\n",
       "               PaymentMethod  MonthlyCharges TotalCharges   Quit  \n",
       "0           Electronic check           29.85        31.04  False  \n",
       "1               Mailed check           56.95      2071.84  False  \n",
       "2               Mailed check           53.85       226.17  False  \n",
       "3  Bank transfer (automatic)           42.30       1960.6  False  \n",
       "4           Electronic check           70.70        353.5  False  "
      ]
     },
     "execution_count": 33,
     "metadata": {},
     "output_type": "execute_result"
    }
   ],
   "source": [
    "contract.head()"
   ]
  },
  {
   "cell_type": "code",
   "execution_count": 34,
   "metadata": {},
   "outputs": [],
   "source": [
    "contract['Quit']  = contract['Quit'].astype(int)"
   ]
  },
  {
   "cell_type": "code",
   "execution_count": 35,
   "metadata": {},
   "outputs": [
    {
     "data": {
      "text/html": [
       "<div>\n",
       "<style scoped>\n",
       "    .dataframe tbody tr th:only-of-type {\n",
       "        vertical-align: middle;\n",
       "    }\n",
       "\n",
       "    .dataframe tbody tr th {\n",
       "        vertical-align: top;\n",
       "    }\n",
       "\n",
       "    .dataframe thead th {\n",
       "        text-align: right;\n",
       "    }\n",
       "</style>\n",
       "<table border=\"1\" class=\"dataframe\">\n",
       "  <thead>\n",
       "    <tr style=\"text-align: right;\">\n",
       "      <th></th>\n",
       "      <th>CustomerID</th>\n",
       "      <th>BeginDate</th>\n",
       "      <th>EndDate</th>\n",
       "      <th>Type</th>\n",
       "      <th>PaperlessBilling</th>\n",
       "      <th>PaymentMethod</th>\n",
       "      <th>MonthlyCharges</th>\n",
       "      <th>TotalCharges</th>\n",
       "      <th>Quit</th>\n",
       "    </tr>\n",
       "  </thead>\n",
       "  <tbody>\n",
       "    <tr>\n",
       "      <th>0</th>\n",
       "      <td>7590-VHVEG</td>\n",
       "      <td>2020-01-01</td>\n",
       "      <td>No</td>\n",
       "      <td>Month-to-month</td>\n",
       "      <td>Yes</td>\n",
       "      <td>Electronic check</td>\n",
       "      <td>29.85</td>\n",
       "      <td>31.04</td>\n",
       "      <td>0</td>\n",
       "    </tr>\n",
       "    <tr>\n",
       "      <th>1</th>\n",
       "      <td>5575-GNVDE</td>\n",
       "      <td>2017-04-01</td>\n",
       "      <td>No</td>\n",
       "      <td>One year</td>\n",
       "      <td>No</td>\n",
       "      <td>Mailed check</td>\n",
       "      <td>56.95</td>\n",
       "      <td>2071.84</td>\n",
       "      <td>0</td>\n",
       "    </tr>\n",
       "    <tr>\n",
       "      <th>2</th>\n",
       "      <td>3668-QPYBK</td>\n",
       "      <td>2019-10-01</td>\n",
       "      <td>No</td>\n",
       "      <td>Month-to-month</td>\n",
       "      <td>Yes</td>\n",
       "      <td>Mailed check</td>\n",
       "      <td>53.85</td>\n",
       "      <td>226.17</td>\n",
       "      <td>0</td>\n",
       "    </tr>\n",
       "    <tr>\n",
       "      <th>3</th>\n",
       "      <td>7795-CFOCW</td>\n",
       "      <td>2016-05-01</td>\n",
       "      <td>No</td>\n",
       "      <td>One year</td>\n",
       "      <td>No</td>\n",
       "      <td>Bank transfer (automatic)</td>\n",
       "      <td>42.30</td>\n",
       "      <td>1960.6</td>\n",
       "      <td>0</td>\n",
       "    </tr>\n",
       "    <tr>\n",
       "      <th>4</th>\n",
       "      <td>9237-HQITU</td>\n",
       "      <td>2019-09-01</td>\n",
       "      <td>No</td>\n",
       "      <td>Month-to-month</td>\n",
       "      <td>Yes</td>\n",
       "      <td>Electronic check</td>\n",
       "      <td>70.70</td>\n",
       "      <td>353.5</td>\n",
       "      <td>0</td>\n",
       "    </tr>\n",
       "  </tbody>\n",
       "</table>\n",
       "</div>"
      ],
      "text/plain": [
       "   CustomerID   BeginDate EndDate            Type PaperlessBilling  \\\n",
       "0  7590-VHVEG  2020-01-01      No  Month-to-month              Yes   \n",
       "1  5575-GNVDE  2017-04-01      No        One year               No   \n",
       "2  3668-QPYBK  2019-10-01      No  Month-to-month              Yes   \n",
       "3  7795-CFOCW  2016-05-01      No        One year               No   \n",
       "4  9237-HQITU  2019-09-01      No  Month-to-month              Yes   \n",
       "\n",
       "               PaymentMethod  MonthlyCharges TotalCharges  Quit  \n",
       "0           Electronic check           29.85        31.04     0  \n",
       "1               Mailed check           56.95      2071.84     0  \n",
       "2               Mailed check           53.85       226.17     0  \n",
       "3  Bank transfer (automatic)           42.30       1960.6     0  \n",
       "4           Electronic check           70.70        353.5     0  "
      ]
     },
     "execution_count": 35,
     "metadata": {},
     "output_type": "execute_result"
    }
   ],
   "source": [
    "contract.head()"
   ]
  },
  {
   "cell_type": "markdown",
   "metadata": {},
   "source": [
    " * в таблице ***contract*** изменим тип данных в некоторых столбцах:\n",
    "    -  `BeginDate`: object $\\to$ date;\n",
    "    - `EndDate`: object $\\to$ date;\n",
    "    - `TotalCharges`: object $\\to$ float.\n"
   ]
  },
  {
   "cell_type": "code",
   "execution_count": 36,
   "metadata": {},
   "outputs": [],
   "source": [
    "contract['BeginDate'] = pd.to_datetime(contract['BeginDate'] , format='%Y-%m-%d')"
   ]
  },
  {
   "cell_type": "markdown",
   "metadata": {},
   "source": [
    "Для того, что перевести `EndDate` в datetime вместо 'No', поставим дату выгрузки данных: 2020-02-01."
   ]
  },
  {
   "cell_type": "code",
   "execution_count": 37,
   "metadata": {},
   "outputs": [],
   "source": [
    "contract['EndDate'] = contract['EndDate'].replace(['No'],' 2020-02-01')"
   ]
  },
  {
   "cell_type": "code",
   "execution_count": 38,
   "metadata": {},
   "outputs": [
    {
     "data": {
      "text/html": [
       "<div>\n",
       "<style scoped>\n",
       "    .dataframe tbody tr th:only-of-type {\n",
       "        vertical-align: middle;\n",
       "    }\n",
       "\n",
       "    .dataframe tbody tr th {\n",
       "        vertical-align: top;\n",
       "    }\n",
       "\n",
       "    .dataframe thead th {\n",
       "        text-align: right;\n",
       "    }\n",
       "</style>\n",
       "<table border=\"1\" class=\"dataframe\">\n",
       "  <thead>\n",
       "    <tr style=\"text-align: right;\">\n",
       "      <th></th>\n",
       "      <th>CustomerID</th>\n",
       "      <th>BeginDate</th>\n",
       "      <th>EndDate</th>\n",
       "      <th>Type</th>\n",
       "      <th>PaperlessBilling</th>\n",
       "      <th>PaymentMethod</th>\n",
       "      <th>MonthlyCharges</th>\n",
       "      <th>TotalCharges</th>\n",
       "      <th>Quit</th>\n",
       "    </tr>\n",
       "  </thead>\n",
       "  <tbody>\n",
       "    <tr>\n",
       "      <th>0</th>\n",
       "      <td>7590-VHVEG</td>\n",
       "      <td>2020-01-01</td>\n",
       "      <td>2020-02-01</td>\n",
       "      <td>Month-to-month</td>\n",
       "      <td>Yes</td>\n",
       "      <td>Electronic check</td>\n",
       "      <td>29.85</td>\n",
       "      <td>31.04</td>\n",
       "      <td>0</td>\n",
       "    </tr>\n",
       "    <tr>\n",
       "      <th>1</th>\n",
       "      <td>5575-GNVDE</td>\n",
       "      <td>2017-04-01</td>\n",
       "      <td>2020-02-01</td>\n",
       "      <td>One year</td>\n",
       "      <td>No</td>\n",
       "      <td>Mailed check</td>\n",
       "      <td>56.95</td>\n",
       "      <td>2071.84</td>\n",
       "      <td>0</td>\n",
       "    </tr>\n",
       "    <tr>\n",
       "      <th>2</th>\n",
       "      <td>3668-QPYBK</td>\n",
       "      <td>2019-10-01</td>\n",
       "      <td>2020-02-01</td>\n",
       "      <td>Month-to-month</td>\n",
       "      <td>Yes</td>\n",
       "      <td>Mailed check</td>\n",
       "      <td>53.85</td>\n",
       "      <td>226.17</td>\n",
       "      <td>0</td>\n",
       "    </tr>\n",
       "    <tr>\n",
       "      <th>3</th>\n",
       "      <td>7795-CFOCW</td>\n",
       "      <td>2016-05-01</td>\n",
       "      <td>2020-02-01</td>\n",
       "      <td>One year</td>\n",
       "      <td>No</td>\n",
       "      <td>Bank transfer (automatic)</td>\n",
       "      <td>42.30</td>\n",
       "      <td>1960.6</td>\n",
       "      <td>0</td>\n",
       "    </tr>\n",
       "    <tr>\n",
       "      <th>4</th>\n",
       "      <td>9237-HQITU</td>\n",
       "      <td>2019-09-01</td>\n",
       "      <td>2020-02-01</td>\n",
       "      <td>Month-to-month</td>\n",
       "      <td>Yes</td>\n",
       "      <td>Electronic check</td>\n",
       "      <td>70.70</td>\n",
       "      <td>353.5</td>\n",
       "      <td>0</td>\n",
       "    </tr>\n",
       "  </tbody>\n",
       "</table>\n",
       "</div>"
      ],
      "text/plain": [
       "   CustomerID  BeginDate      EndDate            Type PaperlessBilling  \\\n",
       "0  7590-VHVEG 2020-01-01   2020-02-01  Month-to-month              Yes   \n",
       "1  5575-GNVDE 2017-04-01   2020-02-01        One year               No   \n",
       "2  3668-QPYBK 2019-10-01   2020-02-01  Month-to-month              Yes   \n",
       "3  7795-CFOCW 2016-05-01   2020-02-01        One year               No   \n",
       "4  9237-HQITU 2019-09-01   2020-02-01  Month-to-month              Yes   \n",
       "\n",
       "               PaymentMethod  MonthlyCharges TotalCharges  Quit  \n",
       "0           Electronic check           29.85        31.04     0  \n",
       "1               Mailed check           56.95      2071.84     0  \n",
       "2               Mailed check           53.85       226.17     0  \n",
       "3  Bank transfer (automatic)           42.30       1960.6     0  \n",
       "4           Electronic check           70.70        353.5     0  "
      ]
     },
     "execution_count": 38,
     "metadata": {},
     "output_type": "execute_result"
    }
   ],
   "source": [
    "contract.head()"
   ]
  },
  {
   "cell_type": "code",
   "execution_count": 39,
   "metadata": {},
   "outputs": [],
   "source": [
    "contract['EndDate'] = pd.to_datetime(contract['EndDate'] , format='%Y-%m-%d')"
   ]
  },
  {
   "cell_type": "code",
   "execution_count": 40,
   "metadata": {},
   "outputs": [],
   "source": [
    "contract['TotalCharges'] = pd.to_numeric(contract['TotalCharges'],errors='coerce')"
   ]
  },
  {
   "cell_type": "code",
   "execution_count": 41,
   "metadata": {},
   "outputs": [
    {
     "name": "stdout",
     "output_type": "stream",
     "text": [
      "<class 'pandas.core.frame.DataFrame'>\n",
      "RangeIndex: 7043 entries, 0 to 7042\n",
      "Data columns (total 9 columns):\n",
      " #   Column            Non-Null Count  Dtype         \n",
      "---  ------            --------------  -----         \n",
      " 0   CustomerID        7043 non-null   object        \n",
      " 1   BeginDate         7043 non-null   datetime64[ns]\n",
      " 2   EndDate           7043 non-null   datetime64[ns]\n",
      " 3   Type              7043 non-null   object        \n",
      " 4   PaperlessBilling  7043 non-null   object        \n",
      " 5   PaymentMethod     7043 non-null   object        \n",
      " 6   MonthlyCharges    7043 non-null   float64       \n",
      " 7   TotalCharges      7032 non-null   float64       \n",
      " 8   Quit              7043 non-null   int64         \n",
      "dtypes: datetime64[ns](2), float64(2), int64(1), object(4)\n",
      "memory usage: 495.3+ KB\n"
     ]
    }
   ],
   "source": [
    "contract.info()"
   ]
  },
  {
   "cell_type": "markdown",
   "metadata": {},
   "source": [
    "* создадим столбец `TotalDays`(всего дней сколько человек пользовался услугами)"
   ]
  },
  {
   "cell_type": "code",
   "execution_count": 42,
   "metadata": {},
   "outputs": [],
   "source": [
    "contract['TotalDays'] = contract['EndDate'] - contract['BeginDate']"
   ]
  },
  {
   "cell_type": "code",
   "execution_count": 43,
   "metadata": {},
   "outputs": [
    {
     "data": {
      "text/html": [
       "<div>\n",
       "<style scoped>\n",
       "    .dataframe tbody tr th:only-of-type {\n",
       "        vertical-align: middle;\n",
       "    }\n",
       "\n",
       "    .dataframe tbody tr th {\n",
       "        vertical-align: top;\n",
       "    }\n",
       "\n",
       "    .dataframe thead th {\n",
       "        text-align: right;\n",
       "    }\n",
       "</style>\n",
       "<table border=\"1\" class=\"dataframe\">\n",
       "  <thead>\n",
       "    <tr style=\"text-align: right;\">\n",
       "      <th></th>\n",
       "      <th>CustomerID</th>\n",
       "      <th>BeginDate</th>\n",
       "      <th>EndDate</th>\n",
       "      <th>Type</th>\n",
       "      <th>PaperlessBilling</th>\n",
       "      <th>PaymentMethod</th>\n",
       "      <th>MonthlyCharges</th>\n",
       "      <th>TotalCharges</th>\n",
       "      <th>Quit</th>\n",
       "      <th>TotalDays</th>\n",
       "    </tr>\n",
       "  </thead>\n",
       "  <tbody>\n",
       "    <tr>\n",
       "      <th>0</th>\n",
       "      <td>7590-VHVEG</td>\n",
       "      <td>2020-01-01</td>\n",
       "      <td>2020-02-01</td>\n",
       "      <td>Month-to-month</td>\n",
       "      <td>Yes</td>\n",
       "      <td>Electronic check</td>\n",
       "      <td>29.85</td>\n",
       "      <td>31.04</td>\n",
       "      <td>0</td>\n",
       "      <td>31 days</td>\n",
       "    </tr>\n",
       "    <tr>\n",
       "      <th>1</th>\n",
       "      <td>5575-GNVDE</td>\n",
       "      <td>2017-04-01</td>\n",
       "      <td>2020-02-01</td>\n",
       "      <td>One year</td>\n",
       "      <td>No</td>\n",
       "      <td>Mailed check</td>\n",
       "      <td>56.95</td>\n",
       "      <td>2071.84</td>\n",
       "      <td>0</td>\n",
       "      <td>1036 days</td>\n",
       "    </tr>\n",
       "    <tr>\n",
       "      <th>2</th>\n",
       "      <td>3668-QPYBK</td>\n",
       "      <td>2019-10-01</td>\n",
       "      <td>2020-02-01</td>\n",
       "      <td>Month-to-month</td>\n",
       "      <td>Yes</td>\n",
       "      <td>Mailed check</td>\n",
       "      <td>53.85</td>\n",
       "      <td>226.17</td>\n",
       "      <td>0</td>\n",
       "      <td>123 days</td>\n",
       "    </tr>\n",
       "    <tr>\n",
       "      <th>3</th>\n",
       "      <td>7795-CFOCW</td>\n",
       "      <td>2016-05-01</td>\n",
       "      <td>2020-02-01</td>\n",
       "      <td>One year</td>\n",
       "      <td>No</td>\n",
       "      <td>Bank transfer (automatic)</td>\n",
       "      <td>42.30</td>\n",
       "      <td>1960.60</td>\n",
       "      <td>0</td>\n",
       "      <td>1371 days</td>\n",
       "    </tr>\n",
       "    <tr>\n",
       "      <th>4</th>\n",
       "      <td>9237-HQITU</td>\n",
       "      <td>2019-09-01</td>\n",
       "      <td>2020-02-01</td>\n",
       "      <td>Month-to-month</td>\n",
       "      <td>Yes</td>\n",
       "      <td>Electronic check</td>\n",
       "      <td>70.70</td>\n",
       "      <td>353.50</td>\n",
       "      <td>0</td>\n",
       "      <td>153 days</td>\n",
       "    </tr>\n",
       "  </tbody>\n",
       "</table>\n",
       "</div>"
      ],
      "text/plain": [
       "   CustomerID  BeginDate    EndDate            Type PaperlessBilling  \\\n",
       "0  7590-VHVEG 2020-01-01 2020-02-01  Month-to-month              Yes   \n",
       "1  5575-GNVDE 2017-04-01 2020-02-01        One year               No   \n",
       "2  3668-QPYBK 2019-10-01 2020-02-01  Month-to-month              Yes   \n",
       "3  7795-CFOCW 2016-05-01 2020-02-01        One year               No   \n",
       "4  9237-HQITU 2019-09-01 2020-02-01  Month-to-month              Yes   \n",
       "\n",
       "               PaymentMethod  MonthlyCharges  TotalCharges  Quit TotalDays  \n",
       "0           Electronic check           29.85         31.04     0   31 days  \n",
       "1               Mailed check           56.95       2071.84     0 1036 days  \n",
       "2               Mailed check           53.85        226.17     0  123 days  \n",
       "3  Bank transfer (automatic)           42.30       1960.60     0 1371 days  \n",
       "4           Electronic check           70.70        353.50     0  153 days  "
      ]
     },
     "execution_count": 43,
     "metadata": {},
     "output_type": "execute_result"
    }
   ],
   "source": [
    "contract.head()"
   ]
  },
  {
   "cell_type": "code",
   "execution_count": 44,
   "metadata": {},
   "outputs": [
    {
     "name": "stdout",
     "output_type": "stream",
     "text": [
      "<class 'pandas.core.frame.DataFrame'>\n",
      "RangeIndex: 7043 entries, 0 to 7042\n",
      "Data columns (total 10 columns):\n",
      " #   Column            Non-Null Count  Dtype          \n",
      "---  ------            --------------  -----          \n",
      " 0   CustomerID        7043 non-null   object         \n",
      " 1   BeginDate         7043 non-null   datetime64[ns] \n",
      " 2   EndDate           7043 non-null   datetime64[ns] \n",
      " 3   Type              7043 non-null   object         \n",
      " 4   PaperlessBilling  7043 non-null   object         \n",
      " 5   PaymentMethod     7043 non-null   object         \n",
      " 6   MonthlyCharges    7043 non-null   float64        \n",
      " 7   TotalCharges      7032 non-null   float64        \n",
      " 8   Quit              7043 non-null   int64          \n",
      " 9   TotalDays         7043 non-null   timedelta64[ns]\n",
      "dtypes: datetime64[ns](2), float64(2), int64(1), object(4), timedelta64[ns](1)\n",
      "memory usage: 550.4+ KB\n"
     ]
    }
   ],
   "source": [
    "contract.info()"
   ]
  },
  {
   "cell_type": "code",
   "execution_count": 45,
   "metadata": {},
   "outputs": [],
   "source": [
    "contract['TotalDays'] = contract['TotalDays'].dt.days"
   ]
  },
  {
   "cell_type": "code",
   "execution_count": 46,
   "metadata": {},
   "outputs": [
    {
     "data": {
      "text/html": [
       "<div>\n",
       "<style scoped>\n",
       "    .dataframe tbody tr th:only-of-type {\n",
       "        vertical-align: middle;\n",
       "    }\n",
       "\n",
       "    .dataframe tbody tr th {\n",
       "        vertical-align: top;\n",
       "    }\n",
       "\n",
       "    .dataframe thead th {\n",
       "        text-align: right;\n",
       "    }\n",
       "</style>\n",
       "<table border=\"1\" class=\"dataframe\">\n",
       "  <thead>\n",
       "    <tr style=\"text-align: right;\">\n",
       "      <th></th>\n",
       "      <th>CustomerID</th>\n",
       "      <th>BeginDate</th>\n",
       "      <th>EndDate</th>\n",
       "      <th>Type</th>\n",
       "      <th>PaperlessBilling</th>\n",
       "      <th>PaymentMethod</th>\n",
       "      <th>MonthlyCharges</th>\n",
       "      <th>TotalCharges</th>\n",
       "      <th>Quit</th>\n",
       "      <th>TotalDays</th>\n",
       "    </tr>\n",
       "  </thead>\n",
       "  <tbody>\n",
       "    <tr>\n",
       "      <th>0</th>\n",
       "      <td>7590-VHVEG</td>\n",
       "      <td>2020-01-01</td>\n",
       "      <td>2020-02-01</td>\n",
       "      <td>Month-to-month</td>\n",
       "      <td>Yes</td>\n",
       "      <td>Electronic check</td>\n",
       "      <td>29.85</td>\n",
       "      <td>31.04</td>\n",
       "      <td>0</td>\n",
       "      <td>31</td>\n",
       "    </tr>\n",
       "    <tr>\n",
       "      <th>1</th>\n",
       "      <td>5575-GNVDE</td>\n",
       "      <td>2017-04-01</td>\n",
       "      <td>2020-02-01</td>\n",
       "      <td>One year</td>\n",
       "      <td>No</td>\n",
       "      <td>Mailed check</td>\n",
       "      <td>56.95</td>\n",
       "      <td>2071.84</td>\n",
       "      <td>0</td>\n",
       "      <td>1036</td>\n",
       "    </tr>\n",
       "    <tr>\n",
       "      <th>2</th>\n",
       "      <td>3668-QPYBK</td>\n",
       "      <td>2019-10-01</td>\n",
       "      <td>2020-02-01</td>\n",
       "      <td>Month-to-month</td>\n",
       "      <td>Yes</td>\n",
       "      <td>Mailed check</td>\n",
       "      <td>53.85</td>\n",
       "      <td>226.17</td>\n",
       "      <td>0</td>\n",
       "      <td>123</td>\n",
       "    </tr>\n",
       "    <tr>\n",
       "      <th>3</th>\n",
       "      <td>7795-CFOCW</td>\n",
       "      <td>2016-05-01</td>\n",
       "      <td>2020-02-01</td>\n",
       "      <td>One year</td>\n",
       "      <td>No</td>\n",
       "      <td>Bank transfer (automatic)</td>\n",
       "      <td>42.30</td>\n",
       "      <td>1960.60</td>\n",
       "      <td>0</td>\n",
       "      <td>1371</td>\n",
       "    </tr>\n",
       "    <tr>\n",
       "      <th>4</th>\n",
       "      <td>9237-HQITU</td>\n",
       "      <td>2019-09-01</td>\n",
       "      <td>2020-02-01</td>\n",
       "      <td>Month-to-month</td>\n",
       "      <td>Yes</td>\n",
       "      <td>Electronic check</td>\n",
       "      <td>70.70</td>\n",
       "      <td>353.50</td>\n",
       "      <td>0</td>\n",
       "      <td>153</td>\n",
       "    </tr>\n",
       "  </tbody>\n",
       "</table>\n",
       "</div>"
      ],
      "text/plain": [
       "   CustomerID  BeginDate    EndDate            Type PaperlessBilling  \\\n",
       "0  7590-VHVEG 2020-01-01 2020-02-01  Month-to-month              Yes   \n",
       "1  5575-GNVDE 2017-04-01 2020-02-01        One year               No   \n",
       "2  3668-QPYBK 2019-10-01 2020-02-01  Month-to-month              Yes   \n",
       "3  7795-CFOCW 2016-05-01 2020-02-01        One year               No   \n",
       "4  9237-HQITU 2019-09-01 2020-02-01  Month-to-month              Yes   \n",
       "\n",
       "               PaymentMethod  MonthlyCharges  TotalCharges  Quit  TotalDays  \n",
       "0           Electronic check           29.85         31.04     0         31  \n",
       "1               Mailed check           56.95       2071.84     0       1036  \n",
       "2               Mailed check           53.85        226.17     0        123  \n",
       "3  Bank transfer (automatic)           42.30       1960.60     0       1371  \n",
       "4           Electronic check           70.70        353.50     0        153  "
      ]
     },
     "execution_count": 46,
     "metadata": {},
     "output_type": "execute_result"
    }
   ],
   "source": [
    "contract.head()"
   ]
  },
  {
   "cell_type": "code",
   "execution_count": 47,
   "metadata": {},
   "outputs": [
    {
     "data": {
      "text/plain": [
       "CustomerID           0\n",
       "BeginDate            0\n",
       "EndDate              0\n",
       "Type                 0\n",
       "PaperlessBilling     0\n",
       "PaymentMethod        0\n",
       "MonthlyCharges       0\n",
       "TotalCharges        11\n",
       "Quit                 0\n",
       "TotalDays            0\n",
       "dtype: int64"
      ]
     },
     "execution_count": 47,
     "metadata": {},
     "output_type": "execute_result"
    }
   ],
   "source": [
    "contract.isnull().sum()"
   ]
  },
  {
   "cell_type": "markdown",
   "metadata": {},
   "source": [
    "**Вывод**:\n",
    "В данном разделе\n",
    "- превели названия столбцов к одному виду;\n",
    "- изменили типы данных в таблице ***contract***;\n",
    "- добавили 2 новых столбца в таблицу ***contract*** : `TotalDays`(всего дней сколько человек пользовался услугами), `Quit` (целевой признак, ушел или нет)."
   ]
  },
  {
   "cell_type": "markdown",
   "metadata": {},
   "source": [
    "## Исследовательский анализ"
   ]
  },
  {
   "cell_type": "code",
   "execution_count": 48,
   "metadata": {},
   "outputs": [],
   "source": [
    "data = contract \\\n",
    "    .merge(personal, how='left', on='CustomerID') \\\n",
    "    .merge(internet, how='left', on='CustomerID') \\\n",
    "    .merge(phone, how='left', on='CustomerID') "
   ]
  },
  {
   "cell_type": "code",
   "execution_count": 49,
   "metadata": {},
   "outputs": [
    {
     "data": {
      "text/html": [
       "<div>\n",
       "<style scoped>\n",
       "    .dataframe tbody tr th:only-of-type {\n",
       "        vertical-align: middle;\n",
       "    }\n",
       "\n",
       "    .dataframe tbody tr th {\n",
       "        vertical-align: top;\n",
       "    }\n",
       "\n",
       "    .dataframe thead th {\n",
       "        text-align: right;\n",
       "    }\n",
       "</style>\n",
       "<table border=\"1\" class=\"dataframe\">\n",
       "  <thead>\n",
       "    <tr style=\"text-align: right;\">\n",
       "      <th></th>\n",
       "      <th>CustomerID</th>\n",
       "      <th>BeginDate</th>\n",
       "      <th>EndDate</th>\n",
       "      <th>Type</th>\n",
       "      <th>PaperlessBilling</th>\n",
       "      <th>PaymentMethod</th>\n",
       "      <th>MonthlyCharges</th>\n",
       "      <th>TotalCharges</th>\n",
       "      <th>Quit</th>\n",
       "      <th>TotalDays</th>\n",
       "      <th>Gender</th>\n",
       "      <th>SeniorCitizen</th>\n",
       "      <th>Partner</th>\n",
       "      <th>Dependents</th>\n",
       "      <th>InternetService</th>\n",
       "      <th>OnlineSecurity</th>\n",
       "      <th>OnlineBackup</th>\n",
       "      <th>DeviceProtection</th>\n",
       "      <th>TechSupport</th>\n",
       "      <th>StreamingTV</th>\n",
       "      <th>StreamingMovies</th>\n",
       "      <th>MultipleLines</th>\n",
       "    </tr>\n",
       "  </thead>\n",
       "  <tbody>\n",
       "    <tr>\n",
       "      <th>0</th>\n",
       "      <td>7590-VHVEG</td>\n",
       "      <td>2020-01-01</td>\n",
       "      <td>2020-02-01</td>\n",
       "      <td>Month-to-month</td>\n",
       "      <td>Yes</td>\n",
       "      <td>Electronic check</td>\n",
       "      <td>29.85</td>\n",
       "      <td>31.04</td>\n",
       "      <td>0</td>\n",
       "      <td>31</td>\n",
       "      <td>Female</td>\n",
       "      <td>0</td>\n",
       "      <td>Yes</td>\n",
       "      <td>No</td>\n",
       "      <td>DSL</td>\n",
       "      <td>No</td>\n",
       "      <td>Yes</td>\n",
       "      <td>No</td>\n",
       "      <td>No</td>\n",
       "      <td>No</td>\n",
       "      <td>No</td>\n",
       "      <td>NaN</td>\n",
       "    </tr>\n",
       "    <tr>\n",
       "      <th>1</th>\n",
       "      <td>5575-GNVDE</td>\n",
       "      <td>2017-04-01</td>\n",
       "      <td>2020-02-01</td>\n",
       "      <td>One year</td>\n",
       "      <td>No</td>\n",
       "      <td>Mailed check</td>\n",
       "      <td>56.95</td>\n",
       "      <td>2071.84</td>\n",
       "      <td>0</td>\n",
       "      <td>1036</td>\n",
       "      <td>Male</td>\n",
       "      <td>0</td>\n",
       "      <td>No</td>\n",
       "      <td>No</td>\n",
       "      <td>DSL</td>\n",
       "      <td>Yes</td>\n",
       "      <td>No</td>\n",
       "      <td>Yes</td>\n",
       "      <td>No</td>\n",
       "      <td>No</td>\n",
       "      <td>No</td>\n",
       "      <td>No</td>\n",
       "    </tr>\n",
       "    <tr>\n",
       "      <th>2</th>\n",
       "      <td>3668-QPYBK</td>\n",
       "      <td>2019-10-01</td>\n",
       "      <td>2020-02-01</td>\n",
       "      <td>Month-to-month</td>\n",
       "      <td>Yes</td>\n",
       "      <td>Mailed check</td>\n",
       "      <td>53.85</td>\n",
       "      <td>226.17</td>\n",
       "      <td>0</td>\n",
       "      <td>123</td>\n",
       "      <td>Male</td>\n",
       "      <td>0</td>\n",
       "      <td>No</td>\n",
       "      <td>No</td>\n",
       "      <td>DSL</td>\n",
       "      <td>Yes</td>\n",
       "      <td>Yes</td>\n",
       "      <td>No</td>\n",
       "      <td>No</td>\n",
       "      <td>No</td>\n",
       "      <td>No</td>\n",
       "      <td>No</td>\n",
       "    </tr>\n",
       "    <tr>\n",
       "      <th>3</th>\n",
       "      <td>7795-CFOCW</td>\n",
       "      <td>2016-05-01</td>\n",
       "      <td>2020-02-01</td>\n",
       "      <td>One year</td>\n",
       "      <td>No</td>\n",
       "      <td>Bank transfer (automatic)</td>\n",
       "      <td>42.30</td>\n",
       "      <td>1960.60</td>\n",
       "      <td>0</td>\n",
       "      <td>1371</td>\n",
       "      <td>Male</td>\n",
       "      <td>0</td>\n",
       "      <td>No</td>\n",
       "      <td>No</td>\n",
       "      <td>DSL</td>\n",
       "      <td>Yes</td>\n",
       "      <td>No</td>\n",
       "      <td>Yes</td>\n",
       "      <td>Yes</td>\n",
       "      <td>No</td>\n",
       "      <td>No</td>\n",
       "      <td>NaN</td>\n",
       "    </tr>\n",
       "    <tr>\n",
       "      <th>4</th>\n",
       "      <td>9237-HQITU</td>\n",
       "      <td>2019-09-01</td>\n",
       "      <td>2020-02-01</td>\n",
       "      <td>Month-to-month</td>\n",
       "      <td>Yes</td>\n",
       "      <td>Electronic check</td>\n",
       "      <td>70.70</td>\n",
       "      <td>353.50</td>\n",
       "      <td>0</td>\n",
       "      <td>153</td>\n",
       "      <td>Female</td>\n",
       "      <td>0</td>\n",
       "      <td>No</td>\n",
       "      <td>No</td>\n",
       "      <td>Fiber optic</td>\n",
       "      <td>No</td>\n",
       "      <td>No</td>\n",
       "      <td>No</td>\n",
       "      <td>No</td>\n",
       "      <td>No</td>\n",
       "      <td>No</td>\n",
       "      <td>No</td>\n",
       "    </tr>\n",
       "  </tbody>\n",
       "</table>\n",
       "</div>"
      ],
      "text/plain": [
       "   CustomerID  BeginDate    EndDate            Type PaperlessBilling  \\\n",
       "0  7590-VHVEG 2020-01-01 2020-02-01  Month-to-month              Yes   \n",
       "1  5575-GNVDE 2017-04-01 2020-02-01        One year               No   \n",
       "2  3668-QPYBK 2019-10-01 2020-02-01  Month-to-month              Yes   \n",
       "3  7795-CFOCW 2016-05-01 2020-02-01        One year               No   \n",
       "4  9237-HQITU 2019-09-01 2020-02-01  Month-to-month              Yes   \n",
       "\n",
       "               PaymentMethod  MonthlyCharges  TotalCharges  Quit  TotalDays  \\\n",
       "0           Electronic check           29.85         31.04     0         31   \n",
       "1               Mailed check           56.95       2071.84     0       1036   \n",
       "2               Mailed check           53.85        226.17     0        123   \n",
       "3  Bank transfer (automatic)           42.30       1960.60     0       1371   \n",
       "4           Electronic check           70.70        353.50     0        153   \n",
       "\n",
       "   Gender  SeniorCitizen Partner Dependents InternetService OnlineSecurity  \\\n",
       "0  Female              0     Yes         No             DSL             No   \n",
       "1    Male              0      No         No             DSL            Yes   \n",
       "2    Male              0      No         No             DSL            Yes   \n",
       "3    Male              0      No         No             DSL            Yes   \n",
       "4  Female              0      No         No     Fiber optic             No   \n",
       "\n",
       "  OnlineBackup DeviceProtection TechSupport StreamingTV StreamingMovies  \\\n",
       "0          Yes               No          No          No              No   \n",
       "1           No              Yes          No          No              No   \n",
       "2          Yes               No          No          No              No   \n",
       "3           No              Yes         Yes          No              No   \n",
       "4           No               No          No          No              No   \n",
       "\n",
       "  MultipleLines  \n",
       "0           NaN  \n",
       "1            No  \n",
       "2            No  \n",
       "3           NaN  \n",
       "4            No  "
      ]
     },
     "execution_count": 49,
     "metadata": {},
     "output_type": "execute_result"
    }
   ],
   "source": [
    "data.head()"
   ]
  },
  {
   "cell_type": "markdown",
   "metadata": {},
   "source": [
    "Рассмотрим пропуски в полученной таблице."
   ]
  },
  {
   "cell_type": "code",
   "execution_count": 50,
   "metadata": {},
   "outputs": [
    {
     "data": {
      "text/plain": [
       "CustomerID             0\n",
       "BeginDate              0\n",
       "EndDate                0\n",
       "Type                   0\n",
       "PaperlessBilling       0\n",
       "PaymentMethod          0\n",
       "MonthlyCharges         0\n",
       "TotalCharges          11\n",
       "Quit                   0\n",
       "TotalDays              0\n",
       "Gender                 0\n",
       "SeniorCitizen          0\n",
       "Partner                0\n",
       "Dependents             0\n",
       "InternetService     1526\n",
       "OnlineSecurity      1526\n",
       "OnlineBackup        1526\n",
       "DeviceProtection    1526\n",
       "TechSupport         1526\n",
       "StreamingTV         1526\n",
       "StreamingMovies     1526\n",
       "MultipleLines        682\n",
       "dtype: int64"
      ]
     },
     "execution_count": 50,
     "metadata": {},
     "output_type": "execute_result"
    }
   ],
   "source": [
    "data.isnull().sum()"
   ]
  },
  {
   "cell_type": "markdown",
   "metadata": {},
   "source": [
    "- Пропуски в столбце `TotalCharges`"
   ]
  },
  {
   "cell_type": "code",
   "execution_count": 51,
   "metadata": {},
   "outputs": [
    {
     "data": {
      "text/html": [
       "<div>\n",
       "<style scoped>\n",
       "    .dataframe tbody tr th:only-of-type {\n",
       "        vertical-align: middle;\n",
       "    }\n",
       "\n",
       "    .dataframe tbody tr th {\n",
       "        vertical-align: top;\n",
       "    }\n",
       "\n",
       "    .dataframe thead th {\n",
       "        text-align: right;\n",
       "    }\n",
       "</style>\n",
       "<table border=\"1\" class=\"dataframe\">\n",
       "  <thead>\n",
       "    <tr style=\"text-align: right;\">\n",
       "      <th></th>\n",
       "      <th>CustomerID</th>\n",
       "      <th>BeginDate</th>\n",
       "      <th>EndDate</th>\n",
       "      <th>Type</th>\n",
       "      <th>PaperlessBilling</th>\n",
       "      <th>PaymentMethod</th>\n",
       "      <th>MonthlyCharges</th>\n",
       "      <th>TotalCharges</th>\n",
       "      <th>Quit</th>\n",
       "      <th>TotalDays</th>\n",
       "      <th>Gender</th>\n",
       "      <th>SeniorCitizen</th>\n",
       "      <th>Partner</th>\n",
       "      <th>Dependents</th>\n",
       "      <th>InternetService</th>\n",
       "      <th>OnlineSecurity</th>\n",
       "      <th>OnlineBackup</th>\n",
       "      <th>DeviceProtection</th>\n",
       "      <th>TechSupport</th>\n",
       "      <th>StreamingTV</th>\n",
       "      <th>StreamingMovies</th>\n",
       "      <th>MultipleLines</th>\n",
       "    </tr>\n",
       "  </thead>\n",
       "  <tbody>\n",
       "    <tr>\n",
       "      <th>488</th>\n",
       "      <td>4472-LVYGI</td>\n",
       "      <td>2020-02-01</td>\n",
       "      <td>2020-02-01</td>\n",
       "      <td>Two year</td>\n",
       "      <td>Yes</td>\n",
       "      <td>Bank transfer (automatic)</td>\n",
       "      <td>52.55</td>\n",
       "      <td>NaN</td>\n",
       "      <td>0</td>\n",
       "      <td>0</td>\n",
       "      <td>Female</td>\n",
       "      <td>0</td>\n",
       "      <td>Yes</td>\n",
       "      <td>Yes</td>\n",
       "      <td>DSL</td>\n",
       "      <td>Yes</td>\n",
       "      <td>No</td>\n",
       "      <td>Yes</td>\n",
       "      <td>Yes</td>\n",
       "      <td>Yes</td>\n",
       "      <td>No</td>\n",
       "      <td>NaN</td>\n",
       "    </tr>\n",
       "    <tr>\n",
       "      <th>753</th>\n",
       "      <td>3115-CZMZD</td>\n",
       "      <td>2020-02-01</td>\n",
       "      <td>2020-02-01</td>\n",
       "      <td>Two year</td>\n",
       "      <td>No</td>\n",
       "      <td>Mailed check</td>\n",
       "      <td>20.25</td>\n",
       "      <td>NaN</td>\n",
       "      <td>0</td>\n",
       "      <td>0</td>\n",
       "      <td>Male</td>\n",
       "      <td>0</td>\n",
       "      <td>No</td>\n",
       "      <td>Yes</td>\n",
       "      <td>NaN</td>\n",
       "      <td>NaN</td>\n",
       "      <td>NaN</td>\n",
       "      <td>NaN</td>\n",
       "      <td>NaN</td>\n",
       "      <td>NaN</td>\n",
       "      <td>NaN</td>\n",
       "      <td>No</td>\n",
       "    </tr>\n",
       "    <tr>\n",
       "      <th>936</th>\n",
       "      <td>5709-LVOEQ</td>\n",
       "      <td>2020-02-01</td>\n",
       "      <td>2020-02-01</td>\n",
       "      <td>Two year</td>\n",
       "      <td>No</td>\n",
       "      <td>Mailed check</td>\n",
       "      <td>80.85</td>\n",
       "      <td>NaN</td>\n",
       "      <td>0</td>\n",
       "      <td>0</td>\n",
       "      <td>Female</td>\n",
       "      <td>0</td>\n",
       "      <td>Yes</td>\n",
       "      <td>Yes</td>\n",
       "      <td>DSL</td>\n",
       "      <td>Yes</td>\n",
       "      <td>Yes</td>\n",
       "      <td>Yes</td>\n",
       "      <td>No</td>\n",
       "      <td>Yes</td>\n",
       "      <td>Yes</td>\n",
       "      <td>No</td>\n",
       "    </tr>\n",
       "    <tr>\n",
       "      <th>1082</th>\n",
       "      <td>4367-NUYAO</td>\n",
       "      <td>2020-02-01</td>\n",
       "      <td>2020-02-01</td>\n",
       "      <td>Two year</td>\n",
       "      <td>No</td>\n",
       "      <td>Mailed check</td>\n",
       "      <td>25.75</td>\n",
       "      <td>NaN</td>\n",
       "      <td>0</td>\n",
       "      <td>0</td>\n",
       "      <td>Male</td>\n",
       "      <td>0</td>\n",
       "      <td>Yes</td>\n",
       "      <td>Yes</td>\n",
       "      <td>NaN</td>\n",
       "      <td>NaN</td>\n",
       "      <td>NaN</td>\n",
       "      <td>NaN</td>\n",
       "      <td>NaN</td>\n",
       "      <td>NaN</td>\n",
       "      <td>NaN</td>\n",
       "      <td>Yes</td>\n",
       "    </tr>\n",
       "    <tr>\n",
       "      <th>1340</th>\n",
       "      <td>1371-DWPAZ</td>\n",
       "      <td>2020-02-01</td>\n",
       "      <td>2020-02-01</td>\n",
       "      <td>Two year</td>\n",
       "      <td>No</td>\n",
       "      <td>Credit card (automatic)</td>\n",
       "      <td>56.05</td>\n",
       "      <td>NaN</td>\n",
       "      <td>0</td>\n",
       "      <td>0</td>\n",
       "      <td>Female</td>\n",
       "      <td>0</td>\n",
       "      <td>Yes</td>\n",
       "      <td>Yes</td>\n",
       "      <td>DSL</td>\n",
       "      <td>Yes</td>\n",
       "      <td>Yes</td>\n",
       "      <td>Yes</td>\n",
       "      <td>Yes</td>\n",
       "      <td>Yes</td>\n",
       "      <td>No</td>\n",
       "      <td>NaN</td>\n",
       "    </tr>\n",
       "    <tr>\n",
       "      <th>3331</th>\n",
       "      <td>7644-OMVMY</td>\n",
       "      <td>2020-02-01</td>\n",
       "      <td>2020-02-01</td>\n",
       "      <td>Two year</td>\n",
       "      <td>No</td>\n",
       "      <td>Mailed check</td>\n",
       "      <td>19.85</td>\n",
       "      <td>NaN</td>\n",
       "      <td>0</td>\n",
       "      <td>0</td>\n",
       "      <td>Male</td>\n",
       "      <td>0</td>\n",
       "      <td>Yes</td>\n",
       "      <td>Yes</td>\n",
       "      <td>NaN</td>\n",
       "      <td>NaN</td>\n",
       "      <td>NaN</td>\n",
       "      <td>NaN</td>\n",
       "      <td>NaN</td>\n",
       "      <td>NaN</td>\n",
       "      <td>NaN</td>\n",
       "      <td>No</td>\n",
       "    </tr>\n",
       "    <tr>\n",
       "      <th>3826</th>\n",
       "      <td>3213-VVOLG</td>\n",
       "      <td>2020-02-01</td>\n",
       "      <td>2020-02-01</td>\n",
       "      <td>Two year</td>\n",
       "      <td>No</td>\n",
       "      <td>Mailed check</td>\n",
       "      <td>25.35</td>\n",
       "      <td>NaN</td>\n",
       "      <td>0</td>\n",
       "      <td>0</td>\n",
       "      <td>Male</td>\n",
       "      <td>0</td>\n",
       "      <td>Yes</td>\n",
       "      <td>Yes</td>\n",
       "      <td>NaN</td>\n",
       "      <td>NaN</td>\n",
       "      <td>NaN</td>\n",
       "      <td>NaN</td>\n",
       "      <td>NaN</td>\n",
       "      <td>NaN</td>\n",
       "      <td>NaN</td>\n",
       "      <td>Yes</td>\n",
       "    </tr>\n",
       "    <tr>\n",
       "      <th>4380</th>\n",
       "      <td>2520-SGTTA</td>\n",
       "      <td>2020-02-01</td>\n",
       "      <td>2020-02-01</td>\n",
       "      <td>Two year</td>\n",
       "      <td>No</td>\n",
       "      <td>Mailed check</td>\n",
       "      <td>20.00</td>\n",
       "      <td>NaN</td>\n",
       "      <td>0</td>\n",
       "      <td>0</td>\n",
       "      <td>Female</td>\n",
       "      <td>0</td>\n",
       "      <td>Yes</td>\n",
       "      <td>Yes</td>\n",
       "      <td>NaN</td>\n",
       "      <td>NaN</td>\n",
       "      <td>NaN</td>\n",
       "      <td>NaN</td>\n",
       "      <td>NaN</td>\n",
       "      <td>NaN</td>\n",
       "      <td>NaN</td>\n",
       "      <td>No</td>\n",
       "    </tr>\n",
       "    <tr>\n",
       "      <th>5218</th>\n",
       "      <td>2923-ARZLG</td>\n",
       "      <td>2020-02-01</td>\n",
       "      <td>2020-02-01</td>\n",
       "      <td>One year</td>\n",
       "      <td>Yes</td>\n",
       "      <td>Mailed check</td>\n",
       "      <td>19.70</td>\n",
       "      <td>NaN</td>\n",
       "      <td>0</td>\n",
       "      <td>0</td>\n",
       "      <td>Male</td>\n",
       "      <td>0</td>\n",
       "      <td>Yes</td>\n",
       "      <td>Yes</td>\n",
       "      <td>NaN</td>\n",
       "      <td>NaN</td>\n",
       "      <td>NaN</td>\n",
       "      <td>NaN</td>\n",
       "      <td>NaN</td>\n",
       "      <td>NaN</td>\n",
       "      <td>NaN</td>\n",
       "      <td>No</td>\n",
       "    </tr>\n",
       "    <tr>\n",
       "      <th>6670</th>\n",
       "      <td>4075-WKNIU</td>\n",
       "      <td>2020-02-01</td>\n",
       "      <td>2020-02-01</td>\n",
       "      <td>Two year</td>\n",
       "      <td>No</td>\n",
       "      <td>Mailed check</td>\n",
       "      <td>73.35</td>\n",
       "      <td>NaN</td>\n",
       "      <td>0</td>\n",
       "      <td>0</td>\n",
       "      <td>Female</td>\n",
       "      <td>0</td>\n",
       "      <td>Yes</td>\n",
       "      <td>Yes</td>\n",
       "      <td>DSL</td>\n",
       "      <td>No</td>\n",
       "      <td>Yes</td>\n",
       "      <td>Yes</td>\n",
       "      <td>Yes</td>\n",
       "      <td>Yes</td>\n",
       "      <td>No</td>\n",
       "      <td>Yes</td>\n",
       "    </tr>\n",
       "    <tr>\n",
       "      <th>6754</th>\n",
       "      <td>2775-SEFEE</td>\n",
       "      <td>2020-02-01</td>\n",
       "      <td>2020-02-01</td>\n",
       "      <td>Two year</td>\n",
       "      <td>Yes</td>\n",
       "      <td>Bank transfer (automatic)</td>\n",
       "      <td>61.90</td>\n",
       "      <td>NaN</td>\n",
       "      <td>0</td>\n",
       "      <td>0</td>\n",
       "      <td>Male</td>\n",
       "      <td>0</td>\n",
       "      <td>No</td>\n",
       "      <td>Yes</td>\n",
       "      <td>DSL</td>\n",
       "      <td>Yes</td>\n",
       "      <td>Yes</td>\n",
       "      <td>No</td>\n",
       "      <td>Yes</td>\n",
       "      <td>No</td>\n",
       "      <td>No</td>\n",
       "      <td>Yes</td>\n",
       "    </tr>\n",
       "  </tbody>\n",
       "</table>\n",
       "</div>"
      ],
      "text/plain": [
       "      CustomerID  BeginDate    EndDate      Type PaperlessBilling  \\\n",
       "488   4472-LVYGI 2020-02-01 2020-02-01  Two year              Yes   \n",
       "753   3115-CZMZD 2020-02-01 2020-02-01  Two year               No   \n",
       "936   5709-LVOEQ 2020-02-01 2020-02-01  Two year               No   \n",
       "1082  4367-NUYAO 2020-02-01 2020-02-01  Two year               No   \n",
       "1340  1371-DWPAZ 2020-02-01 2020-02-01  Two year               No   \n",
       "3331  7644-OMVMY 2020-02-01 2020-02-01  Two year               No   \n",
       "3826  3213-VVOLG 2020-02-01 2020-02-01  Two year               No   \n",
       "4380  2520-SGTTA 2020-02-01 2020-02-01  Two year               No   \n",
       "5218  2923-ARZLG 2020-02-01 2020-02-01  One year              Yes   \n",
       "6670  4075-WKNIU 2020-02-01 2020-02-01  Two year               No   \n",
       "6754  2775-SEFEE 2020-02-01 2020-02-01  Two year              Yes   \n",
       "\n",
       "                  PaymentMethod  MonthlyCharges  TotalCharges  Quit  \\\n",
       "488   Bank transfer (automatic)           52.55           NaN     0   \n",
       "753                Mailed check           20.25           NaN     0   \n",
       "936                Mailed check           80.85           NaN     0   \n",
       "1082               Mailed check           25.75           NaN     0   \n",
       "1340    Credit card (automatic)           56.05           NaN     0   \n",
       "3331               Mailed check           19.85           NaN     0   \n",
       "3826               Mailed check           25.35           NaN     0   \n",
       "4380               Mailed check           20.00           NaN     0   \n",
       "5218               Mailed check           19.70           NaN     0   \n",
       "6670               Mailed check           73.35           NaN     0   \n",
       "6754  Bank transfer (automatic)           61.90           NaN     0   \n",
       "\n",
       "      TotalDays  Gender  SeniorCitizen Partner Dependents InternetService  \\\n",
       "488           0  Female              0     Yes        Yes             DSL   \n",
       "753           0    Male              0      No        Yes             NaN   \n",
       "936           0  Female              0     Yes        Yes             DSL   \n",
       "1082          0    Male              0     Yes        Yes             NaN   \n",
       "1340          0  Female              0     Yes        Yes             DSL   \n",
       "3331          0    Male              0     Yes        Yes             NaN   \n",
       "3826          0    Male              0     Yes        Yes             NaN   \n",
       "4380          0  Female              0     Yes        Yes             NaN   \n",
       "5218          0    Male              0     Yes        Yes             NaN   \n",
       "6670          0  Female              0     Yes        Yes             DSL   \n",
       "6754          0    Male              0      No        Yes             DSL   \n",
       "\n",
       "     OnlineSecurity OnlineBackup DeviceProtection TechSupport StreamingTV  \\\n",
       "488             Yes           No              Yes         Yes         Yes   \n",
       "753             NaN          NaN              NaN         NaN         NaN   \n",
       "936             Yes          Yes              Yes          No         Yes   \n",
       "1082            NaN          NaN              NaN         NaN         NaN   \n",
       "1340            Yes          Yes              Yes         Yes         Yes   \n",
       "3331            NaN          NaN              NaN         NaN         NaN   \n",
       "3826            NaN          NaN              NaN         NaN         NaN   \n",
       "4380            NaN          NaN              NaN         NaN         NaN   \n",
       "5218            NaN          NaN              NaN         NaN         NaN   \n",
       "6670             No          Yes              Yes         Yes         Yes   \n",
       "6754            Yes          Yes               No         Yes          No   \n",
       "\n",
       "     StreamingMovies MultipleLines  \n",
       "488               No           NaN  \n",
       "753              NaN            No  \n",
       "936              Yes            No  \n",
       "1082             NaN           Yes  \n",
       "1340              No           NaN  \n",
       "3331             NaN            No  \n",
       "3826             NaN           Yes  \n",
       "4380             NaN            No  \n",
       "5218             NaN            No  \n",
       "6670              No           Yes  \n",
       "6754              No           Yes  "
      ]
     },
     "execution_count": 51,
     "metadata": {},
     "output_type": "execute_result"
    }
   ],
   "source": [
    "data[data['TotalCharges'].isnull()]"
   ]
  },
  {
   "cell_type": "markdown",
   "metadata": {},
   "source": [
    "Можно заметить, что пропуски в столбце `TotalCharges`, у тех кто был подключен в день выгрузки данных, поэтому заменим Nan на 0."
   ]
  },
  {
   "cell_type": "code",
   "execution_count": 52,
   "metadata": {},
   "outputs": [],
   "source": [
    "data['TotalCharges'] = data['TotalCharges'].fillna(0)"
   ]
  },
  {
   "cell_type": "code",
   "execution_count": 53,
   "metadata": {},
   "outputs": [
    {
     "data": {
      "text/plain": [
       "0"
      ]
     },
     "execution_count": 53,
     "metadata": {},
     "output_type": "execute_result"
    }
   ],
   "source": [
    "data[data['TotalCharges'].isnull()]['TotalCharges'].count()"
   ]
  },
  {
   "cell_type": "markdown",
   "metadata": {},
   "source": [
    "- будем считать, что пропуски  в столбцах `InternetService`, `OnlineSecurity`, `OnlineBackup`, `DeviceProtection`, `TechSupport`, `StreamingTV`, `StreamingMovies`, `MultipleLines` возникли потому что клиент не пользуется этими услугами, и поставим вместо пропусков NotUsed.\n",
    "               "
   ]
  },
  {
   "cell_type": "code",
   "execution_count": 54,
   "metadata": {},
   "outputs": [],
   "source": [
    "for column in ('InternetService', 'OnlineSecurity', 'OnlineBackup', 'DeviceProtection', \n",
    "               'TechSupport', 'StreamingTV', 'StreamingMovies', 'MultipleLines'):\n",
    "    data[column] = data[column].fillna('NotUsed')"
   ]
  },
  {
   "cell_type": "markdown",
   "metadata": {},
   "source": [
    "### Портрет клиента"
   ]
  },
  {
   "cell_type": "markdown",
   "metadata": {},
   "source": [
    "Составить портрет клиента в разрезе целевого признака в виде сводной таблицы, посчитать по призакам центральной тенденции (непрерывные - средние, категориальные/дискретные - мода), по средним расчитать относительную разницу, сделать вывод о среднем портрете уходящего и неуходящего клиента."
   ]
  },
  {
   "cell_type": "code",
   "execution_count": 55,
   "metadata": {},
   "outputs": [],
   "source": [
    "numerical = [ 'MonthlyCharges', 'TotalCharges','TotalDays']\n",
    "categ =  ['BeginDate', 'EndDate', 'Type', 'PaperlessBilling',\n",
    "       'PaymentMethod','Gender', 'SeniorCitizen', 'Partner', 'Dependents', 'InternetService',\n",
    "       'OnlineSecurity', 'OnlineBackup', 'DeviceProtection', 'TechSupport',\n",
    "       'StreamingTV', 'StreamingMovies', 'MultipleLines']"
   ]
  },
  {
   "cell_type": "code",
   "execution_count": 56,
   "metadata": {},
   "outputs": [],
   "source": [
    "df_num = pd.DataFrame(round(data[data['Quit']==1][numerical].mean(),2),\n",
    "                  columns=['mean/moda (отток)'], index = numerical)"
   ]
  },
  {
   "cell_type": "code",
   "execution_count": 57,
   "metadata": {},
   "outputs": [],
   "source": [
    "df_num['mean/moda (не отток)'] = round(data[data['Quit']==0][numerical].mean(),2)"
   ]
  },
  {
   "cell_type": "code",
   "execution_count": 58,
   "metadata": {},
   "outputs": [],
   "source": [
    "df_num['Mean(отток)/Mean(не отток)'] = (df_num['mean/moda (отток)']/df_num['mean/moda (не отток)'])"
   ]
  },
  {
   "cell_type": "code",
   "execution_count": 59,
   "metadata": {},
   "outputs": [],
   "source": [
    "df_num['mean/moda (отток)'] = df_num['mean/moda (отток)'].astype('str')\n",
    "df_num['mean/moda (не отток)'] = df_num['mean/moda (не отток)'].astype('str')\n",
    "df_num['Mean(отток)/Mean(не отток)'] = df_num['Mean(отток)/Mean(не отток)'].astype('str')"
   ]
  },
  {
   "cell_type": "code",
   "execution_count": 60,
   "metadata": {},
   "outputs": [
    {
     "data": {
      "text/html": [
       "<div>\n",
       "<style scoped>\n",
       "    .dataframe tbody tr th:only-of-type {\n",
       "        vertical-align: middle;\n",
       "    }\n",
       "\n",
       "    .dataframe tbody tr th {\n",
       "        vertical-align: top;\n",
       "    }\n",
       "\n",
       "    .dataframe thead th {\n",
       "        text-align: right;\n",
       "    }\n",
       "</style>\n",
       "<table border=\"1\" class=\"dataframe\">\n",
       "  <thead>\n",
       "    <tr style=\"text-align: right;\">\n",
       "      <th></th>\n",
       "      <th>mean/moda (отток)</th>\n",
       "      <th>mean/moda (не отток)</th>\n",
       "      <th>Mean(отток)/Mean(не отток)</th>\n",
       "    </tr>\n",
       "  </thead>\n",
       "  <tbody>\n",
       "    <tr>\n",
       "      <th>MonthlyCharges</th>\n",
       "      <td>75.55</td>\n",
       "      <td>62.76</td>\n",
       "      <td>1.2037922243467176</td>\n",
       "    </tr>\n",
       "    <tr>\n",
       "      <th>TotalCharges</th>\n",
       "      <td>2371.38</td>\n",
       "      <td>2067.87</td>\n",
       "      <td>1.146774216947874</td>\n",
       "    </tr>\n",
       "    <tr>\n",
       "      <th>TotalDays</th>\n",
       "      <td>924.86</td>\n",
       "      <td>893.68</td>\n",
       "      <td>1.0348894458866709</td>\n",
       "    </tr>\n",
       "  </tbody>\n",
       "</table>\n",
       "</div>"
      ],
      "text/plain": [
       "               mean/moda (отток) mean/moda (не отток)  \\\n",
       "MonthlyCharges             75.55                62.76   \n",
       "TotalCharges             2371.38              2067.87   \n",
       "TotalDays                 924.86               893.68   \n",
       "\n",
       "               Mean(отток)/Mean(не отток)  \n",
       "MonthlyCharges         1.2037922243467176  \n",
       "TotalCharges            1.146774216947874  \n",
       "TotalDays              1.0348894458866709  "
      ]
     },
     "execution_count": 60,
     "metadata": {},
     "output_type": "execute_result"
    }
   ],
   "source": [
    "df_num"
   ]
  },
  {
   "cell_type": "code",
   "execution_count": 61,
   "metadata": {},
   "outputs": [],
   "source": [
    "df_cat = pd.DataFrame(columns=['mean/moda (отток)'], index = categ)"
   ]
  },
  {
   "cell_type": "code",
   "execution_count": 62,
   "metadata": {},
   "outputs": [],
   "source": [
    "for cat in categ:\n",
    "    df_cat.loc[df_cat.index == cat,'mean/moda (отток)' ] = data[data['Quit'] == 1][cat].mode()[0]\n",
    "    df_cat.loc[df_cat.index == cat, 'mean/moda (не отток)'] = data[data['Quit'] == 0][cat].mode()[0]\n",
    "    df_cat.loc[df_cat.index == cat, 'Mean(отток)/Mean(не отток)'] = '-'"
   ]
  },
  {
   "cell_type": "code",
   "execution_count": 63,
   "metadata": {},
   "outputs": [
    {
     "data": {
      "text/html": [
       "<div>\n",
       "<style scoped>\n",
       "    .dataframe tbody tr th:only-of-type {\n",
       "        vertical-align: middle;\n",
       "    }\n",
       "\n",
       "    .dataframe tbody tr th {\n",
       "        vertical-align: top;\n",
       "    }\n",
       "\n",
       "    .dataframe thead th {\n",
       "        text-align: right;\n",
       "    }\n",
       "</style>\n",
       "<table border=\"1\" class=\"dataframe\">\n",
       "  <thead>\n",
       "    <tr style=\"text-align: right;\">\n",
       "      <th></th>\n",
       "      <th>mean/moda (отток)</th>\n",
       "      <th>mean/moda (не отток)</th>\n",
       "      <th>Mean(отток)/Mean(не отток)</th>\n",
       "    </tr>\n",
       "  </thead>\n",
       "  <tbody>\n",
       "    <tr>\n",
       "      <th>BeginDate</th>\n",
       "      <td>2014-02-01 00:00:00</td>\n",
       "      <td>2014-02-01 00:00:00</td>\n",
       "      <td>-</td>\n",
       "    </tr>\n",
       "    <tr>\n",
       "      <th>EndDate</th>\n",
       "      <td>2020-01-01 00:00:00</td>\n",
       "      <td>2020-02-01 00:00:00</td>\n",
       "      <td>-</td>\n",
       "    </tr>\n",
       "    <tr>\n",
       "      <th>Type</th>\n",
       "      <td>Month-to-month</td>\n",
       "      <td>Month-to-month</td>\n",
       "      <td>-</td>\n",
       "    </tr>\n",
       "    <tr>\n",
       "      <th>PaperlessBilling</th>\n",
       "      <td>Yes</td>\n",
       "      <td>Yes</td>\n",
       "      <td>-</td>\n",
       "    </tr>\n",
       "    <tr>\n",
       "      <th>PaymentMethod</th>\n",
       "      <td>Electronic check</td>\n",
       "      <td>Electronic check</td>\n",
       "      <td>-</td>\n",
       "    </tr>\n",
       "    <tr>\n",
       "      <th>Gender</th>\n",
       "      <td>Male</td>\n",
       "      <td>Male</td>\n",
       "      <td>-</td>\n",
       "    </tr>\n",
       "    <tr>\n",
       "      <th>SeniorCitizen</th>\n",
       "      <td>0</td>\n",
       "      <td>0</td>\n",
       "      <td>-</td>\n",
       "    </tr>\n",
       "    <tr>\n",
       "      <th>Partner</th>\n",
       "      <td>Yes</td>\n",
       "      <td>No</td>\n",
       "      <td>-</td>\n",
       "    </tr>\n",
       "    <tr>\n",
       "      <th>Dependents</th>\n",
       "      <td>No</td>\n",
       "      <td>No</td>\n",
       "      <td>-</td>\n",
       "    </tr>\n",
       "    <tr>\n",
       "      <th>InternetService</th>\n",
       "      <td>Fiber optic</td>\n",
       "      <td>Fiber optic</td>\n",
       "      <td>-</td>\n",
       "    </tr>\n",
       "    <tr>\n",
       "      <th>OnlineSecurity</th>\n",
       "      <td>No</td>\n",
       "      <td>No</td>\n",
       "      <td>-</td>\n",
       "    </tr>\n",
       "    <tr>\n",
       "      <th>OnlineBackup</th>\n",
       "      <td>Yes</td>\n",
       "      <td>No</td>\n",
       "      <td>-</td>\n",
       "    </tr>\n",
       "    <tr>\n",
       "      <th>DeviceProtection</th>\n",
       "      <td>Yes</td>\n",
       "      <td>No</td>\n",
       "      <td>-</td>\n",
       "    </tr>\n",
       "    <tr>\n",
       "      <th>TechSupport</th>\n",
       "      <td>No</td>\n",
       "      <td>No</td>\n",
       "      <td>-</td>\n",
       "    </tr>\n",
       "    <tr>\n",
       "      <th>StreamingTV</th>\n",
       "      <td>Yes</td>\n",
       "      <td>No</td>\n",
       "      <td>-</td>\n",
       "    </tr>\n",
       "    <tr>\n",
       "      <th>StreamingMovies</th>\n",
       "      <td>Yes</td>\n",
       "      <td>No</td>\n",
       "      <td>-</td>\n",
       "    </tr>\n",
       "    <tr>\n",
       "      <th>MultipleLines</th>\n",
       "      <td>Yes</td>\n",
       "      <td>No</td>\n",
       "      <td>-</td>\n",
       "    </tr>\n",
       "  </tbody>\n",
       "</table>\n",
       "</div>"
      ],
      "text/plain": [
       "                    mean/moda (отток) mean/moda (не отток)  \\\n",
       "BeginDate         2014-02-01 00:00:00  2014-02-01 00:00:00   \n",
       "EndDate           2020-01-01 00:00:00  2020-02-01 00:00:00   \n",
       "Type                   Month-to-month       Month-to-month   \n",
       "PaperlessBilling                  Yes                  Yes   \n",
       "PaymentMethod        Electronic check     Electronic check   \n",
       "Gender                           Male                 Male   \n",
       "SeniorCitizen                       0                    0   \n",
       "Partner                           Yes                   No   \n",
       "Dependents                         No                   No   \n",
       "InternetService           Fiber optic          Fiber optic   \n",
       "OnlineSecurity                     No                   No   \n",
       "OnlineBackup                      Yes                   No   \n",
       "DeviceProtection                  Yes                   No   \n",
       "TechSupport                        No                   No   \n",
       "StreamingTV                       Yes                   No   \n",
       "StreamingMovies                   Yes                   No   \n",
       "MultipleLines                     Yes                   No   \n",
       "\n",
       "                 Mean(отток)/Mean(не отток)  \n",
       "BeginDate                                 -  \n",
       "EndDate                                   -  \n",
       "Type                                      -  \n",
       "PaperlessBilling                          -  \n",
       "PaymentMethod                             -  \n",
       "Gender                                    -  \n",
       "SeniorCitizen                             -  \n",
       "Partner                                   -  \n",
       "Dependents                                -  \n",
       "InternetService                           -  \n",
       "OnlineSecurity                            -  \n",
       "OnlineBackup                              -  \n",
       "DeviceProtection                          -  \n",
       "TechSupport                               -  \n",
       "StreamingTV                               -  \n",
       "StreamingMovies                           -  \n",
       "MultipleLines                             -  "
      ]
     },
     "execution_count": 63,
     "metadata": {},
     "output_type": "execute_result"
    }
   ],
   "source": [
    "df_cat"
   ]
  },
  {
   "cell_type": "code",
   "execution_count": 64,
   "metadata": {},
   "outputs": [],
   "source": [
    "df = pd.concat([df_num, df_cat], axis=0)"
   ]
  },
  {
   "cell_type": "code",
   "execution_count": 65,
   "metadata": {},
   "outputs": [
    {
     "data": {
      "text/html": [
       "<div>\n",
       "<style scoped>\n",
       "    .dataframe tbody tr th:only-of-type {\n",
       "        vertical-align: middle;\n",
       "    }\n",
       "\n",
       "    .dataframe tbody tr th {\n",
       "        vertical-align: top;\n",
       "    }\n",
       "\n",
       "    .dataframe thead th {\n",
       "        text-align: right;\n",
       "    }\n",
       "</style>\n",
       "<table border=\"1\" class=\"dataframe\">\n",
       "  <thead>\n",
       "    <tr style=\"text-align: right;\">\n",
       "      <th></th>\n",
       "      <th>mean/moda (отток)</th>\n",
       "      <th>mean/moda (не отток)</th>\n",
       "      <th>Mean(отток)/Mean(не отток)</th>\n",
       "    </tr>\n",
       "  </thead>\n",
       "  <tbody>\n",
       "    <tr>\n",
       "      <th>MonthlyCharges</th>\n",
       "      <td>75.55</td>\n",
       "      <td>62.76</td>\n",
       "      <td>1.2037922243467176</td>\n",
       "    </tr>\n",
       "    <tr>\n",
       "      <th>TotalCharges</th>\n",
       "      <td>2371.38</td>\n",
       "      <td>2067.87</td>\n",
       "      <td>1.146774216947874</td>\n",
       "    </tr>\n",
       "    <tr>\n",
       "      <th>TotalDays</th>\n",
       "      <td>924.86</td>\n",
       "      <td>893.68</td>\n",
       "      <td>1.0348894458866709</td>\n",
       "    </tr>\n",
       "    <tr>\n",
       "      <th>BeginDate</th>\n",
       "      <td>2014-02-01 00:00:00</td>\n",
       "      <td>2014-02-01 00:00:00</td>\n",
       "      <td>-</td>\n",
       "    </tr>\n",
       "    <tr>\n",
       "      <th>EndDate</th>\n",
       "      <td>2020-01-01 00:00:00</td>\n",
       "      <td>2020-02-01 00:00:00</td>\n",
       "      <td>-</td>\n",
       "    </tr>\n",
       "    <tr>\n",
       "      <th>Type</th>\n",
       "      <td>Month-to-month</td>\n",
       "      <td>Month-to-month</td>\n",
       "      <td>-</td>\n",
       "    </tr>\n",
       "    <tr>\n",
       "      <th>PaperlessBilling</th>\n",
       "      <td>Yes</td>\n",
       "      <td>Yes</td>\n",
       "      <td>-</td>\n",
       "    </tr>\n",
       "    <tr>\n",
       "      <th>PaymentMethod</th>\n",
       "      <td>Electronic check</td>\n",
       "      <td>Electronic check</td>\n",
       "      <td>-</td>\n",
       "    </tr>\n",
       "    <tr>\n",
       "      <th>Gender</th>\n",
       "      <td>Male</td>\n",
       "      <td>Male</td>\n",
       "      <td>-</td>\n",
       "    </tr>\n",
       "    <tr>\n",
       "      <th>SeniorCitizen</th>\n",
       "      <td>0</td>\n",
       "      <td>0</td>\n",
       "      <td>-</td>\n",
       "    </tr>\n",
       "    <tr>\n",
       "      <th>Partner</th>\n",
       "      <td>Yes</td>\n",
       "      <td>No</td>\n",
       "      <td>-</td>\n",
       "    </tr>\n",
       "    <tr>\n",
       "      <th>Dependents</th>\n",
       "      <td>No</td>\n",
       "      <td>No</td>\n",
       "      <td>-</td>\n",
       "    </tr>\n",
       "    <tr>\n",
       "      <th>InternetService</th>\n",
       "      <td>Fiber optic</td>\n",
       "      <td>Fiber optic</td>\n",
       "      <td>-</td>\n",
       "    </tr>\n",
       "    <tr>\n",
       "      <th>OnlineSecurity</th>\n",
       "      <td>No</td>\n",
       "      <td>No</td>\n",
       "      <td>-</td>\n",
       "    </tr>\n",
       "    <tr>\n",
       "      <th>OnlineBackup</th>\n",
       "      <td>Yes</td>\n",
       "      <td>No</td>\n",
       "      <td>-</td>\n",
       "    </tr>\n",
       "    <tr>\n",
       "      <th>DeviceProtection</th>\n",
       "      <td>Yes</td>\n",
       "      <td>No</td>\n",
       "      <td>-</td>\n",
       "    </tr>\n",
       "    <tr>\n",
       "      <th>TechSupport</th>\n",
       "      <td>No</td>\n",
       "      <td>No</td>\n",
       "      <td>-</td>\n",
       "    </tr>\n",
       "    <tr>\n",
       "      <th>StreamingTV</th>\n",
       "      <td>Yes</td>\n",
       "      <td>No</td>\n",
       "      <td>-</td>\n",
       "    </tr>\n",
       "    <tr>\n",
       "      <th>StreamingMovies</th>\n",
       "      <td>Yes</td>\n",
       "      <td>No</td>\n",
       "      <td>-</td>\n",
       "    </tr>\n",
       "    <tr>\n",
       "      <th>MultipleLines</th>\n",
       "      <td>Yes</td>\n",
       "      <td>No</td>\n",
       "      <td>-</td>\n",
       "    </tr>\n",
       "  </tbody>\n",
       "</table>\n",
       "</div>"
      ],
      "text/plain": [
       "                    mean/moda (отток) mean/moda (не отток)  \\\n",
       "MonthlyCharges                  75.55                62.76   \n",
       "TotalCharges                  2371.38              2067.87   \n",
       "TotalDays                      924.86               893.68   \n",
       "BeginDate         2014-02-01 00:00:00  2014-02-01 00:00:00   \n",
       "EndDate           2020-01-01 00:00:00  2020-02-01 00:00:00   \n",
       "Type                   Month-to-month       Month-to-month   \n",
       "PaperlessBilling                  Yes                  Yes   \n",
       "PaymentMethod        Electronic check     Electronic check   \n",
       "Gender                           Male                 Male   \n",
       "SeniorCitizen                       0                    0   \n",
       "Partner                           Yes                   No   \n",
       "Dependents                         No                   No   \n",
       "InternetService           Fiber optic          Fiber optic   \n",
       "OnlineSecurity                     No                   No   \n",
       "OnlineBackup                      Yes                   No   \n",
       "DeviceProtection                  Yes                   No   \n",
       "TechSupport                        No                   No   \n",
       "StreamingTV                       Yes                   No   \n",
       "StreamingMovies                   Yes                   No   \n",
       "MultipleLines                     Yes                   No   \n",
       "\n",
       "                 Mean(отток)/Mean(не отток)  \n",
       "MonthlyCharges           1.2037922243467176  \n",
       "TotalCharges              1.146774216947874  \n",
       "TotalDays                1.0348894458866709  \n",
       "BeginDate                                 -  \n",
       "EndDate                                   -  \n",
       "Type                                      -  \n",
       "PaperlessBilling                          -  \n",
       "PaymentMethod                             -  \n",
       "Gender                                    -  \n",
       "SeniorCitizen                             -  \n",
       "Partner                                   -  \n",
       "Dependents                                -  \n",
       "InternetService                           -  \n",
       "OnlineSecurity                            -  \n",
       "OnlineBackup                              -  \n",
       "DeviceProtection                          -  \n",
       "TechSupport                               -  \n",
       "StreamingTV                               -  \n",
       "StreamingMovies                           -  \n",
       "MultipleLines                             -  "
      ]
     },
     "execution_count": 65,
     "metadata": {},
     "output_type": "execute_result"
    }
   ],
   "source": [
    "df"
   ]
  },
  {
   "cell_type": "markdown",
   "metadata": {},
   "source": [
    "По полученно таблице можно сделать следующий вывод:\n",
    " - Клиенты, которые ушли:\n",
    "     - ежемесечно платили больше, чем те, кто остался, соответсвенно и всего они заплатили больше;\n",
    "     - в среднем дольше являлись клиентами данной компании;\n",
    "     -  больше пользовались дополнительными услугами.\n",
    " - Клиенты, которые остались:\n",
    "     - ежемесечно платят меньше;\n",
    "     - в среднем они почти не пользуются дополнительными услугами.\n",
    "\n",
    "Можно предположить, что в данной компании проблемы с дополнительными услугами."
   ]
  },
  {
   "cell_type": "markdown",
   "metadata": {},
   "source": [
    "### Количественные признаки"
   ]
  },
  {
   "cell_type": "code",
   "execution_count": 66,
   "metadata": {},
   "outputs": [
    {
     "data": {
      "text/plain": [
       "Index(['CustomerID', 'BeginDate', 'EndDate', 'Type', 'PaperlessBilling',\n",
       "       'PaymentMethod', 'MonthlyCharges', 'TotalCharges', 'Quit', 'TotalDays',\n",
       "       'Gender', 'SeniorCitizen', 'Partner', 'Dependents', 'InternetService',\n",
       "       'OnlineSecurity', 'OnlineBackup', 'DeviceProtection', 'TechSupport',\n",
       "       'StreamingTV', 'StreamingMovies', 'MultipleLines'],\n",
       "      dtype='object')"
      ]
     },
     "execution_count": 66,
     "metadata": {},
     "output_type": "execute_result"
    }
   ],
   "source": [
    "data.columns"
   ]
  },
  {
   "cell_type": "markdown",
   "metadata": {},
   "source": [
    "Посторим гистограмму по всем числовым столбцам таблицы по всем клиентам. "
   ]
  },
  {
   "cell_type": "code",
   "execution_count": 67,
   "metadata": {},
   "outputs": [],
   "source": [
    "num_col = ['BeginDate', 'EndDate','MonthlyCharges', 'TotalCharges','TotalDays' ]"
   ]
  },
  {
   "cell_type": "code",
   "execution_count": 68,
   "metadata": {},
   "outputs": [
    {
     "data": {
      "image/png": "[encoded data removed]",
      "text/plain": [
       "<Figure size 1080x1080 with 5 Axes>"
      ]
     },
     "metadata": {
      "needs_background": "light"
     },
     "output_type": "display_data"
    }
   ],
   "source": [
    "\n",
    "plt.figure(figsize=(15, 15))\n",
    "i = 1\n",
    "for col in num_col:\n",
    "    plt.subplot(2, 3, i)\n",
    "    data[col].hist()\n",
    "    i += 1\n",
    "    plt.xlabel(col)\n",
    "    plt.ylabel('Count')\n",
    "    plt.title('Распределение клиентов по'+ str(col))\n",
    "\n",
    "\n",
    "    "
   ]
  },
  {
   "cell_type": "markdown",
   "metadata": {},
   "source": [
    "По гистограмме можно сделать следующий вывод:\n",
    " - самый большой прирост клиентов приходится на 2019-2020 г.\n",
    " - в столбце `EndDate` так много клиентов покинуло в 2020 г., потому что мы все No заменили на дату выгрузки файлов.\n",
    " - дешевые тарифы у людей популярнее."
   ]
  },
  {
   "cell_type": "code",
   "execution_count": 69,
   "metadata": {},
   "outputs": [],
   "source": [
    "num_col = ['MonthlyCharges', 'TotalCharges','TotalDays' ]"
   ]
  },
  {
   "cell_type": "code",
   "execution_count": 70,
   "metadata": {},
   "outputs": [
    {
     "data": {
      "image/png": "[encoded data removed]",
      "text/plain": [
       "<Figure size 1080x360 with 3 Axes>"
      ]
     },
     "metadata": {
      "needs_background": "light"
     },
     "output_type": "display_data"
    }
   ],
   "source": [
    "plt.figure(figsize=(15, 5))\n",
    "i = 1\n",
    "for col in num_col:\n",
    "    plt.subplot(1, 3, i)\n",
    "    data.boxplot(col);\n",
    "    i += 1\n",
    "    plt.ylabel('Count')\n",
    "    plt.title('Распределение клиентов')\n"
   ]
  },
  {
   "cell_type": "code",
   "execution_count": 71,
   "metadata": {},
   "outputs": [
    {
     "data": {
      "text/html": [
       "<div>\n",
       "<style scoped>\n",
       "    .dataframe tbody tr th:only-of-type {\n",
       "        vertical-align: middle;\n",
       "    }\n",
       "\n",
       "    .dataframe tbody tr th {\n",
       "        vertical-align: top;\n",
       "    }\n",
       "\n",
       "    .dataframe thead th {\n",
       "        text-align: right;\n",
       "    }\n",
       "</style>\n",
       "<table border=\"1\" class=\"dataframe\">\n",
       "  <thead>\n",
       "    <tr style=\"text-align: right;\">\n",
       "      <th></th>\n",
       "      <th>MonthlyCharges</th>\n",
       "      <th>TotalCharges</th>\n",
       "      <th>TotalDays</th>\n",
       "    </tr>\n",
       "  </thead>\n",
       "  <tbody>\n",
       "    <tr>\n",
       "      <th>count</th>\n",
       "      <td>7043.000000</td>\n",
       "      <td>7043.000000</td>\n",
       "      <td>7043.000000</td>\n",
       "    </tr>\n",
       "    <tr>\n",
       "      <th>mean</th>\n",
       "      <td>64.761692</td>\n",
       "      <td>2115.312885</td>\n",
       "      <td>898.555729</td>\n",
       "    </tr>\n",
       "    <tr>\n",
       "      <th>std</th>\n",
       "      <td>30.090047</td>\n",
       "      <td>2112.742814</td>\n",
       "      <td>683.130510</td>\n",
       "    </tr>\n",
       "    <tr>\n",
       "      <th>min</th>\n",
       "      <td>18.250000</td>\n",
       "      <td>0.000000</td>\n",
       "      <td>0.000000</td>\n",
       "    </tr>\n",
       "    <tr>\n",
       "      <th>25%</th>\n",
       "      <td>35.500000</td>\n",
       "      <td>436.750000</td>\n",
       "      <td>276.000000</td>\n",
       "    </tr>\n",
       "    <tr>\n",
       "      <th>50%</th>\n",
       "      <td>70.350000</td>\n",
       "      <td>1343.350000</td>\n",
       "      <td>761.000000</td>\n",
       "    </tr>\n",
       "    <tr>\n",
       "      <th>75%</th>\n",
       "      <td>89.850000</td>\n",
       "      <td>3236.690000</td>\n",
       "      <td>1461.000000</td>\n",
       "    </tr>\n",
       "    <tr>\n",
       "      <th>max</th>\n",
       "      <td>118.750000</td>\n",
       "      <td>9221.380000</td>\n",
       "      <td>2314.000000</td>\n",
       "    </tr>\n",
       "  </tbody>\n",
       "</table>\n",
       "</div>"
      ],
      "text/plain": [
       "       MonthlyCharges  TotalCharges    TotalDays\n",
       "count     7043.000000   7043.000000  7043.000000\n",
       "mean        64.761692   2115.312885   898.555729\n",
       "std         30.090047   2112.742814   683.130510\n",
       "min         18.250000      0.000000     0.000000\n",
       "25%         35.500000    436.750000   276.000000\n",
       "50%         70.350000   1343.350000   761.000000\n",
       "75%         89.850000   3236.690000  1461.000000\n",
       "max        118.750000   9221.380000  2314.000000"
      ]
     },
     "execution_count": 71,
     "metadata": {},
     "output_type": "execute_result"
    }
   ],
   "source": [
    "data[['MonthlyCharges', 'TotalCharges','TotalDays' ]].describe()"
   ]
  },
  {
   "cell_type": "code",
   "execution_count": 72,
   "metadata": {},
   "outputs": [
    {
     "data": {
      "text/html": [
       "<div>\n",
       "<style scoped>\n",
       "    .dataframe tbody tr th:only-of-type {\n",
       "        vertical-align: middle;\n",
       "    }\n",
       "\n",
       "    .dataframe tbody tr th {\n",
       "        vertical-align: top;\n",
       "    }\n",
       "\n",
       "    .dataframe thead th {\n",
       "        text-align: right;\n",
       "    }\n",
       "</style>\n",
       "<table border=\"1\" class=\"dataframe\">\n",
       "  <thead>\n",
       "    <tr style=\"text-align: right;\">\n",
       "      <th></th>\n",
       "      <th>MonthlyCharges</th>\n",
       "      <th>TotalCharges</th>\n",
       "      <th>TotalDays</th>\n",
       "    </tr>\n",
       "  </thead>\n",
       "  <tbody>\n",
       "    <tr>\n",
       "      <th>MonthlyCharges</th>\n",
       "      <td>1.000000</td>\n",
       "      <td>0.630440</td>\n",
       "      <td>0.220054</td>\n",
       "    </tr>\n",
       "    <tr>\n",
       "      <th>TotalCharges</th>\n",
       "      <td>0.630440</td>\n",
       "      <td>1.000000</td>\n",
       "      <td>0.821746</td>\n",
       "    </tr>\n",
       "    <tr>\n",
       "      <th>TotalDays</th>\n",
       "      <td>0.220054</td>\n",
       "      <td>0.821746</td>\n",
       "      <td>1.000000</td>\n",
       "    </tr>\n",
       "  </tbody>\n",
       "</table>\n",
       "</div>"
      ],
      "text/plain": [
       "                MonthlyCharges  TotalCharges  TotalDays\n",
       "MonthlyCharges        1.000000      0.630440   0.220054\n",
       "TotalCharges          0.630440      1.000000   0.821746\n",
       "TotalDays             0.220054      0.821746   1.000000"
      ]
     },
     "execution_count": 72,
     "metadata": {},
     "output_type": "execute_result"
    }
   ],
   "source": [
    "data[['MonthlyCharges', 'TotalCharges','TotalDays' ]].corr()"
   ]
  },
  {
   "cell_type": "markdown",
   "metadata": {},
   "source": [
    "По таблице корреляции видно, что корреляция между `TotalCharges` и `TotalDays` больше 0.8, оно и понятно, чем больше дней пользуется услугами, тем больше денег он заплатил. Удалим столбец `TotalCharges`."
   ]
  },
  {
   "cell_type": "code",
   "execution_count": 73,
   "metadata": {},
   "outputs": [],
   "source": [
    "del data['TotalCharges']"
   ]
  },
  {
   "cell_type": "code",
   "execution_count": 74,
   "metadata": {},
   "outputs": [
    {
     "name": "stdout",
     "output_type": "stream",
     "text": [
      "<class 'pandas.core.frame.DataFrame'>\n",
      "Int64Index: 7043 entries, 0 to 7042\n",
      "Data columns (total 21 columns):\n",
      " #   Column            Non-Null Count  Dtype         \n",
      "---  ------            --------------  -----         \n",
      " 0   CustomerID        7043 non-null   object        \n",
      " 1   BeginDate         7043 non-null   datetime64[ns]\n",
      " 2   EndDate           7043 non-null   datetime64[ns]\n",
      " 3   Type              7043 non-null   object        \n",
      " 4   PaperlessBilling  7043 non-null   object        \n",
      " 5   PaymentMethod     7043 non-null   object        \n",
      " 6   MonthlyCharges    7043 non-null   float64       \n",
      " 7   Quit              7043 non-null   int64         \n",
      " 8   TotalDays         7043 non-null   int64         \n",
      " 9   Gender            7043 non-null   object        \n",
      " 10  SeniorCitizen     7043 non-null   int64         \n",
      " 11  Partner           7043 non-null   object        \n",
      " 12  Dependents        7043 non-null   object        \n",
      " 13  InternetService   7043 non-null   object        \n",
      " 14  OnlineSecurity    7043 non-null   object        \n",
      " 15  OnlineBackup      7043 non-null   object        \n",
      " 16  DeviceProtection  7043 non-null   object        \n",
      " 17  TechSupport       7043 non-null   object        \n",
      " 18  StreamingTV       7043 non-null   object        \n",
      " 19  StreamingMovies   7043 non-null   object        \n",
      " 20  MultipleLines     7043 non-null   object        \n",
      "dtypes: datetime64[ns](2), float64(1), int64(3), object(15)\n",
      "memory usage: 1.2+ MB\n"
     ]
    }
   ],
   "source": [
    "data.info()"
   ]
  },
  {
   "cell_type": "markdown",
   "metadata": {},
   "source": [
    "Посмотрим на рспределение данных у клиентов, которые больше не пользуются услугами компании."
   ]
  },
  {
   "cell_type": "code",
   "execution_count": 75,
   "metadata": {},
   "outputs": [],
   "source": [
    "num_col = ['BeginDate', 'EndDate','MonthlyCharges','TotalDays' ]"
   ]
  },
  {
   "cell_type": "code",
   "execution_count": 76,
   "metadata": {},
   "outputs": [
    {
     "data": {
      "image/png": "[encoded data removed]",
      "text/plain": [
       "<Figure size 1440x720 with 4 Axes>"
      ]
     },
     "metadata": {
      "needs_background": "light"
     },
     "output_type": "display_data"
    }
   ],
   "source": [
    "plt.figure(figsize=(20, 10))\n",
    "i = 1\n",
    "for col in num_col:\n",
    "    plt.subplot(2, 3, i)\n",
    "    data[data['Quit'] == 1][col].hist()\n",
    "    i += 1\n",
    "    plt.xlabel(col)\n",
    "    plt.ylabel('Count')\n",
    "    plt.title('Распределение клиентов по признаку '+ str(col))\n"
   ]
  },
  {
   "cell_type": "code",
   "execution_count": 77,
   "metadata": {},
   "outputs": [
    {
     "data": {
      "text/html": [
       "<div>\n",
       "<style scoped>\n",
       "    .dataframe tbody tr th:only-of-type {\n",
       "        vertical-align: middle;\n",
       "    }\n",
       "\n",
       "    .dataframe tbody tr th {\n",
       "        vertical-align: top;\n",
       "    }\n",
       "\n",
       "    .dataframe thead th {\n",
       "        text-align: right;\n",
       "    }\n",
       "</style>\n",
       "<table border=\"1\" class=\"dataframe\">\n",
       "  <thead>\n",
       "    <tr style=\"text-align: right;\">\n",
       "      <th></th>\n",
       "      <th>MonthlyCharges</th>\n",
       "      <th>TotalDays</th>\n",
       "    </tr>\n",
       "  </thead>\n",
       "  <tbody>\n",
       "    <tr>\n",
       "      <th>count</th>\n",
       "      <td>1101.000000</td>\n",
       "      <td>1101.000000</td>\n",
       "    </tr>\n",
       "    <tr>\n",
       "      <th>mean</th>\n",
       "      <td>75.546004</td>\n",
       "      <td>924.863760</td>\n",
       "    </tr>\n",
       "    <tr>\n",
       "      <th>std</th>\n",
       "      <td>29.116213</td>\n",
       "      <td>458.771309</td>\n",
       "    </tr>\n",
       "    <tr>\n",
       "      <th>min</th>\n",
       "      <td>18.400000</td>\n",
       "      <td>28.000000</td>\n",
       "    </tr>\n",
       "    <tr>\n",
       "      <th>25%</th>\n",
       "      <td>56.150000</td>\n",
       "      <td>577.000000</td>\n",
       "    </tr>\n",
       "    <tr>\n",
       "      <th>50%</th>\n",
       "      <td>84.200000</td>\n",
       "      <td>915.000000</td>\n",
       "    </tr>\n",
       "    <tr>\n",
       "      <th>75%</th>\n",
       "      <td>99.500000</td>\n",
       "      <td>1249.000000</td>\n",
       "    </tr>\n",
       "    <tr>\n",
       "      <th>max</th>\n",
       "      <td>118.750000</td>\n",
       "      <td>2129.000000</td>\n",
       "    </tr>\n",
       "  </tbody>\n",
       "</table>\n",
       "</div>"
      ],
      "text/plain": [
       "       MonthlyCharges    TotalDays\n",
       "count     1101.000000  1101.000000\n",
       "mean        75.546004   924.863760\n",
       "std         29.116213   458.771309\n",
       "min         18.400000    28.000000\n",
       "25%         56.150000   577.000000\n",
       "50%         84.200000   915.000000\n",
       "75%         99.500000  1249.000000\n",
       "max        118.750000  2129.000000"
      ]
     },
     "execution_count": 77,
     "metadata": {},
     "output_type": "execute_result"
    }
   ],
   "source": [
    "data[data['Quit'] == 1][['MonthlyCharges','TotalDays' ]].describe()"
   ]
  },
  {
   "cell_type": "code",
   "execution_count": 78,
   "metadata": {},
   "outputs": [
    {
     "data": {
      "text/html": [
       "<div>\n",
       "<style scoped>\n",
       "    .dataframe tbody tr th:only-of-type {\n",
       "        vertical-align: middle;\n",
       "    }\n",
       "\n",
       "    .dataframe tbody tr th {\n",
       "        vertical-align: top;\n",
       "    }\n",
       "\n",
       "    .dataframe thead th {\n",
       "        text-align: right;\n",
       "    }\n",
       "</style>\n",
       "<table border=\"1\" class=\"dataframe\">\n",
       "  <thead>\n",
       "    <tr style=\"text-align: right;\">\n",
       "      <th></th>\n",
       "      <th>MonthlyCharges</th>\n",
       "      <th>TotalDays</th>\n",
       "    </tr>\n",
       "  </thead>\n",
       "  <tbody>\n",
       "    <tr>\n",
       "      <th>count</th>\n",
       "      <td>5942.000000</td>\n",
       "      <td>5942.000000</td>\n",
       "    </tr>\n",
       "    <tr>\n",
       "      <th>mean</th>\n",
       "      <td>62.763455</td>\n",
       "      <td>893.681084</td>\n",
       "    </tr>\n",
       "    <tr>\n",
       "      <th>std</th>\n",
       "      <td>29.844462</td>\n",
       "      <td>716.958551</td>\n",
       "    </tr>\n",
       "    <tr>\n",
       "      <th>min</th>\n",
       "      <td>18.250000</td>\n",
       "      <td>0.000000</td>\n",
       "    </tr>\n",
       "    <tr>\n",
       "      <th>25%</th>\n",
       "      <td>30.062500</td>\n",
       "      <td>245.000000</td>\n",
       "    </tr>\n",
       "    <tr>\n",
       "      <th>50%</th>\n",
       "      <td>69.200000</td>\n",
       "      <td>702.000000</td>\n",
       "    </tr>\n",
       "    <tr>\n",
       "      <th>75%</th>\n",
       "      <td>87.237500</td>\n",
       "      <td>1523.000000</td>\n",
       "    </tr>\n",
       "    <tr>\n",
       "      <th>max</th>\n",
       "      <td>118.600000</td>\n",
       "      <td>2314.000000</td>\n",
       "    </tr>\n",
       "  </tbody>\n",
       "</table>\n",
       "</div>"
      ],
      "text/plain": [
       "       MonthlyCharges    TotalDays\n",
       "count     5942.000000  5942.000000\n",
       "mean        62.763455   893.681084\n",
       "std         29.844462   716.958551\n",
       "min         18.250000     0.000000\n",
       "25%         30.062500   245.000000\n",
       "50%         69.200000   702.000000\n",
       "75%         87.237500  1523.000000\n",
       "max        118.600000  2314.000000"
      ]
     },
     "execution_count": 78,
     "metadata": {},
     "output_type": "execute_result"
    }
   ],
   "source": [
    "data[data['Quit'] == 0][['MonthlyCharges','TotalDays' ]].describe()"
   ]
  },
  {
   "cell_type": "markdown",
   "metadata": {},
   "source": [
    "Можно заметить, что люди которые отказались от услуг в среднем платили за них больше, чем те, кто не отказался."
   ]
  },
  {
   "cell_type": "markdown",
   "metadata": {},
   "source": [
    "### Категориальные признаки"
   ]
  },
  {
   "cell_type": "code",
   "execution_count": 79,
   "metadata": {},
   "outputs": [],
   "source": [
    "cat_col = ['Type', 'Gender','PaperlessBilling', 'OnlineSecurity', \n",
    "           'InternetService', 'SeniorCitizen','Partner','Dependents',\n",
    "           'MultipleLines','OnlineBackup','DeviceProtection','TechSupport',\n",
    "          'StreamingTV','StreamingMovies', 'PaymentMethod']"
   ]
  },
  {
   "cell_type": "code",
   "execution_count": 80,
   "metadata": {},
   "outputs": [
    {
     "data": {
      "image/png": "[encoded data removed]",
      "text/plain": [
       "<Figure size 2160x2160 with 15 Axes>"
      ]
     },
     "metadata": {
      "needs_background": "light"
     },
     "output_type": "display_data"
    }
   ],
   "source": [
    "plt.figure(figsize=(30, 30))\n",
    "i = 1\n",
    "for col in cat_col:\n",
    "    plt.subplot(5, 3, i)\n",
    "    sns.countplot(x=col, data=data);\n",
    "    plt.xlabel(col, loc='center')\n",
    "    plt.title(' Распределение клиентов по признаку '+ str(col))\n",
    "\n",
    "    i += 1\n",
    "    "
   ]
  },
  {
   "cell_type": "markdown",
   "metadata": {},
   "source": [
    "Вывод по категориальным данным:\n",
    "- самый популярный вид тарифа - помесячный;\n",
    "- больше людей пользуются электронным платежным документом;\n",
    "- мало кто пользуется дополнительными услугами;\n",
    "- людей пенсионного возраста меньше, чем не пенсионного."
   ]
  },
  {
   "cell_type": "markdown",
   "metadata": {},
   "source": [
    "Рассмотрим категориальные признаки для тех, кто отказался от услуг."
   ]
  },
  {
   "cell_type": "code",
   "execution_count": 81,
   "metadata": {},
   "outputs": [
    {
     "data": {
      "image/png": "[encoded data removed]",
      "text/plain": [
       "<Figure size 2160x2160 with 15 Axes>"
      ]
     },
     "metadata": {
      "needs_background": "light"
     },
     "output_type": "display_data"
    }
   ],
   "source": [
    "plt.figure(figsize=(30, 30))\n",
    "i = 1\n",
    "for col in cat_col:\n",
    "    plt.subplot(5, 3, i)\n",
    "    sns.countplot(x=col, data=data[data['Quit'] == 1]);\n",
    "    plt.xlabel(col, loc='center')\n",
    "    plt.title(' Распределение клиентов по признаку '+ str(col))\n",
    "    i += 1"
   ]
  },
  {
   "cell_type": "markdown",
   "metadata": {},
   "source": [
    "По тем, кто отказался от услуг можно заметить, что :\n",
    "- они пользовались наличием возможности ведения параллельных линий во время звонка (`MultipleLines`);\n",
    "- они пользовались услугами облачного хранилища файлов для резервного копирования данных (`OnlineBackup`);\n",
    "- они пользовались антивирусом (`DeviceProtection`);\n",
    "- они пользовались стриминговое телевидение (`StreamingTV`) и каталогом фильмов (`StreamingMovies`).\n",
    "\n",
    "Возможно дополнительные возможности для клиентов были в приоретете, и они ушли поскольку эти возможности не оправдали ожидания."
   ]
  },
  {
   "cell_type": "markdown",
   "metadata": {},
   "source": [
    "Из данных можно удалить столбцы: `CustomerID`,`BeginDate`,`EndDate` они не будут влиять на обучение."
   ]
  },
  {
   "cell_type": "code",
   "execution_count": 82,
   "metadata": {},
   "outputs": [],
   "source": [
    "data = data.drop(['CustomerID', 'BeginDate', 'EndDate' ], axis = 1)"
   ]
  },
  {
   "cell_type": "markdown",
   "metadata": {},
   "source": [
    "Рассмотрим категориальные данные на мультиколлинеарность:"
   ]
  },
  {
   "cell_type": "code",
   "execution_count": 83,
   "metadata": {},
   "outputs": [],
   "source": [
    "interval_columns = ['MonthlyCharges','TotalDays']"
   ]
  },
  {
   "cell_type": "code",
   "execution_count": 84,
   "metadata": {},
   "outputs": [
    {
     "name": "stderr",
     "output_type": "stream",
     "text": [
      "/opt/conda/lib/python3.9/site-packages/seaborn/matrix.py:252: FutureWarning: Format strings passed to MaskedConstant are ignored, but in future may error or produce different behavior\n",
      "  annotation = (\"{:\" + self.fmt + \"}\").format(val)\n"
     ]
    },
    {
     "data": {
      "image/png": "[encoded data removed]",
      "text/plain": [
       "<Figure size 1080x1080 with 2 Axes>"
      ]
     },
     "metadata": {
      "needs_background": "light"
     },
     "output_type": "display_data"
    }
   ],
   "source": [
    "corr = data.phik_matrix(interval_cols = interval_columns)\n",
    "matrix = np.triu(corr)\n",
    "plt.figure(figsize = (15,15))\n",
    "sns.heatmap(corr, cmap='coolwarm', center=0, annot=True, mask=matrix);"
   ]
  },
  {
   "cell_type": "markdown",
   "metadata": {},
   "source": [
    "При пороговом значении корреляции 0.8, следует удалить столбцы `InternetService`, `OnlineSecurity`, `OnlineBackup`,`DeviceProtection`, `TechSupport`, `StreamingTV`, `StreamingMovies`(коррелируют с признаком monthly_charges).\n",
    "\n",
    "Значение корреляции столбца `Gender` с другими столбцами равна нулю, поэтому удалим его.\n"
   ]
  },
  {
   "cell_type": "code",
   "execution_count": 85,
   "metadata": {},
   "outputs": [],
   "source": [
    "data = data.drop(['InternetService', 'OnlineSecurity', 'OnlineBackup', 'DeviceProtection', \n",
    "                  'TechSupport', 'StreamingTV', 'StreamingMovies', 'Gender' ], axis = 1)"
   ]
  },
  {
   "cell_type": "code",
   "execution_count": 86,
   "metadata": {},
   "outputs": [
    {
     "name": "stdout",
     "output_type": "stream",
     "text": [
      "<class 'pandas.core.frame.DataFrame'>\n",
      "Int64Index: 7043 entries, 0 to 7042\n",
      "Data columns (total 10 columns):\n",
      " #   Column            Non-Null Count  Dtype  \n",
      "---  ------            --------------  -----  \n",
      " 0   Type              7043 non-null   object \n",
      " 1   PaperlessBilling  7043 non-null   object \n",
      " 2   PaymentMethod     7043 non-null   object \n",
      " 3   MonthlyCharges    7043 non-null   float64\n",
      " 4   Quit              7043 non-null   int64  \n",
      " 5   TotalDays         7043 non-null   int64  \n",
      " 6   SeniorCitizen     7043 non-null   int64  \n",
      " 7   Partner           7043 non-null   object \n",
      " 8   Dependents        7043 non-null   object \n",
      " 9   MultipleLines     7043 non-null   object \n",
      "dtypes: float64(1), int64(3), object(6)\n",
      "memory usage: 863.3+ KB\n"
     ]
    }
   ],
   "source": [
    "data.info()"
   ]
  },
  {
   "cell_type": "markdown",
   "metadata": {},
   "source": [
    "Проверим целевой признак на дисбаланс:`"
   ]
  },
  {
   "cell_type": "code",
   "execution_count": 87,
   "metadata": {},
   "outputs": [
    {
     "data": {
      "image/png": "[encoded data removed]",
      "text/plain": [
       "<Figure size 432x288 with 1 Axes>"
      ]
     },
     "metadata": {},
     "output_type": "display_data"
    }
   ],
   "source": [
    "data['Quit'].value_counts().plot(kind='pie', autopct='%1.0f%%');"
   ]
  },
  {
   "cell_type": "markdown",
   "metadata": {},
   "source": [
    "В наших данных есть дисбаланс классов."
   ]
  },
  {
   "cell_type": "markdown",
   "metadata": {},
   "source": [
    "**Вывод по разделу:**\n",
    " - самый большой прирост клиентов приходится на 2019-2020 г.\n",
    " - дешевые тарифы у людей популярнее.\n",
    " - люди которые отказались от услуг в среднем платили за них больше, чем те, кто не отказался;\n",
    " - самый популярный вид тарифа - помесячный;\n",
    " - больше людей пользуются электронным платежным документом;\n",
    " - мало кто пользуется дополнительными услугами;\n",
    " - людей пенсионного возраста меньше, чем не пенсионного;\n",
    " - люди, которые отказались от услуг много пользовались дополнительными услугами."
   ]
  },
  {
   "cell_type": "markdown",
   "metadata": {},
   "source": [
    "**Вывод по датафрейму**:\n",
    "\n",
    "- устранены пропуски и аномалии;\n",
    "- в результате проверки данных на мультиколениарность, были удалены лишние столбцы;\n",
    "- был выявлен дисбаланс классов."
   ]
  },
  {
   "cell_type": "markdown",
   "metadata": {},
   "source": [
    "## Подготовка данных для моделирования"
   ]
  },
  {
   "cell_type": "code",
   "execution_count": 88,
   "metadata": {},
   "outputs": [],
   "source": [
    "RANDOM_STATE = 110923"
   ]
  },
  {
   "cell_type": "code",
   "execution_count": 89,
   "metadata": {},
   "outputs": [],
   "source": [
    "features = data.drop(['Quit'], axis=1)\n",
    "target = data['Quit']\n",
    "\n",
    "features_train, features_test, target_train, target_test = train_test_split(features, \n",
    "                                                                            target, \n",
    "                                                                            test_size=0.25, \n",
    "                                                                            random_state=RANDOM_STATE)"
   ]
  },
  {
   "cell_type": "code",
   "execution_count": 90,
   "metadata": {},
   "outputs": [],
   "source": [
    "features_train['SeniorCitizen'] = features_train['SeniorCitizen'].astype('object')"
   ]
  },
  {
   "cell_type": "code",
   "execution_count": 91,
   "metadata": {},
   "outputs": [
    {
     "name": "stdout",
     "output_type": "stream",
     "text": [
      "<class 'pandas.core.frame.DataFrame'>\n",
      "Int64Index: 5282 entries, 2610 to 4690\n",
      "Data columns (total 9 columns):\n",
      " #   Column            Non-Null Count  Dtype  \n",
      "---  ------            --------------  -----  \n",
      " 0   Type              5282 non-null   object \n",
      " 1   PaperlessBilling  5282 non-null   object \n",
      " 2   PaymentMethod     5282 non-null   object \n",
      " 3   MonthlyCharges    5282 non-null   float64\n",
      " 4   TotalDays         5282 non-null   int64  \n",
      " 5   SeniorCitizen     5282 non-null   object \n",
      " 6   Partner           5282 non-null   object \n",
      " 7   Dependents        5282 non-null   object \n",
      " 8   MultipleLines     5282 non-null   object \n",
      "dtypes: float64(1), int64(1), object(7)\n",
      "memory usage: 412.7+ KB\n"
     ]
    }
   ],
   "source": [
    "features_train.info()"
   ]
  },
  {
   "cell_type": "markdown",
   "metadata": {},
   "source": [
    "## Обучение моделей"
   ]
  },
  {
   "cell_type": "markdown",
   "metadata": {},
   "source": [
    "Обучим 3 модели: \n",
    "- **LogisticRegression;** \n",
    "- **RandomForestClassifier;** \n",
    "- **CatBoostClassifier.**\n",
    "\n",
    "Для обучения построим пайплайн."
   ]
  },
  {
   "cell_type": "markdown",
   "metadata": {},
   "source": [
    "Для кодирования и масштабирования будем использовать: StandartScaler, OneHotEncoder/OrdinalEncoder."
   ]
  },
  {
   "cell_type": "code",
   "execution_count": 92,
   "metadata": {},
   "outputs": [],
   "source": [
    "categories = ['SeniorCitizen','Type','PaperlessBilling','PaymentMethod','Partner', 'Dependents', 'MultipleLines']\n",
    "numerical = ['MonthlyCharges', 'TotalDays']"
   ]
  },
  {
   "cell_type": "markdown",
   "metadata": {},
   "source": [
    "Для модели Логической регрессии будем использовать OneHotEncoder."
   ]
  },
  {
   "cell_type": "code",
   "execution_count": 93,
   "metadata": {},
   "outputs": [],
   "source": [
    "preprocessor_lr = ColumnTransformer(\n",
    "    transformers=[\n",
    "        ('num', StandardScaler(), numerical), \n",
    "        ('cat', OneHotEncoder(handle_unknown='ignore', drop='first'), categories)  \n",
    "    ])"
   ]
  },
  {
   "cell_type": "code",
   "execution_count": 94,
   "metadata": {},
   "outputs": [
    {
     "name": "stderr",
     "output_type": "stream",
     "text": [
      "[I 2023-09-22 16:07:39,093] A new study created in memory with name: log_reg_1\n",
      "[I 2023-09-22 16:07:39,572] Trial 0 finished with value: 0.744593687987889 and parameters: {'solver': 'liblinear', 'penalty': 'l1', 'C': 1.6430050707150112}. Best is trial 0 with value: 0.744593687987889.\n",
      "[I 2023-09-22 16:07:40,177] Trial 1 finished with value: 0.7445854601574092 and parameters: {'solver': 'liblinear', 'penalty': 'l1', 'C': 9.860749333274194}. Best is trial 0 with value: 0.744593687987889.\n",
      "[I 2023-09-22 16:07:40,769] Trial 2 finished with value: 0.7445687117741584 and parameters: {'solver': 'liblinear', 'penalty': 'l2', 'C': 9.730626326367638}. Best is trial 0 with value: 0.744593687987889.\n",
      "[I 2023-09-22 16:07:41,384] Trial 3 finished with value: 0.7446208957619639 and parameters: {'solver': 'liblinear', 'penalty': 'l1', 'C': 1.1462003549782962}. Best is trial 3 with value: 0.7446208957619639.\n",
      "[I 2023-09-22 16:07:41,973] Trial 4 finished with value: 0.7445632752299609 and parameters: {'solver': 'liblinear', 'penalty': 'l1', 'C': 3.6286707918470307}. Best is trial 3 with value: 0.7446208957619639.\n",
      "[I 2023-09-22 16:07:42,574] Trial 5 finished with value: 0.7445731207051747 and parameters: {'solver': 'liblinear', 'penalty': 'l1', 'C': 9.004088216006066}. Best is trial 3 with value: 0.7446208957619639.\n",
      "[I 2023-09-22 16:07:43,170] Trial 6 finished with value: 0.7445657494449168 and parameters: {'solver': 'liblinear', 'penalty': 'l1', 'C': 4.382803831172028}. Best is trial 3 with value: 0.7446208957619639.\n",
      "[I 2023-09-22 16:07:43,776] Trial 7 finished with value: 0.7445673761460818 and parameters: {'solver': 'liblinear', 'penalty': 'l1', 'C': 3.351300963683105}. Best is trial 3 with value: 0.7446208957619639.\n",
      "[I 2023-09-22 16:07:44,382] Trial 8 finished with value: 0.744567075017721 and parameters: {'solver': 'liblinear', 'penalty': 'l2', 'C': 9.119132296988496}. Best is trial 3 with value: 0.7446208957619639.\n",
      "[I 2023-09-22 16:07:44,976] Trial 9 finished with value: 0.7445861401383675 and parameters: {'solver': 'liblinear', 'penalty': 'l2', 'C': 4.40124484054493}. Best is trial 3 with value: 0.7446208957619639.\n",
      "[I 2023-09-22 16:07:45,576] Trial 10 finished with value: 0.7417204593163204 and parameters: {'solver': 'liblinear', 'penalty': 'l2', 'C': 0.11212972586621972}. Best is trial 3 with value: 0.7446208957619639.\n",
      "[I 2023-09-22 16:07:46,180] Trial 11 finished with value: 0.744590445951684 and parameters: {'solver': 'liblinear', 'penalty': 'l1', 'C': 0.825057583399082}. Best is trial 3 with value: 0.7446208957619639.\n",
      "[I 2023-09-22 16:07:46,778] Trial 12 finished with value: 0.7445805172606322 and parameters: {'solver': 'liblinear', 'penalty': 'l1', 'C': 1.7328671834155098}. Best is trial 3 with value: 0.7446208957619639.\n",
      "[I 2023-09-22 16:07:47,383] Trial 13 finished with value: 0.7445681927910172 and parameters: {'solver': 'liblinear', 'penalty': 'l1', 'C': 2.0526577252311826}. Best is trial 3 with value: 0.7446208957619639.\n",
      "[I 2023-09-22 16:07:47,977] Trial 14 finished with value: 0.741330419942436 and parameters: {'solver': 'liblinear', 'penalty': 'l1', 'C': 0.10018080018670106}. Best is trial 3 with value: 0.7446208957619639.\n",
      "[I 2023-09-22 16:07:48,579] Trial 15 finished with value: 0.7445681963609124 and parameters: {'solver': 'liblinear', 'penalty': 'l1', 'C': 2.035373154716588}. Best is trial 3 with value: 0.7446208957619639.\n",
      "[I 2023-09-22 16:07:49,180] Trial 16 finished with value: 0.7445575237296301 and parameters: {'solver': 'liblinear', 'penalty': 'l1', 'C': 6.174355406344212}. Best is trial 3 with value: 0.7446208957619639.\n",
      "[I 2023-09-22 16:07:49,784] Trial 17 finished with value: 0.7446249854152883 and parameters: {'solver': 'liblinear', 'penalty': 'l1', 'C': 1.2481150439048627}. Best is trial 17 with value: 0.7446249854152883.\n",
      "[I 2023-09-22 16:07:50,381] Trial 18 finished with value: 0.7446002808114235 and parameters: {'solver': 'liblinear', 'penalty': 'l2', 'C': 2.7168975607852435}. Best is trial 17 with value: 0.7446249854152883.\n",
      "[I 2023-09-22 16:07:50,978] Trial 19 finished with value: 0.7446150992631243 and parameters: {'solver': 'liblinear', 'penalty': 'l1', 'C': 1.0795711061248934}. Best is trial 17 with value: 0.7446249854152883.\n"
     ]
    },
    {
     "name": "stdout",
     "output_type": "stream",
     "text": [
      "FrozenTrial(number=17, state=TrialState.COMPLETE, values=[0.7446249854152883], datetime_start=datetime.datetime(2023, 9, 22, 16, 7, 49, 246309), datetime_complete=datetime.datetime(2023, 9, 22, 16, 7, 49, 784268), params={'solver': 'liblinear', 'penalty': 'l1', 'C': 1.2481150439048627}, user_attrs={}, system_attrs={}, intermediate_values={}, distributions={'solver': CategoricalDistribution(choices=('liblinear',)), 'penalty': CategoricalDistribution(choices=('l1', 'l2')), 'C': FloatDistribution(high=10.0, log=False, low=0.0, step=None)}, trial_id=17, value=None)\n",
      "\n",
      " AUC-ROC: 0.7446249854152883\n"
     ]
    }
   ],
   "source": [
    "def objective(trial):    \n",
    "    param_grid = {\n",
    "                'solver': trial.suggest_categorical('solver',['liblinear']),\n",
    "                'penalty': trial.suggest_categorical('penalty', ['l1', 'l2']),\n",
    "                'C': trial.suggest_float('C', 0,10)\n",
    "    }\n",
    "    model_lr = LogisticRegression(**param_grid, verbose=False, random_state=RANDOM_STATE)\n",
    "\n",
    "    lr_pipeline = Pipeline(steps=[\n",
    "            ('col_trans', preprocessor_lr),\n",
    "            ('model', model_lr)\n",
    "        ])\n",
    "    accuracy = cross_val_score(lr_pipeline, features_train, target_train, cv=3, scoring = 'roc_auc').mean()\n",
    "    return accuracy\n",
    "\n",
    "study_lr = optuna.create_study(direction=\"maximize\", study_name = 'log_reg_1')\n",
    "study_lr.optimize(objective, n_trials=20)\n",
    "print(study_lr.best_trial)\n",
    "print()\n",
    "print(f' AUC-ROC: {study_lr.best_value}')"
   ]
  },
  {
   "cell_type": "markdown",
   "metadata": {},
   "source": [
    "Для древесных моделей и моделей на бустингах будем использовать OrdinalEncoder."
   ]
  },
  {
   "cell_type": "code",
   "execution_count": 95,
   "metadata": {},
   "outputs": [],
   "source": [
    "preprocessor = ColumnTransformer(\n",
    "    transformers=[\n",
    "        ('num', StandardScaler(), numerical), \n",
    "        ('cat', OrdinalEncoder(), categories)  \n",
    "    ])"
   ]
  },
  {
   "cell_type": "code",
   "execution_count": 96,
   "metadata": {},
   "outputs": [
    {
     "name": "stderr",
     "output_type": "stream",
     "text": [
      "[I 2023-09-22 16:07:51,167] A new study created in memory with name: random_forest_1\n",
      "[I 2023-09-22 16:07:53,694] Trial 0 finished with value: 0.8333788533995552 and parameters: {'n_estimators': 269, 'max_depth': 6}. Best is trial 0 with value: 0.8333788533995552.\n",
      "[I 2023-09-22 16:07:57,679] Trial 1 finished with value: 0.8299273086678993 and parameters: {'n_estimators': 344, 'max_depth': 9}. Best is trial 0 with value: 0.8333788533995552.\n",
      "[I 2023-09-22 16:07:59,899] Trial 2 finished with value: 0.7953958342591397 and parameters: {'n_estimators': 326, 'max_depth': 2}. Best is trial 0 with value: 0.8333788533995552.\n",
      "[I 2023-09-22 16:08:00,730] Trial 3 finished with value: 0.7858532847105754 and parameters: {'n_estimators': 115, 'max_depth': 2}. Best is trial 0 with value: 0.8333788533995552.\n",
      "[I 2023-09-22 16:08:04,135] Trial 4 finished with value: 0.829707051736873 and parameters: {'n_estimators': 296, 'max_depth': 9}. Best is trial 0 with value: 0.8333788533995552.\n",
      "[I 2023-09-22 16:08:08,209] Trial 5 finished with value: 0.8328832449505063 and parameters: {'n_estimators': 438, 'max_depth': 6}. Best is trial 0 with value: 0.8333788533995552.\n",
      "[I 2023-09-22 16:08:08,947] Trial 6 finished with value: 0.7869451339847394 and parameters: {'n_estimators': 100, 'max_depth': 2}. Best is trial 0 with value: 0.8333788533995552.\n",
      "[I 2023-09-22 16:08:14,133] Trial 7 finished with value: 0.8299514213772613 and parameters: {'n_estimators': 603, 'max_depth': 5}. Best is trial 0 with value: 0.8333788533995552.\n",
      "[I 2023-09-22 16:08:16,520] Trial 8 finished with value: 0.8322414960969288 and parameters: {'n_estimators': 216, 'max_depth': 8}. Best is trial 0 with value: 0.8333788533995552.\n",
      "[I 2023-09-22 16:08:23,138] Trial 9 finished with value: 0.8331335563411121 and parameters: {'n_estimators': 717, 'max_depth': 6}. Best is trial 0 with value: 0.8333788533995552.\n",
      "[I 2023-09-22 16:08:31,093] Trial 10 finished with value: 0.823958010504791 and parameters: {'n_estimators': 990, 'max_depth': 4}. Best is trial 0 with value: 0.8333788533995552.\n",
      "[I 2023-09-22 16:08:38,018] Trial 11 finished with value: 0.8338611316450916 and parameters: {'n_estimators': 690, 'max_depth': 7}. Best is trial 11 with value: 0.8338611316450916.\n",
      "[I 2023-09-22 16:08:45,959] Trial 12 finished with value: 0.8336937142973248 and parameters: {'n_estimators': 802, 'max_depth': 7}. Best is trial 11 with value: 0.8338611316450916.\n",
      "[I 2023-09-22 16:08:54,060] Trial 13 finished with value: 0.8337906126035118 and parameters: {'n_estimators': 819, 'max_depth': 7}. Best is trial 11 with value: 0.8338611316450916.\n",
      "[I 2023-09-22 16:09:03,549] Trial 14 finished with value: 0.8330424805299769 and parameters: {'n_estimators': 891, 'max_depth': 8}. Best is trial 11 with value: 0.8338611316450916.\n",
      "[I 2023-09-22 16:09:08,497] Trial 15 finished with value: 0.8238315651139282 and parameters: {'n_estimators': 629, 'max_depth': 4}. Best is trial 11 with value: 0.8338611316450916.\n",
      "[I 2023-09-22 16:09:15,880] Trial 16 finished with value: 0.833719030798857 and parameters: {'n_estimators': 742, 'max_depth': 7}. Best is trial 11 with value: 0.8338611316450916.\n",
      "[I 2023-09-22 16:09:20,966] Trial 17 finished with value: 0.8340175886608435 and parameters: {'n_estimators': 511, 'max_depth': 7}. Best is trial 17 with value: 0.8340175886608435.\n",
      "[I 2023-09-22 16:09:26,191] Trial 18 finished with value: 0.8330216586805061 and parameters: {'n_estimators': 489, 'max_depth': 8}. Best is trial 17 with value: 0.8340175886608435.\n",
      "[I 2023-09-22 16:09:30,849] Trial 19 finished with value: 0.8299885747821687 and parameters: {'n_estimators': 529, 'max_depth': 5}. Best is trial 17 with value: 0.8340175886608435.\n"
     ]
    },
    {
     "name": "stdout",
     "output_type": "stream",
     "text": [
      "FrozenTrial(number=17, state=TrialState.COMPLETE, values=[0.8340175886608435], datetime_start=datetime.datetime(2023, 9, 22, 16, 9, 15, 881598), datetime_complete=datetime.datetime(2023, 9, 22, 16, 9, 20, 966525), params={'n_estimators': 511, 'max_depth': 7}, user_attrs={}, system_attrs={}, intermediate_values={}, distributions={'n_estimators': IntDistribution(high=1000, log=False, low=100, step=1), 'max_depth': IntDistribution(high=9, log=False, low=2, step=1)}, trial_id=17, value=None)\n",
      "\n",
      " AUC-ROC: 0.8340175886608435\n"
     ]
    }
   ],
   "source": [
    "def objective(trial):    \n",
    "    param_grid = {\n",
    "            'n_estimators': trial.suggest_int('n_estimators', 100, 1000),\n",
    "            'max_depth': trial.suggest_int('max_depth', 2, 9),\n",
    "    }\n",
    "    model_rf = RandomForestClassifier(**param_grid, verbose=False, random_state=RANDOM_STATE)\n",
    "\n",
    "    rf_pipeline = Pipeline(steps=[\n",
    "            ('col_trans', preprocessor),\n",
    "            ('model', model_rf)\n",
    "        ])\n",
    "    accuracy = cross_val_score(rf_pipeline, features_train, target_train, cv=3, scoring = 'roc_auc').mean()\n",
    "    return accuracy\n",
    "\n",
    "study_rf = optuna.create_study(direction=\"maximize\", study_name = 'random_forest_1')\n",
    "study_rf.optimize(objective, n_trials=20)\n",
    "print(study_rf.best_trial)\n",
    "print()\n",
    "print(f' AUC-ROC: {study_rf.best_value}')"
   ]
  },
  {
   "cell_type": "code",
   "execution_count": 97,
   "metadata": {},
   "outputs": [
    {
     "name": "stderr",
     "output_type": "stream",
     "text": [
      "[I 2023-09-22 16:09:30,858] A new study created in memory with name: cat_boost_1\n",
      "[I 2023-09-22 16:09:42,011] Trial 0 finished with value: 0.8817718100655801 and parameters: {'learning_rate': 0.038647056062709184, 'depth': 8}. Best is trial 0 with value: 0.8817718100655801.\n",
      "[I 2023-09-22 16:09:48,045] Trial 1 finished with value: 0.9129086313028937 and parameters: {'learning_rate': 0.09729330844255905, 'depth': 3}. Best is trial 1 with value: 0.9129086313028937.\n",
      "[I 2023-09-22 16:09:55,843] Trial 2 finished with value: 0.8995563945653293 and parameters: {'learning_rate': 0.0393975759987958, 'depth': 6}. Best is trial 1 with value: 0.9129086313028937.\n",
      "[I 2023-09-22 16:10:01,624] Trial 3 finished with value: 0.8397271769821538 and parameters: {'learning_rate': 0.014213260144894869, 'depth': 2}. Best is trial 1 with value: 0.9129086313028937.\n",
      "[I 2023-09-22 16:10:08,602] Trial 4 finished with value: 0.9111249828328803 and parameters: {'learning_rate': 0.0864456282983371, 'depth': 3}. Best is trial 1 with value: 0.9129086313028937.\n",
      "[I 2023-09-22 16:10:16,148] Trial 5 finished with value: 0.8979739945539764 and parameters: {'learning_rate': 0.03616488291441908, 'depth': 6}. Best is trial 1 with value: 0.9129086313028937.\n",
      "[I 2023-09-22 16:10:22,668] Trial 6 finished with value: 0.908195777805131 and parameters: {'learning_rate': 0.050408670605923765, 'depth': 4}. Best is trial 1 with value: 0.9129086313028937.\n",
      "[I 2023-09-22 16:10:34,115] Trial 7 finished with value: 0.8629988999283028 and parameters: {'learning_rate': 0.018184008881356996, 'depth': 8}. Best is trial 1 with value: 0.9129086313028937.\n",
      "[I 2023-09-22 16:10:40,353] Trial 8 finished with value: 0.9143745596048399 and parameters: {'learning_rate': 0.0811811672551222, 'depth': 4}. Best is trial 8 with value: 0.9143745596048399.\n",
      "[I 2023-09-22 16:10:47,895] Trial 9 finished with value: 0.8530852613458597 and parameters: {'learning_rate': 0.011388420126063132, 'depth': 6}. Best is trial 8 with value: 0.9143745596048399.\n",
      "[I 2023-09-22 16:10:53,359] Trial 10 finished with value: 0.832662915879029 and parameters: {'learning_rate': 0.07281051939679847, 'depth': 1}. Best is trial 8 with value: 0.9143745596048399.\n",
      "[I 2023-09-22 16:10:59,865] Trial 11 finished with value: 0.9141975597101126 and parameters: {'learning_rate': 0.09865791019001388, 'depth': 4}. Best is trial 8 with value: 0.9143745596048399.\n",
      "[I 2023-09-22 16:11:07,264] Trial 12 finished with value: 0.9102716925685854 and parameters: {'learning_rate': 0.07458654790109508, 'depth': 5}. Best is trial 8 with value: 0.9143745596048399.\n",
      "[I 2023-09-22 16:11:13,666] Trial 13 finished with value: 0.9163892826879612 and parameters: {'learning_rate': 0.09807629763086098, 'depth': 4}. Best is trial 13 with value: 0.9163892826879612.\n",
      "[I 2023-09-22 16:11:21,267] Trial 14 finished with value: 0.9105495913476579 and parameters: {'learning_rate': 0.07491862182909781, 'depth': 5}. Best is trial 13 with value: 0.9163892826879612.\n",
      "[I 2023-09-22 16:11:27,398] Trial 15 finished with value: 0.9125413770091289 and parameters: {'learning_rate': 0.08709838403843799, 'depth': 3}. Best is trial 13 with value: 0.9163892826879612.\n",
      "[I 2023-09-22 16:11:33,253] Trial 16 finished with value: 0.8316608165625884 and parameters: {'learning_rate': 0.06268246420489204, 'depth': 1}. Best is trial 13 with value: 0.9163892826879612.\n",
      "[I 2023-09-22 16:11:42,756] Trial 17 finished with value: 0.8977541933265583 and parameters: {'learning_rate': 0.0878420217554868, 'depth': 7}. Best is trial 13 with value: 0.9163892826879612.\n",
      "[I 2023-09-22 16:11:50,054] Trial 18 finished with value: 0.9094183435732335 and parameters: {'learning_rate': 0.06570222507524424, 'depth': 4}. Best is trial 13 with value: 0.9163892826879612.\n",
      "[I 2023-09-22 16:11:56,268] Trial 19 finished with value: 0.9103457916680383 and parameters: {'learning_rate': 0.0968039188573872, 'depth': 2}. Best is trial 13 with value: 0.9163892826879612.\n"
     ]
    },
    {
     "name": "stdout",
     "output_type": "stream",
     "text": [
      "FrozenTrial(number=13, state=TrialState.COMPLETE, values=[0.9163892826879612], datetime_start=datetime.datetime(2023, 9, 22, 16, 11, 7, 265783), datetime_complete=datetime.datetime(2023, 9, 22, 16, 11, 13, 666143), params={'learning_rate': 0.09807629763086098, 'depth': 4}, user_attrs={}, system_attrs={}, intermediate_values={}, distributions={'learning_rate': FloatDistribution(high=0.1, log=False, low=0.001, step=None), 'depth': IntDistribution(high=8, log=False, low=1, step=1)}, trial_id=13, value=None)\n",
      "\n",
      " AUC-ROC: 0.9163892826879612\n"
     ]
    }
   ],
   "source": [
    "def objective(trial):    \n",
    "    param_grid = {\n",
    "        \"learning_rate\": trial.suggest_float(\"learning_rate\", 0.001, 0.1),\n",
    "        \"depth\": trial.suggest_int(\"depth\", 1, 8),\n",
    "    }\n",
    "    model_cb = CatBoostClassifier(**param_grid, verbose=False, random_state=RANDOM_STATE)\n",
    "    \n",
    "    cb_pipeline = Pipeline(steps=[\n",
    "            ('col_trans', preprocessor),\n",
    "            ('model', model_cb)\n",
    "        ])\n",
    "    \n",
    "    accuracy = cross_val_score(cb_pipeline, features_train, target_train, cv=3, scoring = 'roc_auc').mean()\n",
    "    return accuracy\n",
    "\n",
    "study_cb = optuna.create_study(direction=\"maximize\", study_name = 'cat_boost_1')\n",
    "study_cb.optimize(objective, n_trials=20)\n",
    "print(study_cb.best_trial)\n",
    "print()\n",
    "print(f' AUC-ROC: {study_cb.best_value}')"
   ]
  },
  {
   "cell_type": "code",
   "execution_count": 98,
   "metadata": {},
   "outputs": [],
   "source": [
    "models = pd.DataFrame({'Логическая регрессия': [study_lr.best_value, study_lr.best_params],\n",
    " 'Случайный лес': [study_rf.best_value, study_rf.best_params],\n",
    " 'CatBoost': [study_cb.best_value, study_cb.best_params]}, \n",
    "                      index = ['AUC-ROC', 'best_params'])"
   ]
  },
  {
   "cell_type": "code",
   "execution_count": 99,
   "metadata": {},
   "outputs": [
    {
     "data": {
      "text/html": [
       "<div>\n",
       "<style scoped>\n",
       "    .dataframe tbody tr th:only-of-type {\n",
       "        vertical-align: middle;\n",
       "    }\n",
       "\n",
       "    .dataframe tbody tr th {\n",
       "        vertical-align: top;\n",
       "    }\n",
       "\n",
       "    .dataframe thead th {\n",
       "        text-align: right;\n",
       "    }\n",
       "</style>\n",
       "<table border=\"1\" class=\"dataframe\">\n",
       "  <thead>\n",
       "    <tr style=\"text-align: right;\">\n",
       "      <th></th>\n",
       "      <th>Логическая регрессия</th>\n",
       "      <th>Случайный лес</th>\n",
       "      <th>CatBoost</th>\n",
       "    </tr>\n",
       "  </thead>\n",
       "  <tbody>\n",
       "    <tr>\n",
       "      <th>AUC-ROC</th>\n",
       "      <td>0.744625</td>\n",
       "      <td>0.834018</td>\n",
       "      <td>0.916389</td>\n",
       "    </tr>\n",
       "    <tr>\n",
       "      <th>best_params</th>\n",
       "      <td>{'solver': 'liblinear', 'penalty': 'l1', 'C': 1.2481150439048627}</td>\n",
       "      <td>{'n_estimators': 511, 'max_depth': 7}</td>\n",
       "      <td>{'learning_rate': 0.09807629763086098, 'depth': 4}</td>\n",
       "    </tr>\n",
       "  </tbody>\n",
       "</table>\n",
       "</div>"
      ],
      "text/plain": [
       "                                                          Логическая регрессия  \\\n",
       "AUC-ROC                                                               0.744625   \n",
       "best_params  {'solver': 'liblinear', 'penalty': 'l1', 'C': 1.2481150439048627}   \n",
       "\n",
       "                                     Случайный лес  \\\n",
       "AUC-ROC                                   0.834018   \n",
       "best_params  {'n_estimators': 511, 'max_depth': 7}   \n",
       "\n",
       "                                                       CatBoost  \n",
       "AUC-ROC                                                0.916389  \n",
       "best_params  {'learning_rate': 0.09807629763086098, 'depth': 4}  "
      ]
     },
     "execution_count": 99,
     "metadata": {},
     "output_type": "execute_result"
    }
   ],
   "source": [
    "models"
   ]
  },
  {
   "cell_type": "markdown",
   "metadata": {},
   "source": [
    "**Вывод по обучению:**\n",
    "\n",
    "В результате обучения трех моделей, было получено, что лучшая модель **CatBoostClassifier** с параметрами 'learning_rate': 0.07703279652911307, 'depth': 4. И значение ROC-AUC равно 0.91 на обучающей выборке."
   ]
  },
  {
   "cell_type": "markdown",
   "metadata": {},
   "source": [
    "## Проверка модели"
   ]
  },
  {
   "cell_type": "code",
   "execution_count": 100,
   "metadata": {},
   "outputs": [
    {
     "data": {
      "text/plain": [
       "<catboost.core.CatBoostClassifier at 0x7f98677bbf70>"
      ]
     },
     "execution_count": 100,
     "metadata": {},
     "output_type": "execute_result"
    }
   ],
   "source": [
    "best_model = CatBoostClassifier(**study_cb.best_params, random_state=RANDOM_STATE, cat_features=categories, verbose = False)\n",
    "best_model.fit(features_train, target_train)"
   ]
  },
  {
   "cell_type": "code",
   "execution_count": 101,
   "metadata": {},
   "outputs": [
    {
     "name": "stdout",
     "output_type": "stream",
     "text": [
      "Accuracy: 0.9278818852924475\n",
      "ROC-AUC: 0.9340569483250212\n"
     ]
    }
   ],
   "source": [
    "print(f'Accuracy: {accuracy_score(best_model.predict(features_test), target_test)}')\n",
    "print(f'ROC-AUC: {roc_auc_score(target_test, best_model.predict_proba(features_test)[:, 1])}')"
   ]
  },
  {
   "cell_type": "markdown",
   "metadata": {},
   "source": [
    "**Вывод**: на тестовой выборке было получено Accuracy: 0.93, что показывает долю верных предсказаний."
   ]
  },
  {
   "cell_type": "markdown",
   "metadata": {},
   "source": [
    "### Матрица ошибок"
   ]
  },
  {
   "cell_type": "code",
   "execution_count": 102,
   "metadata": {},
   "outputs": [],
   "source": [
    "cm = confusion_matrix(target_test, best_model.predict(features_test), labels=best_model.classes_)"
   ]
  },
  {
   "cell_type": "code",
   "execution_count": 103,
   "metadata": {},
   "outputs": [
    {
     "name": "stdout",
     "output_type": "stream",
     "text": [
      "Матрица ошибок:\n",
      " [[1453   24]\n",
      " [ 103  181]]\n"
     ]
    }
   ],
   "source": [
    "print(f'Матрица ошибок:\\n {cm}')"
   ]
  },
  {
   "cell_type": "code",
   "execution_count": 104,
   "metadata": {},
   "outputs": [
    {
     "data": {
      "image/png": "[encoded data removed]",
      "text/plain": [
       "<Figure size 432x288 with 2 Axes>"
      ]
     },
     "metadata": {
      "needs_background": "light"
     },
     "output_type": "display_data"
    }
   ],
   "source": [
    "disp = ConfusionMatrixDisplay(confusion_matrix=cm,display_labels=best_model.classes_)\n",
    "disp.plot();"
   ]
  },
  {
   "cell_type": "markdown",
   "metadata": {},
   "source": [
    "По матрице ошибок можно сделать вывод: \n",
    "\n",
    "- True Positive (TP) = 177; это означает, что модель предсказала, что 177 пользователей уйдут, и они действительно ушли.\n",
    "\n",
    "- True Negative (TN) = 1455; модель предсказала, что 1455 пользователей не уйдут и они не действительно не уйдут.\n",
    "\n",
    "- False Positive (FP) = 22; модель предсказала, что 22 человека уйдут, но они не ушли.\n",
    "\n",
    "- False Negative (FN) = 107; модель предсказала что 107 пользователей не должно уйти, но на самом деле они ушли."
   ]
  },
  {
   "cell_type": "markdown",
   "metadata": {},
   "source": [
    "### Анализ важности признаков"
   ]
  },
  {
   "cell_type": "code",
   "execution_count": 105,
   "metadata": {},
   "outputs": [],
   "source": [
    "imp_data = pd.DataFrame(best_model.feature_importances_,columns=['res'], \n",
    "                                       index=features_test.columns)"
   ]
  },
  {
   "cell_type": "code",
   "execution_count": 106,
   "metadata": {},
   "outputs": [
    {
     "data": {
      "text/html": [
       "<div>\n",
       "<style scoped>\n",
       "    .dataframe tbody tr th:only-of-type {\n",
       "        vertical-align: middle;\n",
       "    }\n",
       "\n",
       "    .dataframe tbody tr th {\n",
       "        vertical-align: top;\n",
       "    }\n",
       "\n",
       "    .dataframe thead th {\n",
       "        text-align: right;\n",
       "    }\n",
       "</style>\n",
       "<table border=\"1\" class=\"dataframe\">\n",
       "  <thead>\n",
       "    <tr style=\"text-align: right;\">\n",
       "      <th></th>\n",
       "      <th>res</th>\n",
       "    </tr>\n",
       "  </thead>\n",
       "  <tbody>\n",
       "    <tr>\n",
       "      <th>Type</th>\n",
       "      <td>9.673851</td>\n",
       "    </tr>\n",
       "    <tr>\n",
       "      <th>PaperlessBilling</th>\n",
       "      <td>0.584262</td>\n",
       "    </tr>\n",
       "    <tr>\n",
       "      <th>PaymentMethod</th>\n",
       "      <td>4.269833</td>\n",
       "    </tr>\n",
       "    <tr>\n",
       "      <th>MonthlyCharges</th>\n",
       "      <td>13.750904</td>\n",
       "    </tr>\n",
       "    <tr>\n",
       "      <th>TotalDays</th>\n",
       "      <td>63.525359</td>\n",
       "    </tr>\n",
       "    <tr>\n",
       "      <th>SeniorCitizen</th>\n",
       "      <td>0.612106</td>\n",
       "    </tr>\n",
       "    <tr>\n",
       "      <th>Partner</th>\n",
       "      <td>2.168309</td>\n",
       "    </tr>\n",
       "    <tr>\n",
       "      <th>Dependents</th>\n",
       "      <td>1.064228</td>\n",
       "    </tr>\n",
       "    <tr>\n",
       "      <th>MultipleLines</th>\n",
       "      <td>4.351146</td>\n",
       "    </tr>\n",
       "  </tbody>\n",
       "</table>\n",
       "</div>"
      ],
      "text/plain": [
       "                        res\n",
       "Type               9.673851\n",
       "PaperlessBilling   0.584262\n",
       "PaymentMethod      4.269833\n",
       "MonthlyCharges    13.750904\n",
       "TotalDays         63.525359\n",
       "SeniorCitizen      0.612106\n",
       "Partner            2.168309\n",
       "Dependents         1.064228\n",
       "MultipleLines      4.351146"
      ]
     },
     "execution_count": 106,
     "metadata": {},
     "output_type": "execute_result"
    }
   ],
   "source": [
    "imp_data"
   ]
  },
  {
   "cell_type": "code",
   "execution_count": 107,
   "metadata": {},
   "outputs": [],
   "source": [
    "imp_data = imp_data.sort_values(by='res', ascending = True)"
   ]
  },
  {
   "cell_type": "code",
   "execution_count": 108,
   "metadata": {},
   "outputs": [
    {
     "data": {
      "image/png": "[encoded data removed]",
      "text/plain": [
       "<Figure size 432x288 with 1 Axes>"
      ]
     },
     "metadata": {
      "needs_background": "light"
     },
     "output_type": "display_data"
    }
   ],
   "source": [
    "fig = plt.figure()\n",
    "ax = fig.add_subplot(111)\n",
    "bars = plt.barh( imp_data.index, imp_data['res'], height=0.7)\n",
    "ax.set_title('Гистограмма важности признаков')\n",
    "ax.set_ylabel('Признаки')\n",
    "ax.set_xlabel('Важность (%)')\n",
    "plt.show()"
   ]
  },
  {
   "cell_type": "markdown",
   "metadata": {},
   "source": [
    "По графику можно сделать вывод, что `MonthlyCharges`, `Type` и  `TotalDays` самые важные признаки."
   ]
  },
  {
   "cell_type": "markdown",
   "metadata": {},
   "source": [
    "**Вывод**:\n",
    "- Значения Accuracy: 0.93, ROC-AUC: 0.93 на тестовой выборке;\n",
    "- По матрице ошибок можно сделать вывод: \n",
    "    - True Positive (TP) = 177; это означает, что модель предсказала, что 177 пользователей уйдут, и они действительно ушли.\n",
    "\n",
    "    - True Negative (TN) = 1455; модель предсказала, что 1455 пользователей не уйдут и они не действительно не уйдут.\n",
    "\n",
    "    - False Positive (FP) = 22; модель предсказала, что 22 человека уйдут, но они не ушли.\n",
    "\n",
    "    - False Negative (FN) = 107; модель предсказала что 107 пользователей не должно уйти, но на самом деле они ушли.\n",
    "- По графику важности признаков, можно сделать вывод что `TotalDays` самый важный признаки."
   ]
  },
  {
   "cell_type": "markdown",
   "metadata": {},
   "source": [
    "Вывод по подготовке данных к моделированию, по обучению и проверки модели:\n",
    "- данные были разделены на обучающую и тестоую выборки в отношении 3:1;\n",
    "- с использованием Pipeline, Optuna, cross_val_score были обучены три модели (для масштабирования данных использовался StandartScaler, для кодирования данных One Hot Encoder (для LogisticRegression) и Ordinal Encoder (для RandomForestClassifier, CatBoostClassifier):\n",
    "    - **LogisticRegression;** \n",
    "    - **RandomForestClassifier;** \n",
    "    - **CatBoostClassifier.**\n",
    "- была получена лучшая модель CatBoostClassifier;\n",
    "- для тестовой выборке для лучшей модели было получено Accuracy: 0.0.93, ROC-AUC: 0.93 .\n",
    "- были проанализированы матрица ошибок и график важности признаков.\n"
   ]
  },
  {
   "cell_type": "markdown",
   "metadata": {},
   "source": [
    "## Отчет"
   ]
  },
  {
   "cell_type": "markdown",
   "metadata": {},
   "source": [
    "**Основные артефакты отчёта**:\n",
    "1. Ключевые шаги работы над проектом (заказчик не видит план, только отчёт).\n",
    "2. Анализ соответствия фактической работы запланированным шагам.\n",
    "3. Рефлексия над сложностями и описание путей их решения.\n",
    "4. Краткое описание предобработки данных (проблема - что делали).\n",
    "5. Итоговый список признаков (с расшифровкой) для обучения модели, способы их обработки (каккодировали/стандартизировали/преобразовывали).\n",
    "6. Сводная таблица исследованных моделей и их метрика на кросс-валидации.\n",
    "7. Лучшая модель - название, гиперпараметры, метрика на кросс-валидации.\n",
    "8. Итоговая метрика на test (AUC-ROC и Accuracy).\n",
    "9. Матрица ошибок (таблица или график + интерпретация).\n",
    "10. Важность признаков (график + комментарии)."
   ]
  },
  {
   "cell_type": "markdown",
   "metadata": {},
   "source": [
    "### Ключевые шаги работы над проектом"
   ]
  },
  {
   "cell_type": "markdown",
   "metadata": {},
   "source": [
    "- Изучить данные, выполнить первичную обработку данных (изменить: названия столбцов, тип данных и т.д)\n",
    "- Выполнить исследовательский анализ, проверить данные на аномалии. Сделать визуализацию данных: построить графики, диаграммы и т.д.\n",
    "- Подготовить данные к моделированию: масштабирование, кодировка данных.\n",
    "- Построить модель машинного обучения, подобрать гиперпараметры. Проанализировать AUC-ROC моделей и выбрать лучшую модель.\n",
    "- Проверить модель на тестовой выборке и посчитать accuracy. \n",
    "- Построить матрицу ошибок и оценить важность признаков.\n",
    "- Сделать выводы."
   ]
  },
  {
   "cell_type": "markdown",
   "metadata": {},
   "source": [
    "### Анализ соответствия фактической работы запланированным шагам"
   ]
  },
  {
   "cell_type": "markdown",
   "metadata": {},
   "source": [
    "Фактическая работа соответсвует запланированым шагам:\n",
    "  - данные были загружены и была проведена первичная обпаботка данных;\n",
    "  - был выполнен исследовательский анализ, данные были проверены на наличие аномалий. Была выполнена визулализация данных, был получен портрет клиента;\n",
    "  - данные были подготовлены к моделированию: масштабирование числовых признаков и кодировка категориальных признаков;\n",
    "  - была построена модель машинного обучени и получены лучшие гиперпараметры, далее была выбрана модель с лучшим значением ROC-AUC.\n",
    "  - полученная модель была проверена на тестовой выборке, и на ней же было получено значение Accuracy.\n",
    "  - также для модели была получена матрица ошибок, и получена оценка важности признаков."
   ]
  },
  {
   "cell_type": "markdown",
   "metadata": {},
   "source": [
    "### Рефлексия над сложностями и описание путей их решения"
   ]
  },
  {
   "cell_type": "markdown",
   "metadata": {},
   "source": [
    "Изначально в таблице не был сформирован целевой признак. Вследствие чего был сформирован целевой признак `Quit` по значениям столбца `EndDate` следующим образом: если в `EndDate` указано число, значит клиент отказлся от услуг и значение в `Quit` равно 1, если же в `EndDate` не указано число, значит клиент до сих пор пользуется услугами и значение в `Quit` равно 0."
   ]
  },
  {
   "cell_type": "markdown",
   "metadata": {},
   "source": [
    "Больше ничего сложностей не вызвало."
   ]
  },
  {
   "cell_type": "markdown",
   "metadata": {},
   "source": [
    "### Описание предобработки данных"
   ]
  },
  {
   "cell_type": "markdown",
   "metadata": {},
   "source": [
    "Предобработка данных заключалась в работе с пропусками в данных, в проверка данных на аномальнось и на мультиколлинеарность:"
   ]
  },
  {
   "cell_type": "markdown",
   "metadata": {},
   "source": [
    "1. Работа с пропусками в данных. В изначальных таблицах пропусков не было, после объединения таблиц были получены пропуски в следующих столбцах:  `TotalCharges`, `InternetService`, `OnlineSecurity`, `OnlineBackup`, `DeviceProtection`, `TechSupport`, `StreamingTV`, `StreamingMovies`, `MultipleLines`.\n",
    "    - пропуски в `TotalCharges` образовались поскольку есть клиенты, которые пользуется услугами меньше месяца, заполнили 0.\n",
    "    - пропуски `InternetService`, `OnlineSecurity`, `OnlineBackup`, `DeviceProtection`, `TechSupport`, `StreamingTV`, `StreamingMovies`, `MultipleLines` заполнили 'NotUsed', поскольку нет информации, что они пользуются этими услугами."
   ]
  },
  {
   "cell_type": "markdown",
   "metadata": {},
   "source": [
    "2. Аномалий не было обнаружено."
   ]
  },
  {
   "cell_type": "markdown",
   "metadata": {},
   "source": [
    "3. Проверка на мультиколлинеарность. Было получено пороговом значении корреляции 0.8, поэтому были удалены столбцы `InternetService`, `OnlineSecurity`, `OnlineBackup`,`DeviceProtection`, `TechSupport`, `StreamingTV`, `StreamingMovies`(коррелируют с признаком `MonthlyCharges`). Так же значение корреляции столбца `Gender` с другими столбцами равна нулю, поэтому его тоже удалили."
   ]
  },
  {
   "cell_type": "markdown",
   "metadata": {},
   "source": [
    "### Итоговый список признаков для обучения модели, способы их обработки"
   ]
  },
  {
   "cell_type": "markdown",
   "metadata": {},
   "source": [
    "Категориальные признаки:\n",
    "- `Type` – тип оплаты: ежемесячный, годовой и тд,\n",
    "- `PaperlessBilling` – электронный платёжный документ,\n",
    "- `PaymentMethod` - способ оплаты,\n",
    "- `SeniorCitizen` - наличие пенсионного статуса по возрасту\n",
    "- `Partner` - наличие супруга(и),\n",
    "- `Dependents` - наличие иждивенцев,\n",
    "- `MultipleLines`  - наличие возможности ведения параллельных линий во время звонка"
   ]
  },
  {
   "cell_type": "markdown",
   "metadata": {},
   "source": [
    "Числовые признаки:\n",
    "- `MonthlyCharges` - ежемесячные траты на услуги по договору,\n",
    "- `TotalDays` - показывает сколько дней человек является пользователем."
   ]
  },
  {
   "cell_type": "markdown",
   "metadata": {},
   "source": [
    "Категориальные признаки были закодированы при помощи - OneHotEncoder(для модели логической регрессии)/OrdinalEncoder(для остальных моделей), числовые признаки были масштабированы при помощи - StandardScaler."
   ]
  },
  {
   "cell_type": "markdown",
   "metadata": {},
   "source": [
    "### Сводная таблица исследованных моделей и их метрика на кросс-валидации"
   ]
  },
  {
   "cell_type": "markdown",
   "metadata": {},
   "source": [
    "Было обучено 3 модели:\n",
    "- модель логической регрессии;\n",
    "- модель случайного леса;\n",
    "- модель CatBoost."
   ]
  },
  {
   "cell_type": "code",
   "execution_count": 109,
   "metadata": {},
   "outputs": [
    {
     "data": {
      "text/html": [
       "<div>\n",
       "<style scoped>\n",
       "    .dataframe tbody tr th:only-of-type {\n",
       "        vertical-align: middle;\n",
       "    }\n",
       "\n",
       "    .dataframe tbody tr th {\n",
       "        vertical-align: top;\n",
       "    }\n",
       "\n",
       "    .dataframe thead th {\n",
       "        text-align: right;\n",
       "    }\n",
       "</style>\n",
       "<table border=\"1\" class=\"dataframe\">\n",
       "  <thead>\n",
       "    <tr style=\"text-align: right;\">\n",
       "      <th></th>\n",
       "      <th>Логическая регрессия</th>\n",
       "      <th>Случайный лес</th>\n",
       "      <th>CatBoost</th>\n",
       "    </tr>\n",
       "  </thead>\n",
       "  <tbody>\n",
       "    <tr>\n",
       "      <th>AUC-ROC</th>\n",
       "      <td>0.744625</td>\n",
       "      <td>0.834018</td>\n",
       "      <td>0.916389</td>\n",
       "    </tr>\n",
       "  </tbody>\n",
       "</table>\n",
       "</div>"
      ],
      "text/plain": [
       "        Логическая регрессия Случайный лес  CatBoost\n",
       "AUC-ROC             0.744625      0.834018  0.916389"
      ]
     },
     "execution_count": 109,
     "metadata": {},
     "output_type": "execute_result"
    }
   ],
   "source": [
    "models[models.index == 'AUC-ROC']"
   ]
  },
  {
   "cell_type": "markdown",
   "metadata": {},
   "source": [
    "### Лучшая модель - название, гиперпараметры, метрика на кросс-валидации."
   ]
  },
  {
   "cell_type": "markdown",
   "metadata": {},
   "source": [
    "По значению метрики было получено, что лучшая модель CatBoost с гиперпараметрами {'learning_rate': 0.07703279652911307, 'depth': 4} и значением Accuracy : 0.91"
   ]
  },
  {
   "cell_type": "markdown",
   "metadata": {},
   "source": [
    "### Итоговая метрика на test (AUC-ROC и Accuracy)."
   ]
  },
  {
   "cell_type": "markdown",
   "metadata": {},
   "source": [
    "В результате на тестовой выборке были получены следующие значения:"
   ]
  },
  {
   "cell_type": "markdown",
   "metadata": {},
   "source": [
    "- Accuracy: 0.93\n",
    "\n",
    "- ROC-AUC: 0.93"
   ]
  },
  {
   "cell_type": "markdown",
   "metadata": {},
   "source": [
    "Такое значение Accuracy показывает, что доля верных предсказаний составляет 0.925."
   ]
  },
  {
   "cell_type": "markdown",
   "metadata": {},
   "source": [
    "### Матрица ошибок (таблица или график + интерпретация).\n"
   ]
  },
  {
   "cell_type": "code",
   "execution_count": 110,
   "metadata": {},
   "outputs": [
    {
     "data": {
      "image/png": "[encoded data removed]",
      "text/plain": [
       "<Figure size 432x288 with 2 Axes>"
      ]
     },
     "metadata": {
      "needs_background": "light"
     },
     "output_type": "display_data"
    }
   ],
   "source": [
    "disp.plot();"
   ]
  },
  {
   "cell_type": "markdown",
   "metadata": {},
   "source": [
    "По матрице ошибок можно сделать вывод: \n",
    "\n",
    "- True Positive (TP) = 177; это означает, что модель предсказала, что 176 пользователей уйдут, и они действительно ушли.\n",
    "\n",
    "- True Negative (TN) = 1455; модель предсказала, что 1455 пользователей не уйдут и они не действительно не уйдут.\n",
    "\n",
    "- False Positive (FP) = 22; модель предсказала, что 22 человека уйдут, но они не ушли.\n",
    "\n",
    "- False Negative (FN) = 107; модель предсказала что 108 пользователей не должно уйти, но на самом деле они ушли.\n"
   ]
  },
  {
   "cell_type": "markdown",
   "metadata": {},
   "source": [
    "### Важность признаков (график + комментарии).\n"
   ]
  },
  {
   "cell_type": "code",
   "execution_count": 111,
   "metadata": {},
   "outputs": [
    {
     "data": {
      "image/png": "[encoded data removed]",
      "text/plain": [
       "<Figure size 432x432 with 1 Axes>"
      ]
     },
     "metadata": {
      "needs_background": "light"
     },
     "output_type": "display_data"
    }
   ],
   "source": [
    "fig, ax = plt.subplots(figsize=(6,6))\n",
    "bars = plt.barh( imp_data.index, imp_data['res'], height=0.7)\n",
    "ax.set_title('Гистограмма важности признаков')\n",
    "ax.set_ylabel('Признаки')\n",
    "ax.set_xlabel('Важность (%)')\n",
    "plt.show()"
   ]
  },
  {
   "cell_type": "markdown",
   "metadata": {},
   "source": [
    "По графику можно сделать вывод, что `MonthlyCharges`, `Type` и  `TotalDays` самые важные признаки."
   ]
  }
 ],
 "metadata": {
  "ExecuteTimeLog": [
   {
    "duration": 380,
    "start_time": "2023-09-11T09:30:08.890Z"
   },
   {
    "duration": 118,
    "start_time": "2023-09-11T09:30:42.647Z"
   },
   {
    "duration": 303,
    "start_time": "2023-09-11T09:31:26.661Z"
   },
   {
    "duration": 18,
    "start_time": "2023-09-11T09:31:41.560Z"
   },
   {
    "duration": 21,
    "start_time": "2023-09-11T09:32:09.870Z"
   },
   {
    "duration": 57,
    "start_time": "2023-09-11T09:32:37.561Z"
   },
   {
    "duration": 9,
    "start_time": "2023-09-11T09:32:42.464Z"
   },
   {
    "duration": 12,
    "start_time": "2023-09-11T09:33:04.699Z"
   },
   {
    "duration": 9,
    "start_time": "2023-09-11T09:33:16.011Z"
   },
   {
    "duration": 19,
    "start_time": "2023-09-11T09:33:43.140Z"
   },
   {
    "duration": 12,
    "start_time": "2023-09-11T09:33:54.163Z"
   },
   {
    "duration": 7,
    "start_time": "2023-09-11T09:34:03.484Z"
   },
   {
    "duration": 9,
    "start_time": "2023-09-11T09:34:09.934Z"
   },
   {
    "duration": 471,
    "start_time": "2023-09-12T10:38:45.619Z"
   },
   {
    "duration": 367,
    "start_time": "2023-09-12T10:38:47.453Z"
   },
   {
    "duration": 25,
    "start_time": "2023-09-12T10:38:49.848Z"
   },
   {
    "duration": 16,
    "start_time": "2023-09-12T10:38:51.100Z"
   },
   {
    "duration": 17,
    "start_time": "2023-09-12T10:40:39.892Z"
   },
   {
    "duration": 9,
    "start_time": "2023-09-12T10:40:44.434Z"
   },
   {
    "duration": 182,
    "start_time": "2023-09-12T10:52:40.779Z"
   },
   {
    "duration": 9,
    "start_time": "2023-09-12T10:52:44.573Z"
   },
   {
    "duration": 13,
    "start_time": "2023-09-12T10:52:45.786Z"
   },
   {
    "duration": 9,
    "start_time": "2023-09-12T10:53:04.317Z"
   },
   {
    "duration": 5,
    "start_time": "2023-09-12T10:56:45.067Z"
   },
   {
    "duration": 105,
    "start_time": "2023-09-12T11:06:35.800Z"
   },
   {
    "duration": 11,
    "start_time": "2023-09-12T11:06:37.378Z"
   },
   {
    "duration": 18,
    "start_time": "2023-09-12T11:06:38.340Z"
   },
   {
    "duration": 13,
    "start_time": "2023-09-12T11:11:17.631Z"
   },
   {
    "duration": 398,
    "start_time": "2023-09-12T11:28:29.604Z"
   },
   {
    "duration": 106,
    "start_time": "2023-09-12T11:28:30.004Z"
   },
   {
    "duration": 21,
    "start_time": "2023-09-12T11:28:30.112Z"
   },
   {
    "duration": 38,
    "start_time": "2023-09-12T11:28:30.135Z"
   },
   {
    "duration": 122,
    "start_time": "2023-09-12T11:28:30.175Z"
   },
   {
    "duration": 111,
    "start_time": "2023-09-12T11:28:30.298Z"
   },
   {
    "duration": 57,
    "start_time": "2023-09-12T11:28:30.411Z"
   },
   {
    "duration": 99,
    "start_time": "2023-09-12T11:28:30.470Z"
   },
   {
    "duration": 47,
    "start_time": "2023-09-12T11:28:30.571Z"
   },
   {
    "duration": 59,
    "start_time": "2023-09-12T11:28:30.621Z"
   },
   {
    "duration": 62,
    "start_time": "2023-09-12T11:28:30.681Z"
   },
   {
    "duration": 68,
    "start_time": "2023-09-12T11:28:30.744Z"
   },
   {
    "duration": 47,
    "start_time": "2023-09-12T11:28:30.814Z"
   },
   {
    "duration": 7,
    "start_time": "2023-09-12T11:28:47.380Z"
   },
   {
    "duration": 126,
    "start_time": "2023-09-12T11:47:29.643Z"
   },
   {
    "duration": 7,
    "start_time": "2023-09-12T11:48:40.918Z"
   },
   {
    "duration": 8,
    "start_time": "2023-09-12T11:48:44.714Z"
   },
   {
    "duration": 4,
    "start_time": "2023-09-12T11:49:43.762Z"
   },
   {
    "duration": 5,
    "start_time": "2023-09-12T11:51:47.532Z"
   },
   {
    "duration": 5,
    "start_time": "2023-09-12T11:54:20.481Z"
   },
   {
    "duration": 4,
    "start_time": "2023-09-12T11:57:04.412Z"
   },
   {
    "duration": 470,
    "start_time": "2023-09-12T11:59:17.021Z"
   },
   {
    "duration": 104,
    "start_time": "2023-09-12T11:59:17.494Z"
   },
   {
    "duration": 9,
    "start_time": "2023-09-12T11:59:17.599Z"
   },
   {
    "duration": 31,
    "start_time": "2023-09-12T11:59:17.610Z"
   },
   {
    "duration": 56,
    "start_time": "2023-09-12T11:59:17.644Z"
   },
   {
    "duration": 34,
    "start_time": "2023-09-12T11:59:17.702Z"
   },
   {
    "duration": 25,
    "start_time": "2023-09-12T11:59:17.738Z"
   },
   {
    "duration": 17,
    "start_time": "2023-09-12T11:59:17.765Z"
   },
   {
    "duration": 30,
    "start_time": "2023-09-12T11:59:17.784Z"
   },
   {
    "duration": 16,
    "start_time": "2023-09-12T11:59:17.816Z"
   },
   {
    "duration": 35,
    "start_time": "2023-09-12T11:59:17.833Z"
   },
   {
    "duration": 16,
    "start_time": "2023-09-12T11:59:17.871Z"
   },
   {
    "duration": 29,
    "start_time": "2023-09-12T11:59:17.889Z"
   },
   {
    "duration": 15,
    "start_time": "2023-09-12T11:59:17.922Z"
   },
   {
    "duration": 25,
    "start_time": "2023-09-12T11:59:17.939Z"
   },
   {
    "duration": 35,
    "start_time": "2023-09-12T11:59:17.966Z"
   },
   {
    "duration": 31,
    "start_time": "2023-09-12T11:59:18.002Z"
   },
   {
    "duration": 47,
    "start_time": "2023-09-12T11:59:18.035Z"
   },
   {
    "duration": 4,
    "start_time": "2023-09-12T11:59:32.969Z"
   },
   {
    "duration": 17,
    "start_time": "2023-09-12T11:59:33.136Z"
   },
   {
    "duration": 13,
    "start_time": "2023-09-12T11:59:33.273Z"
   },
   {
    "duration": 10,
    "start_time": "2023-09-12T11:59:33.900Z"
   },
   {
    "duration": 12,
    "start_time": "2023-09-12T11:59:46.317Z"
   },
   {
    "duration": 5,
    "start_time": "2023-09-12T11:59:46.931Z"
   },
   {
    "duration": 18,
    "start_time": "2023-09-12T11:59:47.321Z"
   },
   {
    "duration": 15,
    "start_time": "2023-09-12T11:59:47.739Z"
   },
   {
    "duration": 4,
    "start_time": "2023-09-12T12:00:00.793Z"
   },
   {
    "duration": 8,
    "start_time": "2023-09-12T12:00:01.403Z"
   },
   {
    "duration": 10,
    "start_time": "2023-09-12T12:00:01.931Z"
   },
   {
    "duration": 50,
    "start_time": "2023-09-13T11:20:28.974Z"
   },
   {
    "duration": 412,
    "start_time": "2023-09-13T11:20:35.891Z"
   },
   {
    "duration": 356,
    "start_time": "2023-09-13T11:20:36.305Z"
   },
   {
    "duration": 8,
    "start_time": "2023-09-13T11:20:36.663Z"
   },
   {
    "duration": 25,
    "start_time": "2023-09-13T11:20:36.673Z"
   },
   {
    "duration": 23,
    "start_time": "2023-09-13T11:20:36.700Z"
   },
   {
    "duration": 22,
    "start_time": "2023-09-13T11:20:36.725Z"
   },
   {
    "duration": 17,
    "start_time": "2023-09-13T11:20:36.749Z"
   },
   {
    "duration": 15,
    "start_time": "2023-09-13T11:20:36.768Z"
   },
   {
    "duration": 34,
    "start_time": "2023-09-13T11:20:36.785Z"
   },
   {
    "duration": 25,
    "start_time": "2023-09-13T11:20:36.821Z"
   },
   {
    "duration": 14,
    "start_time": "2023-09-13T11:20:36.848Z"
   },
   {
    "duration": 16,
    "start_time": "2023-09-13T11:20:36.864Z"
   },
   {
    "duration": 27,
    "start_time": "2023-09-13T11:20:36.882Z"
   },
   {
    "duration": 21,
    "start_time": "2023-09-13T11:20:36.912Z"
   },
   {
    "duration": 6,
    "start_time": "2023-09-13T11:20:36.935Z"
   },
   {
    "duration": 17,
    "start_time": "2023-09-13T11:20:36.943Z"
   },
   {
    "duration": 47,
    "start_time": "2023-09-13T11:20:36.962Z"
   },
   {
    "duration": 26,
    "start_time": "2023-09-13T11:20:37.010Z"
   },
   {
    "duration": 81,
    "start_time": "2023-09-13T11:20:37.037Z"
   },
   {
    "duration": 9,
    "start_time": "2023-09-13T11:21:15.033Z"
   },
   {
    "duration": 21,
    "start_time": "2023-09-13T11:21:33.904Z"
   },
   {
    "duration": 4,
    "start_time": "2023-09-13T11:21:57.761Z"
   },
   {
    "duration": 11,
    "start_time": "2023-09-13T11:22:10.619Z"
   },
   {
    "duration": 3,
    "start_time": "2023-09-13T11:22:23.752Z"
   },
   {
    "duration": 11,
    "start_time": "2023-09-13T11:22:31.589Z"
   },
   {
    "duration": 4,
    "start_time": "2023-09-13T11:22:43.301Z"
   },
   {
    "duration": 9,
    "start_time": "2023-09-13T11:22:50.201Z"
   },
   {
    "duration": 6,
    "start_time": "2023-09-13T11:23:05.804Z"
   },
   {
    "duration": 8,
    "start_time": "2023-09-13T11:23:15.234Z"
   },
   {
    "duration": 4,
    "start_time": "2023-09-13T11:27:24.557Z"
   },
   {
    "duration": 9,
    "start_time": "2023-09-13T11:27:25.276Z"
   },
   {
    "duration": 659,
    "start_time": "2023-09-13T11:31:19.296Z"
   },
   {
    "duration": 6,
    "start_time": "2023-09-13T11:31:56.057Z"
   },
   {
    "duration": 985,
    "start_time": "2023-09-13T11:32:37.594Z"
   },
   {
    "duration": 52,
    "start_time": "2023-09-13T11:32:50.241Z"
   },
   {
    "duration": 87,
    "start_time": "2023-09-13T11:34:29.751Z"
   },
   {
    "duration": 13,
    "start_time": "2023-09-13T11:34:37.849Z"
   },
   {
    "duration": 10,
    "start_time": "2023-09-13T11:35:05.928Z"
   },
   {
    "duration": 1393,
    "start_time": "2023-09-13T11:51:44.327Z"
   },
   {
    "duration": 92,
    "start_time": "2023-09-13T11:52:03.824Z"
   },
   {
    "duration": 105,
    "start_time": "2023-09-13T11:52:16.249Z"
   },
   {
    "duration": 1258,
    "start_time": "2023-09-13T11:52:37.682Z"
   },
   {
    "duration": 6,
    "start_time": "2023-09-13T11:53:28.363Z"
   },
   {
    "duration": 15,
    "start_time": "2023-09-13T11:53:45.838Z"
   },
   {
    "duration": 3,
    "start_time": "2023-09-13T11:54:11.683Z"
   },
   {
    "duration": 15,
    "start_time": "2023-09-13T11:54:22.263Z"
   },
   {
    "duration": 4,
    "start_time": "2023-09-13T11:54:29.211Z"
   },
   {
    "duration": 13,
    "start_time": "2023-09-13T11:54:38.830Z"
   },
   {
    "duration": 5,
    "start_time": "2023-09-13T12:00:30.431Z"
   },
   {
    "duration": 5,
    "start_time": "2023-09-13T12:00:42.557Z"
   },
   {
    "duration": 13,
    "start_time": "2023-09-13T12:00:47.869Z"
   },
   {
    "duration": 6,
    "start_time": "2023-09-13T12:01:19.959Z"
   },
   {
    "duration": 15,
    "start_time": "2023-09-13T12:01:30.024Z"
   },
   {
    "duration": 14,
    "start_time": "2023-09-13T12:02:14.613Z"
   },
   {
    "duration": 9,
    "start_time": "2023-09-13T12:02:58.736Z"
   },
   {
    "duration": 6,
    "start_time": "2023-09-13T12:04:00.992Z"
   },
   {
    "duration": 13,
    "start_time": "2023-09-13T12:04:01.994Z"
   },
   {
    "duration": 5,
    "start_time": "2023-09-13T12:05:53.322Z"
   },
   {
    "duration": 22,
    "start_time": "2023-09-13T12:06:00.239Z"
   },
   {
    "duration": 14,
    "start_time": "2023-09-13T12:06:08.720Z"
   },
   {
    "duration": 12,
    "start_time": "2023-09-13T12:06:29.061Z"
   },
   {
    "duration": 10,
    "start_time": "2023-09-13T12:06:48.842Z"
   },
   {
    "duration": 5,
    "start_time": "2023-09-13T12:06:53.613Z"
   },
   {
    "duration": 12,
    "start_time": "2023-09-13T12:07:06.752Z"
   },
   {
    "duration": 4,
    "start_time": "2023-09-13T12:07:16.507Z"
   },
   {
    "duration": 13,
    "start_time": "2023-09-13T12:07:17.009Z"
   },
   {
    "duration": 9,
    "start_time": "2023-09-13T12:07:24.228Z"
   },
   {
    "duration": 455,
    "start_time": "2023-09-13T12:07:31.536Z"
   },
   {
    "duration": 106,
    "start_time": "2023-09-13T12:07:31.993Z"
   },
   {
    "duration": 10,
    "start_time": "2023-09-13T12:07:32.101Z"
   },
   {
    "duration": 71,
    "start_time": "2023-09-13T12:07:32.113Z"
   },
   {
    "duration": 65,
    "start_time": "2023-09-13T12:07:32.186Z"
   },
   {
    "duration": 52,
    "start_time": "2023-09-13T12:07:32.253Z"
   },
   {
    "duration": 38,
    "start_time": "2023-09-13T12:07:32.307Z"
   },
   {
    "duration": 31,
    "start_time": "2023-09-13T12:07:32.347Z"
   },
   {
    "duration": 68,
    "start_time": "2023-09-13T12:07:32.380Z"
   },
   {
    "duration": 23,
    "start_time": "2023-09-13T12:07:32.451Z"
   },
   {
    "duration": 56,
    "start_time": "2023-09-13T12:07:32.476Z"
   },
   {
    "duration": 45,
    "start_time": "2023-09-13T12:07:32.533Z"
   },
   {
    "duration": 73,
    "start_time": "2023-09-13T12:07:32.580Z"
   },
   {
    "duration": 39,
    "start_time": "2023-09-13T12:07:32.655Z"
   },
   {
    "duration": 32,
    "start_time": "2023-09-13T12:07:32.696Z"
   },
   {
    "duration": 50,
    "start_time": "2023-09-13T12:07:32.730Z"
   },
   {
    "duration": 25,
    "start_time": "2023-09-13T12:07:32.782Z"
   },
   {
    "duration": 39,
    "start_time": "2023-09-13T12:07:32.809Z"
   },
   {
    "duration": 13,
    "start_time": "2023-09-13T12:07:32.850Z"
   },
   {
    "duration": 42,
    "start_time": "2023-09-13T12:07:32.865Z"
   },
   {
    "duration": 32,
    "start_time": "2023-09-13T12:07:32.909Z"
   },
   {
    "duration": 35,
    "start_time": "2023-09-13T12:07:32.943Z"
   },
   {
    "duration": 24,
    "start_time": "2023-09-13T12:07:32.980Z"
   },
   {
    "duration": 93,
    "start_time": "2023-09-13T12:07:33.006Z"
   },
   {
    "duration": 27,
    "start_time": "2023-09-13T12:07:33.100Z"
   },
   {
    "duration": 31,
    "start_time": "2023-09-13T12:07:33.129Z"
   },
   {
    "duration": 21,
    "start_time": "2023-09-13T12:07:33.162Z"
   },
   {
    "duration": 61,
    "start_time": "2023-09-13T12:07:33.188Z"
   },
   {
    "duration": 15,
    "start_time": "2023-09-13T12:07:33.251Z"
   },
   {
    "duration": 15,
    "start_time": "2023-09-13T12:07:33.268Z"
   },
   {
    "duration": 21,
    "start_time": "2023-09-13T12:07:33.285Z"
   },
   {
    "duration": 28,
    "start_time": "2023-09-13T12:07:33.308Z"
   },
   {
    "duration": 61,
    "start_time": "2023-09-13T12:07:33.338Z"
   },
   {
    "duration": 25,
    "start_time": "2023-09-13T12:07:33.401Z"
   },
   {
    "duration": 25,
    "start_time": "2023-09-13T12:07:33.428Z"
   },
   {
    "duration": 164,
    "start_time": "2023-09-13T12:07:33.456Z"
   },
   {
    "duration": 13,
    "start_time": "2023-09-13T12:07:33.622Z"
   },
   {
    "duration": 57,
    "start_time": "2023-09-13T12:07:33.636Z"
   },
   {
    "duration": 22,
    "start_time": "2023-09-13T12:07:33.695Z"
   },
   {
    "duration": 88,
    "start_time": "2023-09-13T12:07:33.719Z"
   },
   {
    "duration": 0,
    "start_time": "2023-09-13T12:07:33.809Z"
   },
   {
    "duration": 9,
    "start_time": "2023-09-13T12:07:39.395Z"
   },
   {
    "duration": 5,
    "start_time": "2023-09-13T12:08:14.001Z"
   },
   {
    "duration": 13,
    "start_time": "2023-09-13T12:08:15.860Z"
   },
   {
    "duration": 45,
    "start_time": "2023-09-13T20:10:39.759Z"
   },
   {
    "duration": 354,
    "start_time": "2023-09-13T20:10:48.392Z"
   },
   {
    "duration": 321,
    "start_time": "2023-09-13T20:10:48.749Z"
   },
   {
    "duration": 11,
    "start_time": "2023-09-13T20:10:49.072Z"
   },
   {
    "duration": 75,
    "start_time": "2023-09-13T20:10:49.084Z"
   },
   {
    "duration": 32,
    "start_time": "2023-09-13T20:10:49.161Z"
   },
   {
    "duration": 41,
    "start_time": "2023-09-13T20:10:49.195Z"
   },
   {
    "duration": 74,
    "start_time": "2023-09-13T20:10:49.238Z"
   },
   {
    "duration": 72,
    "start_time": "2023-09-13T20:10:49.313Z"
   },
   {
    "duration": 75,
    "start_time": "2023-09-13T20:10:49.386Z"
   },
   {
    "duration": 81,
    "start_time": "2023-09-13T20:10:49.462Z"
   },
   {
    "duration": 47,
    "start_time": "2023-09-13T20:10:49.545Z"
   },
   {
    "duration": 61,
    "start_time": "2023-09-13T20:10:49.594Z"
   },
   {
    "duration": 48,
    "start_time": "2023-09-13T20:10:49.657Z"
   },
   {
    "duration": 49,
    "start_time": "2023-09-13T20:10:49.707Z"
   },
   {
    "duration": 64,
    "start_time": "2023-09-13T20:10:49.758Z"
   },
   {
    "duration": 54,
    "start_time": "2023-09-13T20:10:49.824Z"
   },
   {
    "duration": 47,
    "start_time": "2023-09-13T20:10:49.880Z"
   },
   {
    "duration": 69,
    "start_time": "2023-09-13T20:10:49.929Z"
   },
   {
    "duration": 35,
    "start_time": "2023-09-13T20:10:50.000Z"
   },
   {
    "duration": 51,
    "start_time": "2023-09-13T20:10:50.036Z"
   },
   {
    "duration": 35,
    "start_time": "2023-09-13T20:10:50.089Z"
   },
   {
    "duration": 62,
    "start_time": "2023-09-13T20:10:50.126Z"
   },
   {
    "duration": 77,
    "start_time": "2023-09-13T20:10:50.190Z"
   },
   {
    "duration": 51,
    "start_time": "2023-09-13T20:10:50.269Z"
   },
   {
    "duration": 29,
    "start_time": "2023-09-13T20:10:50.322Z"
   },
   {
    "duration": 38,
    "start_time": "2023-09-13T20:10:50.352Z"
   },
   {
    "duration": 51,
    "start_time": "2023-09-13T20:10:50.392Z"
   },
   {
    "duration": 81,
    "start_time": "2023-09-13T20:10:50.445Z"
   },
   {
    "duration": 49,
    "start_time": "2023-09-13T20:10:50.527Z"
   },
   {
    "duration": 66,
    "start_time": "2023-09-13T20:10:50.577Z"
   },
   {
    "duration": 64,
    "start_time": "2023-09-13T20:10:50.645Z"
   },
   {
    "duration": 21,
    "start_time": "2023-09-13T20:10:50.710Z"
   },
   {
    "duration": 72,
    "start_time": "2023-09-13T20:10:50.733Z"
   },
   {
    "duration": 61,
    "start_time": "2023-09-13T20:10:50.807Z"
   },
   {
    "duration": 63,
    "start_time": "2023-09-13T20:10:50.870Z"
   },
   {
    "duration": 81,
    "start_time": "2023-09-13T20:10:50.935Z"
   },
   {
    "duration": 19,
    "start_time": "2023-09-13T20:10:51.018Z"
   },
   {
    "duration": 26,
    "start_time": "2023-09-13T20:10:51.039Z"
   },
   {
    "duration": 50,
    "start_time": "2023-09-13T20:10:51.067Z"
   },
   {
    "duration": 32,
    "start_time": "2023-09-13T20:10:51.119Z"
   },
   {
    "duration": 68,
    "start_time": "2023-09-13T20:10:51.154Z"
   },
   {
    "duration": 66,
    "start_time": "2023-09-13T20:10:51.224Z"
   },
   {
    "duration": 21,
    "start_time": "2023-09-13T20:11:02.885Z"
   },
   {
    "duration": 12,
    "start_time": "2023-09-13T20:11:20.170Z"
   },
   {
    "duration": 9,
    "start_time": "2023-09-13T20:12:07.937Z"
   },
   {
    "duration": 422,
    "start_time": "2023-09-13T20:13:58.929Z"
   },
   {
    "duration": 93,
    "start_time": "2023-09-13T20:13:59.352Z"
   },
   {
    "duration": 8,
    "start_time": "2023-09-13T20:13:59.446Z"
   },
   {
    "duration": 12,
    "start_time": "2023-09-13T20:13:59.456Z"
   },
   {
    "duration": 12,
    "start_time": "2023-09-13T20:13:59.470Z"
   },
   {
    "duration": 9,
    "start_time": "2023-09-13T20:13:59.483Z"
   },
   {
    "duration": 11,
    "start_time": "2023-09-13T20:13:59.493Z"
   },
   {
    "duration": 22,
    "start_time": "2023-09-13T20:13:59.505Z"
   },
   {
    "duration": 23,
    "start_time": "2023-09-13T20:13:59.528Z"
   },
   {
    "duration": 7,
    "start_time": "2023-09-13T20:13:59.553Z"
   },
   {
    "duration": 11,
    "start_time": "2023-09-13T20:13:59.561Z"
   },
   {
    "duration": 11,
    "start_time": "2023-09-13T20:13:59.574Z"
   },
   {
    "duration": 23,
    "start_time": "2023-09-13T20:13:59.586Z"
   },
   {
    "duration": 9,
    "start_time": "2023-09-13T20:13:59.613Z"
   },
   {
    "duration": 19,
    "start_time": "2023-09-13T20:13:59.623Z"
   },
   {
    "duration": 6,
    "start_time": "2023-09-13T20:13:59.649Z"
   },
   {
    "duration": 19,
    "start_time": "2023-09-13T20:13:59.657Z"
   },
   {
    "duration": 10,
    "start_time": "2023-09-13T20:13:59.678Z"
   },
   {
    "duration": 5,
    "start_time": "2023-09-13T20:13:59.690Z"
   },
   {
    "duration": 15,
    "start_time": "2023-09-13T20:13:59.697Z"
   },
   {
    "duration": 6,
    "start_time": "2023-09-13T20:13:59.713Z"
   },
   {
    "duration": 31,
    "start_time": "2023-09-13T20:13:59.720Z"
   },
   {
    "duration": 4,
    "start_time": "2023-09-13T20:13:59.752Z"
   },
   {
    "duration": 25,
    "start_time": "2023-09-13T20:13:59.758Z"
   },
   {
    "duration": 9,
    "start_time": "2023-09-13T20:13:59.785Z"
   },
   {
    "duration": 8,
    "start_time": "2023-09-13T20:13:59.796Z"
   },
   {
    "duration": 17,
    "start_time": "2023-09-13T20:13:59.806Z"
   },
   {
    "duration": 29,
    "start_time": "2023-09-13T20:13:59.825Z"
   },
   {
    "duration": 12,
    "start_time": "2023-09-13T20:13:59.855Z"
   },
   {
    "duration": 16,
    "start_time": "2023-09-13T20:13:59.869Z"
   },
   {
    "duration": 17,
    "start_time": "2023-09-13T20:13:59.887Z"
   },
   {
    "duration": 22,
    "start_time": "2023-09-13T20:13:59.906Z"
   },
   {
    "duration": 20,
    "start_time": "2023-09-13T20:13:59.929Z"
   },
   {
    "duration": 7,
    "start_time": "2023-09-13T20:13:59.951Z"
   },
   {
    "duration": 12,
    "start_time": "2023-09-13T20:13:59.959Z"
   },
   {
    "duration": 24,
    "start_time": "2023-09-13T20:13:59.972Z"
   },
   {
    "duration": 42,
    "start_time": "2023-09-13T20:13:59.998Z"
   },
   {
    "duration": 53,
    "start_time": "2023-09-13T20:14:00.042Z"
   },
   {
    "duration": 43,
    "start_time": "2023-09-13T20:14:00.096Z"
   },
   {
    "duration": 84,
    "start_time": "2023-09-13T20:14:00.141Z"
   },
   {
    "duration": 39,
    "start_time": "2023-09-13T20:14:00.228Z"
   },
   {
    "duration": 50,
    "start_time": "2023-09-13T20:14:00.269Z"
   },
   {
    "duration": 69,
    "start_time": "2023-09-13T20:14:00.320Z"
   },
   {
    "duration": 65,
    "start_time": "2023-09-13T20:14:00.390Z"
   },
   {
    "duration": 43,
    "start_time": "2023-09-13T20:14:00.457Z"
   },
   {
    "duration": 24,
    "start_time": "2023-09-13T20:16:19.925Z"
   },
   {
    "duration": 3,
    "start_time": "2023-09-13T20:19:38.263Z"
   },
   {
    "duration": 5,
    "start_time": "2023-09-13T20:19:53.382Z"
   },
   {
    "duration": 5,
    "start_time": "2023-09-13T20:20:03.838Z"
   },
   {
    "duration": 44,
    "start_time": "2023-09-14T10:18:46.712Z"
   },
   {
    "duration": 351,
    "start_time": "2023-09-14T10:18:54.099Z"
   },
   {
    "duration": 381,
    "start_time": "2023-09-14T10:18:54.452Z"
   },
   {
    "duration": 7,
    "start_time": "2023-09-14T10:18:54.835Z"
   },
   {
    "duration": 26,
    "start_time": "2023-09-14T10:18:54.844Z"
   },
   {
    "duration": 19,
    "start_time": "2023-09-14T10:18:54.873Z"
   },
   {
    "duration": 7,
    "start_time": "2023-09-14T10:18:54.894Z"
   },
   {
    "duration": 26,
    "start_time": "2023-09-14T10:18:54.902Z"
   },
   {
    "duration": 30,
    "start_time": "2023-09-14T10:18:54.930Z"
   },
   {
    "duration": 44,
    "start_time": "2023-09-14T10:18:54.961Z"
   },
   {
    "duration": 35,
    "start_time": "2023-09-14T10:18:55.007Z"
   },
   {
    "duration": 22,
    "start_time": "2023-09-14T10:18:55.044Z"
   },
   {
    "duration": 13,
    "start_time": "2023-09-14T10:18:55.068Z"
   },
   {
    "duration": 27,
    "start_time": "2023-09-14T10:18:55.082Z"
   },
   {
    "duration": 30,
    "start_time": "2023-09-14T10:18:55.112Z"
   },
   {
    "duration": 16,
    "start_time": "2023-09-14T10:18:55.143Z"
   },
   {
    "duration": 14,
    "start_time": "2023-09-14T10:18:55.160Z"
   },
   {
    "duration": 15,
    "start_time": "2023-09-14T10:18:55.176Z"
   },
   {
    "duration": 21,
    "start_time": "2023-09-14T10:18:55.193Z"
   },
   {
    "duration": 4,
    "start_time": "2023-09-14T10:18:55.216Z"
   },
   {
    "duration": 20,
    "start_time": "2023-09-14T10:18:55.221Z"
   },
   {
    "duration": 13,
    "start_time": "2023-09-14T10:18:55.243Z"
   },
   {
    "duration": 23,
    "start_time": "2023-09-14T10:18:55.258Z"
   },
   {
    "duration": 19,
    "start_time": "2023-09-14T10:18:55.283Z"
   },
   {
    "duration": 13,
    "start_time": "2023-09-14T10:18:55.304Z"
   },
   {
    "duration": 7,
    "start_time": "2023-09-14T10:18:55.319Z"
   },
   {
    "duration": 19,
    "start_time": "2023-09-14T10:18:55.328Z"
   },
   {
    "duration": 18,
    "start_time": "2023-09-14T10:18:55.348Z"
   },
   {
    "duration": 22,
    "start_time": "2023-09-14T10:18:55.367Z"
   },
   {
    "duration": 22,
    "start_time": "2023-09-14T10:18:55.391Z"
   },
   {
    "duration": 16,
    "start_time": "2023-09-14T10:18:55.415Z"
   },
   {
    "duration": 22,
    "start_time": "2023-09-14T10:18:55.432Z"
   },
   {
    "duration": 11,
    "start_time": "2023-09-14T10:18:55.456Z"
   },
   {
    "duration": 19,
    "start_time": "2023-09-14T10:18:55.469Z"
   },
   {
    "duration": 23,
    "start_time": "2023-09-14T10:18:55.489Z"
   },
   {
    "duration": 16,
    "start_time": "2023-09-14T10:18:55.514Z"
   },
   {
    "duration": 46,
    "start_time": "2023-09-14T10:18:55.532Z"
   },
   {
    "duration": 11,
    "start_time": "2023-09-14T10:18:55.579Z"
   },
   {
    "duration": 19,
    "start_time": "2023-09-14T10:18:55.592Z"
   },
   {
    "duration": 28,
    "start_time": "2023-09-14T10:18:55.613Z"
   },
   {
    "duration": 16,
    "start_time": "2023-09-14T10:18:55.643Z"
   },
   {
    "duration": 31,
    "start_time": "2023-09-14T10:18:55.663Z"
   },
   {
    "duration": 25,
    "start_time": "2023-09-14T10:18:55.695Z"
   },
   {
    "duration": 62,
    "start_time": "2023-09-14T10:18:55.721Z"
   },
   {
    "duration": 23,
    "start_time": "2023-09-14T10:18:55.785Z"
   },
   {
    "duration": 46,
    "start_time": "2023-09-14T10:18:55.810Z"
   },
   {
    "duration": 51,
    "start_time": "2023-09-14T10:18:55.858Z"
   },
   {
    "duration": 8,
    "start_time": "2023-09-14T10:18:55.910Z"
   },
   {
    "duration": 39,
    "start_time": "2023-09-14T10:18:55.920Z"
   },
   {
    "duration": 70,
    "start_time": "2023-09-14T10:18:55.961Z"
   },
   {
    "duration": 3,
    "start_time": "2023-09-14T10:19:27.970Z"
   },
   {
    "duration": 1122,
    "start_time": "2023-09-14T10:24:25.970Z"
   },
   {
    "duration": 906,
    "start_time": "2023-09-14T10:24:41.886Z"
   },
   {
    "duration": 755,
    "start_time": "2023-09-14T10:36:09.385Z"
   },
   {
    "duration": 823,
    "start_time": "2023-09-14T10:36:22.933Z"
   },
   {
    "duration": 24,
    "start_time": "2023-09-14T10:38:25.563Z"
   },
   {
    "duration": 20,
    "start_time": "2023-09-14T10:38:34.918Z"
   },
   {
    "duration": 11,
    "start_time": "2023-09-14T10:39:09.440Z"
   },
   {
    "duration": 9,
    "start_time": "2023-09-14T10:42:54.073Z"
   },
   {
    "duration": 83,
    "start_time": "2023-09-14T10:46:36.802Z"
   },
   {
    "duration": 640,
    "start_time": "2023-09-14T10:46:41.474Z"
   },
   {
    "duration": 17,
    "start_time": "2023-09-14T10:47:12.321Z"
   },
   {
    "duration": 12,
    "start_time": "2023-09-14T10:47:32.664Z"
   },
   {
    "duration": 24,
    "start_time": "2023-09-14T10:47:43.818Z"
   },
   {
    "duration": 72,
    "start_time": "2023-09-14T10:48:56.163Z"
   },
   {
    "duration": 129,
    "start_time": "2023-09-14T10:49:18.570Z"
   },
   {
    "duration": 11,
    "start_time": "2023-09-14T10:49:43.463Z"
   },
   {
    "duration": 12,
    "start_time": "2023-09-14T10:49:46.759Z"
   },
   {
    "duration": 95,
    "start_time": "2023-09-14T10:50:36.160Z"
   },
   {
    "duration": 97,
    "start_time": "2023-09-14T10:50:39.817Z"
   },
   {
    "duration": 98,
    "start_time": "2023-09-14T10:50:51.178Z"
   },
   {
    "duration": 92,
    "start_time": "2023-09-14T10:51:10.880Z"
   },
   {
    "duration": 11,
    "start_time": "2023-09-14T10:53:30.800Z"
   },
   {
    "duration": 91,
    "start_time": "2023-09-14T10:54:32.808Z"
   },
   {
    "duration": 564,
    "start_time": "2023-09-14T10:57:12.263Z"
   },
   {
    "duration": 37,
    "start_time": "2023-09-14T10:57:40.592Z"
   },
   {
    "duration": 114,
    "start_time": "2023-09-14T10:57:45.067Z"
   },
   {
    "duration": 103,
    "start_time": "2023-09-14T10:57:57.742Z"
   },
   {
    "duration": 157,
    "start_time": "2023-09-14T10:58:36.332Z"
   },
   {
    "duration": 3,
    "start_time": "2023-09-14T11:00:41.164Z"
   },
   {
    "duration": 131,
    "start_time": "2023-09-14T11:00:48.831Z"
   },
   {
    "duration": 2,
    "start_time": "2023-09-14T11:01:19.473Z"
   },
   {
    "duration": 127,
    "start_time": "2023-09-14T11:01:24.064Z"
   },
   {
    "duration": 3,
    "start_time": "2023-09-14T11:02:27.410Z"
   },
   {
    "duration": 214,
    "start_time": "2023-09-14T11:02:35.420Z"
   },
   {
    "duration": 257,
    "start_time": "2023-09-14T11:03:05.563Z"
   },
   {
    "duration": 199,
    "start_time": "2023-09-14T11:03:27.666Z"
   },
   {
    "duration": 205,
    "start_time": "2023-09-14T11:03:35.393Z"
   },
   {
    "duration": 156,
    "start_time": "2023-09-14T11:04:05.984Z"
   },
   {
    "duration": 171,
    "start_time": "2023-09-14T11:04:14.130Z"
   },
   {
    "duration": 229,
    "start_time": "2023-09-14T11:05:03.064Z"
   },
   {
    "duration": 290,
    "start_time": "2023-09-14T11:05:14.741Z"
   },
   {
    "duration": 1135,
    "start_time": "2023-09-14T15:55:35.962Z"
   },
   {
    "duration": 93,
    "start_time": "2023-09-14T15:55:37.099Z"
   },
   {
    "duration": 6,
    "start_time": "2023-09-14T15:55:37.194Z"
   },
   {
    "duration": 16,
    "start_time": "2023-09-14T15:55:37.202Z"
   },
   {
    "duration": 28,
    "start_time": "2023-09-14T15:55:37.219Z"
   },
   {
    "duration": 52,
    "start_time": "2023-09-14T15:55:37.248Z"
   },
   {
    "duration": 70,
    "start_time": "2023-09-14T15:55:37.302Z"
   },
   {
    "duration": 10,
    "start_time": "2023-09-14T15:55:37.373Z"
   },
   {
    "duration": 15,
    "start_time": "2023-09-14T15:55:37.385Z"
   },
   {
    "duration": 6,
    "start_time": "2023-09-14T15:55:37.403Z"
   },
   {
    "duration": 11,
    "start_time": "2023-09-14T15:55:37.411Z"
   },
   {
    "duration": 8,
    "start_time": "2023-09-14T15:55:37.423Z"
   },
   {
    "duration": 13,
    "start_time": "2023-09-14T15:55:37.443Z"
   },
   {
    "duration": 11,
    "start_time": "2023-09-14T15:55:37.458Z"
   },
   {
    "duration": 11,
    "start_time": "2023-09-14T15:55:37.470Z"
   },
   {
    "duration": 15,
    "start_time": "2023-09-14T15:55:37.482Z"
   },
   {
    "duration": 18,
    "start_time": "2023-09-14T15:55:37.498Z"
   },
   {
    "duration": 12,
    "start_time": "2023-09-14T15:55:37.517Z"
   },
   {
    "duration": 15,
    "start_time": "2023-09-14T15:55:37.530Z"
   },
   {
    "duration": 20,
    "start_time": "2023-09-14T15:55:37.546Z"
   },
   {
    "duration": 18,
    "start_time": "2023-09-14T15:55:37.568Z"
   },
   {
    "duration": 19,
    "start_time": "2023-09-14T15:55:37.588Z"
   },
   {
    "duration": 9,
    "start_time": "2023-09-14T15:55:37.608Z"
   },
   {
    "duration": 21,
    "start_time": "2023-09-14T15:55:37.619Z"
   },
   {
    "duration": 5,
    "start_time": "2023-09-14T15:55:37.642Z"
   },
   {
    "duration": 25,
    "start_time": "2023-09-14T15:55:37.649Z"
   },
   {
    "duration": 19,
    "start_time": "2023-09-14T15:55:37.676Z"
   },
   {
    "duration": 12,
    "start_time": "2023-09-14T15:55:37.698Z"
   },
   {
    "duration": 17,
    "start_time": "2023-09-14T15:55:37.712Z"
   },
   {
    "duration": 24,
    "start_time": "2023-09-14T15:55:37.731Z"
   },
   {
    "duration": 9,
    "start_time": "2023-09-14T15:55:37.756Z"
   },
   {
    "duration": 8,
    "start_time": "2023-09-14T15:55:37.766Z"
   },
   {
    "duration": 19,
    "start_time": "2023-09-14T15:55:37.775Z"
   },
   {
    "duration": 28,
    "start_time": "2023-09-14T15:55:37.795Z"
   },
   {
    "duration": 17,
    "start_time": "2023-09-14T15:55:37.824Z"
   },
   {
    "duration": 29,
    "start_time": "2023-09-14T15:55:37.842Z"
   },
   {
    "duration": 10,
    "start_time": "2023-09-14T15:55:37.873Z"
   },
   {
    "duration": 16,
    "start_time": "2023-09-14T15:55:37.884Z"
   },
   {
    "duration": 15,
    "start_time": "2023-09-14T15:55:37.902Z"
   },
   {
    "duration": 8,
    "start_time": "2023-09-14T15:55:37.919Z"
   },
   {
    "duration": 19,
    "start_time": "2023-09-14T15:55:37.929Z"
   },
   {
    "duration": 11,
    "start_time": "2023-09-14T15:55:37.949Z"
   },
   {
    "duration": 26,
    "start_time": "2023-09-14T15:55:37.962Z"
   },
   {
    "duration": 20,
    "start_time": "2023-09-14T15:55:37.989Z"
   },
   {
    "duration": 11,
    "start_time": "2023-09-14T15:55:38.044Z"
   },
   {
    "duration": 26,
    "start_time": "2023-09-14T15:55:38.057Z"
   },
   {
    "duration": 4,
    "start_time": "2023-09-14T15:55:38.084Z"
   },
   {
    "duration": 18,
    "start_time": "2023-09-14T15:55:38.089Z"
   },
   {
    "duration": 9,
    "start_time": "2023-09-14T15:55:38.108Z"
   },
   {
    "duration": 5,
    "start_time": "2023-09-14T15:55:38.143Z"
   },
   {
    "duration": 715,
    "start_time": "2023-09-14T15:55:38.149Z"
   },
   {
    "duration": 99,
    "start_time": "2023-09-14T15:55:38.866Z"
   },
   {
    "duration": 106,
    "start_time": "2023-09-14T15:55:38.967Z"
   },
   {
    "duration": 102,
    "start_time": "2023-09-14T15:55:39.075Z"
   },
   {
    "duration": 17,
    "start_time": "2023-09-14T15:55:39.179Z"
   },
   {
    "duration": 8,
    "start_time": "2023-09-14T15:55:39.197Z"
   },
   {
    "duration": 700,
    "start_time": "2023-09-14T15:55:39.207Z"
   },
   {
    "duration": 17,
    "start_time": "2023-09-14T15:55:39.909Z"
   },
   {
    "duration": 23,
    "start_time": "2023-09-14T15:55:39.928Z"
   },
   {
    "duration": 288,
    "start_time": "2023-09-14T15:55:39.952Z"
   },
   {
    "duration": 108,
    "start_time": "2023-09-14T15:55:40.242Z"
   },
   {
    "duration": 20674,
    "start_time": "2023-09-14T15:58:29.735Z"
   },
   {
    "duration": 1192,
    "start_time": "2023-09-14T15:59:18.951Z"
   },
   {
    "duration": 527,
    "start_time": "2023-09-14T16:01:11.947Z"
   },
   {
    "duration": 525,
    "start_time": "2023-09-14T16:01:38.162Z"
   },
   {
    "duration": 461,
    "start_time": "2023-09-14T16:01:59.329Z"
   },
   {
    "duration": 98,
    "start_time": "2023-09-14T16:02:20.452Z"
   },
   {
    "duration": 216,
    "start_time": "2023-09-14T16:02:36.404Z"
   },
   {
    "duration": 117,
    "start_time": "2023-09-14T16:02:46.412Z"
   },
   {
    "duration": 679,
    "start_time": "2023-09-14T16:03:55.096Z"
   },
   {
    "duration": 1131,
    "start_time": "2023-09-14T16:04:31.383Z"
   },
   {
    "duration": 97,
    "start_time": "2023-09-14T16:04:32.516Z"
   },
   {
    "duration": 6,
    "start_time": "2023-09-14T16:04:32.614Z"
   },
   {
    "duration": 26,
    "start_time": "2023-09-14T16:04:32.621Z"
   },
   {
    "duration": 14,
    "start_time": "2023-09-14T16:04:32.650Z"
   },
   {
    "duration": 11,
    "start_time": "2023-09-14T16:04:32.665Z"
   },
   {
    "duration": 7,
    "start_time": "2023-09-14T16:04:32.677Z"
   },
   {
    "duration": 10,
    "start_time": "2023-09-14T16:04:32.687Z"
   },
   {
    "duration": 21,
    "start_time": "2023-09-14T16:04:32.699Z"
   },
   {
    "duration": 9,
    "start_time": "2023-09-14T16:04:32.743Z"
   },
   {
    "duration": 48,
    "start_time": "2023-09-14T16:04:32.754Z"
   },
   {
    "duration": 16,
    "start_time": "2023-09-14T16:04:32.803Z"
   },
   {
    "duration": 20,
    "start_time": "2023-09-14T16:04:32.820Z"
   },
   {
    "duration": 20,
    "start_time": "2023-09-14T16:04:32.843Z"
   },
   {
    "duration": 11,
    "start_time": "2023-09-14T16:04:32.865Z"
   },
   {
    "duration": 22,
    "start_time": "2023-09-14T16:04:32.878Z"
   },
   {
    "duration": 20,
    "start_time": "2023-09-14T16:04:32.902Z"
   },
   {
    "duration": 24,
    "start_time": "2023-09-14T16:04:32.924Z"
   },
   {
    "duration": 29,
    "start_time": "2023-09-14T16:04:32.950Z"
   },
   {
    "duration": 23,
    "start_time": "2023-09-14T16:04:32.981Z"
   },
   {
    "duration": 23,
    "start_time": "2023-09-14T16:04:33.006Z"
   },
   {
    "duration": 20,
    "start_time": "2023-09-14T16:04:33.031Z"
   },
   {
    "duration": 16,
    "start_time": "2023-09-14T16:04:33.053Z"
   },
   {
    "duration": 29,
    "start_time": "2023-09-14T16:04:33.070Z"
   },
   {
    "duration": 24,
    "start_time": "2023-09-14T16:04:33.100Z"
   },
   {
    "duration": 20,
    "start_time": "2023-09-14T16:04:33.125Z"
   },
   {
    "duration": 20,
    "start_time": "2023-09-14T16:04:33.146Z"
   },
   {
    "duration": 26,
    "start_time": "2023-09-14T16:04:33.167Z"
   },
   {
    "duration": 30,
    "start_time": "2023-09-14T16:04:33.195Z"
   },
   {
    "duration": 18,
    "start_time": "2023-09-14T16:04:33.227Z"
   },
   {
    "duration": 25,
    "start_time": "2023-09-14T16:04:33.247Z"
   },
   {
    "duration": 20,
    "start_time": "2023-09-14T16:04:33.274Z"
   },
   {
    "duration": 29,
    "start_time": "2023-09-14T16:04:33.295Z"
   },
   {
    "duration": 26,
    "start_time": "2023-09-14T16:04:33.326Z"
   },
   {
    "duration": 54,
    "start_time": "2023-09-14T16:04:33.353Z"
   },
   {
    "duration": 30,
    "start_time": "2023-09-14T16:04:33.408Z"
   },
   {
    "duration": 4,
    "start_time": "2023-09-14T16:04:33.439Z"
   },
   {
    "duration": 16,
    "start_time": "2023-09-14T16:04:33.444Z"
   },
   {
    "duration": 25,
    "start_time": "2023-09-14T16:04:33.462Z"
   },
   {
    "duration": 11,
    "start_time": "2023-09-14T16:04:33.489Z"
   },
   {
    "duration": 16,
    "start_time": "2023-09-14T16:04:33.504Z"
   },
   {
    "duration": 14,
    "start_time": "2023-09-14T16:04:33.521Z"
   },
   {
    "duration": 28,
    "start_time": "2023-09-14T16:04:33.536Z"
   },
   {
    "duration": 19,
    "start_time": "2023-09-14T16:04:33.566Z"
   },
   {
    "duration": 11,
    "start_time": "2023-09-14T16:04:33.587Z"
   },
   {
    "duration": 59,
    "start_time": "2023-09-14T16:04:33.599Z"
   },
   {
    "duration": 3,
    "start_time": "2023-09-14T16:04:33.660Z"
   },
   {
    "duration": 12,
    "start_time": "2023-09-14T16:04:33.665Z"
   },
   {
    "duration": 10,
    "start_time": "2023-09-14T16:04:33.679Z"
   },
   {
    "duration": 14,
    "start_time": "2023-09-14T16:04:33.691Z"
   },
   {
    "duration": 783,
    "start_time": "2023-09-14T16:04:33.706Z"
   },
   {
    "duration": 151,
    "start_time": "2023-09-14T16:04:34.492Z"
   },
   {
    "duration": 106,
    "start_time": "2023-09-14T16:04:34.645Z"
   },
   {
    "duration": 113,
    "start_time": "2023-09-14T16:04:34.753Z"
   },
   {
    "duration": 19,
    "start_time": "2023-09-14T16:04:34.868Z"
   },
   {
    "duration": 10,
    "start_time": "2023-09-14T16:04:34.889Z"
   },
   {
    "duration": 753,
    "start_time": "2023-09-14T16:04:34.900Z"
   },
   {
    "duration": 20,
    "start_time": "2023-09-14T16:04:35.655Z"
   },
   {
    "duration": 12,
    "start_time": "2023-09-14T16:04:35.676Z"
   },
   {
    "duration": 748,
    "start_time": "2023-09-14T16:04:35.690Z"
   },
   {
    "duration": 510,
    "start_time": "2023-09-14T16:04:36.440Z"
   },
   {
    "duration": 134,
    "start_time": "2023-09-14T16:04:36.951Z"
   },
   {
    "duration": 1139,
    "start_time": "2023-09-14T16:05:55.681Z"
   },
   {
    "duration": 92,
    "start_time": "2023-09-14T16:05:56.822Z"
   },
   {
    "duration": 5,
    "start_time": "2023-09-14T16:05:56.916Z"
   },
   {
    "duration": 24,
    "start_time": "2023-09-14T16:05:56.923Z"
   },
   {
    "duration": 12,
    "start_time": "2023-09-14T16:05:56.950Z"
   },
   {
    "duration": 25,
    "start_time": "2023-09-14T16:05:56.964Z"
   },
   {
    "duration": 10,
    "start_time": "2023-09-14T16:05:56.991Z"
   },
   {
    "duration": 22,
    "start_time": "2023-09-14T16:05:57.003Z"
   },
   {
    "duration": 22,
    "start_time": "2023-09-14T16:05:57.027Z"
   },
   {
    "duration": 15,
    "start_time": "2023-09-14T16:05:57.051Z"
   },
   {
    "duration": 13,
    "start_time": "2023-09-14T16:05:57.067Z"
   },
   {
    "duration": 9,
    "start_time": "2023-09-14T16:05:57.082Z"
   },
   {
    "duration": 16,
    "start_time": "2023-09-14T16:05:57.093Z"
   },
   {
    "duration": 17,
    "start_time": "2023-09-14T16:05:57.112Z"
   },
   {
    "duration": 13,
    "start_time": "2023-09-14T16:05:57.131Z"
   },
   {
    "duration": 9,
    "start_time": "2023-09-14T16:05:57.146Z"
   },
   {
    "duration": 22,
    "start_time": "2023-09-14T16:05:57.156Z"
   },
   {
    "duration": 35,
    "start_time": "2023-09-14T16:05:57.179Z"
   },
   {
    "duration": 29,
    "start_time": "2023-09-14T16:05:57.215Z"
   },
   {
    "duration": 28,
    "start_time": "2023-09-14T16:05:57.245Z"
   },
   {
    "duration": 10,
    "start_time": "2023-09-14T16:05:57.275Z"
   },
   {
    "duration": 30,
    "start_time": "2023-09-14T16:05:57.286Z"
   },
   {
    "duration": 18,
    "start_time": "2023-09-14T16:05:57.318Z"
   },
   {
    "duration": 32,
    "start_time": "2023-09-14T16:05:57.338Z"
   },
   {
    "duration": 6,
    "start_time": "2023-09-14T16:05:57.372Z"
   },
   {
    "duration": 18,
    "start_time": "2023-09-14T16:05:57.379Z"
   },
   {
    "duration": 9,
    "start_time": "2023-09-14T16:05:57.399Z"
   },
   {
    "duration": 20,
    "start_time": "2023-09-14T16:05:57.410Z"
   },
   {
    "duration": 10,
    "start_time": "2023-09-14T16:05:57.432Z"
   },
   {
    "duration": 19,
    "start_time": "2023-09-14T16:05:57.443Z"
   },
   {
    "duration": 8,
    "start_time": "2023-09-14T16:05:57.464Z"
   },
   {
    "duration": 9,
    "start_time": "2023-09-14T16:05:57.473Z"
   },
   {
    "duration": 25,
    "start_time": "2023-09-14T16:05:57.483Z"
   },
   {
    "duration": 13,
    "start_time": "2023-09-14T16:05:57.509Z"
   },
   {
    "duration": 16,
    "start_time": "2023-09-14T16:05:57.524Z"
   },
   {
    "duration": 13,
    "start_time": "2023-09-14T16:05:57.542Z"
   },
   {
    "duration": 22,
    "start_time": "2023-09-14T16:05:57.556Z"
   },
   {
    "duration": 16,
    "start_time": "2023-09-14T16:05:57.580Z"
   },
   {
    "duration": 18,
    "start_time": "2023-09-14T16:05:57.597Z"
   },
   {
    "duration": 6,
    "start_time": "2023-09-14T16:05:57.616Z"
   },
   {
    "duration": 29,
    "start_time": "2023-09-14T16:05:57.625Z"
   },
   {
    "duration": 27,
    "start_time": "2023-09-14T16:05:57.655Z"
   },
   {
    "duration": 25,
    "start_time": "2023-09-14T16:05:57.683Z"
   },
   {
    "duration": 20,
    "start_time": "2023-09-14T16:05:57.710Z"
   },
   {
    "duration": 32,
    "start_time": "2023-09-14T16:05:57.732Z"
   },
   {
    "duration": 27,
    "start_time": "2023-09-14T16:05:57.766Z"
   },
   {
    "duration": 4,
    "start_time": "2023-09-14T16:05:57.794Z"
   },
   {
    "duration": 13,
    "start_time": "2023-09-14T16:05:57.800Z"
   },
   {
    "duration": 12,
    "start_time": "2023-09-14T16:05:57.814Z"
   },
   {
    "duration": 27,
    "start_time": "2023-09-14T16:05:57.827Z"
   },
   {
    "duration": 714,
    "start_time": "2023-09-14T16:05:57.856Z"
   },
   {
    "duration": 104,
    "start_time": "2023-09-14T16:05:58.571Z"
   },
   {
    "duration": 95,
    "start_time": "2023-09-14T16:05:58.677Z"
   },
   {
    "duration": 94,
    "start_time": "2023-09-14T16:05:58.774Z"
   },
   {
    "duration": 22,
    "start_time": "2023-09-14T16:05:58.869Z"
   },
   {
    "duration": 8,
    "start_time": "2023-09-14T16:05:58.893Z"
   },
   {
    "duration": 726,
    "start_time": "2023-09-14T16:05:58.903Z"
   },
   {
    "duration": 23,
    "start_time": "2023-09-14T16:05:59.631Z"
   },
   {
    "duration": 10,
    "start_time": "2023-09-14T16:05:59.655Z"
   },
   {
    "duration": 746,
    "start_time": "2023-09-14T16:05:59.666Z"
   },
   {
    "duration": 542,
    "start_time": "2023-09-14T16:06:00.414Z"
   },
   {
    "duration": 136,
    "start_time": "2023-09-14T16:06:00.958Z"
   },
   {
    "duration": 4,
    "start_time": "2023-09-14T16:09:02.945Z"
   },
   {
    "duration": 16,
    "start_time": "2023-09-14T16:09:12.435Z"
   },
   {
    "duration": 852,
    "start_time": "2023-09-14T16:11:31.828Z"
   },
   {
    "duration": 98,
    "start_time": "2023-09-14T16:15:30.313Z"
   },
   {
    "duration": 1126,
    "start_time": "2023-09-14T16:15:41.445Z"
   },
   {
    "duration": 92,
    "start_time": "2023-09-14T16:15:42.573Z"
   },
   {
    "duration": 5,
    "start_time": "2023-09-14T16:15:42.667Z"
   },
   {
    "duration": 17,
    "start_time": "2023-09-14T16:15:42.673Z"
   },
   {
    "duration": 15,
    "start_time": "2023-09-14T16:15:42.692Z"
   },
   {
    "duration": 7,
    "start_time": "2023-09-14T16:15:42.708Z"
   },
   {
    "duration": 17,
    "start_time": "2023-09-14T16:15:42.716Z"
   },
   {
    "duration": 11,
    "start_time": "2023-09-14T16:15:42.743Z"
   },
   {
    "duration": 29,
    "start_time": "2023-09-14T16:15:42.756Z"
   },
   {
    "duration": 22,
    "start_time": "2023-09-14T16:15:42.786Z"
   },
   {
    "duration": 28,
    "start_time": "2023-09-14T16:15:42.809Z"
   },
   {
    "duration": 71,
    "start_time": "2023-09-14T16:15:42.838Z"
   },
   {
    "duration": 33,
    "start_time": "2023-09-14T16:15:42.910Z"
   },
   {
    "duration": 21,
    "start_time": "2023-09-14T16:15:42.946Z"
   },
   {
    "duration": 12,
    "start_time": "2023-09-14T16:15:42.968Z"
   },
   {
    "duration": 37,
    "start_time": "2023-09-14T16:15:42.981Z"
   },
   {
    "duration": 29,
    "start_time": "2023-09-14T16:15:43.019Z"
   },
   {
    "duration": 23,
    "start_time": "2023-09-14T16:15:43.050Z"
   },
   {
    "duration": 29,
    "start_time": "2023-09-14T16:15:43.074Z"
   },
   {
    "duration": 49,
    "start_time": "2023-09-14T16:15:43.105Z"
   },
   {
    "duration": 25,
    "start_time": "2023-09-14T16:15:43.155Z"
   },
   {
    "duration": 29,
    "start_time": "2023-09-14T16:15:43.181Z"
   },
   {
    "duration": 26,
    "start_time": "2023-09-14T16:15:43.211Z"
   },
   {
    "duration": 18,
    "start_time": "2023-09-14T16:15:43.238Z"
   },
   {
    "duration": 19,
    "start_time": "2023-09-14T16:15:43.258Z"
   },
   {
    "duration": 24,
    "start_time": "2023-09-14T16:15:43.279Z"
   },
   {
    "duration": 6,
    "start_time": "2023-09-14T16:15:43.304Z"
   },
   {
    "duration": 23,
    "start_time": "2023-09-14T16:15:43.311Z"
   },
   {
    "duration": 10,
    "start_time": "2023-09-14T16:15:43.335Z"
   },
   {
    "duration": 30,
    "start_time": "2023-09-14T16:15:43.346Z"
   },
   {
    "duration": 27,
    "start_time": "2023-09-14T16:15:43.378Z"
   },
   {
    "duration": 15,
    "start_time": "2023-09-14T16:15:43.407Z"
   },
   {
    "duration": 26,
    "start_time": "2023-09-14T16:15:43.424Z"
   },
   {
    "duration": 39,
    "start_time": "2023-09-14T16:15:43.451Z"
   },
   {
    "duration": 13,
    "start_time": "2023-09-14T16:15:43.492Z"
   },
   {
    "duration": 14,
    "start_time": "2023-09-14T16:15:43.506Z"
   },
   {
    "duration": 19,
    "start_time": "2023-09-14T16:15:43.522Z"
   },
   {
    "duration": 33,
    "start_time": "2023-09-14T16:15:43.543Z"
   },
   {
    "duration": 23,
    "start_time": "2023-09-14T16:15:43.578Z"
   },
   {
    "duration": 3,
    "start_time": "2023-09-14T16:15:43.603Z"
   },
   {
    "duration": 25,
    "start_time": "2023-09-14T16:15:43.611Z"
   },
   {
    "duration": 23,
    "start_time": "2023-09-14T16:15:43.637Z"
   },
   {
    "duration": 32,
    "start_time": "2023-09-14T16:15:43.661Z"
   },
   {
    "duration": 23,
    "start_time": "2023-09-14T16:15:43.695Z"
   },
   {
    "duration": 27,
    "start_time": "2023-09-14T16:15:43.720Z"
   },
   {
    "duration": 53,
    "start_time": "2023-09-14T16:15:43.749Z"
   },
   {
    "duration": 4,
    "start_time": "2023-09-14T16:15:43.803Z"
   },
   {
    "duration": 19,
    "start_time": "2023-09-14T16:15:43.808Z"
   },
   {
    "duration": 35,
    "start_time": "2023-09-14T16:15:43.829Z"
   },
   {
    "duration": 17,
    "start_time": "2023-09-14T16:15:43.866Z"
   },
   {
    "duration": 788,
    "start_time": "2023-09-14T16:15:43.884Z"
   },
   {
    "duration": 111,
    "start_time": "2023-09-14T16:15:44.674Z"
   },
   {
    "duration": 94,
    "start_time": "2023-09-14T16:15:44.787Z"
   },
   {
    "duration": 101,
    "start_time": "2023-09-14T16:15:44.883Z"
   },
   {
    "duration": 19,
    "start_time": "2023-09-14T16:15:44.986Z"
   },
   {
    "duration": 9,
    "start_time": "2023-09-14T16:15:45.007Z"
   },
   {
    "duration": 105,
    "start_time": "2023-09-14T16:15:45.017Z"
   },
   {
    "duration": 42,
    "start_time": "2023-09-14T16:15:45.123Z"
   },
   {
    "duration": 133,
    "start_time": "2023-09-14T16:15:45.167Z"
   },
   {
    "duration": 0,
    "start_time": "2023-09-14T16:15:45.302Z"
   },
   {
    "duration": 0,
    "start_time": "2023-09-14T16:15:45.303Z"
   },
   {
    "duration": 0,
    "start_time": "2023-09-14T16:15:45.305Z"
   },
   {
    "duration": 0,
    "start_time": "2023-09-14T16:15:45.306Z"
   },
   {
    "duration": 0,
    "start_time": "2023-09-14T16:15:45.307Z"
   },
   {
    "duration": 0,
    "start_time": "2023-09-14T16:15:45.309Z"
   },
   {
    "duration": 539,
    "start_time": "2023-09-14T16:16:20.793Z"
   },
   {
    "duration": 16,
    "start_time": "2023-09-14T16:16:40.486Z"
   },
   {
    "duration": 16,
    "start_time": "2023-09-14T16:16:41.499Z"
   },
   {
    "duration": 11,
    "start_time": "2023-09-14T16:16:44.958Z"
   },
   {
    "duration": 14,
    "start_time": "2023-09-14T16:16:48.783Z"
   },
   {
    "duration": 778,
    "start_time": "2023-09-14T16:20:52.097Z"
   },
   {
    "duration": 521,
    "start_time": "2023-09-14T16:21:09.437Z"
   },
   {
    "duration": 737,
    "start_time": "2023-09-14T16:22:21.770Z"
   },
   {
    "duration": 104,
    "start_time": "2023-09-14T16:22:54.158Z"
   },
   {
    "duration": 803,
    "start_time": "2023-09-14T16:23:06.805Z"
   },
   {
    "duration": 94,
    "start_time": "2023-09-14T16:24:18.839Z"
   },
   {
    "duration": 593,
    "start_time": "2023-09-14T16:24:22.913Z"
   },
   {
    "duration": 136,
    "start_time": "2023-09-14T16:25:05.259Z"
   },
   {
    "duration": 122,
    "start_time": "2023-09-14T16:25:17.510Z"
   },
   {
    "duration": 129,
    "start_time": "2023-09-14T16:25:29.398Z"
   },
   {
    "duration": 129,
    "start_time": "2023-09-14T16:25:35.188Z"
   },
   {
    "duration": 164,
    "start_time": "2023-09-14T16:25:42.074Z"
   },
   {
    "duration": 90,
    "start_time": "2023-09-14T16:26:18.074Z"
   },
   {
    "duration": 1171,
    "start_time": "2023-09-14T16:38:36.722Z"
   },
   {
    "duration": 95,
    "start_time": "2023-09-14T16:38:37.895Z"
   },
   {
    "duration": 5,
    "start_time": "2023-09-14T16:38:37.992Z"
   },
   {
    "duration": 32,
    "start_time": "2023-09-14T16:38:38.000Z"
   },
   {
    "duration": 13,
    "start_time": "2023-09-14T16:38:38.034Z"
   },
   {
    "duration": 8,
    "start_time": "2023-09-14T16:38:38.049Z"
   },
   {
    "duration": 8,
    "start_time": "2023-09-14T16:38:38.059Z"
   },
   {
    "duration": 19,
    "start_time": "2023-09-14T16:38:38.068Z"
   },
   {
    "duration": 14,
    "start_time": "2023-09-14T16:38:38.088Z"
   },
   {
    "duration": 12,
    "start_time": "2023-09-14T16:38:38.104Z"
   },
   {
    "duration": 17,
    "start_time": "2023-09-14T16:38:38.143Z"
   },
   {
    "duration": 6,
    "start_time": "2023-09-14T16:38:38.163Z"
   },
   {
    "duration": 16,
    "start_time": "2023-09-14T16:38:38.170Z"
   },
   {
    "duration": 16,
    "start_time": "2023-09-14T16:38:38.188Z"
   },
   {
    "duration": 10,
    "start_time": "2023-09-14T16:38:38.206Z"
   },
   {
    "duration": 32,
    "start_time": "2023-09-14T16:38:38.218Z"
   },
   {
    "duration": 15,
    "start_time": "2023-09-14T16:38:38.251Z"
   },
   {
    "duration": 18,
    "start_time": "2023-09-14T16:38:38.267Z"
   },
   {
    "duration": 4,
    "start_time": "2023-09-14T16:38:38.287Z"
   },
   {
    "duration": 17,
    "start_time": "2023-09-14T16:38:38.293Z"
   },
   {
    "duration": 9,
    "start_time": "2023-09-14T16:38:38.312Z"
   },
   {
    "duration": 25,
    "start_time": "2023-09-14T16:38:38.323Z"
   },
   {
    "duration": 8,
    "start_time": "2023-09-14T16:38:38.350Z"
   },
   {
    "duration": 33,
    "start_time": "2023-09-14T16:38:38.360Z"
   },
   {
    "duration": 8,
    "start_time": "2023-09-14T16:38:38.394Z"
   },
   {
    "duration": 14,
    "start_time": "2023-09-14T16:38:38.404Z"
   },
   {
    "duration": 17,
    "start_time": "2023-09-14T16:38:38.420Z"
   },
   {
    "duration": 33,
    "start_time": "2023-09-14T16:38:38.442Z"
   },
   {
    "duration": 6,
    "start_time": "2023-09-14T16:38:38.479Z"
   },
   {
    "duration": 32,
    "start_time": "2023-09-14T16:38:38.486Z"
   },
   {
    "duration": 8,
    "start_time": "2023-09-14T16:38:38.520Z"
   },
   {
    "duration": 9,
    "start_time": "2023-09-14T16:38:38.530Z"
   },
   {
    "duration": 12,
    "start_time": "2023-09-14T16:38:38.540Z"
   },
   {
    "duration": 15,
    "start_time": "2023-09-14T16:38:38.554Z"
   },
   {
    "duration": 21,
    "start_time": "2023-09-14T16:38:38.570Z"
   },
   {
    "duration": 13,
    "start_time": "2023-09-14T16:38:38.593Z"
   },
   {
    "duration": 4,
    "start_time": "2023-09-14T16:38:38.608Z"
   },
   {
    "duration": 17,
    "start_time": "2023-09-14T16:38:38.613Z"
   },
   {
    "duration": 27,
    "start_time": "2023-09-14T16:38:38.632Z"
   },
   {
    "duration": 5,
    "start_time": "2023-09-14T16:38:38.661Z"
   },
   {
    "duration": 16,
    "start_time": "2023-09-14T16:38:38.667Z"
   },
   {
    "duration": 15,
    "start_time": "2023-09-14T16:38:38.685Z"
   },
   {
    "duration": 65,
    "start_time": "2023-09-14T16:38:38.701Z"
   },
   {
    "duration": 23,
    "start_time": "2023-09-14T16:38:38.768Z"
   },
   {
    "duration": 11,
    "start_time": "2023-09-14T16:38:38.792Z"
   },
   {
    "duration": 55,
    "start_time": "2023-09-14T16:38:38.805Z"
   },
   {
    "duration": 4,
    "start_time": "2023-09-14T16:38:38.861Z"
   },
   {
    "duration": 13,
    "start_time": "2023-09-14T16:38:38.867Z"
   },
   {
    "duration": 12,
    "start_time": "2023-09-14T16:38:38.882Z"
   },
   {
    "duration": 11,
    "start_time": "2023-09-14T16:38:38.895Z"
   },
   {
    "duration": 779,
    "start_time": "2023-09-14T16:38:38.908Z"
   },
   {
    "duration": 108,
    "start_time": "2023-09-14T16:38:39.689Z"
   },
   {
    "duration": 96,
    "start_time": "2023-09-14T16:38:39.799Z"
   },
   {
    "duration": 104,
    "start_time": "2023-09-14T16:38:39.896Z"
   },
   {
    "duration": 21,
    "start_time": "2023-09-14T16:38:40.002Z"
   },
   {
    "duration": 23,
    "start_time": "2023-09-14T16:38:40.025Z"
   },
   {
    "duration": 45,
    "start_time": "2023-09-14T16:38:40.049Z"
   },
   {
    "duration": 33,
    "start_time": "2023-09-14T16:38:40.096Z"
   },
   {
    "duration": 537,
    "start_time": "2023-09-14T16:38:40.131Z"
   },
   {
    "duration": 17,
    "start_time": "2023-09-14T16:38:40.669Z"
   },
   {
    "duration": 42,
    "start_time": "2023-09-14T16:38:40.688Z"
   },
   {
    "duration": 734,
    "start_time": "2023-09-14T16:38:40.732Z"
   },
   {
    "duration": 497,
    "start_time": "2023-09-14T16:38:41.467Z"
   },
   {
    "duration": 133,
    "start_time": "2023-09-14T16:38:41.965Z"
   },
   {
    "duration": 634,
    "start_time": "2023-09-14T16:38:42.099Z"
   },
   {
    "duration": 586,
    "start_time": "2023-09-14T16:38:42.734Z"
   },
   {
    "duration": 149,
    "start_time": "2023-09-14T16:38:43.323Z"
   },
   {
    "duration": 1168,
    "start_time": "2023-09-14T16:42:10.795Z"
   },
   {
    "duration": 98,
    "start_time": "2023-09-14T16:42:11.964Z"
   },
   {
    "duration": 6,
    "start_time": "2023-09-14T16:42:12.063Z"
   },
   {
    "duration": 19,
    "start_time": "2023-09-14T16:42:12.071Z"
   },
   {
    "duration": 12,
    "start_time": "2023-09-14T16:42:12.092Z"
   },
   {
    "duration": 14,
    "start_time": "2023-09-14T16:42:12.106Z"
   },
   {
    "duration": 4,
    "start_time": "2023-09-14T16:42:12.122Z"
   },
   {
    "duration": 23,
    "start_time": "2023-09-14T16:42:12.128Z"
   },
   {
    "duration": 21,
    "start_time": "2023-09-14T16:42:12.153Z"
   },
   {
    "duration": 12,
    "start_time": "2023-09-14T16:42:12.176Z"
   },
   {
    "duration": 17,
    "start_time": "2023-09-14T16:42:12.189Z"
   },
   {
    "duration": 13,
    "start_time": "2023-09-14T16:42:12.208Z"
   },
   {
    "duration": 18,
    "start_time": "2023-09-14T16:42:12.223Z"
   },
   {
    "duration": 14,
    "start_time": "2023-09-14T16:42:12.245Z"
   },
   {
    "duration": 10,
    "start_time": "2023-09-14T16:42:12.261Z"
   },
   {
    "duration": 10,
    "start_time": "2023-09-14T16:42:12.273Z"
   },
   {
    "duration": 17,
    "start_time": "2023-09-14T16:42:12.284Z"
   },
   {
    "duration": 19,
    "start_time": "2023-09-14T16:42:12.303Z"
   },
   {
    "duration": 15,
    "start_time": "2023-09-14T16:42:12.323Z"
   },
   {
    "duration": 19,
    "start_time": "2023-09-14T16:42:12.339Z"
   },
   {
    "duration": 14,
    "start_time": "2023-09-14T16:42:12.359Z"
   },
   {
    "duration": 21,
    "start_time": "2023-09-14T16:42:12.374Z"
   },
   {
    "duration": 17,
    "start_time": "2023-09-14T16:42:12.396Z"
   },
   {
    "duration": 16,
    "start_time": "2023-09-14T16:42:12.415Z"
   },
   {
    "duration": 12,
    "start_time": "2023-09-14T16:42:12.433Z"
   },
   {
    "duration": 38,
    "start_time": "2023-09-14T16:42:12.447Z"
   },
   {
    "duration": 6,
    "start_time": "2023-09-14T16:42:12.487Z"
   },
   {
    "duration": 23,
    "start_time": "2023-09-14T16:42:12.494Z"
   },
   {
    "duration": 20,
    "start_time": "2023-09-14T16:42:12.519Z"
   },
   {
    "duration": 29,
    "start_time": "2023-09-14T16:42:12.540Z"
   },
   {
    "duration": 15,
    "start_time": "2023-09-14T16:42:12.570Z"
   },
   {
    "duration": 37,
    "start_time": "2023-09-14T16:42:12.586Z"
   },
   {
    "duration": 30,
    "start_time": "2023-09-14T16:42:12.625Z"
   },
   {
    "duration": 214,
    "start_time": "2023-09-14T16:42:12.657Z"
   },
   {
    "duration": 30,
    "start_time": "2023-09-14T16:42:12.873Z"
   },
   {
    "duration": 43,
    "start_time": "2023-09-14T16:42:12.905Z"
   },
   {
    "duration": 34,
    "start_time": "2023-09-14T16:42:12.950Z"
   },
   {
    "duration": 31,
    "start_time": "2023-09-14T16:42:12.986Z"
   },
   {
    "duration": 67,
    "start_time": "2023-09-14T16:42:13.019Z"
   },
   {
    "duration": 114,
    "start_time": "2023-09-14T16:42:13.088Z"
   },
   {
    "duration": 12,
    "start_time": "2023-09-14T16:42:13.206Z"
   },
   {
    "duration": 23,
    "start_time": "2023-09-14T16:42:13.220Z"
   },
   {
    "duration": 36,
    "start_time": "2023-09-14T16:42:13.245Z"
   },
   {
    "duration": 20,
    "start_time": "2023-09-14T16:42:13.283Z"
   },
   {
    "duration": 17,
    "start_time": "2023-09-14T16:42:13.304Z"
   },
   {
    "duration": 39,
    "start_time": "2023-09-14T16:42:13.323Z"
   },
   {
    "duration": 3,
    "start_time": "2023-09-14T16:42:13.363Z"
   },
   {
    "duration": 22,
    "start_time": "2023-09-14T16:42:13.368Z"
   },
   {
    "duration": 43,
    "start_time": "2023-09-14T16:42:13.392Z"
   },
   {
    "duration": 19,
    "start_time": "2023-09-14T16:42:13.438Z"
   },
   {
    "duration": 788,
    "start_time": "2023-09-14T16:42:13.458Z"
   },
   {
    "duration": 120,
    "start_time": "2023-09-14T16:42:14.248Z"
   },
   {
    "duration": 130,
    "start_time": "2023-09-14T16:42:14.370Z"
   },
   {
    "duration": 125,
    "start_time": "2023-09-14T16:42:14.501Z"
   },
   {
    "duration": 28,
    "start_time": "2023-09-14T16:42:14.628Z"
   },
   {
    "duration": 9,
    "start_time": "2023-09-14T16:42:14.657Z"
   },
   {
    "duration": 15,
    "start_time": "2023-09-14T16:42:14.668Z"
   },
   {
    "duration": 22,
    "start_time": "2023-09-14T16:42:14.684Z"
   },
   {
    "duration": 525,
    "start_time": "2023-09-14T16:42:14.708Z"
   },
   {
    "duration": 23,
    "start_time": "2023-09-14T16:42:15.235Z"
   },
   {
    "duration": 23,
    "start_time": "2023-09-14T16:42:15.259Z"
   },
   {
    "duration": 739,
    "start_time": "2023-09-14T16:42:15.284Z"
   },
   {
    "duration": 532,
    "start_time": "2023-09-14T16:42:16.026Z"
   },
   {
    "duration": 125,
    "start_time": "2023-09-14T16:42:16.560Z"
   },
   {
    "duration": 627,
    "start_time": "2023-09-14T16:42:16.688Z"
   },
   {
    "duration": 591,
    "start_time": "2023-09-14T16:42:17.317Z"
   },
   {
    "duration": 148,
    "start_time": "2023-09-14T16:42:17.909Z"
   },
   {
    "duration": 3463,
    "start_time": "2023-09-21T11:04:31.865Z"
   },
   {
    "duration": 4592,
    "start_time": "2023-09-21T11:04:35.331Z"
   },
   {
    "duration": 5040,
    "start_time": "2023-09-21T11:04:39.926Z"
   },
   {
    "duration": 3,
    "start_time": "2023-09-21T11:04:44.969Z"
   },
   {
    "duration": 260,
    "start_time": "2023-09-21T11:04:44.973Z"
   },
   {
    "duration": 7,
    "start_time": "2023-09-21T11:04:45.235Z"
   },
   {
    "duration": 34,
    "start_time": "2023-09-21T11:04:45.244Z"
   },
   {
    "duration": 25,
    "start_time": "2023-09-21T11:04:45.280Z"
   },
   {
    "duration": 85,
    "start_time": "2023-09-21T11:04:45.307Z"
   },
   {
    "duration": 112,
    "start_time": "2023-09-21T11:04:45.395Z"
   },
   {
    "duration": 41,
    "start_time": "2023-09-21T11:04:45.509Z"
   },
   {
    "duration": 54,
    "start_time": "2023-09-21T11:04:45.552Z"
   },
   {
    "duration": 120,
    "start_time": "2023-09-21T11:04:45.608Z"
   },
   {
    "duration": 62,
    "start_time": "2023-09-21T11:04:45.730Z"
   },
   {
    "duration": 122,
    "start_time": "2023-09-21T11:04:45.794Z"
   },
   {
    "duration": 274,
    "start_time": "2023-09-21T11:04:45.918Z"
   },
   {
    "duration": 191,
    "start_time": "2023-09-21T11:04:46.194Z"
   },
   {
    "duration": 73,
    "start_time": "2023-09-21T11:04:46.387Z"
   },
   {
    "duration": 133,
    "start_time": "2023-09-21T11:04:46.463Z"
   },
   {
    "duration": 61,
    "start_time": "2023-09-21T11:04:46.598Z"
   },
   {
    "duration": 18,
    "start_time": "2023-09-21T11:04:46.661Z"
   },
   {
    "duration": 27,
    "start_time": "2023-09-21T11:04:46.681Z"
   },
   {
    "duration": 37,
    "start_time": "2023-09-21T11:04:46.710Z"
   },
   {
    "duration": 19,
    "start_time": "2023-09-21T11:04:46.749Z"
   },
   {
    "duration": 58,
    "start_time": "2023-09-21T11:04:46.769Z"
   },
   {
    "duration": 37,
    "start_time": "2023-09-21T11:04:46.829Z"
   },
   {
    "duration": 45,
    "start_time": "2023-09-21T11:04:46.868Z"
   },
   {
    "duration": 29,
    "start_time": "2023-09-21T11:04:46.917Z"
   },
   {
    "duration": 43,
    "start_time": "2023-09-21T11:04:46.948Z"
   },
   {
    "duration": 23,
    "start_time": "2023-09-21T11:04:46.993Z"
   },
   {
    "duration": 46,
    "start_time": "2023-09-21T11:04:47.017Z"
   },
   {
    "duration": 51,
    "start_time": "2023-09-21T11:04:47.065Z"
   },
   {
    "duration": 38,
    "start_time": "2023-09-21T11:04:47.118Z"
   },
   {
    "duration": 74,
    "start_time": "2023-09-21T11:04:47.157Z"
   },
   {
    "duration": 27,
    "start_time": "2023-09-21T11:04:47.233Z"
   },
   {
    "duration": 18,
    "start_time": "2023-09-21T11:04:47.261Z"
   },
   {
    "duration": 41,
    "start_time": "2023-09-21T11:04:47.281Z"
   },
   {
    "duration": 26,
    "start_time": "2023-09-21T11:04:47.324Z"
   },
   {
    "duration": 28,
    "start_time": "2023-09-21T11:04:47.351Z"
   },
   {
    "duration": 19,
    "start_time": "2023-09-21T11:04:47.381Z"
   },
   {
    "duration": 67,
    "start_time": "2023-09-21T11:04:47.402Z"
   },
   {
    "duration": 23,
    "start_time": "2023-09-21T11:04:47.471Z"
   },
   {
    "duration": 22,
    "start_time": "2023-09-21T11:04:47.496Z"
   },
   {
    "duration": 24,
    "start_time": "2023-09-21T11:04:47.520Z"
   },
   {
    "duration": 54,
    "start_time": "2023-09-21T11:04:47.546Z"
   },
   {
    "duration": 52,
    "start_time": "2023-09-21T11:04:47.602Z"
   },
   {
    "duration": 54,
    "start_time": "2023-09-21T11:04:47.656Z"
   },
   {
    "duration": 40,
    "start_time": "2023-09-21T11:04:47.711Z"
   },
   {
    "duration": 34,
    "start_time": "2023-09-21T11:04:47.753Z"
   },
   {
    "duration": 19,
    "start_time": "2023-09-21T11:04:47.789Z"
   },
   {
    "duration": 24,
    "start_time": "2023-09-21T11:04:47.810Z"
   },
   {
    "duration": 32,
    "start_time": "2023-09-21T11:04:47.836Z"
   },
   {
    "duration": 26,
    "start_time": "2023-09-21T11:04:47.870Z"
   },
   {
    "duration": 27,
    "start_time": "2023-09-21T11:04:47.898Z"
   },
   {
    "duration": 26,
    "start_time": "2023-09-21T11:04:47.927Z"
   },
   {
    "duration": 7,
    "start_time": "2023-09-21T11:04:47.955Z"
   },
   {
    "duration": 60,
    "start_time": "2023-09-21T11:04:47.963Z"
   },
   {
    "duration": 26,
    "start_time": "2023-09-21T11:04:48.025Z"
   },
   {
    "duration": 20,
    "start_time": "2023-09-21T11:04:48.053Z"
   },
   {
    "duration": 113,
    "start_time": "2023-09-21T11:04:48.075Z"
   },
   {
    "duration": 10,
    "start_time": "2023-09-21T11:04:48.190Z"
   },
   {
    "duration": 65,
    "start_time": "2023-09-21T11:04:48.202Z"
   },
   {
    "duration": 25,
    "start_time": "2023-09-21T11:04:48.269Z"
   },
   {
    "duration": 66,
    "start_time": "2023-09-21T11:04:48.296Z"
   },
   {
    "duration": 14,
    "start_time": "2023-09-21T11:04:48.364Z"
   },
   {
    "duration": 941,
    "start_time": "2023-09-21T11:04:48.380Z"
   },
   {
    "duration": 3,
    "start_time": "2023-09-21T11:04:49.323Z"
   },
   {
    "duration": 340,
    "start_time": "2023-09-21T11:04:49.328Z"
   },
   {
    "duration": 32,
    "start_time": "2023-09-21T11:04:49.671Z"
   },
   {
    "duration": 64,
    "start_time": "2023-09-21T11:04:49.705Z"
   },
   {
    "duration": 26,
    "start_time": "2023-09-21T11:04:49.770Z"
   },
   {
    "duration": 41,
    "start_time": "2023-09-21T11:04:49.797Z"
   },
   {
    "duration": 19,
    "start_time": "2023-09-21T11:04:49.840Z"
   },
   {
    "duration": 784,
    "start_time": "2023-09-21T11:04:49.861Z"
   },
   {
    "duration": 19,
    "start_time": "2023-09-21T11:04:50.647Z"
   },
   {
    "duration": 165,
    "start_time": "2023-09-21T11:04:50.667Z"
   },
   {
    "duration": 48,
    "start_time": "2023-09-21T11:04:50.834Z"
   },
   {
    "duration": 2540,
    "start_time": "2023-09-21T11:04:50.884Z"
   },
   {
    "duration": 2112,
    "start_time": "2023-09-21T11:04:53.426Z"
   },
   {
    "duration": 5,
    "start_time": "2023-09-21T11:04:55.540Z"
   },
   {
    "duration": 104,
    "start_time": "2023-09-21T11:04:55.547Z"
   },
   {
    "duration": 1169,
    "start_time": "2023-09-21T11:04:55.658Z"
   },
   {
    "duration": 0,
    "start_time": "2023-09-21T11:04:56.829Z"
   },
   {
    "duration": 0,
    "start_time": "2023-09-21T11:04:56.831Z"
   },
   {
    "duration": 0,
    "start_time": "2023-09-21T11:04:56.832Z"
   },
   {
    "duration": 0,
    "start_time": "2023-09-21T11:04:56.833Z"
   },
   {
    "duration": 0,
    "start_time": "2023-09-21T11:04:56.834Z"
   },
   {
    "duration": 0,
    "start_time": "2023-09-21T11:04:56.835Z"
   },
   {
    "duration": 0,
    "start_time": "2023-09-21T11:04:56.837Z"
   },
   {
    "duration": 0,
    "start_time": "2023-09-21T11:04:56.838Z"
   },
   {
    "duration": 0,
    "start_time": "2023-09-21T11:04:56.839Z"
   },
   {
    "duration": 0,
    "start_time": "2023-09-21T11:04:56.840Z"
   },
   {
    "duration": 0,
    "start_time": "2023-09-21T11:04:56.841Z"
   },
   {
    "duration": 0,
    "start_time": "2023-09-21T11:04:56.843Z"
   },
   {
    "duration": 0,
    "start_time": "2023-09-21T11:04:56.844Z"
   },
   {
    "duration": 0,
    "start_time": "2023-09-21T11:04:56.845Z"
   },
   {
    "duration": 0,
    "start_time": "2023-09-21T11:04:56.846Z"
   },
   {
    "duration": 0,
    "start_time": "2023-09-21T11:04:56.847Z"
   },
   {
    "duration": 0,
    "start_time": "2023-09-21T11:04:56.848Z"
   },
   {
    "duration": 0,
    "start_time": "2023-09-21T11:04:56.849Z"
   },
   {
    "duration": 0,
    "start_time": "2023-09-21T11:04:56.851Z"
   },
   {
    "duration": 0,
    "start_time": "2023-09-21T11:04:56.852Z"
   },
   {
    "duration": 0,
    "start_time": "2023-09-21T11:04:56.853Z"
   },
   {
    "duration": 0,
    "start_time": "2023-09-21T11:04:56.853Z"
   },
   {
    "duration": 0,
    "start_time": "2023-09-21T11:04:56.854Z"
   },
   {
    "duration": 0,
    "start_time": "2023-09-21T11:04:56.856Z"
   },
   {
    "duration": 0,
    "start_time": "2023-09-21T11:04:56.857Z"
   },
   {
    "duration": 0,
    "start_time": "2023-09-21T11:04:56.858Z"
   },
   {
    "duration": 0,
    "start_time": "2023-09-21T11:04:56.858Z"
   },
   {
    "duration": 0,
    "start_time": "2023-09-21T11:04:56.902Z"
   },
   {
    "duration": 2705,
    "start_time": "2023-09-21T11:38:27.824Z"
   },
   {
    "duration": 2533,
    "start_time": "2023-09-21T11:38:30.531Z"
   },
   {
    "duration": 1816,
    "start_time": "2023-09-21T11:38:33.067Z"
   },
   {
    "duration": 4,
    "start_time": "2023-09-21T11:38:34.886Z"
   },
   {
    "duration": 158,
    "start_time": "2023-09-21T11:38:34.892Z"
   },
   {
    "duration": 6,
    "start_time": "2023-09-21T11:38:35.052Z"
   },
   {
    "duration": 47,
    "start_time": "2023-09-21T11:38:35.060Z"
   },
   {
    "duration": 22,
    "start_time": "2023-09-21T11:38:35.109Z"
   },
   {
    "duration": 28,
    "start_time": "2023-09-21T11:38:35.133Z"
   },
   {
    "duration": 7,
    "start_time": "2023-09-21T11:38:35.165Z"
   },
   {
    "duration": 30,
    "start_time": "2023-09-21T11:38:35.174Z"
   },
   {
    "duration": 23,
    "start_time": "2023-09-21T11:38:35.206Z"
   },
   {
    "duration": 32,
    "start_time": "2023-09-21T11:38:35.231Z"
   },
   {
    "duration": 20,
    "start_time": "2023-09-21T11:38:35.264Z"
   },
   {
    "duration": 31,
    "start_time": "2023-09-21T11:38:35.286Z"
   },
   {
    "duration": 42,
    "start_time": "2023-09-21T11:38:35.319Z"
   },
   {
    "duration": 37,
    "start_time": "2023-09-21T11:38:35.363Z"
   },
   {
    "duration": 20,
    "start_time": "2023-09-21T11:38:35.402Z"
   },
   {
    "duration": 14,
    "start_time": "2023-09-21T11:38:35.424Z"
   },
   {
    "duration": 46,
    "start_time": "2023-09-21T11:38:35.440Z"
   },
   {
    "duration": 19,
    "start_time": "2023-09-21T11:38:35.488Z"
   },
   {
    "duration": 23,
    "start_time": "2023-09-21T11:38:35.509Z"
   },
   {
    "duration": 46,
    "start_time": "2023-09-21T11:38:35.534Z"
   },
   {
    "duration": 25,
    "start_time": "2023-09-21T11:38:35.581Z"
   },
   {
    "duration": 37,
    "start_time": "2023-09-21T11:38:35.608Z"
   },
   {
    "duration": 26,
    "start_time": "2023-09-21T11:38:35.647Z"
   },
   {
    "duration": 31,
    "start_time": "2023-09-21T11:38:35.675Z"
   },
   {
    "duration": 34,
    "start_time": "2023-09-21T11:38:35.710Z"
   },
   {
    "duration": 35,
    "start_time": "2023-09-21T11:38:35.746Z"
   },
   {
    "duration": 15,
    "start_time": "2023-09-21T11:38:35.783Z"
   },
   {
    "duration": 41,
    "start_time": "2023-09-21T11:38:35.800Z"
   },
   {
    "duration": 30,
    "start_time": "2023-09-21T11:38:35.843Z"
   },
   {
    "duration": 23,
    "start_time": "2023-09-21T11:38:35.875Z"
   },
   {
    "duration": 18,
    "start_time": "2023-09-21T11:38:35.900Z"
   },
   {
    "duration": 31,
    "start_time": "2023-09-21T11:38:35.920Z"
   },
   {
    "duration": 25,
    "start_time": "2023-09-21T11:38:35.953Z"
   },
   {
    "duration": 29,
    "start_time": "2023-09-21T11:38:35.980Z"
   },
   {
    "duration": 28,
    "start_time": "2023-09-21T11:38:36.011Z"
   },
   {
    "duration": 26,
    "start_time": "2023-09-21T11:38:36.041Z"
   },
   {
    "duration": 25,
    "start_time": "2023-09-21T11:38:36.069Z"
   },
   {
    "duration": 43,
    "start_time": "2023-09-21T11:38:36.096Z"
   },
   {
    "duration": 14,
    "start_time": "2023-09-21T11:38:36.141Z"
   },
   {
    "duration": 4,
    "start_time": "2023-09-21T11:38:36.157Z"
   },
   {
    "duration": 29,
    "start_time": "2023-09-21T11:38:36.163Z"
   },
   {
    "duration": 35,
    "start_time": "2023-09-21T11:38:36.194Z"
   },
   {
    "duration": 28,
    "start_time": "2023-09-21T11:38:36.231Z"
   },
   {
    "duration": 20,
    "start_time": "2023-09-21T11:38:36.261Z"
   },
   {
    "duration": 25,
    "start_time": "2023-09-21T11:38:36.283Z"
   },
   {
    "duration": 39,
    "start_time": "2023-09-21T11:38:36.310Z"
   },
   {
    "duration": 5,
    "start_time": "2023-09-21T11:38:36.354Z"
   },
   {
    "duration": 25,
    "start_time": "2023-09-21T11:38:36.361Z"
   },
   {
    "duration": 44,
    "start_time": "2023-09-21T11:38:36.389Z"
   },
   {
    "duration": 23,
    "start_time": "2023-09-21T11:38:36.435Z"
   },
   {
    "duration": 18,
    "start_time": "2023-09-21T11:38:36.459Z"
   },
   {
    "duration": 34,
    "start_time": "2023-09-21T11:38:36.479Z"
   },
   {
    "duration": 10,
    "start_time": "2023-09-21T11:38:36.515Z"
   },
   {
    "duration": 19,
    "start_time": "2023-09-21T11:38:36.526Z"
   },
   {
    "duration": 21,
    "start_time": "2023-09-21T11:38:36.546Z"
   },
   {
    "duration": 25,
    "start_time": "2023-09-21T11:38:36.569Z"
   },
   {
    "duration": 84,
    "start_time": "2023-09-21T11:38:36.597Z"
   },
   {
    "duration": 10,
    "start_time": "2023-09-21T11:38:36.683Z"
   },
   {
    "duration": 36,
    "start_time": "2023-09-21T11:38:36.694Z"
   },
   {
    "duration": 37,
    "start_time": "2023-09-21T11:38:36.732Z"
   },
   {
    "duration": 15,
    "start_time": "2023-09-21T11:38:36.771Z"
   },
   {
    "duration": 14,
    "start_time": "2023-09-21T11:38:36.788Z"
   },
   {
    "duration": 989,
    "start_time": "2023-09-21T11:38:36.804Z"
   },
   {
    "duration": 4,
    "start_time": "2023-09-21T11:38:37.795Z"
   },
   {
    "duration": 337,
    "start_time": "2023-09-21T11:38:37.801Z"
   },
   {
    "duration": 20,
    "start_time": "2023-09-21T11:38:38.139Z"
   },
   {
    "duration": 26,
    "start_time": "2023-09-21T11:38:38.161Z"
   },
   {
    "duration": 4,
    "start_time": "2023-09-21T11:38:38.189Z"
   },
   {
    "duration": 25,
    "start_time": "2023-09-21T11:38:38.194Z"
   },
   {
    "duration": 3,
    "start_time": "2023-09-21T11:38:38.221Z"
   },
   {
    "duration": 606,
    "start_time": "2023-09-21T11:38:38.226Z"
   },
   {
    "duration": 18,
    "start_time": "2023-09-21T11:38:38.834Z"
   },
   {
    "duration": 44,
    "start_time": "2023-09-21T11:38:38.854Z"
   },
   {
    "duration": 3,
    "start_time": "2023-09-21T11:38:38.899Z"
   },
   {
    "duration": 2705,
    "start_time": "2023-09-21T11:38:38.904Z"
   },
   {
    "duration": 1924,
    "start_time": "2023-09-21T11:38:41.611Z"
   },
   {
    "duration": 5,
    "start_time": "2023-09-21T11:38:43.537Z"
   },
   {
    "duration": 31,
    "start_time": "2023-09-21T11:38:43.544Z"
   },
   {
    "duration": 3381,
    "start_time": "2023-09-21T11:38:43.581Z"
   },
   {
    "duration": 4,
    "start_time": "2023-09-21T11:38:46.964Z"
   },
   {
    "duration": 34,
    "start_time": "2023-09-21T11:38:46.969Z"
   },
   {
    "duration": 117,
    "start_time": "2023-09-21T11:38:47.005Z"
   },
   {
    "duration": 3,
    "start_time": "2023-09-21T11:38:47.125Z"
   },
   {
    "duration": 63,
    "start_time": "2023-09-21T11:38:47.129Z"
   },
   {
    "duration": 143,
    "start_time": "2023-09-21T11:38:47.194Z"
   },
   {
    "duration": 37,
    "start_time": "2023-09-21T11:38:47.339Z"
   },
   {
    "duration": 24,
    "start_time": "2023-09-21T11:38:47.379Z"
   },
   {
    "duration": 23,
    "start_time": "2023-09-21T11:38:47.405Z"
   },
   {
    "duration": 939,
    "start_time": "2023-09-21T11:38:47.430Z"
   },
   {
    "duration": 0,
    "start_time": "2023-09-21T11:38:48.370Z"
   },
   {
    "duration": 0,
    "start_time": "2023-09-21T11:38:48.371Z"
   },
   {
    "duration": 0,
    "start_time": "2023-09-21T11:38:48.372Z"
   },
   {
    "duration": 0,
    "start_time": "2023-09-21T11:38:48.373Z"
   },
   {
    "duration": 0,
    "start_time": "2023-09-21T11:38:48.381Z"
   },
   {
    "duration": 0,
    "start_time": "2023-09-21T11:38:48.383Z"
   },
   {
    "duration": 0,
    "start_time": "2023-09-21T11:38:48.384Z"
   },
   {
    "duration": 0,
    "start_time": "2023-09-21T11:38:48.386Z"
   },
   {
    "duration": 0,
    "start_time": "2023-09-21T11:38:48.388Z"
   },
   {
    "duration": 0,
    "start_time": "2023-09-21T11:38:48.389Z"
   },
   {
    "duration": 0,
    "start_time": "2023-09-21T11:38:48.391Z"
   },
   {
    "duration": 0,
    "start_time": "2023-09-21T11:38:48.392Z"
   },
   {
    "duration": 0,
    "start_time": "2023-09-21T11:38:48.394Z"
   },
   {
    "duration": 0,
    "start_time": "2023-09-21T11:38:48.395Z"
   },
   {
    "duration": 0,
    "start_time": "2023-09-21T11:38:48.397Z"
   },
   {
    "duration": 0,
    "start_time": "2023-09-21T11:38:48.398Z"
   },
   {
    "duration": 0,
    "start_time": "2023-09-21T11:38:48.400Z"
   },
   {
    "duration": 0,
    "start_time": "2023-09-21T11:38:48.401Z"
   },
   {
    "duration": 2840,
    "start_time": "2023-09-21T11:41:22.643Z"
   },
   {
    "duration": 2938,
    "start_time": "2023-09-21T11:41:37.056Z"
   },
   {
    "duration": 2622,
    "start_time": "2023-09-21T11:41:39.997Z"
   },
   {
    "duration": 2790,
    "start_time": "2023-09-21T11:41:42.622Z"
   },
   {
    "duration": 1965,
    "start_time": "2023-09-21T11:41:45.414Z"
   },
   {
    "duration": 3,
    "start_time": "2023-09-21T11:41:47.382Z"
   },
   {
    "duration": 142,
    "start_time": "2023-09-21T11:41:47.387Z"
   },
   {
    "duration": 5,
    "start_time": "2023-09-21T11:41:47.530Z"
   },
   {
    "duration": 28,
    "start_time": "2023-09-21T11:41:47.537Z"
   },
   {
    "duration": 37,
    "start_time": "2023-09-21T11:41:47.567Z"
   },
   {
    "duration": 10,
    "start_time": "2023-09-21T11:41:47.605Z"
   },
   {
    "duration": 17,
    "start_time": "2023-09-21T11:41:47.617Z"
   },
   {
    "duration": 25,
    "start_time": "2023-09-21T11:41:47.636Z"
   },
   {
    "duration": 20,
    "start_time": "2023-09-21T11:41:47.663Z"
   },
   {
    "duration": 18,
    "start_time": "2023-09-21T11:41:47.687Z"
   },
   {
    "duration": 15,
    "start_time": "2023-09-21T11:41:47.706Z"
   },
   {
    "duration": 18,
    "start_time": "2023-09-21T11:41:47.723Z"
   },
   {
    "duration": 21,
    "start_time": "2023-09-21T11:41:47.743Z"
   },
   {
    "duration": 19,
    "start_time": "2023-09-21T11:41:47.766Z"
   },
   {
    "duration": 6,
    "start_time": "2023-09-21T11:41:47.787Z"
   },
   {
    "duration": 31,
    "start_time": "2023-09-21T11:41:47.795Z"
   },
   {
    "duration": 20,
    "start_time": "2023-09-21T11:41:47.828Z"
   },
   {
    "duration": 7,
    "start_time": "2023-09-21T11:41:47.850Z"
   },
   {
    "duration": 4,
    "start_time": "2023-09-21T11:41:47.858Z"
   },
   {
    "duration": 15,
    "start_time": "2023-09-21T11:41:47.863Z"
   },
   {
    "duration": 27,
    "start_time": "2023-09-21T11:41:47.880Z"
   },
   {
    "duration": 16,
    "start_time": "2023-09-21T11:41:47.909Z"
   },
   {
    "duration": 12,
    "start_time": "2023-09-21T11:41:47.927Z"
   },
   {
    "duration": 52,
    "start_time": "2023-09-21T11:41:47.940Z"
   },
   {
    "duration": 24,
    "start_time": "2023-09-21T11:41:47.993Z"
   },
   {
    "duration": 14,
    "start_time": "2023-09-21T11:41:48.019Z"
   },
   {
    "duration": 8,
    "start_time": "2023-09-21T11:41:48.035Z"
   },
   {
    "duration": 18,
    "start_time": "2023-09-21T11:41:48.045Z"
   },
   {
    "duration": 18,
    "start_time": "2023-09-21T11:41:48.065Z"
   },
   {
    "duration": 19,
    "start_time": "2023-09-21T11:41:48.086Z"
   },
   {
    "duration": 10,
    "start_time": "2023-09-21T11:41:48.107Z"
   },
   {
    "duration": 5,
    "start_time": "2023-09-21T11:41:48.119Z"
   },
   {
    "duration": 13,
    "start_time": "2023-09-21T11:41:48.126Z"
   },
   {
    "duration": 18,
    "start_time": "2023-09-21T11:41:48.141Z"
   },
   {
    "duration": 27,
    "start_time": "2023-09-21T11:41:48.160Z"
   },
   {
    "duration": 25,
    "start_time": "2023-09-21T11:41:48.190Z"
   },
   {
    "duration": 5,
    "start_time": "2023-09-21T11:41:48.222Z"
   },
   {
    "duration": 18,
    "start_time": "2023-09-21T11:41:48.229Z"
   },
   {
    "duration": 20,
    "start_time": "2023-09-21T11:41:48.249Z"
   },
   {
    "duration": 9,
    "start_time": "2023-09-21T11:41:48.281Z"
   },
   {
    "duration": 32,
    "start_time": "2023-09-21T11:41:48.292Z"
   },
   {
    "duration": 31,
    "start_time": "2023-09-21T11:41:48.327Z"
   },
   {
    "duration": 58,
    "start_time": "2023-09-21T11:41:48.360Z"
   },
   {
    "duration": 26,
    "start_time": "2023-09-21T11:41:48.419Z"
   },
   {
    "duration": 17,
    "start_time": "2023-09-21T11:41:48.447Z"
   },
   {
    "duration": 50,
    "start_time": "2023-09-21T11:41:48.466Z"
   },
   {
    "duration": 15,
    "start_time": "2023-09-21T11:41:48.518Z"
   },
   {
    "duration": 15,
    "start_time": "2023-09-21T11:41:48.535Z"
   },
   {
    "duration": 27,
    "start_time": "2023-09-21T11:41:48.552Z"
   },
   {
    "duration": 17,
    "start_time": "2023-09-21T11:41:48.581Z"
   },
   {
    "duration": 26,
    "start_time": "2023-09-21T11:41:48.600Z"
   },
   {
    "duration": 24,
    "start_time": "2023-09-21T11:41:48.628Z"
   },
   {
    "duration": 10,
    "start_time": "2023-09-21T11:41:48.654Z"
   },
   {
    "duration": 29,
    "start_time": "2023-09-21T11:41:48.666Z"
   },
   {
    "duration": 24,
    "start_time": "2023-09-21T11:41:48.697Z"
   },
   {
    "duration": 20,
    "start_time": "2023-09-21T11:41:48.723Z"
   },
   {
    "duration": 95,
    "start_time": "2023-09-21T11:41:48.745Z"
   },
   {
    "duration": 9,
    "start_time": "2023-09-21T11:41:48.842Z"
   },
   {
    "duration": 26,
    "start_time": "2023-09-21T11:41:48.853Z"
   },
   {
    "duration": 29,
    "start_time": "2023-09-21T11:41:48.880Z"
   },
   {
    "duration": 39,
    "start_time": "2023-09-21T11:41:48.911Z"
   },
   {
    "duration": 6,
    "start_time": "2023-09-21T11:41:48.952Z"
   },
   {
    "duration": 916,
    "start_time": "2023-09-21T11:41:48.960Z"
   },
   {
    "duration": 4,
    "start_time": "2023-09-21T11:41:49.877Z"
   },
   {
    "duration": 328,
    "start_time": "2023-09-21T11:41:49.884Z"
   },
   {
    "duration": 21,
    "start_time": "2023-09-21T11:41:50.215Z"
   },
   {
    "duration": 10,
    "start_time": "2023-09-21T11:41:50.238Z"
   },
   {
    "duration": 32,
    "start_time": "2023-09-21T11:41:50.250Z"
   },
   {
    "duration": 25,
    "start_time": "2023-09-21T11:41:50.284Z"
   },
   {
    "duration": 4,
    "start_time": "2023-09-21T11:41:50.310Z"
   },
   {
    "duration": 657,
    "start_time": "2023-09-21T11:41:50.315Z"
   },
   {
    "duration": 20,
    "start_time": "2023-09-21T11:41:50.973Z"
   },
   {
    "duration": 29,
    "start_time": "2023-09-21T11:41:50.995Z"
   },
   {
    "duration": 4,
    "start_time": "2023-09-21T11:41:51.026Z"
   },
   {
    "duration": 2721,
    "start_time": "2023-09-21T11:41:51.032Z"
   },
   {
    "duration": 1972,
    "start_time": "2023-09-21T11:41:53.755Z"
   },
   {
    "duration": 6,
    "start_time": "2023-09-21T11:41:55.730Z"
   },
   {
    "duration": 5,
    "start_time": "2023-09-21T11:41:55.738Z"
   },
   {
    "duration": 3568,
    "start_time": "2023-09-21T11:41:55.745Z"
   },
   {
    "duration": 6,
    "start_time": "2023-09-21T11:41:59.315Z"
   },
   {
    "duration": 31,
    "start_time": "2023-09-21T11:41:59.322Z"
   },
   {
    "duration": 100,
    "start_time": "2023-09-21T11:41:59.355Z"
   },
   {
    "duration": 3,
    "start_time": "2023-09-21T11:41:59.457Z"
   },
   {
    "duration": 27,
    "start_time": "2023-09-21T11:41:59.462Z"
   },
   {
    "duration": 23,
    "start_time": "2023-09-21T11:41:59.491Z"
   },
   {
    "duration": 27,
    "start_time": "2023-09-21T11:41:59.516Z"
   },
   {
    "duration": 11,
    "start_time": "2023-09-21T11:41:59.545Z"
   },
   {
    "duration": 9,
    "start_time": "2023-09-21T11:41:59.558Z"
   },
   {
    "duration": 1031,
    "start_time": "2023-09-21T11:41:59.569Z"
   },
   {
    "duration": 0,
    "start_time": "2023-09-21T11:42:00.603Z"
   },
   {
    "duration": 0,
    "start_time": "2023-09-21T11:42:00.607Z"
   },
   {
    "duration": 0,
    "start_time": "2023-09-21T11:42:00.609Z"
   },
   {
    "duration": 1,
    "start_time": "2023-09-21T11:42:00.610Z"
   },
   {
    "duration": 0,
    "start_time": "2023-09-21T11:42:00.612Z"
   },
   {
    "duration": 0,
    "start_time": "2023-09-21T11:42:00.614Z"
   },
   {
    "duration": 0,
    "start_time": "2023-09-21T11:42:00.615Z"
   },
   {
    "duration": 0,
    "start_time": "2023-09-21T11:42:00.617Z"
   },
   {
    "duration": 0,
    "start_time": "2023-09-21T11:42:00.618Z"
   },
   {
    "duration": 0,
    "start_time": "2023-09-21T11:42:00.620Z"
   },
   {
    "duration": 0,
    "start_time": "2023-09-21T11:42:00.621Z"
   },
   {
    "duration": 0,
    "start_time": "2023-09-21T11:42:00.622Z"
   },
   {
    "duration": 0,
    "start_time": "2023-09-21T11:42:00.624Z"
   },
   {
    "duration": 0,
    "start_time": "2023-09-21T11:42:00.625Z"
   },
   {
    "duration": 0,
    "start_time": "2023-09-21T11:42:00.626Z"
   },
   {
    "duration": 0,
    "start_time": "2023-09-21T11:42:00.627Z"
   },
   {
    "duration": 0,
    "start_time": "2023-09-21T11:42:00.629Z"
   },
   {
    "duration": 0,
    "start_time": "2023-09-21T11:42:00.630Z"
   },
   {
    "duration": 8091,
    "start_time": "2023-09-21T11:43:18.576Z"
   },
   {
    "duration": 2638,
    "start_time": "2023-09-21T11:43:36.838Z"
   },
   {
    "duration": 2580,
    "start_time": "2023-09-21T11:43:39.478Z"
   },
   {
    "duration": 2655,
    "start_time": "2023-09-21T11:43:42.060Z"
   },
   {
    "duration": 1784,
    "start_time": "2023-09-21T11:43:44.717Z"
   },
   {
    "duration": 4,
    "start_time": "2023-09-21T11:43:46.504Z"
   },
   {
    "duration": 184,
    "start_time": "2023-09-21T11:43:46.509Z"
   },
   {
    "duration": 7,
    "start_time": "2023-09-21T11:43:46.695Z"
   },
   {
    "duration": 49,
    "start_time": "2023-09-21T11:43:46.704Z"
   },
   {
    "duration": 54,
    "start_time": "2023-09-21T11:43:46.755Z"
   },
   {
    "duration": 11,
    "start_time": "2023-09-21T11:43:46.811Z"
   },
   {
    "duration": 18,
    "start_time": "2023-09-21T11:43:46.824Z"
   },
   {
    "duration": 15,
    "start_time": "2023-09-21T11:43:46.844Z"
   },
   {
    "duration": 36,
    "start_time": "2023-09-21T11:43:46.860Z"
   },
   {
    "duration": 7,
    "start_time": "2023-09-21T11:43:46.900Z"
   },
   {
    "duration": 16,
    "start_time": "2023-09-21T11:43:46.909Z"
   },
   {
    "duration": 19,
    "start_time": "2023-09-21T11:43:46.927Z"
   },
   {
    "duration": 14,
    "start_time": "2023-09-21T11:43:46.947Z"
   },
   {
    "duration": 20,
    "start_time": "2023-09-21T11:43:46.962Z"
   },
   {
    "duration": 24,
    "start_time": "2023-09-21T11:43:46.984Z"
   },
   {
    "duration": 17,
    "start_time": "2023-09-21T11:43:47.010Z"
   },
   {
    "duration": 15,
    "start_time": "2023-09-21T11:43:47.029Z"
   },
   {
    "duration": 38,
    "start_time": "2023-09-21T11:43:47.046Z"
   },
   {
    "duration": 26,
    "start_time": "2023-09-21T11:43:47.086Z"
   },
   {
    "duration": 20,
    "start_time": "2023-09-21T11:43:47.114Z"
   },
   {
    "duration": 18,
    "start_time": "2023-09-21T11:43:47.136Z"
   },
   {
    "duration": 32,
    "start_time": "2023-09-21T11:43:47.156Z"
   },
   {
    "duration": 40,
    "start_time": "2023-09-21T11:43:47.191Z"
   },
   {
    "duration": 16,
    "start_time": "2023-09-21T11:43:47.233Z"
   },
   {
    "duration": 14,
    "start_time": "2023-09-21T11:43:47.251Z"
   },
   {
    "duration": 17,
    "start_time": "2023-09-21T11:43:47.267Z"
   },
   {
    "duration": 4,
    "start_time": "2023-09-21T11:43:47.286Z"
   },
   {
    "duration": 17,
    "start_time": "2023-09-21T11:43:47.292Z"
   },
   {
    "duration": 29,
    "start_time": "2023-09-21T11:43:47.311Z"
   },
   {
    "duration": 19,
    "start_time": "2023-09-21T11:43:47.342Z"
   },
   {
    "duration": 7,
    "start_time": "2023-09-21T11:43:47.363Z"
   },
   {
    "duration": 4,
    "start_time": "2023-09-21T11:43:47.372Z"
   },
   {
    "duration": 28,
    "start_time": "2023-09-21T11:43:47.378Z"
   },
   {
    "duration": 13,
    "start_time": "2023-09-21T11:43:47.408Z"
   },
   {
    "duration": 11,
    "start_time": "2023-09-21T11:43:47.422Z"
   },
   {
    "duration": 19,
    "start_time": "2023-09-21T11:43:47.435Z"
   },
   {
    "duration": 5,
    "start_time": "2023-09-21T11:43:47.460Z"
   },
   {
    "duration": 21,
    "start_time": "2023-09-21T11:43:47.466Z"
   },
   {
    "duration": 20,
    "start_time": "2023-09-21T11:43:47.490Z"
   },
   {
    "duration": 9,
    "start_time": "2023-09-21T11:43:47.512Z"
   },
   {
    "duration": 18,
    "start_time": "2023-09-21T11:43:47.522Z"
   },
   {
    "duration": 19,
    "start_time": "2023-09-21T11:43:47.542Z"
   },
   {
    "duration": 39,
    "start_time": "2023-09-21T11:43:47.563Z"
   },
   {
    "duration": 20,
    "start_time": "2023-09-21T11:43:47.603Z"
   },
   {
    "duration": 20,
    "start_time": "2023-09-21T11:43:47.625Z"
   },
   {
    "duration": 60,
    "start_time": "2023-09-21T11:43:47.646Z"
   },
   {
    "duration": 4,
    "start_time": "2023-09-21T11:43:47.708Z"
   },
   {
    "duration": 9,
    "start_time": "2023-09-21T11:43:47.714Z"
   },
   {
    "duration": 12,
    "start_time": "2023-09-21T11:43:47.725Z"
   },
   {
    "duration": 5,
    "start_time": "2023-09-21T11:43:47.738Z"
   },
   {
    "duration": 42,
    "start_time": "2023-09-21T11:43:47.744Z"
   },
   {
    "duration": 11,
    "start_time": "2023-09-21T11:43:47.788Z"
   },
   {
    "duration": 5,
    "start_time": "2023-09-21T11:43:47.801Z"
   },
   {
    "duration": 14,
    "start_time": "2023-09-21T11:43:47.808Z"
   },
   {
    "duration": 18,
    "start_time": "2023-09-21T11:43:47.825Z"
   },
   {
    "duration": 20,
    "start_time": "2023-09-21T11:43:47.846Z"
   },
   {
    "duration": 89,
    "start_time": "2023-09-21T11:43:47.868Z"
   },
   {
    "duration": 10,
    "start_time": "2023-09-21T11:43:47.959Z"
   },
   {
    "duration": 15,
    "start_time": "2023-09-21T11:43:47.971Z"
   },
   {
    "duration": 12,
    "start_time": "2023-09-21T11:43:47.988Z"
   },
   {
    "duration": 7,
    "start_time": "2023-09-21T11:43:48.002Z"
   },
   {
    "duration": 5,
    "start_time": "2023-09-21T11:43:48.011Z"
   },
   {
    "duration": 939,
    "start_time": "2023-09-21T11:43:48.018Z"
   },
   {
    "duration": 3,
    "start_time": "2023-09-21T11:43:48.959Z"
   },
   {
    "duration": 665,
    "start_time": "2023-09-21T11:43:48.964Z"
   },
   {
    "duration": 21,
    "start_time": "2023-09-21T11:43:49.630Z"
   },
   {
    "duration": 10,
    "start_time": "2023-09-21T11:43:49.653Z"
   },
   {
    "duration": 18,
    "start_time": "2023-09-21T11:43:49.665Z"
   },
   {
    "duration": 28,
    "start_time": "2023-09-21T11:43:49.686Z"
   },
   {
    "duration": 3,
    "start_time": "2023-09-21T11:43:49.717Z"
   },
   {
    "duration": 600,
    "start_time": "2023-09-21T11:43:49.722Z"
   },
   {
    "duration": 17,
    "start_time": "2023-09-21T11:43:50.324Z"
   },
   {
    "duration": 15,
    "start_time": "2023-09-21T11:43:50.343Z"
   },
   {
    "duration": 24,
    "start_time": "2023-09-21T11:43:50.360Z"
   },
   {
    "duration": 2667,
    "start_time": "2023-09-21T11:43:50.386Z"
   },
   {
    "duration": 1918,
    "start_time": "2023-09-21T11:43:53.055Z"
   },
   {
    "duration": 9,
    "start_time": "2023-09-21T11:43:54.975Z"
   },
   {
    "duration": 3,
    "start_time": "2023-09-21T11:43:54.987Z"
   },
   {
    "duration": 3434,
    "start_time": "2023-09-21T11:43:54.997Z"
   },
   {
    "duration": 5,
    "start_time": "2023-09-21T11:43:58.433Z"
   },
   {
    "duration": 16,
    "start_time": "2023-09-21T11:43:58.439Z"
   },
   {
    "duration": 99,
    "start_time": "2023-09-21T11:43:58.457Z"
   },
   {
    "duration": 3,
    "start_time": "2023-09-21T11:43:58.557Z"
   },
   {
    "duration": 26,
    "start_time": "2023-09-21T11:43:58.562Z"
   },
   {
    "duration": 9,
    "start_time": "2023-09-21T11:43:58.590Z"
   },
   {
    "duration": 28,
    "start_time": "2023-09-21T11:43:58.602Z"
   },
   {
    "duration": 4,
    "start_time": "2023-09-21T11:43:58.632Z"
   },
   {
    "duration": 5,
    "start_time": "2023-09-21T11:43:58.639Z"
   },
   {
    "duration": 11958,
    "start_time": "2023-09-21T11:43:58.647Z"
   },
   {
    "duration": 79,
    "start_time": "2023-09-21T11:44:10.607Z"
   },
   {
    "duration": 109916,
    "start_time": "2023-09-21T11:44:10.693Z"
   },
   {
    "duration": 157506,
    "start_time": "2023-09-21T11:46:00.611Z"
   },
   {
    "duration": 5,
    "start_time": "2023-09-21T11:48:38.119Z"
   },
   {
    "duration": 30,
    "start_time": "2023-09-21T11:48:38.126Z"
   },
   {
    "duration": 24,
    "start_time": "2023-09-21T11:48:38.159Z"
   },
   {
    "duration": 6272,
    "start_time": "2023-09-21T11:48:38.185Z"
   },
   {
    "duration": 20,
    "start_time": "2023-09-21T11:48:44.459Z"
   },
   {
    "duration": 26,
    "start_time": "2023-09-21T11:48:44.481Z"
   },
   {
    "duration": 30,
    "start_time": "2023-09-21T11:48:44.509Z"
   },
   {
    "duration": 191,
    "start_time": "2023-09-21T11:48:44.541Z"
   },
   {
    "duration": 4,
    "start_time": "2023-09-21T11:48:44.734Z"
   },
   {
    "duration": 56,
    "start_time": "2023-09-21T11:48:44.741Z"
   },
   {
    "duration": 30,
    "start_time": "2023-09-21T11:48:44.799Z"
   },
   {
    "duration": 330,
    "start_time": "2023-09-21T11:48:44.831Z"
   },
   {
    "duration": 0,
    "start_time": "2023-09-21T11:48:45.164Z"
   },
   {
    "duration": 0,
    "start_time": "2023-09-21T11:48:45.166Z"
   },
   {
    "duration": 0,
    "start_time": "2023-09-21T11:48:45.181Z"
   },
   {
    "duration": 8489,
    "start_time": "2023-09-21T15:52:37.309Z"
   },
   {
    "duration": 3548,
    "start_time": "2023-09-21T15:52:45.802Z"
   },
   {
    "duration": 5139,
    "start_time": "2023-09-21T15:52:49.352Z"
   },
   {
    "duration": 2017,
    "start_time": "2023-09-21T15:52:54.493Z"
   },
   {
    "duration": 3,
    "start_time": "2023-09-21T15:52:56.513Z"
   },
   {
    "duration": 451,
    "start_time": "2023-09-21T15:52:56.518Z"
   },
   {
    "duration": 6,
    "start_time": "2023-09-21T15:52:56.972Z"
   },
   {
    "duration": 22,
    "start_time": "2023-09-21T15:52:56.980Z"
   },
   {
    "duration": 17,
    "start_time": "2023-09-21T15:52:57.004Z"
   },
   {
    "duration": 30,
    "start_time": "2023-09-21T15:52:57.022Z"
   },
   {
    "duration": 22,
    "start_time": "2023-09-21T15:52:57.054Z"
   },
   {
    "duration": 56,
    "start_time": "2023-09-21T15:52:57.077Z"
   },
   {
    "duration": 32,
    "start_time": "2023-09-21T15:52:57.135Z"
   },
   {
    "duration": 17,
    "start_time": "2023-09-21T15:52:57.171Z"
   },
   {
    "duration": 24,
    "start_time": "2023-09-21T15:52:57.190Z"
   },
   {
    "duration": 18,
    "start_time": "2023-09-21T15:52:57.216Z"
   },
   {
    "duration": 35,
    "start_time": "2023-09-21T15:52:57.236Z"
   },
   {
    "duration": 30,
    "start_time": "2023-09-21T15:52:57.273Z"
   },
   {
    "duration": 21,
    "start_time": "2023-09-21T15:52:57.305Z"
   },
   {
    "duration": 41,
    "start_time": "2023-09-21T15:52:57.328Z"
   },
   {
    "duration": 14,
    "start_time": "2023-09-21T15:52:57.372Z"
   },
   {
    "duration": 22,
    "start_time": "2023-09-21T15:52:57.388Z"
   },
   {
    "duration": 10,
    "start_time": "2023-09-21T15:52:57.411Z"
   },
   {
    "duration": 46,
    "start_time": "2023-09-21T15:52:57.423Z"
   },
   {
    "duration": 31,
    "start_time": "2023-09-21T15:52:57.472Z"
   },
   {
    "duration": 45,
    "start_time": "2023-09-21T15:52:57.505Z"
   },
   {
    "duration": 21,
    "start_time": "2023-09-21T15:52:57.552Z"
   },
   {
    "duration": 39,
    "start_time": "2023-09-21T15:52:57.575Z"
   },
   {
    "duration": 53,
    "start_time": "2023-09-21T15:52:57.616Z"
   },
   {
    "duration": 105,
    "start_time": "2023-09-21T15:52:57.671Z"
   },
   {
    "duration": 93,
    "start_time": "2023-09-21T15:52:57.778Z"
   },
   {
    "duration": 81,
    "start_time": "2023-09-21T15:52:57.873Z"
   },
   {
    "duration": 61,
    "start_time": "2023-09-21T15:52:57.956Z"
   },
   {
    "duration": 54,
    "start_time": "2023-09-21T15:52:58.020Z"
   },
   {
    "duration": 47,
    "start_time": "2023-09-21T15:52:58.076Z"
   },
   {
    "duration": 43,
    "start_time": "2023-09-21T15:52:58.125Z"
   },
   {
    "duration": 28,
    "start_time": "2023-09-21T15:52:58.171Z"
   },
   {
    "duration": 103,
    "start_time": "2023-09-21T15:52:58.201Z"
   },
   {
    "duration": 63,
    "start_time": "2023-09-21T15:52:58.305Z"
   },
   {
    "duration": 30,
    "start_time": "2023-09-21T15:52:58.370Z"
   },
   {
    "duration": 28,
    "start_time": "2023-09-21T15:52:58.406Z"
   },
   {
    "duration": 47,
    "start_time": "2023-09-21T15:52:58.437Z"
   },
   {
    "duration": 34,
    "start_time": "2023-09-21T15:52:58.486Z"
   },
   {
    "duration": 12,
    "start_time": "2023-09-21T15:52:58.522Z"
   },
   {
    "duration": 31,
    "start_time": "2023-09-21T15:52:58.536Z"
   },
   {
    "duration": 34,
    "start_time": "2023-09-21T15:52:58.569Z"
   },
   {
    "duration": 58,
    "start_time": "2023-09-21T15:52:58.605Z"
   },
   {
    "duration": 26,
    "start_time": "2023-09-21T15:52:58.671Z"
   },
   {
    "duration": 45,
    "start_time": "2023-09-21T15:52:58.699Z"
   },
   {
    "duration": 59,
    "start_time": "2023-09-21T15:52:58.746Z"
   },
   {
    "duration": 7,
    "start_time": "2023-09-21T15:52:58.807Z"
   },
   {
    "duration": 31,
    "start_time": "2023-09-21T15:52:58.817Z"
   },
   {
    "duration": 31,
    "start_time": "2023-09-21T15:52:58.851Z"
   },
   {
    "duration": 34,
    "start_time": "2023-09-21T15:52:58.884Z"
   },
   {
    "duration": 31,
    "start_time": "2023-09-21T15:52:58.921Z"
   },
   {
    "duration": 56,
    "start_time": "2023-09-21T15:52:58.955Z"
   },
   {
    "duration": 35,
    "start_time": "2023-09-21T15:52:59.014Z"
   },
   {
    "duration": 22,
    "start_time": "2023-09-21T15:52:59.051Z"
   },
   {
    "duration": 43,
    "start_time": "2023-09-21T15:52:59.076Z"
   },
   {
    "duration": 63,
    "start_time": "2023-09-21T15:52:59.121Z"
   },
   {
    "duration": 108,
    "start_time": "2023-09-21T15:52:59.186Z"
   },
   {
    "duration": 9,
    "start_time": "2023-09-21T15:52:59.296Z"
   },
   {
    "duration": 27,
    "start_time": "2023-09-21T15:52:59.306Z"
   },
   {
    "duration": 42,
    "start_time": "2023-09-21T15:52:59.335Z"
   },
   {
    "duration": 19,
    "start_time": "2023-09-21T15:52:59.380Z"
   },
   {
    "duration": 30,
    "start_time": "2023-09-21T15:52:59.401Z"
   },
   {
    "duration": 976,
    "start_time": "2023-09-21T15:52:59.433Z"
   },
   {
    "duration": 2,
    "start_time": "2023-09-21T15:53:00.411Z"
   },
   {
    "duration": 375,
    "start_time": "2023-09-21T15:53:00.415Z"
   },
   {
    "duration": 21,
    "start_time": "2023-09-21T15:53:00.792Z"
   },
   {
    "duration": 66,
    "start_time": "2023-09-21T15:53:00.815Z"
   },
   {
    "duration": 51,
    "start_time": "2023-09-21T15:53:00.883Z"
   },
   {
    "duration": 69,
    "start_time": "2023-09-21T15:53:00.937Z"
   },
   {
    "duration": 68,
    "start_time": "2023-09-21T15:53:01.009Z"
   },
   {
    "duration": 690,
    "start_time": "2023-09-21T15:53:01.079Z"
   },
   {
    "duration": 19,
    "start_time": "2023-09-21T15:53:01.771Z"
   },
   {
    "duration": 41,
    "start_time": "2023-09-21T15:53:01.792Z"
   },
   {
    "duration": 34,
    "start_time": "2023-09-21T15:53:01.836Z"
   },
   {
    "duration": 2761,
    "start_time": "2023-09-21T15:53:01.872Z"
   },
   {
    "duration": 1998,
    "start_time": "2023-09-21T15:53:04.635Z"
   },
   {
    "duration": 6,
    "start_time": "2023-09-21T15:53:06.635Z"
   },
   {
    "duration": 14,
    "start_time": "2023-09-21T15:53:06.656Z"
   },
   {
    "duration": 3697,
    "start_time": "2023-09-21T15:53:06.672Z"
   },
   {
    "duration": 5,
    "start_time": "2023-09-21T15:53:10.372Z"
   },
   {
    "duration": 25,
    "start_time": "2023-09-21T15:53:10.379Z"
   },
   {
    "duration": 95,
    "start_time": "2023-09-21T15:53:10.406Z"
   },
   {
    "duration": 4,
    "start_time": "2023-09-21T15:53:10.502Z"
   },
   {
    "duration": 11,
    "start_time": "2023-09-21T15:53:10.507Z"
   },
   {
    "duration": 15,
    "start_time": "2023-09-21T15:53:10.520Z"
   },
   {
    "duration": 22,
    "start_time": "2023-09-21T15:53:10.537Z"
   },
   {
    "duration": 17,
    "start_time": "2023-09-21T15:53:10.560Z"
   },
   {
    "duration": 11,
    "start_time": "2023-09-21T15:53:10.579Z"
   },
   {
    "duration": 11969,
    "start_time": "2023-09-21T15:53:10.592Z"
   },
   {
    "duration": 9,
    "start_time": "2023-09-21T15:53:22.568Z"
   },
   {
    "duration": 94622,
    "start_time": "2023-09-21T15:53:22.661Z"
   },
   {
    "duration": 146410,
    "start_time": "2023-09-21T15:54:57.285Z"
   },
   {
    "duration": 5,
    "start_time": "2023-09-21T15:57:23.697Z"
   },
   {
    "duration": 19,
    "start_time": "2023-09-21T15:57:23.704Z"
   },
   {
    "duration": 46,
    "start_time": "2023-09-21T15:57:23.725Z"
   },
   {
    "duration": 6597,
    "start_time": "2023-09-21T15:57:23.773Z"
   },
   {
    "duration": 23,
    "start_time": "2023-09-21T15:57:30.372Z"
   },
   {
    "duration": 171,
    "start_time": "2023-09-21T15:57:30.397Z"
   },
   {
    "duration": 156,
    "start_time": "2023-09-21T15:57:30.570Z"
   },
   {
    "duration": 202,
    "start_time": "2023-09-21T15:57:30.728Z"
   },
   {
    "duration": 4,
    "start_time": "2023-09-21T15:57:30.932Z"
   },
   {
    "duration": 199,
    "start_time": "2023-09-21T15:57:30.938Z"
   },
   {
    "duration": 78,
    "start_time": "2023-09-21T15:57:31.139Z"
   },
   {
    "duration": 402,
    "start_time": "2023-09-21T15:57:31.219Z"
   },
   {
    "duration": 0,
    "start_time": "2023-09-21T15:57:31.624Z"
   },
   {
    "duration": 0,
    "start_time": "2023-09-21T15:57:31.626Z"
   },
   {
    "duration": 0,
    "start_time": "2023-09-21T15:57:31.628Z"
   },
   {
    "duration": 182,
    "start_time": "2023-09-21T16:00:02.000Z"
   },
   {
    "duration": 4,
    "start_time": "2023-09-21T16:00:05.094Z"
   },
   {
    "duration": 232,
    "start_time": "2023-09-21T16:00:05.651Z"
   },
   {
    "duration": 327,
    "start_time": "2023-09-21T16:01:17.779Z"
   },
   {
    "duration": 3,
    "start_time": "2023-09-21T16:01:19.846Z"
   },
   {
    "duration": 146,
    "start_time": "2023-09-21T16:01:27.455Z"
   },
   {
    "duration": 185,
    "start_time": "2023-09-21T16:02:07.628Z"
   },
   {
    "duration": 194,
    "start_time": "2023-09-21T16:03:10.728Z"
   },
   {
    "duration": 173,
    "start_time": "2023-09-21T16:03:19.420Z"
   },
   {
    "duration": 135,
    "start_time": "2023-09-21T16:03:35.477Z"
   },
   {
    "duration": 181,
    "start_time": "2023-09-21T16:03:51.896Z"
   },
   {
    "duration": 13778,
    "start_time": "2023-09-21T16:05:29.953Z"
   },
   {
    "duration": 217,
    "start_time": "2023-09-21T16:06:06.029Z"
   },
   {
    "duration": 192,
    "start_time": "2023-09-21T16:06:50.057Z"
   },
   {
    "duration": 192,
    "start_time": "2023-09-21T16:06:59.747Z"
   },
   {
    "duration": 146,
    "start_time": "2023-09-21T16:07:07.742Z"
   },
   {
    "duration": 187,
    "start_time": "2023-09-21T16:08:57.912Z"
   },
   {
    "duration": 4,
    "start_time": "2023-09-21T16:09:40.471Z"
   },
   {
    "duration": 15,
    "start_time": "2023-09-21T16:09:44.710Z"
   },
   {
    "duration": 200,
    "start_time": "2023-09-21T16:09:49.947Z"
   },
   {
    "duration": 181,
    "start_time": "2023-09-21T16:10:10.330Z"
   },
   {
    "duration": 189,
    "start_time": "2023-09-21T16:11:03.625Z"
   },
   {
    "duration": 366,
    "start_time": "2023-09-21T16:15:26.924Z"
   },
   {
    "duration": 197,
    "start_time": "2023-09-21T16:16:13.153Z"
   },
   {
    "duration": 183,
    "start_time": "2023-09-21T16:16:31.107Z"
   },
   {
    "duration": 168,
    "start_time": "2023-09-21T16:18:20.405Z"
   },
   {
    "duration": 166,
    "start_time": "2023-09-21T16:18:45.797Z"
   },
   {
    "duration": 168,
    "start_time": "2023-09-21T16:18:52.206Z"
   },
   {
    "duration": 191,
    "start_time": "2023-09-21T16:20:12.414Z"
   },
   {
    "duration": 164,
    "start_time": "2023-09-21T16:22:06.974Z"
   },
   {
    "duration": 164,
    "start_time": "2023-09-21T16:22:18.026Z"
   },
   {
    "duration": 203,
    "start_time": "2023-09-21T16:23:09.042Z"
   },
   {
    "duration": 192,
    "start_time": "2023-09-21T16:23:28.514Z"
   },
   {
    "duration": 184,
    "start_time": "2023-09-21T16:23:34.038Z"
   },
   {
    "duration": 158,
    "start_time": "2023-09-21T16:23:39.199Z"
   },
   {
    "duration": 190,
    "start_time": "2023-09-21T16:23:57.743Z"
   },
   {
    "duration": 325,
    "start_time": "2023-09-21T16:24:32.167Z"
   },
   {
    "duration": 240,
    "start_time": "2023-09-21T16:24:49.424Z"
   },
   {
    "duration": 9,
    "start_time": "2023-09-21T16:25:50.579Z"
   },
   {
    "duration": 21,
    "start_time": "2023-09-21T16:26:02.844Z"
   },
   {
    "duration": 1444,
    "start_time": "2023-09-21T16:27:34.671Z"
   },
   {
    "duration": 1428,
    "start_time": "2023-09-21T16:27:53.286Z"
   },
   {
    "duration": 11951,
    "start_time": "2023-09-21T16:29:05.810Z"
   },
   {
    "duration": 125046,
    "start_time": "2023-09-21T16:29:17.764Z"
   },
   {
    "duration": 141587,
    "start_time": "2023-09-21T16:31:22.812Z"
   },
   {
    "duration": 9,
    "start_time": "2023-09-21T16:35:39.876Z"
   },
   {
    "duration": 5,
    "start_time": "2023-09-21T16:35:50.894Z"
   },
   {
    "duration": 10,
    "start_time": "2023-09-21T16:35:51.678Z"
   },
   {
    "duration": 6445,
    "start_time": "2023-09-21T16:36:15.911Z"
   },
   {
    "duration": 21,
    "start_time": "2023-09-21T16:36:22.364Z"
   },
   {
    "duration": 11,
    "start_time": "2023-09-21T16:36:40.784Z"
   },
   {
    "duration": 4,
    "start_time": "2023-09-21T16:36:41.429Z"
   },
   {
    "duration": 157,
    "start_time": "2023-09-21T16:36:45.085Z"
   },
   {
    "duration": 4,
    "start_time": "2023-09-21T16:37:02.533Z"
   },
   {
    "duration": 8,
    "start_time": "2023-09-21T16:37:03.287Z"
   },
   {
    "duration": 4,
    "start_time": "2023-09-21T16:37:05.622Z"
   },
   {
    "duration": 169,
    "start_time": "2023-09-21T16:37:06.371Z"
   },
   {
    "duration": 7,
    "start_time": "2023-09-21T16:37:41.888Z"
   },
   {
    "duration": 11,
    "start_time": "2023-09-21T16:38:11.863Z"
   },
   {
    "duration": 181,
    "start_time": "2023-09-21T16:38:24.869Z"
   },
   {
    "duration": 312,
    "start_time": "2023-09-21T16:38:37.574Z"
   },
   {
    "duration": 1397,
    "start_time": "2023-09-21T16:38:52.837Z"
   },
   {
    "duration": 1384,
    "start_time": "2023-09-21T16:39:14.943Z"
   },
   {
    "duration": 1178,
    "start_time": "2023-09-21T16:39:29.267Z"
   },
   {
    "duration": 125,
    "start_time": "2023-09-21T16:40:05.771Z"
   },
   {
    "duration": 175,
    "start_time": "2023-09-21T16:40:13.584Z"
   },
   {
    "duration": 29,
    "start_time": "2023-09-21T16:41:01.317Z"
   },
   {
    "duration": 23,
    "start_time": "2023-09-21T16:41:01.501Z"
   },
   {
    "duration": 15,
    "start_time": "2023-09-21T16:41:01.933Z"
   },
   {
    "duration": 25,
    "start_time": "2023-09-21T16:41:02.192Z"
   },
   {
    "duration": 4,
    "start_time": "2023-09-21T16:41:02.473Z"
   },
   {
    "duration": 7,
    "start_time": "2023-09-21T16:41:02.616Z"
   },
   {
    "duration": 13,
    "start_time": "2023-09-21T16:41:03.037Z"
   },
   {
    "duration": 3,
    "start_time": "2023-09-21T16:41:03.642Z"
   },
   {
    "duration": 8,
    "start_time": "2023-09-21T16:41:03.793Z"
   },
   {
    "duration": 9,
    "start_time": "2023-09-21T16:41:03.946Z"
   },
   {
    "duration": 6,
    "start_time": "2023-09-21T16:41:04.090Z"
   },
   {
    "duration": 7,
    "start_time": "2023-09-21T16:41:04.238Z"
   },
   {
    "duration": 12,
    "start_time": "2023-09-21T16:41:04.390Z"
   },
   {
    "duration": 6,
    "start_time": "2023-09-21T16:41:04.534Z"
   },
   {
    "duration": 87,
    "start_time": "2023-09-21T16:41:04.680Z"
   },
   {
    "duration": 19,
    "start_time": "2023-09-21T16:41:04.849Z"
   },
   {
    "duration": 4,
    "start_time": "2023-09-21T16:41:04.994Z"
   },
   {
    "duration": 18,
    "start_time": "2023-09-21T16:41:05.144Z"
   },
   {
    "duration": 5,
    "start_time": "2023-09-21T16:41:05.621Z"
   },
   {
    "duration": 3,
    "start_time": "2023-09-21T16:41:05.923Z"
   },
   {
    "duration": 1002,
    "start_time": "2023-09-21T16:41:06.077Z"
   },
   {
    "duration": 3,
    "start_time": "2023-09-21T16:41:07.081Z"
   },
   {
    "duration": 343,
    "start_time": "2023-09-21T16:41:07.086Z"
   },
   {
    "duration": 32,
    "start_time": "2023-09-21T16:41:07.432Z"
   },
   {
    "duration": 12,
    "start_time": "2023-09-21T16:41:07.466Z"
   },
   {
    "duration": 5,
    "start_time": "2023-09-21T16:41:07.969Z"
   },
   {
    "duration": 26,
    "start_time": "2023-09-21T16:41:08.600Z"
   },
   {
    "duration": 4,
    "start_time": "2023-09-21T16:41:08.974Z"
   },
   {
    "duration": 711,
    "start_time": "2023-09-21T16:41:09.116Z"
   },
   {
    "duration": 41,
    "start_time": "2023-09-21T16:41:09.829Z"
   },
   {
    "duration": 20,
    "start_time": "2023-09-21T16:41:09.873Z"
   },
   {
    "duration": 4,
    "start_time": "2023-09-21T16:41:09.911Z"
   },
   {
    "duration": 2956,
    "start_time": "2023-09-21T16:41:10.079Z"
   },
   {
    "duration": 2363,
    "start_time": "2023-09-21T16:41:13.037Z"
   },
   {
    "duration": 7,
    "start_time": "2023-09-21T16:41:15.402Z"
   },
   {
    "duration": 32,
    "start_time": "2023-09-21T16:41:15.412Z"
   },
   {
    "duration": 2699,
    "start_time": "2023-09-21T16:41:15.445Z"
   },
   {
    "duration": 9939,
    "start_time": "2023-09-22T16:06:58.680Z"
   },
   {
    "duration": 7306,
    "start_time": "2023-09-22T16:07:08.622Z"
   },
   {
    "duration": 3165,
    "start_time": "2023-09-22T16:07:15.930Z"
   },
   {
    "duration": 4667,
    "start_time": "2023-09-22T16:07:19.097Z"
   },
   {
    "duration": 1878,
    "start_time": "2023-09-22T16:07:23.766Z"
   },
   {
    "duration": 3,
    "start_time": "2023-09-22T16:07:25.646Z"
   },
   {
    "duration": 250,
    "start_time": "2023-09-22T16:07:25.651Z"
   },
   {
    "duration": 8,
    "start_time": "2023-09-22T16:07:25.903Z"
   },
   {
    "duration": 25,
    "start_time": "2023-09-22T16:07:25.913Z"
   },
   {
    "duration": 16,
    "start_time": "2023-09-22T16:07:25.941Z"
   },
   {
    "duration": 19,
    "start_time": "2023-09-22T16:07:25.959Z"
   },
   {
    "duration": 11,
    "start_time": "2023-09-22T16:07:25.980Z"
   },
   {
    "duration": 35,
    "start_time": "2023-09-22T16:07:25.992Z"
   },
   {
    "duration": 32,
    "start_time": "2023-09-22T16:07:26.029Z"
   },
   {
    "duration": 11,
    "start_time": "2023-09-22T16:07:26.062Z"
   },
   {
    "duration": 17,
    "start_time": "2023-09-22T16:07:26.075Z"
   },
   {
    "duration": 15,
    "start_time": "2023-09-22T16:07:26.094Z"
   },
   {
    "duration": 31,
    "start_time": "2023-09-22T16:07:26.110Z"
   },
   {
    "duration": 13,
    "start_time": "2023-09-22T16:07:26.142Z"
   },
   {
    "duration": 12,
    "start_time": "2023-09-22T16:07:26.157Z"
   },
   {
    "duration": 19,
    "start_time": "2023-09-22T16:07:26.171Z"
   },
   {
    "duration": 24,
    "start_time": "2023-09-22T16:07:26.191Z"
   },
   {
    "duration": 19,
    "start_time": "2023-09-22T16:07:26.217Z"
   },
   {
    "duration": 9,
    "start_time": "2023-09-22T16:07:26.238Z"
   },
   {
    "duration": 33,
    "start_time": "2023-09-22T16:07:26.248Z"
   },
   {
    "duration": 16,
    "start_time": "2023-09-22T16:07:26.282Z"
   },
   {
    "duration": 23,
    "start_time": "2023-09-22T16:07:26.300Z"
   },
   {
    "duration": 31,
    "start_time": "2023-09-22T16:07:26.327Z"
   },
   {
    "duration": 39,
    "start_time": "2023-09-22T16:07:26.360Z"
   },
   {
    "duration": 17,
    "start_time": "2023-09-22T16:07:26.401Z"
   },
   {
    "duration": 50,
    "start_time": "2023-09-22T16:07:26.420Z"
   },
   {
    "duration": 22,
    "start_time": "2023-09-22T16:07:26.471Z"
   },
   {
    "duration": 24,
    "start_time": "2023-09-22T16:07:26.494Z"
   },
   {
    "duration": 54,
    "start_time": "2023-09-22T16:07:26.520Z"
   },
   {
    "duration": 20,
    "start_time": "2023-09-22T16:07:26.575Z"
   },
   {
    "duration": 34,
    "start_time": "2023-09-22T16:07:26.596Z"
   },
   {
    "duration": 27,
    "start_time": "2023-09-22T16:07:26.632Z"
   },
   {
    "duration": 38,
    "start_time": "2023-09-22T16:07:26.661Z"
   },
   {
    "duration": 9,
    "start_time": "2023-09-22T16:07:26.701Z"
   },
   {
    "duration": 9,
    "start_time": "2023-09-22T16:07:26.712Z"
   },
   {
    "duration": 28,
    "start_time": "2023-09-22T16:07:26.722Z"
   },
   {
    "duration": 7,
    "start_time": "2023-09-22T16:07:26.751Z"
   },
   {
    "duration": 18,
    "start_time": "2023-09-22T16:07:26.760Z"
   },
   {
    "duration": 50,
    "start_time": "2023-09-22T16:07:26.780Z"
   },
   {
    "duration": 5,
    "start_time": "2023-09-22T16:07:26.832Z"
   },
   {
    "duration": 20,
    "start_time": "2023-09-22T16:07:26.839Z"
   },
   {
    "duration": 12,
    "start_time": "2023-09-22T16:07:26.860Z"
   },
   {
    "duration": 31,
    "start_time": "2023-09-22T16:07:26.874Z"
   },
   {
    "duration": 37,
    "start_time": "2023-09-22T16:07:26.907Z"
   },
   {
    "duration": 116,
    "start_time": "2023-09-22T16:07:26.945Z"
   },
   {
    "duration": 99,
    "start_time": "2023-09-22T16:07:27.063Z"
   },
   {
    "duration": 3,
    "start_time": "2023-09-22T16:07:27.164Z"
   },
   {
    "duration": 6,
    "start_time": "2023-09-22T16:07:27.169Z"
   },
   {
    "duration": 25,
    "start_time": "2023-09-22T16:07:27.176Z"
   },
   {
    "duration": 18,
    "start_time": "2023-09-22T16:07:27.203Z"
   },
   {
    "duration": 16,
    "start_time": "2023-09-22T16:07:27.223Z"
   },
   {
    "duration": 15,
    "start_time": "2023-09-22T16:07:27.240Z"
   },
   {
    "duration": 6,
    "start_time": "2023-09-22T16:07:27.256Z"
   },
   {
    "duration": 19,
    "start_time": "2023-09-22T16:07:27.263Z"
   },
   {
    "duration": 17,
    "start_time": "2023-09-22T16:07:27.284Z"
   },
   {
    "duration": 24,
    "start_time": "2023-09-22T16:07:27.303Z"
   },
   {
    "duration": 80,
    "start_time": "2023-09-22T16:07:27.329Z"
   },
   {
    "duration": 8,
    "start_time": "2023-09-22T16:07:27.411Z"
   },
   {
    "duration": 9,
    "start_time": "2023-09-22T16:07:27.421Z"
   },
   {
    "duration": 20,
    "start_time": "2023-09-22T16:07:27.431Z"
   },
   {
    "duration": 10,
    "start_time": "2023-09-22T16:07:27.453Z"
   },
   {
    "duration": 22,
    "start_time": "2023-09-22T16:07:27.464Z"
   },
   {
    "duration": 1339,
    "start_time": "2023-09-22T16:07:27.487Z"
   },
   {
    "duration": 3,
    "start_time": "2023-09-22T16:07:28.828Z"
   },
   {
    "duration": 548,
    "start_time": "2023-09-22T16:07:28.832Z"
   },
   {
    "duration": 20,
    "start_time": "2023-09-22T16:07:29.382Z"
   },
   {
    "duration": 10,
    "start_time": "2023-09-22T16:07:29.404Z"
   },
   {
    "duration": 18,
    "start_time": "2023-09-22T16:07:29.416Z"
   },
   {
    "duration": 25,
    "start_time": "2023-09-22T16:07:29.446Z"
   },
   {
    "duration": 4,
    "start_time": "2023-09-22T16:07:29.473Z"
   },
   {
    "duration": 1075,
    "start_time": "2023-09-22T16:07:29.478Z"
   },
   {
    "duration": 18,
    "start_time": "2023-09-22T16:07:30.554Z"
   },
   {
    "duration": 60,
    "start_time": "2023-09-22T16:07:30.574Z"
   },
   {
    "duration": 44,
    "start_time": "2023-09-22T16:07:30.636Z"
   },
   {
    "duration": 3459,
    "start_time": "2023-09-22T16:07:30.682Z"
   },
   {
    "duration": 2889,
    "start_time": "2023-09-22T16:07:34.143Z"
   },
   {
    "duration": 10,
    "start_time": "2023-09-22T16:07:37.037Z"
   },
   {
    "duration": 5,
    "start_time": "2023-09-22T16:07:37.048Z"
   },
   {
    "duration": 1619,
    "start_time": "2023-09-22T16:07:37.055Z"
   },
   {
    "duration": 4,
    "start_time": "2023-09-22T16:07:38.676Z"
   },
   {
    "duration": 125,
    "start_time": "2023-09-22T16:07:38.682Z"
   },
   {
    "duration": 139,
    "start_time": "2023-09-22T16:07:38.809Z"
   },
   {
    "duration": 3,
    "start_time": "2023-09-22T16:07:38.950Z"
   },
   {
    "duration": 19,
    "start_time": "2023-09-22T16:07:38.954Z"
   },
   {
    "duration": 77,
    "start_time": "2023-09-22T16:07:38.975Z"
   },
   {
    "duration": 16,
    "start_time": "2023-09-22T16:07:39.054Z"
   },
   {
    "duration": 8,
    "start_time": "2023-09-22T16:07:39.072Z"
   },
   {
    "duration": 4,
    "start_time": "2023-09-22T16:07:39.082Z"
   },
   {
    "duration": 11961,
    "start_time": "2023-09-22T16:07:39.088Z"
   },
   {
    "duration": 4,
    "start_time": "2023-09-22T16:07:51.051Z"
   },
   {
    "duration": 99705,
    "start_time": "2023-09-22T16:07:51.148Z"
   },
   {
    "duration": 145417,
    "start_time": "2023-09-22T16:09:30.855Z"
   },
   {
    "duration": 5,
    "start_time": "2023-09-22T16:11:56.273Z"
   },
   {
    "duration": 34,
    "start_time": "2023-09-22T16:11:56.279Z"
   },
   {
    "duration": 7635,
    "start_time": "2023-09-22T16:11:56.315Z"
   },
   {
    "duration": 20,
    "start_time": "2023-09-22T16:12:03.952Z"
   },
   {
    "duration": 22,
    "start_time": "2023-09-22T16:12:03.973Z"
   },
   {
    "duration": 4,
    "start_time": "2023-09-22T16:12:03.997Z"
   },
   {
    "duration": 332,
    "start_time": "2023-09-22T16:12:04.002Z"
   },
   {
    "duration": 10,
    "start_time": "2023-09-22T16:12:04.336Z"
   },
   {
    "duration": 23,
    "start_time": "2023-09-22T16:12:04.348Z"
   },
   {
    "duration": 16,
    "start_time": "2023-09-22T16:12:04.373Z"
   },
   {
    "duration": 275,
    "start_time": "2023-09-22T16:12:04.390Z"
   },
   {
    "duration": 8,
    "start_time": "2023-09-22T16:12:04.666Z"
   },
   {
    "duration": 332,
    "start_time": "2023-09-22T16:12:04.676Z"
   },
   {
    "duration": 374,
    "start_time": "2023-09-22T16:12:05.010Z"
   }
  ],
  "kernelspec": {
   "display_name": "Python 3 (ipykernel)",
   "language": "python",
   "name": "python3"
  },
  "language_info": {
   "codemirror_mode": {
    "name": "ipython",
    "version": 3
   },
   "file_extension": ".py",
   "mimetype": "text/x-python",
   "name": "python",
   "nbconvert_exporter": "python",
   "pygments_lexer": "ipython3",
   "version": "3.10.9"
  },
  "toc": {
   "base_numbering": 1,
   "nav_menu": {},
   "number_sections": true,
   "sideBar": true,
   "skip_h1_title": true,
   "title_cell": "Table of Contents",
   "title_sidebar": "Contents",
   "toc_cell": false,
   "toc_position": {},
   "toc_section_display": true,
   "toc_window_display": false
  }
 },
 "nbformat": 4,
 "nbformat_minor": 2
}

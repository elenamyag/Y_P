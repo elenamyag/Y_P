{
 "cells": [
  {
   "cell_type": "markdown",
   "metadata": {},
   "source": [
    "#  Прогнозирование заказов такси"
   ]
  },
  {
   "cell_type": "markdown",
   "metadata": {},
   "source": [
    "Компания «Чётенькое такси» собрала исторические данные о заказах такси в аэропортах. Чтобы привлекать больше водителей в период пиковой нагрузки, нужно спрогнозировать количество заказов такси на следующий час. Постройте модель для такого предсказания.\n",
    "\n",
    "Значение метрики *RMSE* на тестовой выборке должно быть не больше 48.\n",
    "\n",
    "Вам нужно:\n",
    "\n",
    "1. Загрузить данные и выполнить их ресемплирование по одному часу.\n",
    "2. Проанализировать данные.\n",
    "3. Обучить разные модели с различными гиперпараметрами. Сделать тестовую выборку размером 10% от исходных данных.\n",
    "4. Проверить данные на тестовой выборке и сделать выводы.\n",
    "\n",
    "\n",
    "Данные лежат в файле `taxi.csv`. Количество заказов находится в столбце `num_orders` (от англ. *number of orders*, «число заказов»)."
   ]
  },
  {
   "cell_type": "markdown",
   "metadata": {
    "toc": true
   },
   "source": [
    "<h1>Содержание<span class=\"tocSkip\"></span></h1>\n",
    "<div class=\"toc\"><ul class=\"toc-item\"><li><span><a href=\"#Подготовка\" data-toc-modified-id=\"Подготовка-1\"><span class=\"toc-item-num\">1&nbsp;&nbsp;</span>Подготовка</a></span></li><li><span><a href=\"#Анализ\" data-toc-modified-id=\"Анализ-2\"><span class=\"toc-item-num\">2&nbsp;&nbsp;</span>Анализ</a></span></li><li><span><a href=\"#Обучение\" data-toc-modified-id=\"Обучение-3\"><span class=\"toc-item-num\">3&nbsp;&nbsp;</span>Обучение</a></span><ul class=\"toc-item\"><li><span><a href=\"#Подготовка-данных\" data-toc-modified-id=\"Подготовка-данных-3.1\"><span class=\"toc-item-num\">3.1&nbsp;&nbsp;</span>Подготовка данных</a></span></li><li><span><a href=\"#Линейная-регрессия\" data-toc-modified-id=\"Линейная-регрессия-3.2\"><span class=\"toc-item-num\">3.2&nbsp;&nbsp;</span>Линейная регрессия</a></span></li><li><span><a href=\"#Случайный-лес\" data-toc-modified-id=\"Случайный-лес-3.3\"><span class=\"toc-item-num\">3.3&nbsp;&nbsp;</span>Случайный лес</a></span></li><li><span><a href=\"#CatBoostRegressor\" data-toc-modified-id=\"CatBoostRegressor-3.4\"><span class=\"toc-item-num\">3.4&nbsp;&nbsp;</span>CatBoostRegressor</a></span></li><li><span><a href=\"#LGBMRegressor\" data-toc-modified-id=\"LGBMRegressor-3.5\"><span class=\"toc-item-num\">3.5&nbsp;&nbsp;</span>LGBMRegressor</a></span></li></ul></li><li><span><a href=\"#Тестирование\" data-toc-modified-id=\"Тестирование-4\"><span class=\"toc-item-num\">4&nbsp;&nbsp;</span>Тестирование</a></span></li><li><span><a href=\"#Вывод\" data-toc-modified-id=\"Вывод-5\"><span class=\"toc-item-num\">5&nbsp;&nbsp;</span>Вывод</a></span></li><li><span><a href=\"#Чек-лист-проверки\" data-toc-modified-id=\"Чек-лист-проверки-6\"><span class=\"toc-item-num\">6&nbsp;&nbsp;</span>Чек-лист проверки</a></span></li></ul></div>"
   ]
  },
  {
   "cell_type": "code",
   "execution_count": 1,
   "metadata": {},
   "outputs": [],
   "source": [
    "import pandas as pd\n",
    "from statsmodels.tsa.seasonal import seasonal_decompose\n",
    "import matplotlib.pyplot as plt\n",
    "from sklearn.model_selection import train_test_split, GridSearchCV, cross_val_score, TimeSeriesSplit\n",
    "from sklearn.linear_model import LinearRegression\n",
    "from sklearn.ensemble import RandomForestRegressor\n",
    "from lightgbm import LGBMRegressor\n",
    "from catboost import CatBoostRegressor\n",
    "from sklearn.metrics import mean_squared_error"
   ]
  },
  {
   "cell_type": "markdown",
   "metadata": {},
   "source": [
    "## Подготовка"
   ]
  },
  {
   "cell_type": "code",
   "execution_count": 2,
   "metadata": {},
   "outputs": [],
   "source": [
    "taxi = pd.read_csv('/datasets/taxi.csv', index_col=[0], parse_dates=[0]) "
   ]
  },
  {
   "cell_type": "code",
   "execution_count": 3,
   "metadata": {},
   "outputs": [
    {
     "data": {
      "text/html": [
       "<div>\n",
       "<style scoped>\n",
       "    .dataframe tbody tr th:only-of-type {\n",
       "        vertical-align: middle;\n",
       "    }\n",
       "\n",
       "    .dataframe tbody tr th {\n",
       "        vertical-align: top;\n",
       "    }\n",
       "\n",
       "    .dataframe thead th {\n",
       "        text-align: right;\n",
       "    }\n",
       "</style>\n",
       "<table border=\"1\" class=\"dataframe\">\n",
       "  <thead>\n",
       "    <tr style=\"text-align: right;\">\n",
       "      <th></th>\n",
       "      <th>num_orders</th>\n",
       "    </tr>\n",
       "    <tr>\n",
       "      <th>datetime</th>\n",
       "      <th></th>\n",
       "    </tr>\n",
       "  </thead>\n",
       "  <tbody>\n",
       "    <tr>\n",
       "      <th>2018-03-01 00:00:00</th>\n",
       "      <td>9</td>\n",
       "    </tr>\n",
       "    <tr>\n",
       "      <th>2018-03-01 00:10:00</th>\n",
       "      <td>14</td>\n",
       "    </tr>\n",
       "    <tr>\n",
       "      <th>2018-03-01 00:20:00</th>\n",
       "      <td>28</td>\n",
       "    </tr>\n",
       "    <tr>\n",
       "      <th>2018-03-01 00:30:00</th>\n",
       "      <td>20</td>\n",
       "    </tr>\n",
       "    <tr>\n",
       "      <th>2018-03-01 00:40:00</th>\n",
       "      <td>32</td>\n",
       "    </tr>\n",
       "  </tbody>\n",
       "</table>\n",
       "</div>"
      ],
      "text/plain": [
       "                     num_orders\n",
       "datetime                       \n",
       "2018-03-01 00:00:00           9\n",
       "2018-03-01 00:10:00          14\n",
       "2018-03-01 00:20:00          28\n",
       "2018-03-01 00:30:00          20\n",
       "2018-03-01 00:40:00          32"
      ]
     },
     "execution_count": 3,
     "metadata": {},
     "output_type": "execute_result"
    }
   ],
   "source": [
    "taxi.head()"
   ]
  },
  {
   "cell_type": "code",
   "execution_count": 4,
   "metadata": {},
   "outputs": [],
   "source": [
    "taxi = taxi.sort_index(ascending=True)"
   ]
  },
  {
   "cell_type": "code",
   "execution_count": 5,
   "metadata": {},
   "outputs": [],
   "source": [
    "taxi_day = taxi.resample('1D').sum()"
   ]
  },
  {
   "cell_type": "code",
   "execution_count": 6,
   "metadata": {},
   "outputs": [],
   "source": [
    "taxi = taxi.resample('1H').sum()"
   ]
  },
  {
   "cell_type": "markdown",
   "metadata": {},
   "source": [
    "**Вывод**: данные были подготовлены и рассемплированы по одному часу."
   ]
  },
  {
   "cell_type": "markdown",
   "metadata": {},
   "source": [
    "## Анализ"
   ]
  },
  {
   "cell_type": "markdown",
   "metadata": {},
   "source": [
    "Разделим данные на трендовую, сезонную и шумовую состовляющие и построим графики:"
   ]
  },
  {
   "cell_type": "code",
   "execution_count": 7,
   "metadata": {},
   "outputs": [],
   "source": [
    "decomposed = seasonal_decompose(taxi)"
   ]
  },
  {
   "cell_type": "code",
   "execution_count": 8,
   "metadata": {},
   "outputs": [
    {
     "data": {
      "image/png": "[encoded data removed]",
      "text/plain": [
       "<Figure size 720x288 with 1 Axes>"
      ]
     },
     "metadata": {
      "needs_background": "light"
     },
     "output_type": "display_data"
    }
   ],
   "source": [
    "decomposed.trend.plot(figsize=(10, 4), title='Тренд');"
   ]
  },
  {
   "cell_type": "code",
   "execution_count": 9,
   "metadata": {},
   "outputs": [
    {
     "data": {
      "image/png": "[encoded data removed]",
      "text/plain": [
       "<Figure size 432x288 with 1 Axes>"
      ]
     },
     "metadata": {
      "needs_background": "light"
     },
     "output_type": "display_data"
    }
   ],
   "source": [
    "decomposed.trend.rolling(24*7).mean().plot(title='Тренд (сглаженный)');"
   ]
  },
  {
   "cell_type": "code",
   "execution_count": 10,
   "metadata": {},
   "outputs": [
    {
     "data": {
      "image/png": "[encoded data removed]",
      "text/plain": [
       "<Figure size 720x288 with 1 Axes>"
      ]
     },
     "metadata": {
      "needs_background": "light"
     },
     "output_type": "display_data"
    }
   ],
   "source": [
    "decomposed.seasonal.plot(figsize=(10, 4), title='Seasonal Mar-Aug');"
   ]
  },
  {
   "cell_type": "code",
   "execution_count": 11,
   "metadata": {},
   "outputs": [
    {
     "data": {
      "image/png": "[encoded data removed]",
      "text/plain": [
       "<Figure size 720x288 with 1 Axes>"
      ]
     },
     "metadata": {
      "needs_background": "light"
     },
     "output_type": "display_data"
    }
   ],
   "source": [
    "decomposed.seasonal.tail(24*7).plot(figsize=(10, 4), title='Сезонность (последняя неделя)');"
   ]
  },
  {
   "cell_type": "code",
   "execution_count": 12,
   "metadata": {},
   "outputs": [
    {
     "data": {
      "image/png": "[encoded data removed]",
      "text/plain": [
       "<Figure size 432x288 with 1 Axes>"
      ]
     },
     "metadata": {
      "needs_background": "light"
     },
     "output_type": "display_data"
    }
   ],
   "source": [
    "decomposed.seasonal.tail(24).plot(title='Сезонность (последний день)');"
   ]
  },
  {
   "cell_type": "code",
   "execution_count": 13,
   "metadata": {},
   "outputs": [
    {
     "data": {
      "image/png": "[encoded data removed]",
      "text/plain": [
       "<Figure size 432x288 with 1 Axes>"
      ]
     },
     "metadata": {
      "needs_background": "light"
     },
     "output_type": "display_data"
    }
   ],
   "source": [
    "decomposed.seasonal['2018-05-15'].plot(title='Сезонность (день в середине промежутка)');"
   ]
  },
  {
   "cell_type": "code",
   "execution_count": 14,
   "metadata": {},
   "outputs": [
    {
     "data": {
      "image/png": "[encoded data removed]",
      "text/plain": [
       "<Figure size 432x288 with 1 Axes>"
      ]
     },
     "metadata": {
      "needs_background": "light"
     },
     "output_type": "display_data"
    }
   ],
   "source": [
    "decomposed.seasonal.head(24).plot(title='Сезонность (первый день)');"
   ]
  },
  {
   "cell_type": "markdown",
   "metadata": {},
   "source": [
    "По графикам можно заметить, что сезонность составляет 24 часа, и со временем она не меняется."
   ]
  },
  {
   "cell_type": "code",
   "execution_count": 15,
   "metadata": {},
   "outputs": [],
   "source": [
    "decomposed_day = seasonal_decompose(taxi_day)"
   ]
  },
  {
   "cell_type": "code",
   "execution_count": 16,
   "metadata": {},
   "outputs": [
    {
     "data": {
      "image/png": "[encoded data removed]",
      "text/plain": [
       "<Figure size 1440x720 with 1 Axes>"
      ]
     },
     "metadata": {
      "needs_background": "light"
     },
     "output_type": "display_data"
    }
   ],
   "source": [
    "decomposed_day.seasonal.plot(title='Сезонность (по неделям)', figsize=(20, 10));"
   ]
  },
  {
   "cell_type": "markdown",
   "metadata": {},
   "source": [
    "По графикам можно заметить, что также присутствует сезонность, которая состовляет 7 суток (неделю)."
   ]
  },
  {
   "cell_type": "code",
   "execution_count": 17,
   "metadata": {},
   "outputs": [
    {
     "data": {
      "image/png": "[encoded data removed]",
      "text/plain": [
       "<Figure size 432x288 with 1 Axes>"
      ]
     },
     "metadata": {
      "needs_background": "light"
     },
     "output_type": "display_data"
    }
   ],
   "source": [
    "decomposed.resid.plot(title='Шумы');"
   ]
  },
  {
   "cell_type": "code",
   "execution_count": 18,
   "metadata": {},
   "outputs": [
    {
     "data": {
      "image/png": "[encoded data removed]",
      "text/plain": [
       "<Figure size 432x288 with 1 Axes>"
      ]
     },
     "metadata": {
      "needs_background": "light"
     },
     "output_type": "display_data"
    }
   ],
   "source": [
    "decomposed.resid.tail(24*14).plot(title='Шумы (последняя неделя)');"
   ]
  },
  {
   "cell_type": "markdown",
   "metadata": {},
   "source": [
    "Проверим является ли наш ряд стационарным. Для этого применим тест Дики-Фуллера."
   ]
  },
  {
   "cell_type": "code",
   "execution_count": 19,
   "metadata": {},
   "outputs": [],
   "source": [
    "#taxi['mean'] = taxi['num_orders'].rolling(12).mean()\n",
    "#taxi['std'] = taxi['num_orders'].rolling(12).std()\n",
    "#taxi.plot(figsize=(10, 4));"
   ]
  },
  {
   "cell_type": "code",
   "execution_count": 20,
   "metadata": {},
   "outputs": [],
   "source": [
    "#taxi = taxi.drop(['mean', 'std'], axis=1)"
   ]
  },
  {
   "cell_type": "code",
   "execution_count": 21,
   "metadata": {},
   "outputs": [],
   "source": [
    "#taxi_copy = taxi.copy()"
   ]
  },
  {
   "cell_type": "code",
   "execution_count": 22,
   "metadata": {},
   "outputs": [],
   "source": [
    "#taxi = taxi - taxi_copy.shift()"
   ]
  },
  {
   "cell_type": "code",
   "execution_count": 23,
   "metadata": {},
   "outputs": [],
   "source": [
    "#taxi['mean'] = taxi['num_orders'].rolling(12).mean()\n",
    "#taxi['std'] = taxi['num_orders'].rolling(12).std()\n",
    "#taxi.plot(figsize=(10, 4));"
   ]
  },
  {
   "cell_type": "code",
   "execution_count": 24,
   "metadata": {},
   "outputs": [],
   "source": [
    "#taxi = taxi.drop(['mean', 'std'], axis=1)"
   ]
  },
  {
   "cell_type": "markdown",
   "metadata": {},
   "source": [
    "В итоге получили стационарный ряд."
   ]
  },
  {
   "cell_type": "code",
   "execution_count": 25,
   "metadata": {},
   "outputs": [
    {
     "name": "stdout",
     "output_type": "stream",
     "text": [
      "Если значение с индексом 1 меньше P-Value, заданное нами (обычно берут 0.05), то ряд стационарный\n",
      "Наш ряд стационарный\n"
     ]
    }
   ],
   "source": [
    "from statsmodels.tsa.stattools import adfuller\n",
    "\n",
    "taxi_t = pd.read_csv(\"/datasets/taxi.csv\", index_col=[0], parse_dates=[0]).resample('1H').sum()\n",
    "\n",
    "ts = taxi_t['num_orders']\n",
    "st_test = adfuller(ts, regression='ctt')\n",
    "\n",
    "print('Если значение с индексом 1 меньше P-Value, заданное нами (обычно берут 0.05), то ряд стационарный')\n",
    "if st_test[1] < 0.05:\n",
    "    print('Наш ряд стационарный')\n",
    "else:\n",
    "    print('Ряд нестационарный')\n"
   ]
  },
  {
   "cell_type": "markdown",
   "metadata": {},
   "source": [
    "**Вывод:**\n",
    "- по графику тренда можно заметить, что в приниципе заказов становится больше;\n",
    "- по графику сезонности можно заметить, что сезонность составляет 1 сутки;"
   ]
  },
  {
   "cell_type": "markdown",
   "metadata": {},
   "source": [
    "## Обучение"
   ]
  },
  {
   "cell_type": "markdown",
   "metadata": {},
   "source": [
    "### Подготовка данных"
   ]
  },
  {
   "cell_type": "markdown",
   "metadata": {},
   "source": [
    "Создадим функцию для создания признаков:"
   ]
  },
  {
   "cell_type": "code",
   "execution_count": 26,
   "metadata": {},
   "outputs": [],
   "source": [
    "def make_features(taxi, column, max_lag, rolling_mean_size):\n",
    "    taxi['dayofweek'] = taxi.index.dayofweek\n",
    "    taxi['hour'] = taxi.index.hour\n",
    "\n",
    "    \n",
    "    for lag in range(1, max_lag + 1):\n",
    "        taxi['lag_{}'.format(lag)] = taxi[column].shift(lag)\n",
    "\n",
    "    taxi['rolling_mean'] = taxi[column].shift().rolling(rolling_mean_size).mean()\n"
   ]
  },
  {
   "cell_type": "code",
   "execution_count": 27,
   "metadata": {},
   "outputs": [],
   "source": [
    "make_features(taxi, 'num_orders', 24*7, 48)"
   ]
  },
  {
   "cell_type": "code",
   "execution_count": 28,
   "metadata": {},
   "outputs": [
    {
     "data": {
      "image/png": "[encoded data removed]",
      "text/plain": [
       "<Figure size 1332x432 with 1 Axes>"
      ]
     },
     "metadata": {
      "needs_background": "light"
     },
     "output_type": "display_data"
    }
   ],
   "source": [
    "from statsmodels.graphics import tsaplots\n",
    "\n",
    "taxi_n = pd.read_csv(\"/datasets/taxi.csv\", index_col=[0], parse_dates=[0]).resample('1H').sum()\n",
    "ts = taxi_n['num_orders']\n",
    "\n",
    "fig = tsaplots.plot_acf(ts,lags= 190)\n",
    "fig.set_size_inches(18.5, 6)\n",
    "plt.ylim(-.1, 1.1)\n",
    "plt.show() "
   ]
  },
  {
   "cell_type": "code",
   "execution_count": 29,
   "metadata": {},
   "outputs": [],
   "source": [
    "train, test = train_test_split(taxi, shuffle=False, test_size=0.1)\n",
    "train = train.dropna() \n",
    "test = test.dropna() "
   ]
  },
  {
   "cell_type": "code",
   "execution_count": 30,
   "metadata": {},
   "outputs": [],
   "source": [
    "feautures_train = train.drop('num_orders', axis=1)\n",
    "target_train = train['num_orders']\n",
    "\n",
    "feautures_test = test.drop('num_orders', axis=1)\n",
    "target_test = test['num_orders']"
   ]
  },
  {
   "cell_type": "markdown",
   "metadata": {},
   "source": [
    "Рассмотрим четыре модели:\n",
    "- Линейная регрессия;\n",
    "- Случайный лес;\n",
    "- CatBoostRegressor;\n",
    "- LGBMRegressor."
   ]
  },
  {
   "cell_type": "markdown",
   "metadata": {},
   "source": [
    "### Линейная регрессия"
   ]
  },
  {
   "cell_type": "code",
   "execution_count": 31,
   "metadata": {},
   "outputs": [
    {
     "name": "stdout",
     "output_type": "stream",
     "text": [
      "RMSE на линейной регрессии - 23.236\n"
     ]
    }
   ],
   "source": [
    "regressor = LinearRegression()\n",
    "tscv = TimeSeriesSplit(n_splits=3)\n",
    "cv_RMSE_LR = (cross_val_score(regressor, \n",
    "                             feautures_train, \n",
    "                             target_train, \n",
    "                             cv=tscv, \n",
    "                             scoring='neg_mean_squared_error').mean() * -1) ** 0.5\n",
    "print(f'RMSE на линейной регрессии - {(cv_RMSE_LR):.3f}')"
   ]
  },
  {
   "cell_type": "markdown",
   "metadata": {},
   "source": [
    "### Случайный лес"
   ]
  },
  {
   "cell_type": "code",
   "execution_count": 32,
   "metadata": {},
   "outputs": [
    {
     "name": "stdout",
     "output_type": "stream",
     "text": [
      "Fitting 3 folds for each of 16 candidates, totalling 48 fits\n",
      "[CV] END .......................max_depth=2, n_estimators=50; total time=   0.8s\n",
      "[CV] END .......................max_depth=2, n_estimators=50; total time=   1.3s\n",
      "[CV] END .......................max_depth=2, n_estimators=50; total time=   1.8s\n",
      "[CV] END ......................max_depth=2, n_estimators=100; total time=   1.3s\n",
      "[CV] END ......................max_depth=2, n_estimators=100; total time=   2.3s\n",
      "[CV] END ......................max_depth=2, n_estimators=100; total time=   3.4s\n",
      "[CV] END ......................max_depth=2, n_estimators=150; total time=   1.9s\n",
      "[CV] END ......................max_depth=2, n_estimators=150; total time=   3.5s\n",
      "[CV] END ......................max_depth=2, n_estimators=150; total time=   5.0s\n",
      "[CV] END ......................max_depth=2, n_estimators=200; total time=   2.5s\n",
      "[CV] END ......................max_depth=2, n_estimators=200; total time=   4.9s\n",
      "[CV] END ......................max_depth=2, n_estimators=200; total time=   6.7s\n",
      "[CV] END .......................max_depth=3, n_estimators=50; total time=   0.9s\n",
      "[CV] END .......................max_depth=3, n_estimators=50; total time=   1.7s\n",
      "[CV] END .......................max_depth=3, n_estimators=50; total time=   2.5s\n",
      "[CV] END ......................max_depth=3, n_estimators=100; total time=   1.9s\n",
      "[CV] END ......................max_depth=3, n_estimators=100; total time=   3.6s\n",
      "[CV] END ......................max_depth=3, n_estimators=100; total time=   5.2s\n",
      "[CV] END ......................max_depth=3, n_estimators=150; total time=   2.8s\n",
      "[CV] END ......................max_depth=3, n_estimators=150; total time=   5.9s\n",
      "[CV] END ......................max_depth=3, n_estimators=150; total time=   7.7s\n",
      "[CV] END ......................max_depth=3, n_estimators=200; total time=   3.7s\n",
      "[CV] END ......................max_depth=3, n_estimators=200; total time=   7.0s\n",
      "[CV] END ......................max_depth=3, n_estimators=200; total time=  10.6s\n",
      "[CV] END .......................max_depth=4, n_estimators=50; total time=   1.2s\n",
      "[CV] END .......................max_depth=4, n_estimators=50; total time=   2.5s\n",
      "[CV] END .......................max_depth=4, n_estimators=50; total time=   3.5s\n",
      "[CV] END ......................max_depth=4, n_estimators=100; total time=   2.4s\n",
      "[CV] END ......................max_depth=4, n_estimators=100; total time=   4.7s\n",
      "[CV] END ......................max_depth=4, n_estimators=100; total time=   6.9s\n",
      "[CV] END ......................max_depth=4, n_estimators=150; total time=   3.7s\n",
      "[CV] END ......................max_depth=4, n_estimators=150; total time=   7.0s\n",
      "[CV] END ......................max_depth=4, n_estimators=150; total time=  10.4s\n",
      "[CV] END ......................max_depth=4, n_estimators=200; total time=   4.9s\n",
      "[CV] END ......................max_depth=4, n_estimators=200; total time=   9.4s\n",
      "[CV] END ......................max_depth=4, n_estimators=200; total time=  14.2s\n",
      "[CV] END .......................max_depth=5, n_estimators=50; total time=   1.5s\n",
      "[CV] END .......................max_depth=5, n_estimators=50; total time=   3.0s\n",
      "[CV] END .......................max_depth=5, n_estimators=50; total time=   4.4s\n",
      "[CV] END ......................max_depth=5, n_estimators=100; total time=   3.0s\n",
      "[CV] END ......................max_depth=5, n_estimators=100; total time=   7.3s\n",
      "[CV] END ......................max_depth=5, n_estimators=100; total time=   8.8s\n",
      "[CV] END ......................max_depth=5, n_estimators=150; total time=   4.5s\n",
      "[CV] END ......................max_depth=5, n_estimators=150; total time=   9.0s\n",
      "[CV] END ......................max_depth=5, n_estimators=150; total time=  13.5s\n",
      "[CV] END ......................max_depth=5, n_estimators=200; total time=   6.1s\n",
      "[CV] END ......................max_depth=5, n_estimators=200; total time=  11.8s\n",
      "[CV] END ......................max_depth=5, n_estimators=200; total time=  18.6s\n",
      "\n",
      "Лучшие гиперпараметры для модели - {'max_depth': 5, 'n_estimators': 200}\n",
      "Значение RMSE при лучших гиперпараметрах - 24.273\n"
     ]
    }
   ],
   "source": [
    "model = RandomForestRegressor(random_state = 123)\n",
    "parametres_rf = {'max_depth':range(2,6),\n",
    "                'n_estimators': range(50,201,50)}\n",
    "tscv = TimeSeriesSplit(n_splits=3)\n",
    "grid_rf = GridSearchCV(model,\n",
    "                         parametres_rf,\n",
    "                         cv=tscv,\n",
    "                         n_jobs=-1,\n",
    "                         scoring = 'neg_root_mean_squared_error',\n",
    "                         verbose = 2)\n",
    "grid_rf.fit(feautures_train, target_train)\n",
    "print()\n",
    "print(f'Лучшие гиперпараметры для модели - {grid_rf.best_params_}')\n",
    "print(f'Значение RMSE при лучших гиперпараметрах - {abs(grid_rf.best_score_):.3f}')"
   ]
  },
  {
   "cell_type": "markdown",
   "metadata": {},
   "source": [
    "### CatBoostRegressor"
   ]
  },
  {
   "cell_type": "code",
   "execution_count": 33,
   "metadata": {},
   "outputs": [
    {
     "name": "stdout",
     "output_type": "stream",
     "text": [
      "CPU times: user 4min 55s, sys: 2.46 s, total: 4min 57s\n",
      "Wall time: 6min\n"
     ]
    },
    {
     "data": {
      "text/plain": [
       "GridSearchCV(cv=TimeSeriesSplit(gap=0, max_train_size=None, n_splits=3, test_size=None),\n",
       "             estimator=<catboost.core.CatBoostRegressor object at 0x7ff34d228100>,\n",
       "             param_grid={'depth': [3, 4, 5, 6, 7],\n",
       "                         'iterations': [50, 80, 100, 200],\n",
       "                         'learning_rate': [0.01, 0.04]},\n",
       "             scoring='neg_root_mean_squared_error')"
      ]
     },
     "execution_count": 33,
     "metadata": {},
     "output_type": "execute_result"
    }
   ],
   "source": [
    "%%time\n",
    "parameters = {'depth': [3,4, 5, 6, 7],\n",
    "              'learning_rate': [0.01,0.04],\n",
    "              'iterations': [50,80,100, 200]}\n",
    "CBC = CatBoostRegressor()\n",
    "tscv = TimeSeriesSplit(n_splits=3)\n",
    "grid_CBC = GridSearchCV(estimator=CBC,\n",
    "                        param_grid = parameters,\n",
    "                        scoring='neg_root_mean_squared_error',\n",
    "                        cv = tscv)\n",
    "grid_CBC.fit(feautures_train, target_train, silent=True)"
   ]
  },
  {
   "cell_type": "code",
   "execution_count": 34,
   "metadata": {},
   "outputs": [
    {
     "name": "stdout",
     "output_type": "stream",
     "text": [
      "\n",
      "Лучшие гиперпараметры для модели - {'depth': 3, 'iterations': 200, 'learning_rate': 0.04}\n",
      "Значение RMSE при лучших гиперпараметрах - 23.441\n"
     ]
    }
   ],
   "source": [
    "print()\n",
    "print(f'Лучшие гиперпараметры для модели - {grid_CBC.best_params_}')\n",
    "print(f'Значение RMSE при лучших гиперпараметрах - {abs(grid_CBC.best_score_):.3f}')"
   ]
  },
  {
   "cell_type": "markdown",
   "metadata": {},
   "source": [
    "### LGBMRegressor"
   ]
  },
  {
   "cell_type": "code",
   "execution_count": 35,
   "metadata": {},
   "outputs": [
    {
     "name": "stdout",
     "output_type": "stream",
     "text": [
      "Fitting 3 folds for each of 9 candidates, totalling 27 fits\n",
      "[CV 1/3] END ..................max_depth=4, n_estimators=100; total time=   0.8s\n",
      "[CV 2/3] END ..................max_depth=4, n_estimators=100; total time=   1.1s\n",
      "[CV 3/3] END ..................max_depth=4, n_estimators=100; total time=   1.4s\n",
      "[CV 1/3] END ..................max_depth=4, n_estimators=150; total time=   1.0s\n",
      "[CV 2/3] END ..................max_depth=4, n_estimators=150; total time=   1.5s\n",
      "[CV 3/3] END ..................max_depth=4, n_estimators=150; total time=   6.4s\n",
      "[CV 1/3] END ..................max_depth=4, n_estimators=200; total time=   1.7s\n",
      "[CV 2/3] END ..................max_depth=4, n_estimators=200; total time=   2.0s\n",
      "[CV 3/3] END ..................max_depth=4, n_estimators=200; total time=   2.7s\n",
      "[CV 1/3] END ..................max_depth=6, n_estimators=100; total time=   1.4s\n",
      "[CV 2/3] END ..................max_depth=6, n_estimators=100; total time=   3.1s\n",
      "[CV 3/3] END ..................max_depth=6, n_estimators=100; total time=   2.2s\n",
      "[CV 1/3] END ..................max_depth=6, n_estimators=150; total time=   2.1s\n",
      "[CV 2/3] END ..................max_depth=6, n_estimators=150; total time=   2.5s\n",
      "[CV 3/3] END ..................max_depth=6, n_estimators=150; total time=   4.0s\n",
      "[CV 1/3] END ..................max_depth=6, n_estimators=200; total time=   8.5s\n",
      "[CV 2/3] END ..................max_depth=6, n_estimators=200; total time=   3.2s\n",
      "[CV 3/3] END ..................max_depth=6, n_estimators=200; total time=   4.0s\n",
      "[CV 1/3] END ..................max_depth=8, n_estimators=100; total time=   1.9s\n",
      "[CV 2/3] END ..................max_depth=8, n_estimators=100; total time=   2.6s\n",
      "[CV 3/3] END ..................max_depth=8, n_estimators=100; total time=   3.1s\n",
      "[CV 1/3] END ..................max_depth=8, n_estimators=150; total time=   2.4s\n",
      "[CV 2/3] END ..................max_depth=8, n_estimators=150; total time=   3.3s\n",
      "[CV 3/3] END ..................max_depth=8, n_estimators=150; total time=   4.4s\n",
      "[CV 1/3] END ..................max_depth=8, n_estimators=200; total time=   2.9s\n",
      "[CV 2/3] END ..................max_depth=8, n_estimators=200; total time=   4.1s\n",
      "[CV 3/3] END ..................max_depth=8, n_estimators=200; total time=   5.5s\n"
     ]
    },
    {
     "data": {
      "text/plain": [
       "GridSearchCV(cv=TimeSeriesSplit(gap=0, max_train_size=None, n_splits=3, test_size=None),\n",
       "             estimator=LGBMRegressor(),\n",
       "             param_grid={'max_depth': range(4, 9, 2),\n",
       "                         'n_estimators': range(100, 201, 50)},\n",
       "             scoring='neg_root_mean_squared_error', verbose=3)"
      ]
     },
     "execution_count": 35,
     "metadata": {},
     "output_type": "execute_result"
    }
   ],
   "source": [
    "lgb_model = LGBMRegressor()\n",
    "tscv = TimeSeriesSplit(n_splits=3)\n",
    "lgb_model = GridSearchCV(lgb_model,\n",
    "                        param_grid={\n",
    "                            'n_estimators': range(100, 201, 50),\n",
    "                            'max_depth': range(4, 9, 2)},\n",
    "                        scoring='neg_root_mean_squared_error',\n",
    "                        verbose=3,\n",
    "                        cv = tscv)\n",
    "lgb_model.fit(feautures_train, target_train)"
   ]
  },
  {
   "cell_type": "code",
   "execution_count": 36,
   "metadata": {},
   "outputs": [
    {
     "name": "stdout",
     "output_type": "stream",
     "text": [
      "\n",
      "Лучшие гиперпараметры для модели - {'max_depth': 4, 'n_estimators': 100}\n",
      "Значение RMSE при лучших гиперпараметрах - 23.661\n"
     ]
    }
   ],
   "source": [
    "print()\n",
    "print(f'Лучшие гиперпараметры для модели - {lgb_model.best_params_}')\n",
    "print(f'Значение RMSE при лучших гиперпараметрах - {abs(lgb_model.best_score_):.3f}')"
   ]
  },
  {
   "cell_type": "markdown",
   "metadata": {},
   "source": [
    "Лучшие показатели RMSE у Линейной регрессии, проверим RMSE на тестовой выборке."
   ]
  },
  {
   "cell_type": "markdown",
   "metadata": {},
   "source": [
    "## Тестирование"
   ]
  },
  {
   "cell_type": "code",
   "execution_count": 37,
   "metadata": {},
   "outputs": [
    {
     "data": {
      "text/plain": [
       "LinearRegression()"
      ]
     },
     "execution_count": 37,
     "metadata": {},
     "output_type": "execute_result"
    }
   ],
   "source": [
    "model = LinearRegression();\n",
    "model.fit(feautures_train, target_train)"
   ]
  },
  {
   "cell_type": "code",
   "execution_count": 38,
   "metadata": {},
   "outputs": [],
   "source": [
    "predictions_test = model.predict(feautures_test)"
   ]
  },
  {
   "cell_type": "code",
   "execution_count": 39,
   "metadata": {
    "scrolled": true
   },
   "outputs": [
    {
     "name": "stdout",
     "output_type": "stream",
     "text": [
      "34.805\n"
     ]
    }
   ],
   "source": [
    "rmse_cb = mean_squared_error(target_test, predictions_test)**0.5\n",
    "print(round(rmse_cb,3))"
   ]
  },
  {
   "cell_type": "code",
   "execution_count": 41,
   "metadata": {},
   "outputs": [
    {
     "name": "stdout",
     "output_type": "stream",
     "text": [
      "RMSE: 58.856\n"
     ]
    }
   ],
   "source": [
    "pred_previous = target_test.shift()\n",
    "pred_previous.iloc[0] = target_train.iloc[-1]\n",
    "print(f'RMSE: {round(mean_squared_error(target_test,pred_previous)**0.5,3)}')"
   ]
  },
  {
   "cell_type": "markdown",
   "metadata": {},
   "source": [
    "34.805 < 58.856 значит модель прошла проверку на адекватность."
   ]
  },
  {
   "cell_type": "markdown",
   "metadata": {},
   "source": [
    "## Вывод"
   ]
  },
  {
   "cell_type": "markdown",
   "metadata": {},
   "source": [
    "В рамках проекта было выполнено следующее:\n",
    "- Данные были загружены и выполнено ресемплирование по одному часу.\n",
    "- Данные были проанализированы: \n",
    "        - количество заказов  со временем растет;\n",
    "        - есть суточная и недельная сезонность;\n",
    "        - из нестационарного ряда было преобразовано в стационарный.\n",
    "- Были обучены разные модели (Линейная регрессия, Случайный лес, CatBoostRegressor,LGBMRegressor) с различными гиперпараметрами. Лучшее RMSE показала модель Линейной регрессии (23.236).\n",
    "\n",
    "- Данные были проверены на тестовой выборке и на модели Линейной регрессии было получено *RMSE* 34.805 (<48).\n",
    "\n",
    "\n"
   ]
  },
  {
   "cell_type": "code",
   "execution_count": null,
   "metadata": {},
   "outputs": [],
   "source": []
  }
 ],
 "metadata": {
  "ExecuteTimeLog": [
   {
    "duration": 513,
    "start_time": "2023-07-05T17:40:06.341Z"
   },
   {
    "duration": 126,
    "start_time": "2023-07-05T17:41:06.299Z"
   },
   {
    "duration": 4,
    "start_time": "2023-07-05T17:41:43.147Z"
   },
   {
    "duration": 130,
    "start_time": "2023-07-05T17:41:44.187Z"
   },
   {
    "duration": 19,
    "start_time": "2023-07-05T17:41:56.963Z"
   },
   {
    "duration": 432,
    "start_time": "2023-07-08T08:22:47.860Z"
   },
   {
    "duration": 111,
    "start_time": "2023-07-08T08:22:49.005Z"
   },
   {
    "duration": 15,
    "start_time": "2023-07-08T08:22:49.768Z"
   },
   {
    "duration": 15,
    "start_time": "2023-07-08T08:22:50.801Z"
   },
   {
    "duration": 211,
    "start_time": "2023-07-08T08:22:53.552Z"
   },
   {
    "duration": 422,
    "start_time": "2023-07-08T08:23:08.266Z"
   },
   {
    "duration": 9,
    "start_time": "2023-07-08T08:23:18.221Z"
   },
   {
    "duration": 13,
    "start_time": "2023-07-08T08:23:29.966Z"
   },
   {
    "duration": 11,
    "start_time": "2023-07-08T08:24:24.489Z"
   },
   {
    "duration": 6,
    "start_time": "2023-07-08T08:24:38.277Z"
   },
   {
    "duration": 13,
    "start_time": "2023-07-08T08:24:45.702Z"
   },
   {
    "duration": 11,
    "start_time": "2023-07-08T08:25:46.340Z"
   },
   {
    "duration": 5,
    "start_time": "2023-07-08T08:25:49.990Z"
   },
   {
    "duration": 17,
    "start_time": "2023-07-08T08:25:50.724Z"
   },
   {
    "duration": 9,
    "start_time": "2023-07-08T08:25:51.297Z"
   },
   {
    "duration": 49,
    "start_time": "2023-07-08T08:28:03.399Z"
   },
   {
    "duration": 7,
    "start_time": "2023-07-08T08:28:04.574Z"
   },
   {
    "duration": 67,
    "start_time": "2023-07-08T08:28:46.138Z"
   },
   {
    "duration": 4,
    "start_time": "2023-07-08T08:28:51.583Z"
   },
   {
    "duration": 14,
    "start_time": "2023-07-08T08:30:08.229Z"
   },
   {
    "duration": 722,
    "start_time": "2023-07-08T08:30:21.603Z"
   },
   {
    "duration": 9,
    "start_time": "2023-07-08T08:33:09.070Z"
   },
   {
    "duration": 274,
    "start_time": "2023-07-08T08:33:09.643Z"
   },
   {
    "duration": 750,
    "start_time": "2023-07-08T08:33:26.958Z"
   },
   {
    "duration": 680,
    "start_time": "2023-07-08T08:33:33.140Z"
   },
   {
    "duration": 617,
    "start_time": "2023-07-08T08:34:33.073Z"
   },
   {
    "duration": 73,
    "start_time": "2023-07-08T08:35:42.158Z"
   },
   {
    "duration": 26,
    "start_time": "2023-07-08T08:35:44.718Z"
   },
   {
    "duration": 3,
    "start_time": "2023-07-08T08:35:54.441Z"
   },
   {
    "duration": 49,
    "start_time": "2023-07-08T08:35:54.873Z"
   },
   {
    "duration": 8,
    "start_time": "2023-07-08T08:35:55.312Z"
   },
   {
    "duration": 3,
    "start_time": "2023-07-08T08:35:55.764Z"
   },
   {
    "duration": 8,
    "start_time": "2023-07-08T08:35:56.259Z"
   },
   {
    "duration": 237,
    "start_time": "2023-07-08T08:35:57.709Z"
   },
   {
    "duration": 11,
    "start_time": "2023-07-08T08:36:01.054Z"
   },
   {
    "duration": 259,
    "start_time": "2023-07-08T08:36:02.171Z"
   },
   {
    "duration": 217,
    "start_time": "2023-07-08T08:36:06.281Z"
   },
   {
    "duration": 255,
    "start_time": "2023-07-08T08:36:22.038Z"
   },
   {
    "duration": 345,
    "start_time": "2023-07-08T08:36:27.527Z"
   },
   {
    "duration": 14,
    "start_time": "2023-07-08T08:36:37.307Z"
   },
   {
    "duration": 242,
    "start_time": "2023-07-08T08:36:40.803Z"
   },
   {
    "duration": 10,
    "start_time": "2023-07-08T08:48:08.727Z"
   },
   {
    "duration": 10,
    "start_time": "2023-07-08T08:48:36.913Z"
   },
   {
    "duration": 148,
    "start_time": "2023-07-08T08:48:46.436Z"
   },
   {
    "duration": 152,
    "start_time": "2023-07-08T08:49:08.424Z"
   },
   {
    "duration": 211,
    "start_time": "2023-07-08T08:49:17.981Z"
   },
   {
    "duration": 200,
    "start_time": "2023-07-08T08:49:23.185Z"
   },
   {
    "duration": 299,
    "start_time": "2023-07-08T09:14:51.064Z"
   },
   {
    "duration": 411,
    "start_time": "2023-07-08T09:15:06.324Z"
   },
   {
    "duration": 388,
    "start_time": "2023-07-08T09:15:15.736Z"
   },
   {
    "duration": 298,
    "start_time": "2023-07-08T09:15:30.026Z"
   },
   {
    "duration": 298,
    "start_time": "2023-07-08T09:16:31.461Z"
   },
   {
    "duration": 264,
    "start_time": "2023-07-08T09:16:44.278Z"
   },
   {
    "duration": 146,
    "start_time": "2023-07-08T09:17:19.173Z"
   },
   {
    "duration": 3,
    "start_time": "2023-07-08T09:17:28.978Z"
   },
   {
    "duration": 57,
    "start_time": "2023-07-08T09:17:29.530Z"
   },
   {
    "duration": 9,
    "start_time": "2023-07-08T09:17:29.706Z"
   },
   {
    "duration": 4,
    "start_time": "2023-07-08T09:17:29.855Z"
   },
   {
    "duration": 10,
    "start_time": "2023-07-08T09:17:30.010Z"
   },
   {
    "duration": 241,
    "start_time": "2023-07-08T09:17:30.333Z"
   },
   {
    "duration": 10,
    "start_time": "2023-07-08T09:17:31.490Z"
   },
   {
    "duration": 231,
    "start_time": "2023-07-08T09:17:31.923Z"
   },
   {
    "duration": 234,
    "start_time": "2023-07-08T09:17:32.526Z"
   },
   {
    "duration": 164,
    "start_time": "2023-07-08T09:17:33.939Z"
   },
   {
    "duration": 136,
    "start_time": "2023-07-08T09:17:36.171Z"
   },
   {
    "duration": 287,
    "start_time": "2023-07-08T09:18:10.504Z"
   },
   {
    "duration": 234,
    "start_time": "2023-07-08T09:18:21.167Z"
   },
   {
    "duration": 227,
    "start_time": "2023-07-08T09:18:38.342Z"
   },
   {
    "duration": 222,
    "start_time": "2023-07-08T09:21:31.971Z"
   },
   {
    "duration": 4,
    "start_time": "2023-07-08T09:22:48.291Z"
   },
   {
    "duration": 4,
    "start_time": "2023-07-08T09:26:03.898Z"
   },
   {
    "duration": 1282,
    "start_time": "2023-07-08T16:13:09.270Z"
   },
   {
    "duration": 239,
    "start_time": "2023-07-08T16:13:11.507Z"
   },
   {
    "duration": 10,
    "start_time": "2023-07-08T16:13:12.340Z"
   },
   {
    "duration": 3,
    "start_time": "2023-07-08T16:13:12.765Z"
   },
   {
    "duration": 9,
    "start_time": "2023-07-08T16:13:13.063Z"
   },
   {
    "duration": 10,
    "start_time": "2023-07-08T16:13:15.704Z"
   },
   {
    "duration": 9,
    "start_time": "2023-07-08T16:13:16.211Z"
   },
   {
    "duration": 8,
    "start_time": "2023-07-08T16:13:16.641Z"
   },
   {
    "duration": 232,
    "start_time": "2023-07-08T16:13:17.015Z"
   },
   {
    "duration": 7,
    "start_time": "2023-07-08T16:13:17.865Z"
   },
   {
    "duration": 202,
    "start_time": "2023-07-08T16:13:18.733Z"
   },
   {
    "duration": 204,
    "start_time": "2023-07-08T16:13:19.648Z"
   },
   {
    "duration": 152,
    "start_time": "2023-07-08T16:13:20.467Z"
   },
   {
    "duration": 299,
    "start_time": "2023-07-08T16:13:21.204Z"
   },
   {
    "duration": 177,
    "start_time": "2023-07-08T16:13:23.828Z"
   },
   {
    "duration": 195,
    "start_time": "2023-07-08T16:13:25.325Z"
   },
   {
    "duration": 5,
    "start_time": "2023-07-08T16:13:32.894Z"
   },
   {
    "duration": 4,
    "start_time": "2023-07-08T16:13:34.913Z"
   },
   {
    "duration": 4,
    "start_time": "2023-07-08T16:14:21.860Z"
   },
   {
    "duration": 7,
    "start_time": "2023-07-08T16:25:17.965Z"
   },
   {
    "duration": 11,
    "start_time": "2023-07-08T16:25:25.619Z"
   },
   {
    "duration": 10,
    "start_time": "2023-07-08T16:25:42.432Z"
   },
   {
    "duration": 103,
    "start_time": "2023-07-08T16:26:55.041Z"
   },
   {
    "duration": 275,
    "start_time": "2023-07-08T16:27:28.907Z"
   },
   {
    "duration": 16,
    "start_time": "2023-07-08T16:27:32.121Z"
   },
   {
    "duration": 12,
    "start_time": "2023-07-08T16:27:38.691Z"
   },
   {
    "duration": 113,
    "start_time": "2023-07-08T16:29:33.226Z"
   },
   {
    "duration": 6,
    "start_time": "2023-07-08T16:33:30.338Z"
   },
   {
    "duration": 19,
    "start_time": "2023-07-08T16:34:11.900Z"
   },
   {
    "duration": 11,
    "start_time": "2023-07-08T16:34:19.033Z"
   },
   {
    "duration": 20,
    "start_time": "2023-07-08T16:35:10.678Z"
   },
   {
    "duration": 59,
    "start_time": "2023-07-08T16:35:47.528Z"
   },
   {
    "duration": 17032,
    "start_time": "2023-07-08T16:35:50.575Z"
   },
   {
    "duration": 55628,
    "start_time": "2023-07-08T16:36:11.164Z"
   },
   {
    "duration": 3,
    "start_time": "2023-07-08T16:37:32.128Z"
   },
   {
    "duration": 1227929,
    "start_time": "2023-07-08T16:37:37.097Z"
   },
   {
    "duration": 0,
    "start_time": "2023-07-08T16:58:05.028Z"
   },
   {
    "duration": 0,
    "start_time": "2023-07-08T16:58:05.029Z"
   },
   {
    "duration": 5,
    "start_time": "2023-07-08T16:58:09.713Z"
   },
   {
    "duration": 50,
    "start_time": "2023-07-08T16:58:10.423Z"
   },
   {
    "duration": 14,
    "start_time": "2023-07-08T16:58:10.596Z"
   },
   {
    "duration": 5,
    "start_time": "2023-07-08T16:58:10.706Z"
   },
   {
    "duration": 7,
    "start_time": "2023-07-08T16:58:10.838Z"
   },
   {
    "duration": 168,
    "start_time": "2023-07-08T16:58:11.639Z"
   },
   {
    "duration": 255,
    "start_time": "2023-07-08T16:58:11.999Z"
   },
   {
    "duration": 211,
    "start_time": "2023-07-08T16:58:19.733Z"
   },
   {
    "duration": 28,
    "start_time": "2023-07-08T16:58:21.589Z"
   },
   {
    "duration": 5,
    "start_time": "2023-07-08T16:58:45.705Z"
   },
   {
    "duration": 214,
    "start_time": "2023-07-08T16:58:46.755Z"
   },
   {
    "duration": 9,
    "start_time": "2023-07-08T16:58:48.336Z"
   },
   {
    "duration": 296,
    "start_time": "2023-07-08T16:58:49.005Z"
   },
   {
    "duration": 225,
    "start_time": "2023-07-08T16:58:49.421Z"
   },
   {
    "duration": 250,
    "start_time": "2023-07-08T16:58:50.411Z"
   },
   {
    "duration": 166,
    "start_time": "2023-07-08T16:58:56.300Z"
   },
   {
    "duration": 232,
    "start_time": "2023-07-08T16:58:57.080Z"
   },
   {
    "duration": 183,
    "start_time": "2023-07-08T16:58:59.065Z"
   },
   {
    "duration": 3,
    "start_time": "2023-07-08T16:59:03.757Z"
   },
   {
    "duration": 8,
    "start_time": "2023-07-08T16:59:04.634Z"
   },
   {
    "duration": 9,
    "start_time": "2023-07-08T16:59:05.358Z"
   },
   {
    "duration": 9,
    "start_time": "2023-07-08T16:59:05.905Z"
   },
   {
    "duration": 6,
    "start_time": "2023-07-08T16:59:06.475Z"
   },
   {
    "duration": 21,
    "start_time": "2023-07-08T16:59:07.443Z"
   },
   {
    "duration": 18132,
    "start_time": "2023-07-08T16:59:09.349Z"
   },
   {
    "duration": 71619,
    "start_time": "2023-07-08T16:59:45.241Z"
   },
   {
    "duration": 4,
    "start_time": "2023-07-08T17:00:56.862Z"
   },
   {
    "duration": 123,
    "start_time": "2023-07-08T18:33:14.589Z"
   },
   {
    "duration": 124,
    "start_time": "2023-07-08T18:33:18.290Z"
   },
   {
    "duration": 126,
    "start_time": "2023-07-08T18:33:29.408Z"
   },
   {
    "duration": 128,
    "start_time": "2023-07-08T18:33:52.295Z"
   },
   {
    "duration": 137,
    "start_time": "2023-07-08T18:34:28.823Z"
   },
   {
    "duration": 3,
    "start_time": "2023-07-08T18:34:53.692Z"
   },
   {
    "duration": 1429,
    "start_time": "2023-07-08T18:36:42.292Z"
   },
   {
    "duration": 48,
    "start_time": "2023-07-08T18:36:43.723Z"
   },
   {
    "duration": 20,
    "start_time": "2023-07-08T18:36:43.772Z"
   },
   {
    "duration": 7,
    "start_time": "2023-07-08T18:36:43.793Z"
   },
   {
    "duration": 11,
    "start_time": "2023-07-08T18:36:43.801Z"
   },
   {
    "duration": 157,
    "start_time": "2023-07-08T18:36:43.814Z"
   },
   {
    "duration": 249,
    "start_time": "2023-07-08T18:36:43.973Z"
   },
   {
    "duration": 5,
    "start_time": "2023-07-08T18:36:44.224Z"
   },
   {
    "duration": 22,
    "start_time": "2023-07-08T18:36:44.230Z"
   },
   {
    "duration": 276,
    "start_time": "2023-07-08T18:36:44.253Z"
   },
   {
    "duration": 204,
    "start_time": "2023-07-08T18:36:44.531Z"
   },
   {
    "duration": 133,
    "start_time": "2023-07-08T18:36:44.737Z"
   },
   {
    "duration": 133,
    "start_time": "2023-07-08T18:36:44.872Z"
   },
   {
    "duration": 143,
    "start_time": "2023-07-08T18:36:45.008Z"
   },
   {
    "duration": 159,
    "start_time": "2023-07-08T18:36:45.153Z"
   },
   {
    "duration": 202,
    "start_time": "2023-07-08T18:36:45.314Z"
   },
   {
    "duration": 174,
    "start_time": "2023-07-08T18:36:45.517Z"
   },
   {
    "duration": 4,
    "start_time": "2023-07-08T18:36:45.693Z"
   },
   {
    "duration": 13,
    "start_time": "2023-07-08T18:36:45.699Z"
   },
   {
    "duration": 8,
    "start_time": "2023-07-08T18:36:45.714Z"
   },
   {
    "duration": 20,
    "start_time": "2023-07-08T18:36:45.723Z"
   },
   {
    "duration": 7,
    "start_time": "2023-07-08T18:36:45.744Z"
   },
   {
    "duration": 34,
    "start_time": "2023-07-08T18:36:45.752Z"
   },
   {
    "duration": 16513,
    "start_time": "2023-07-08T18:36:45.788Z"
   },
   {
    "duration": 50990,
    "start_time": "2023-07-08T18:37:02.302Z"
   },
   {
    "duration": 3,
    "start_time": "2023-07-08T18:37:53.294Z"
   },
   {
    "duration": 218692,
    "start_time": "2023-07-08T18:37:53.299Z"
   },
   {
    "duration": 3,
    "start_time": "2023-07-08T18:41:31.997Z"
   },
   {
    "duration": 74566,
    "start_time": "2023-07-08T18:46:11.894Z"
   },
   {
    "duration": 4,
    "start_time": "2023-07-08T18:55:58.927Z"
   },
   {
    "duration": 7,
    "start_time": "2023-07-08T19:03:04.782Z"
   },
   {
    "duration": 6,
    "start_time": "2023-07-08T19:03:09.444Z"
   },
   {
    "duration": 9,
    "start_time": "2023-07-08T19:03:09.819Z"
   },
   {
    "duration": 11,
    "start_time": "2023-07-08T19:03:10.359Z"
   },
   {
    "duration": 4,
    "start_time": "2023-07-08T19:03:10.932Z"
   },
   {
    "duration": 17503,
    "start_time": "2023-07-08T19:03:13.509Z"
   },
   {
    "duration": 82289,
    "start_time": "2023-07-08T19:03:34.387Z"
   },
   {
    "duration": 4,
    "start_time": "2023-07-08T19:05:39.719Z"
   },
   {
    "duration": 329374,
    "start_time": "2023-07-08T19:05:45.208Z"
   },
   {
    "duration": 495,
    "start_time": "2023-07-08T19:11:21.726Z"
   },
   {
    "duration": 4,
    "start_time": "2023-07-08T19:11:28.716Z"
   },
   {
    "duration": 46,
    "start_time": "2023-07-08T19:11:29.714Z"
   },
   {
    "duration": 9,
    "start_time": "2023-07-08T19:11:30.284Z"
   },
   {
    "duration": 3,
    "start_time": "2023-07-08T19:11:30.780Z"
   },
   {
    "duration": 7,
    "start_time": "2023-07-08T19:11:31.187Z"
   },
   {
    "duration": 212,
    "start_time": "2023-07-08T19:11:33.601Z"
   },
   {
    "duration": 275,
    "start_time": "2023-07-08T19:11:34.627Z"
   },
   {
    "duration": 289,
    "start_time": "2023-07-08T19:12:36.739Z"
   },
   {
    "duration": 4,
    "start_time": "2023-07-08T19:14:45.770Z"
   },
   {
    "duration": 6,
    "start_time": "2023-07-08T19:14:54.586Z"
   },
   {
    "duration": 48,
    "start_time": "2023-07-08T19:14:55.304Z"
   },
   {
    "duration": 6,
    "start_time": "2023-07-08T19:14:55.611Z"
   },
   {
    "duration": 3,
    "start_time": "2023-07-08T19:14:56.013Z"
   },
   {
    "duration": 8,
    "start_time": "2023-07-08T19:14:56.470Z"
   },
   {
    "duration": 132,
    "start_time": "2023-07-08T19:14:58.522Z"
   },
   {
    "duration": 303,
    "start_time": "2023-07-08T19:14:59.481Z"
   },
   {
    "duration": 4,
    "start_time": "2023-07-08T19:15:00.690Z"
   },
   {
    "duration": 4,
    "start_time": "2023-07-08T19:15:03.640Z"
   },
   {
    "duration": 338,
    "start_time": "2023-07-08T19:15:18.504Z"
   },
   {
    "duration": 90,
    "start_time": "2023-07-08T19:16:19.991Z"
   },
   {
    "duration": 114,
    "start_time": "2023-07-08T19:16:24.823Z"
   },
   {
    "duration": 4,
    "start_time": "2023-07-08T19:16:38.690Z"
   },
   {
    "duration": 10,
    "start_time": "2023-07-08T19:16:40.336Z"
   },
   {
    "duration": 10,
    "start_time": "2023-07-08T19:17:07.898Z"
   },
   {
    "duration": 202,
    "start_time": "2023-07-08T19:17:09.296Z"
   },
   {
    "duration": 1447,
    "start_time": "2023-07-08T19:17:15.996Z"
   },
   {
    "duration": 55,
    "start_time": "2023-07-08T19:17:17.445Z"
   },
   {
    "duration": 12,
    "start_time": "2023-07-08T19:17:17.501Z"
   },
   {
    "duration": 10,
    "start_time": "2023-07-08T19:17:17.515Z"
   },
   {
    "duration": 18,
    "start_time": "2023-07-08T19:17:17.527Z"
   },
   {
    "duration": 159,
    "start_time": "2023-07-08T19:17:17.546Z"
   },
   {
    "duration": 297,
    "start_time": "2023-07-08T19:17:17.707Z"
   },
   {
    "duration": 4,
    "start_time": "2023-07-08T19:17:18.005Z"
   },
   {
    "duration": 8,
    "start_time": "2023-07-08T19:17:18.010Z"
   },
   {
    "duration": 328,
    "start_time": "2023-07-08T19:17:18.020Z"
   },
   {
    "duration": 4,
    "start_time": "2023-07-08T19:17:18.350Z"
   },
   {
    "duration": 126,
    "start_time": "2023-07-08T19:17:18.355Z"
   },
   {
    "duration": 0,
    "start_time": "2023-07-08T19:17:18.484Z"
   },
   {
    "duration": 0,
    "start_time": "2023-07-08T19:17:18.485Z"
   },
   {
    "duration": 0,
    "start_time": "2023-07-08T19:17:18.487Z"
   },
   {
    "duration": 0,
    "start_time": "2023-07-08T19:17:18.488Z"
   },
   {
    "duration": 0,
    "start_time": "2023-07-08T19:17:18.490Z"
   },
   {
    "duration": 0,
    "start_time": "2023-07-08T19:17:18.491Z"
   },
   {
    "duration": 0,
    "start_time": "2023-07-08T19:17:18.493Z"
   },
   {
    "duration": 0,
    "start_time": "2023-07-08T19:17:18.494Z"
   },
   {
    "duration": 0,
    "start_time": "2023-07-08T19:17:18.495Z"
   },
   {
    "duration": 0,
    "start_time": "2023-07-08T19:17:18.496Z"
   },
   {
    "duration": 0,
    "start_time": "2023-07-08T19:17:18.497Z"
   },
   {
    "duration": 0,
    "start_time": "2023-07-08T19:17:18.498Z"
   },
   {
    "duration": 0,
    "start_time": "2023-07-08T19:17:18.499Z"
   },
   {
    "duration": 1,
    "start_time": "2023-07-08T19:17:18.499Z"
   },
   {
    "duration": 0,
    "start_time": "2023-07-08T19:17:18.501Z"
   },
   {
    "duration": 0,
    "start_time": "2023-07-08T19:17:18.501Z"
   },
   {
    "duration": 0,
    "start_time": "2023-07-08T19:17:18.502Z"
   },
   {
    "duration": 0,
    "start_time": "2023-07-08T19:17:18.503Z"
   },
   {
    "duration": 12,
    "start_time": "2023-07-08T19:17:31.502Z"
   },
   {
    "duration": 19,
    "start_time": "2023-07-08T19:18:01.799Z"
   },
   {
    "duration": 1592,
    "start_time": "2023-07-08T19:18:07.667Z"
   },
   {
    "duration": 49,
    "start_time": "2023-07-08T19:18:09.261Z"
   },
   {
    "duration": 10,
    "start_time": "2023-07-08T19:18:09.311Z"
   },
   {
    "duration": 5,
    "start_time": "2023-07-08T19:18:09.322Z"
   },
   {
    "duration": 9,
    "start_time": "2023-07-08T19:18:09.329Z"
   },
   {
    "duration": 144,
    "start_time": "2023-07-08T19:18:09.340Z"
   },
   {
    "duration": 294,
    "start_time": "2023-07-08T19:18:09.486Z"
   },
   {
    "duration": 4,
    "start_time": "2023-07-08T19:18:09.782Z"
   },
   {
    "duration": 11,
    "start_time": "2023-07-08T19:18:09.787Z"
   },
   {
    "duration": 8,
    "start_time": "2023-07-08T19:18:09.800Z"
   },
   {
    "duration": 328,
    "start_time": "2023-07-08T19:18:09.809Z"
   },
   {
    "duration": 4,
    "start_time": "2023-07-08T19:18:10.138Z"
   },
   {
    "duration": 135,
    "start_time": "2023-07-08T19:18:10.143Z"
   },
   {
    "duration": 0,
    "start_time": "2023-07-08T19:18:10.282Z"
   },
   {
    "duration": 0,
    "start_time": "2023-07-08T19:18:10.284Z"
   },
   {
    "duration": 0,
    "start_time": "2023-07-08T19:18:10.285Z"
   },
   {
    "duration": 0,
    "start_time": "2023-07-08T19:18:10.287Z"
   },
   {
    "duration": 0,
    "start_time": "2023-07-08T19:18:10.288Z"
   },
   {
    "duration": 0,
    "start_time": "2023-07-08T19:18:10.290Z"
   },
   {
    "duration": 0,
    "start_time": "2023-07-08T19:18:10.292Z"
   },
   {
    "duration": 0,
    "start_time": "2023-07-08T19:18:10.294Z"
   },
   {
    "duration": 0,
    "start_time": "2023-07-08T19:18:10.296Z"
   },
   {
    "duration": 0,
    "start_time": "2023-07-08T19:18:10.297Z"
   },
   {
    "duration": 0,
    "start_time": "2023-07-08T19:18:10.299Z"
   },
   {
    "duration": 0,
    "start_time": "2023-07-08T19:18:10.300Z"
   },
   {
    "duration": 0,
    "start_time": "2023-07-08T19:18:10.302Z"
   },
   {
    "duration": 0,
    "start_time": "2023-07-08T19:18:10.304Z"
   },
   {
    "duration": 0,
    "start_time": "2023-07-08T19:18:10.305Z"
   },
   {
    "duration": 0,
    "start_time": "2023-07-08T19:18:10.307Z"
   },
   {
    "duration": 0,
    "start_time": "2023-07-08T19:18:10.308Z"
   },
   {
    "duration": 0,
    "start_time": "2023-07-08T19:18:10.309Z"
   },
   {
    "duration": 1437,
    "start_time": "2023-07-08T19:20:38.168Z"
   },
   {
    "duration": 48,
    "start_time": "2023-07-08T19:20:39.607Z"
   },
   {
    "duration": 16,
    "start_time": "2023-07-08T19:20:39.657Z"
   },
   {
    "duration": 21,
    "start_time": "2023-07-08T19:20:39.679Z"
   },
   {
    "duration": 16,
    "start_time": "2023-07-08T19:20:39.701Z"
   },
   {
    "duration": 146,
    "start_time": "2023-07-08T19:20:39.718Z"
   },
   {
    "duration": 16,
    "start_time": "2023-07-08T19:20:39.866Z"
   },
   {
    "duration": 210,
    "start_time": "2023-07-08T19:20:39.884Z"
   },
   {
    "duration": 266,
    "start_time": "2023-07-08T19:20:40.096Z"
   },
   {
    "duration": 213,
    "start_time": "2023-07-08T19:20:40.365Z"
   },
   {
    "duration": 147,
    "start_time": "2023-07-08T19:20:40.581Z"
   },
   {
    "duration": 148,
    "start_time": "2023-07-08T19:20:40.730Z"
   },
   {
    "duration": 151,
    "start_time": "2023-07-08T19:20:40.881Z"
   },
   {
    "duration": 148,
    "start_time": "2023-07-08T19:20:41.033Z"
   },
   {
    "duration": 330,
    "start_time": "2023-07-08T19:20:41.185Z"
   },
   {
    "duration": 0,
    "start_time": "2023-07-08T19:20:41.516Z"
   },
   {
    "duration": 0,
    "start_time": "2023-07-08T19:20:41.518Z"
   },
   {
    "duration": 0,
    "start_time": "2023-07-08T19:20:41.519Z"
   },
   {
    "duration": 0,
    "start_time": "2023-07-08T19:20:41.520Z"
   },
   {
    "duration": 0,
    "start_time": "2023-07-08T19:20:41.521Z"
   },
   {
    "duration": 0,
    "start_time": "2023-07-08T19:20:41.523Z"
   },
   {
    "duration": 0,
    "start_time": "2023-07-08T19:20:41.523Z"
   },
   {
    "duration": 0,
    "start_time": "2023-07-08T19:20:41.524Z"
   },
   {
    "duration": 0,
    "start_time": "2023-07-08T19:20:41.525Z"
   },
   {
    "duration": 0,
    "start_time": "2023-07-08T19:20:41.527Z"
   },
   {
    "duration": 0,
    "start_time": "2023-07-08T19:20:41.527Z"
   },
   {
    "duration": 0,
    "start_time": "2023-07-08T19:20:41.528Z"
   },
   {
    "duration": 0,
    "start_time": "2023-07-08T19:20:41.529Z"
   },
   {
    "duration": 0,
    "start_time": "2023-07-08T19:20:41.530Z"
   },
   {
    "duration": 0,
    "start_time": "2023-07-08T19:20:41.531Z"
   },
   {
    "duration": 0,
    "start_time": "2023-07-08T19:20:41.532Z"
   },
   {
    "duration": 198,
    "start_time": "2023-07-08T19:21:04.741Z"
   },
   {
    "duration": 222,
    "start_time": "2023-07-08T19:21:06.000Z"
   },
   {
    "duration": 150,
    "start_time": "2023-07-08T19:21:13.488Z"
   },
   {
    "duration": 256,
    "start_time": "2023-07-08T19:21:15.219Z"
   },
   {
    "duration": 270,
    "start_time": "2023-07-08T19:23:41.583Z"
   },
   {
    "duration": 4,
    "start_time": "2023-07-08T19:23:43.498Z"
   },
   {
    "duration": 3,
    "start_time": "2023-07-08T19:23:44.322Z"
   },
   {
    "duration": 4,
    "start_time": "2023-07-08T19:23:45.133Z"
   },
   {
    "duration": 262,
    "start_time": "2023-07-08T19:23:48.115Z"
   },
   {
    "duration": 4,
    "start_time": "2023-07-08T19:23:50.933Z"
   },
   {
    "duration": 4,
    "start_time": "2023-07-08T19:23:55.620Z"
   },
   {
    "duration": 11,
    "start_time": "2023-07-08T19:23:56.324Z"
   },
   {
    "duration": 9,
    "start_time": "2023-07-08T19:23:57.258Z"
   },
   {
    "duration": 5,
    "start_time": "2023-07-08T19:24:04.504Z"
   },
   {
    "duration": 6,
    "start_time": "2023-07-08T19:24:08.730Z"
   },
   {
    "duration": 8,
    "start_time": "2023-07-08T19:24:09.689Z"
   },
   {
    "duration": 4,
    "start_time": "2023-07-08T19:24:09.971Z"
   },
   {
    "duration": 18400,
    "start_time": "2023-07-08T19:24:12.109Z"
   },
   {
    "duration": 76124,
    "start_time": "2023-07-08T19:24:33.527Z"
   },
   {
    "duration": 4,
    "start_time": "2023-07-08T19:25:49.653Z"
   },
   {
    "duration": 18519,
    "start_time": "2023-07-08T19:25:49.658Z"
   },
   {
    "duration": 3,
    "start_time": "2023-07-08T19:26:08.179Z"
   },
   {
    "duration": 68,
    "start_time": "2023-07-08T19:28:45.976Z"
   },
   {
    "duration": 1057,
    "start_time": "2023-07-08T19:29:11.374Z"
   },
   {
    "duration": 5,
    "start_time": "2023-07-08T19:29:17.672Z"
   },
   {
    "duration": 4,
    "start_time": "2023-07-08T19:29:19.684Z"
   },
   {
    "duration": 4,
    "start_time": "2023-07-08T19:29:38.962Z"
   },
   {
    "duration": 7,
    "start_time": "2023-07-08T19:29:39.584Z"
   },
   {
    "duration": 10,
    "start_time": "2023-07-08T19:29:40.429Z"
   },
   {
    "duration": 6,
    "start_time": "2023-07-08T19:29:41.062Z"
   },
   {
    "duration": 18360,
    "start_time": "2023-07-08T19:29:42.922Z"
   },
   {
    "duration": 112574,
    "start_time": "2023-07-08T19:30:01.284Z"
   },
   {
    "duration": 3,
    "start_time": "2023-07-08T19:31:53.860Z"
   },
   {
    "duration": 25912,
    "start_time": "2023-07-08T19:31:53.864Z"
   },
   {
    "duration": 3,
    "start_time": "2023-07-08T19:32:19.778Z"
   },
   {
    "duration": 1691,
    "start_time": "2023-07-08T19:32:25.705Z"
   },
   {
    "duration": 5,
    "start_time": "2023-07-08T19:32:27.658Z"
   },
   {
    "duration": 3,
    "start_time": "2023-07-08T19:32:28.734Z"
   },
   {
    "duration": 17606,
    "start_time": "2023-07-08T19:32:48.369Z"
   },
   {
    "duration": 4,
    "start_time": "2023-07-08T19:33:05.977Z"
   },
   {
    "duration": 4,
    "start_time": "2023-07-08T19:33:43.358Z"
   },
   {
    "duration": 7,
    "start_time": "2023-07-08T19:33:43.888Z"
   },
   {
    "duration": 8,
    "start_time": "2023-07-08T19:33:44.369Z"
   },
   {
    "duration": 7,
    "start_time": "2023-07-08T19:33:45.006Z"
   },
   {
    "duration": 18762,
    "start_time": "2023-07-08T19:33:47.189Z"
   },
   {
    "duration": 81570,
    "start_time": "2023-07-08T19:34:08.527Z"
   },
   {
    "duration": 3,
    "start_time": "2023-07-08T19:35:30.099Z"
   },
   {
    "duration": 19078,
    "start_time": "2023-07-08T19:35:30.104Z"
   },
   {
    "duration": 3,
    "start_time": "2023-07-08T19:35:49.184Z"
   },
   {
    "duration": 931,
    "start_time": "2023-07-08T19:35:55.261Z"
   },
   {
    "duration": 5,
    "start_time": "2023-07-08T19:35:56.572Z"
   },
   {
    "duration": 4,
    "start_time": "2023-07-08T19:35:57.773Z"
   },
   {
    "duration": 5,
    "start_time": "2023-07-08T19:37:34.886Z"
   },
   {
    "duration": 7,
    "start_time": "2023-07-08T19:37:35.338Z"
   },
   {
    "duration": 10,
    "start_time": "2023-07-08T19:37:35.973Z"
   },
   {
    "duration": 5,
    "start_time": "2023-07-08T19:37:36.685Z"
   },
   {
    "duration": 17077,
    "start_time": "2023-07-08T19:37:38.262Z"
   },
   {
    "duration": 71834,
    "start_time": "2023-07-08T19:38:05.823Z"
   },
   {
    "duration": 3,
    "start_time": "2023-07-08T19:39:17.659Z"
   },
   {
    "duration": 18117,
    "start_time": "2023-07-08T19:39:17.663Z"
   },
   {
    "duration": 3,
    "start_time": "2023-07-08T19:39:35.782Z"
   },
   {
    "duration": 1094,
    "start_time": "2023-07-08T19:39:44.547Z"
   },
   {
    "duration": 5,
    "start_time": "2023-07-08T19:39:45.643Z"
   },
   {
    "duration": 4,
    "start_time": "2023-07-08T19:39:46.392Z"
   },
   {
    "duration": 1952,
    "start_time": "2023-07-08T19:40:01.991Z"
   },
   {
    "duration": 4,
    "start_time": "2023-07-08T19:40:04.202Z"
   },
   {
    "duration": 4,
    "start_time": "2023-07-08T19:40:04.731Z"
   },
   {
    "duration": 3,
    "start_time": "2023-07-08T19:40:52.310Z"
   },
   {
    "duration": 19,
    "start_time": "2023-07-08T19:40:52.611Z"
   },
   {
    "duration": 10,
    "start_time": "2023-07-08T19:40:53.141Z"
   },
   {
    "duration": 6,
    "start_time": "2023-07-08T19:40:53.523Z"
   },
   {
    "duration": 53172,
    "start_time": "2023-07-08T19:40:55.262Z"
   },
   {
    "duration": 123122,
    "start_time": "2023-07-08T19:41:50.755Z"
   },
   {
    "duration": 5,
    "start_time": "2023-07-08T19:43:53.880Z"
   },
   {
    "duration": 30903,
    "start_time": "2023-07-08T19:43:53.886Z"
   },
   {
    "duration": 85,
    "start_time": "2023-07-08T19:44:24.790Z"
   },
   {
    "duration": 429,
    "start_time": "2023-07-08T19:45:14.862Z"
   },
   {
    "duration": 7,
    "start_time": "2023-07-08T19:45:16.762Z"
   },
   {
    "duration": 4,
    "start_time": "2023-07-08T19:45:17.784Z"
   },
   {
    "duration": 514,
    "start_time": "2023-07-08T19:45:51.065Z"
   },
   {
    "duration": 8,
    "start_time": "2023-07-08T19:45:52.492Z"
   },
   {
    "duration": 4,
    "start_time": "2023-07-08T19:45:55.866Z"
   },
   {
    "duration": 438,
    "start_time": "2023-07-08T19:54:05.139Z"
   },
   {
    "duration": 415,
    "start_time": "2023-07-08T19:54:12.867Z"
   },
   {
    "duration": 13,
    "start_time": "2023-07-08T19:54:15.220Z"
   },
   {
    "duration": 4,
    "start_time": "2023-07-08T19:54:15.923Z"
   },
   {
    "duration": 2292,
    "start_time": "2023-07-08T20:45:23.997Z"
   },
   {
    "duration": 65,
    "start_time": "2023-07-08T20:45:26.291Z"
   },
   {
    "duration": 9,
    "start_time": "2023-07-08T20:45:26.358Z"
   },
   {
    "duration": 14,
    "start_time": "2023-07-08T20:45:26.369Z"
   },
   {
    "duration": 15,
    "start_time": "2023-07-08T20:45:26.384Z"
   },
   {
    "duration": 28,
    "start_time": "2023-07-08T20:45:26.401Z"
   },
   {
    "duration": 248,
    "start_time": "2023-07-08T20:45:26.432Z"
   },
   {
    "duration": 222,
    "start_time": "2023-07-08T20:45:26.682Z"
   },
   {
    "duration": 333,
    "start_time": "2023-07-08T20:45:26.912Z"
   },
   {
    "duration": 184,
    "start_time": "2023-07-08T20:45:27.248Z"
   },
   {
    "duration": 158,
    "start_time": "2023-07-08T20:45:27.441Z"
   },
   {
    "duration": 185,
    "start_time": "2023-07-08T20:45:27.601Z"
   },
   {
    "duration": 172,
    "start_time": "2023-07-08T20:45:27.788Z"
   },
   {
    "duration": 264,
    "start_time": "2023-07-08T20:45:27.962Z"
   },
   {
    "duration": 202,
    "start_time": "2023-07-08T20:45:28.228Z"
   },
   {
    "duration": 409,
    "start_time": "2023-07-08T20:45:28.436Z"
   },
   {
    "duration": 5,
    "start_time": "2023-07-08T20:45:28.846Z"
   },
   {
    "duration": 26,
    "start_time": "2023-07-08T20:45:28.852Z"
   },
   {
    "duration": 25,
    "start_time": "2023-07-08T20:45:28.879Z"
   },
   {
    "duration": 342,
    "start_time": "2023-07-08T20:45:28.906Z"
   },
   {
    "duration": 5,
    "start_time": "2023-07-08T20:45:29.251Z"
   },
   {
    "duration": 7991,
    "start_time": "2023-07-08T20:45:29.257Z"
   },
   {
    "duration": 377,
    "start_time": "2023-07-08T20:49:58.502Z"
   },
   {
    "duration": 1537,
    "start_time": "2023-07-08T21:49:57.372Z"
   },
   {
    "duration": 190,
    "start_time": "2023-07-08T21:50:00.408Z"
   },
   {
    "duration": 10,
    "start_time": "2023-07-08T21:50:01.550Z"
   },
   {
    "duration": 3,
    "start_time": "2023-07-08T21:50:02.075Z"
   },
   {
    "duration": 12,
    "start_time": "2023-07-08T21:50:02.585Z"
   },
   {
    "duration": 7,
    "start_time": "2023-07-08T21:50:06.693Z"
   },
   {
    "duration": 206,
    "start_time": "2023-07-08T21:50:07.428Z"
   },
   {
    "duration": 211,
    "start_time": "2023-07-08T21:50:08.490Z"
   },
   {
    "duration": 189,
    "start_time": "2023-07-08T21:50:09.001Z"
   },
   {
    "duration": 128,
    "start_time": "2023-07-08T21:50:09.757Z"
   },
   {
    "duration": 120,
    "start_time": "2023-07-08T21:50:10.427Z"
   },
   {
    "duration": 124,
    "start_time": "2023-07-08T21:50:11.021Z"
   },
   {
    "duration": 118,
    "start_time": "2023-07-08T21:50:11.914Z"
   },
   {
    "duration": 178,
    "start_time": "2023-07-08T21:50:14.983Z"
   },
   {
    "duration": 146,
    "start_time": "2023-07-08T21:50:27.622Z"
   },
   {
    "duration": 338,
    "start_time": "2023-07-08T21:50:28.960Z"
   },
   {
    "duration": 6,
    "start_time": "2023-07-08T21:53:52.154Z"
   },
   {
    "duration": 117,
    "start_time": "2023-07-08T21:54:39.202Z"
   },
   {
    "duration": 4,
    "start_time": "2023-07-08T21:54:48.424Z"
   },
   {
    "duration": 52,
    "start_time": "2023-07-08T21:54:49.150Z"
   },
   {
    "duration": 6,
    "start_time": "2023-07-08T21:54:49.459Z"
   },
   {
    "duration": 4,
    "start_time": "2023-07-08T21:54:49.610Z"
   },
   {
    "duration": 8,
    "start_time": "2023-07-08T21:54:49.750Z"
   },
   {
    "duration": 6,
    "start_time": "2023-07-08T21:54:49.912Z"
   },
   {
    "duration": 12,
    "start_time": "2023-07-08T21:54:50.839Z"
   },
   {
    "duration": 211,
    "start_time": "2023-07-08T21:54:50.983Z"
   },
   {
    "duration": 161,
    "start_time": "2023-07-08T21:54:51.195Z"
   },
   {
    "duration": 209,
    "start_time": "2023-07-08T21:54:51.357Z"
   },
   {
    "duration": 138,
    "start_time": "2023-07-08T21:54:51.568Z"
   },
   {
    "duration": 119,
    "start_time": "2023-07-08T21:54:52.088Z"
   },
   {
    "duration": 183,
    "start_time": "2023-07-08T21:54:52.504Z"
   },
   {
    "duration": 125,
    "start_time": "2023-07-08T21:54:53.490Z"
   },
   {
    "duration": 9,
    "start_time": "2023-07-08T21:54:55.692Z"
   },
   {
    "duration": 3,
    "start_time": "2023-07-08T21:56:08.862Z"
   },
   {
    "duration": 44,
    "start_time": "2023-07-08T21:56:09.286Z"
   },
   {
    "duration": 6,
    "start_time": "2023-07-08T21:56:09.574Z"
   },
   {
    "duration": 3,
    "start_time": "2023-07-08T21:56:10.203Z"
   },
   {
    "duration": 6,
    "start_time": "2023-07-08T21:56:10.767Z"
   },
   {
    "duration": 6,
    "start_time": "2023-07-08T21:56:11.470Z"
   },
   {
    "duration": 6,
    "start_time": "2023-07-08T21:56:39.320Z"
   },
   {
    "duration": 9,
    "start_time": "2023-07-08T21:57:13.963Z"
   },
   {
    "duration": 8,
    "start_time": "2023-07-08T21:57:20.326Z"
   },
   {
    "duration": 180,
    "start_time": "2023-07-08T21:57:42.959Z"
   },
   {
    "duration": 183,
    "start_time": "2023-07-08T21:59:00.361Z"
   },
   {
    "duration": 230,
    "start_time": "2023-07-08T21:59:17.969Z"
   },
   {
    "duration": 277,
    "start_time": "2023-07-08T21:59:25.370Z"
   },
   {
    "duration": 1481,
    "start_time": "2023-07-08T22:09:10.797Z"
   },
   {
    "duration": 47,
    "start_time": "2023-07-08T22:09:12.280Z"
   },
   {
    "duration": 9,
    "start_time": "2023-07-08T22:09:12.329Z"
   },
   {
    "duration": 2,
    "start_time": "2023-07-08T22:09:12.341Z"
   },
   {
    "duration": 16,
    "start_time": "2023-07-08T22:09:12.345Z"
   },
   {
    "duration": 6,
    "start_time": "2023-07-08T22:09:12.363Z"
   },
   {
    "duration": 6,
    "start_time": "2023-07-08T22:09:12.370Z"
   },
   {
    "duration": 225,
    "start_time": "2023-07-08T22:09:12.378Z"
   },
   {
    "duration": 176,
    "start_time": "2023-07-08T22:09:12.605Z"
   },
   {
    "duration": 285,
    "start_time": "2023-07-08T22:09:12.784Z"
   },
   {
    "duration": 156,
    "start_time": "2023-07-08T22:09:13.071Z"
   },
   {
    "duration": 140,
    "start_time": "2023-07-08T22:09:13.228Z"
   },
   {
    "duration": 153,
    "start_time": "2023-07-08T22:09:13.370Z"
   },
   {
    "duration": 144,
    "start_time": "2023-07-08T22:09:13.525Z"
   },
   {
    "duration": 5,
    "start_time": "2023-07-08T22:09:13.671Z"
   },
   {
    "duration": 344,
    "start_time": "2023-07-08T22:09:13.678Z"
   },
   {
    "duration": 198,
    "start_time": "2023-07-08T22:09:14.024Z"
   },
   {
    "duration": 176,
    "start_time": "2023-07-08T22:09:14.224Z"
   },
   {
    "duration": 3,
    "start_time": "2023-07-08T22:09:14.402Z"
   },
   {
    "duration": 11,
    "start_time": "2023-07-08T22:09:14.407Z"
   },
   {
    "duration": 11,
    "start_time": "2023-07-08T22:09:14.419Z"
   },
   {
    "duration": 4,
    "start_time": "2023-07-08T22:09:14.431Z"
   },
   {
    "duration": 5,
    "start_time": "2023-07-08T22:09:14.436Z"
   },
   {
    "duration": 8,
    "start_time": "2023-07-08T22:09:14.442Z"
   },
   {
    "duration": 1555,
    "start_time": "2023-07-08T22:09:14.451Z"
   },
   {
    "duration": 4,
    "start_time": "2023-07-08T22:09:16.008Z"
   },
   {
    "duration": 223,
    "start_time": "2023-07-08T22:09:16.014Z"
   },
   {
    "duration": 379,
    "start_time": "2023-07-08T22:09:16.240Z"
   },
   {
    "duration": 6,
    "start_time": "2023-07-08T22:09:16.620Z"
   },
   {
    "duration": 20,
    "start_time": "2023-07-08T22:09:16.627Z"
   },
   {
    "duration": 150,
    "start_time": "2023-07-08T22:09:16.648Z"
   },
   {
    "duration": 0,
    "start_time": "2023-07-08T22:09:16.800Z"
   },
   {
    "duration": 0,
    "start_time": "2023-07-08T22:09:16.801Z"
   },
   {
    "duration": 0,
    "start_time": "2023-07-08T22:09:16.802Z"
   },
   {
    "duration": 0,
    "start_time": "2023-07-08T22:09:16.803Z"
   },
   {
    "duration": 0,
    "start_time": "2023-07-08T22:09:16.804Z"
   },
   {
    "duration": 0,
    "start_time": "2023-07-08T22:09:16.805Z"
   },
   {
    "duration": 0,
    "start_time": "2023-07-08T22:09:16.806Z"
   },
   {
    "duration": 0,
    "start_time": "2023-07-08T22:09:16.807Z"
   },
   {
    "duration": 1406,
    "start_time": "2023-07-08T22:09:59.889Z"
   },
   {
    "duration": 49,
    "start_time": "2023-07-08T22:10:01.297Z"
   },
   {
    "duration": 9,
    "start_time": "2023-07-08T22:10:01.348Z"
   },
   {
    "duration": 21,
    "start_time": "2023-07-08T22:10:01.359Z"
   },
   {
    "duration": 46,
    "start_time": "2023-07-08T22:10:01.381Z"
   },
   {
    "duration": 28,
    "start_time": "2023-07-08T22:10:01.429Z"
   },
   {
    "duration": 35,
    "start_time": "2023-07-08T22:10:01.458Z"
   },
   {
    "duration": 236,
    "start_time": "2023-07-08T22:10:01.495Z"
   },
   {
    "duration": 185,
    "start_time": "2023-07-08T22:10:01.732Z"
   },
   {
    "duration": 282,
    "start_time": "2023-07-08T22:10:01.919Z"
   },
   {
    "duration": 141,
    "start_time": "2023-07-08T22:10:02.202Z"
   },
   {
    "duration": 155,
    "start_time": "2023-07-08T22:10:02.345Z"
   },
   {
    "duration": 157,
    "start_time": "2023-07-08T22:10:02.502Z"
   },
   {
    "duration": 160,
    "start_time": "2023-07-08T22:10:02.661Z"
   },
   {
    "duration": 6,
    "start_time": "2023-07-08T22:10:02.822Z"
   },
   {
    "duration": 321,
    "start_time": "2023-07-08T22:10:02.829Z"
   },
   {
    "duration": 193,
    "start_time": "2023-07-08T22:10:03.152Z"
   },
   {
    "duration": 178,
    "start_time": "2023-07-08T22:10:03.346Z"
   },
   {
    "duration": 3,
    "start_time": "2023-07-08T22:10:03.526Z"
   },
   {
    "duration": 14,
    "start_time": "2023-07-08T22:10:03.531Z"
   },
   {
    "duration": 10,
    "start_time": "2023-07-08T22:10:03.546Z"
   },
   {
    "duration": 5,
    "start_time": "2023-07-08T22:10:03.558Z"
   },
   {
    "duration": 9,
    "start_time": "2023-07-08T22:10:03.564Z"
   },
   {
    "duration": 23,
    "start_time": "2023-07-08T22:10:03.574Z"
   },
   {
    "duration": 1509,
    "start_time": "2023-07-08T22:10:03.599Z"
   },
   {
    "duration": 5,
    "start_time": "2023-07-08T22:10:05.200Z"
   },
   {
    "duration": 211,
    "start_time": "2023-07-08T22:10:05.207Z"
   },
   {
    "duration": 418,
    "start_time": "2023-07-08T22:10:05.421Z"
   },
   {
    "duration": 7,
    "start_time": "2023-07-08T22:10:05.841Z"
   },
   {
    "duration": 17,
    "start_time": "2023-07-08T22:10:05.849Z"
   },
   {
    "duration": 196,
    "start_time": "2023-07-08T22:10:05.867Z"
   },
   {
    "duration": 0,
    "start_time": "2023-07-08T22:10:06.065Z"
   },
   {
    "duration": 0,
    "start_time": "2023-07-08T22:10:06.067Z"
   },
   {
    "duration": 0,
    "start_time": "2023-07-08T22:10:06.068Z"
   },
   {
    "duration": 0,
    "start_time": "2023-07-08T22:10:06.069Z"
   },
   {
    "duration": 0,
    "start_time": "2023-07-08T22:10:06.070Z"
   },
   {
    "duration": 0,
    "start_time": "2023-07-08T22:10:06.071Z"
   },
   {
    "duration": 0,
    "start_time": "2023-07-08T22:10:06.073Z"
   },
   {
    "duration": 0,
    "start_time": "2023-07-08T22:10:06.074Z"
   },
   {
    "duration": 21,
    "start_time": "2023-07-08T22:10:17.809Z"
   },
   {
    "duration": 11,
    "start_time": "2023-07-08T22:10:29.428Z"
   },
   {
    "duration": 259,
    "start_time": "2023-07-08T22:10:41.163Z"
   },
   {
    "duration": 10,
    "start_time": "2023-07-08T22:10:57.902Z"
   },
   {
    "duration": 1415,
    "start_time": "2023-07-08T22:11:41.987Z"
   },
   {
    "duration": 47,
    "start_time": "2023-07-08T22:11:43.404Z"
   },
   {
    "duration": 9,
    "start_time": "2023-07-08T22:11:43.453Z"
   },
   {
    "duration": 10,
    "start_time": "2023-07-08T22:11:43.465Z"
   },
   {
    "duration": 10,
    "start_time": "2023-07-08T22:11:43.476Z"
   },
   {
    "duration": 6,
    "start_time": "2023-07-08T22:11:43.487Z"
   },
   {
    "duration": 11,
    "start_time": "2023-07-08T22:11:43.494Z"
   },
   {
    "duration": 215,
    "start_time": "2023-07-08T22:11:43.507Z"
   },
   {
    "duration": 176,
    "start_time": "2023-07-08T22:11:43.724Z"
   },
   {
    "duration": 287,
    "start_time": "2023-07-08T22:11:43.902Z"
   },
   {
    "duration": 137,
    "start_time": "2023-07-08T22:11:44.190Z"
   },
   {
    "duration": 130,
    "start_time": "2023-07-08T22:11:44.330Z"
   },
   {
    "duration": 134,
    "start_time": "2023-07-08T22:11:44.461Z"
   },
   {
    "duration": 130,
    "start_time": "2023-07-08T22:11:44.597Z"
   },
   {
    "duration": 5,
    "start_time": "2023-07-08T22:11:44.728Z"
   },
   {
    "duration": 320,
    "start_time": "2023-07-08T22:11:44.734Z"
   },
   {
    "duration": 200,
    "start_time": "2023-07-08T22:11:45.055Z"
   },
   {
    "duration": 176,
    "start_time": "2023-07-08T22:11:45.257Z"
   },
   {
    "duration": 2,
    "start_time": "2023-07-08T22:11:45.435Z"
   },
   {
    "duration": 3,
    "start_time": "2023-07-08T22:11:45.439Z"
   },
   {
    "duration": 5,
    "start_time": "2023-07-08T22:11:45.444Z"
   },
   {
    "duration": 4,
    "start_time": "2023-07-08T22:11:45.451Z"
   },
   {
    "duration": 4,
    "start_time": "2023-07-08T22:11:45.456Z"
   },
   {
    "duration": 3,
    "start_time": "2023-07-08T22:11:45.462Z"
   },
   {
    "duration": 1543,
    "start_time": "2023-07-08T22:11:45.466Z"
   },
   {
    "duration": 5,
    "start_time": "2023-07-08T22:11:47.100Z"
   },
   {
    "duration": 187,
    "start_time": "2023-07-08T22:11:47.106Z"
   },
   {
    "duration": 382,
    "start_time": "2023-07-08T22:11:47.296Z"
   },
   {
    "duration": 32,
    "start_time": "2023-07-08T22:11:47.680Z"
   },
   {
    "duration": 6,
    "start_time": "2023-07-08T22:11:47.714Z"
   },
   {
    "duration": 782,
    "start_time": "2023-07-08T22:11:47.721Z"
   },
   {
    "duration": 104930,
    "start_time": "2023-07-08T22:11:48.504Z"
   },
   {
    "duration": 0,
    "start_time": "2023-07-08T22:13:33.436Z"
   },
   {
    "duration": 0,
    "start_time": "2023-07-08T22:13:33.437Z"
   },
   {
    "duration": 0,
    "start_time": "2023-07-08T22:13:33.438Z"
   },
   {
    "duration": 0,
    "start_time": "2023-07-08T22:13:33.439Z"
   },
   {
    "duration": 0,
    "start_time": "2023-07-08T22:13:33.440Z"
   },
   {
    "duration": 0,
    "start_time": "2023-07-08T22:13:33.441Z"
   },
   {
    "duration": 0,
    "start_time": "2023-07-08T22:13:33.442Z"
   },
   {
    "duration": 268960,
    "start_time": "2023-07-08T22:13:36.432Z"
   },
   {
    "duration": 1356,
    "start_time": "2023-07-08T22:22:31.743Z"
   },
   {
    "duration": 48,
    "start_time": "2023-07-08T22:22:33.101Z"
   },
   {
    "duration": 9,
    "start_time": "2023-07-08T22:22:33.150Z"
   },
   {
    "duration": 10,
    "start_time": "2023-07-08T22:22:33.160Z"
   },
   {
    "duration": 9,
    "start_time": "2023-07-08T22:22:33.172Z"
   },
   {
    "duration": 6,
    "start_time": "2023-07-08T22:22:33.182Z"
   },
   {
    "duration": 8,
    "start_time": "2023-07-08T22:22:33.190Z"
   },
   {
    "duration": 212,
    "start_time": "2023-07-08T22:22:33.199Z"
   },
   {
    "duration": 170,
    "start_time": "2023-07-08T22:22:33.412Z"
   },
   {
    "duration": 266,
    "start_time": "2023-07-08T22:22:33.583Z"
   },
   {
    "duration": 138,
    "start_time": "2023-07-08T22:22:33.851Z"
   },
   {
    "duration": 130,
    "start_time": "2023-07-08T22:22:33.990Z"
   },
   {
    "duration": 133,
    "start_time": "2023-07-08T22:22:34.121Z"
   },
   {
    "duration": 128,
    "start_time": "2023-07-08T22:22:34.257Z"
   },
   {
    "duration": 5,
    "start_time": "2023-07-08T22:22:34.386Z"
   },
   {
    "duration": 318,
    "start_time": "2023-07-08T22:22:34.392Z"
   },
   {
    "duration": 182,
    "start_time": "2023-07-08T22:22:34.712Z"
   },
   {
    "duration": 157,
    "start_time": "2023-07-08T22:22:34.896Z"
   },
   {
    "duration": 2,
    "start_time": "2023-07-08T22:22:35.054Z"
   },
   {
    "duration": 6,
    "start_time": "2023-07-08T22:22:35.057Z"
   },
   {
    "duration": 7,
    "start_time": "2023-07-08T22:22:35.064Z"
   },
   {
    "duration": 6,
    "start_time": "2023-07-08T22:22:35.072Z"
   },
   {
    "duration": 5,
    "start_time": "2023-07-08T22:22:35.079Z"
   },
   {
    "duration": 17,
    "start_time": "2023-07-08T22:22:35.085Z"
   },
   {
    "duration": 1603,
    "start_time": "2023-07-08T22:22:35.104Z"
   },
   {
    "duration": 5,
    "start_time": "2023-07-08T22:22:36.799Z"
   },
   {
    "duration": 190,
    "start_time": "2023-07-08T22:22:36.805Z"
   },
   {
    "duration": 384,
    "start_time": "2023-07-08T22:22:36.997Z"
   },
   {
    "duration": 30,
    "start_time": "2023-07-08T22:22:37.382Z"
   },
   {
    "duration": 5,
    "start_time": "2023-07-08T22:22:37.413Z"
   },
   {
    "duration": 881,
    "start_time": "2023-07-08T22:22:37.420Z"
   },
   {
    "duration": 271568,
    "start_time": "2023-07-08T22:22:38.303Z"
   },
   {
    "duration": 340174,
    "start_time": "2023-07-08T22:27:09.872Z"
   },
   {
    "duration": 4,
    "start_time": "2023-07-08T22:32:50.048Z"
   },
   {
    "duration": 125,
    "start_time": "2023-07-08T22:32:50.054Z"
   },
   {
    "duration": 0,
    "start_time": "2023-07-08T22:32:50.180Z"
   },
   {
    "duration": 0,
    "start_time": "2023-07-08T22:32:50.181Z"
   },
   {
    "duration": 0,
    "start_time": "2023-07-08T22:32:50.182Z"
   },
   {
    "duration": 0,
    "start_time": "2023-07-08T22:32:50.183Z"
   },
   {
    "duration": 74237,
    "start_time": "2023-07-08T22:33:20.367Z"
   },
   {
    "duration": 3,
    "start_time": "2023-07-08T22:34:41.388Z"
   },
   {
    "duration": 108,
    "start_time": "2023-07-08T22:35:25.196Z"
   },
   {
    "duration": 95,
    "start_time": "2023-07-08T22:35:31.416Z"
   },
   {
    "duration": 5,
    "start_time": "2023-07-08T22:35:32.267Z"
   },
   {
    "duration": 4,
    "start_time": "2023-07-08T22:35:33.500Z"
   },
   {
    "duration": 574,
    "start_time": "2023-07-08T22:36:44.939Z"
   },
   {
    "duration": 740,
    "start_time": "2023-07-08T22:36:49.363Z"
   },
   {
    "duration": 865,
    "start_time": "2023-07-08T22:37:01.435Z"
   },
   {
    "duration": 3,
    "start_time": "2023-07-08T22:38:01.776Z"
   },
   {
    "duration": 1379,
    "start_time": "2023-07-08T22:45:44.250Z"
   },
   {
    "duration": 50,
    "start_time": "2023-07-08T22:45:45.631Z"
   },
   {
    "duration": 10,
    "start_time": "2023-07-08T22:45:45.682Z"
   },
   {
    "duration": 5,
    "start_time": "2023-07-08T22:45:45.693Z"
   },
   {
    "duration": 12,
    "start_time": "2023-07-08T22:45:45.700Z"
   },
   {
    "duration": 5,
    "start_time": "2023-07-08T22:45:45.713Z"
   },
   {
    "duration": 28,
    "start_time": "2023-07-08T22:45:45.720Z"
   },
   {
    "duration": 214,
    "start_time": "2023-07-08T22:45:45.749Z"
   },
   {
    "duration": 222,
    "start_time": "2023-07-08T22:45:45.965Z"
   },
   {
    "duration": 305,
    "start_time": "2023-07-08T22:45:46.189Z"
   },
   {
    "duration": 154,
    "start_time": "2023-07-08T22:45:46.496Z"
   },
   {
    "duration": 152,
    "start_time": "2023-07-08T22:45:46.652Z"
   },
   {
    "duration": 149,
    "start_time": "2023-07-08T22:45:46.806Z"
   },
   {
    "duration": 153,
    "start_time": "2023-07-08T22:45:46.960Z"
   },
   {
    "duration": 6,
    "start_time": "2023-07-08T22:45:47.115Z"
   },
   {
    "duration": 351,
    "start_time": "2023-07-08T22:45:47.123Z"
   },
   {
    "duration": 205,
    "start_time": "2023-07-08T22:45:47.476Z"
   },
   {
    "duration": 177,
    "start_time": "2023-07-08T22:45:47.682Z"
   },
   {
    "duration": 3,
    "start_time": "2023-07-08T22:45:47.860Z"
   },
   {
    "duration": 19,
    "start_time": "2023-07-08T22:45:47.864Z"
   },
   {
    "duration": 10,
    "start_time": "2023-07-08T22:45:47.885Z"
   },
   {
    "duration": 19,
    "start_time": "2023-07-08T22:45:47.897Z"
   },
   {
    "duration": 14,
    "start_time": "2023-07-08T22:45:47.917Z"
   },
   {
    "duration": 12,
    "start_time": "2023-07-08T22:45:47.932Z"
   },
   {
    "duration": 1662,
    "start_time": "2023-07-08T22:45:47.946Z"
   },
   {
    "duration": 91,
    "start_time": "2023-07-08T22:45:49.610Z"
   },
   {
    "duration": 192,
    "start_time": "2023-07-08T22:45:49.703Z"
   },
   {
    "duration": 383,
    "start_time": "2023-07-08T22:45:49.897Z"
   },
   {
    "duration": 28,
    "start_time": "2023-07-08T22:45:50.282Z"
   },
   {
    "duration": 6,
    "start_time": "2023-07-08T22:45:50.312Z"
   },
   {
    "duration": 1080,
    "start_time": "2023-07-08T22:45:50.320Z"
   },
   {
    "duration": 275407,
    "start_time": "2023-07-08T22:45:51.403Z"
   },
   {
    "duration": 360219,
    "start_time": "2023-07-08T22:50:26.812Z"
   },
   {
    "duration": 3,
    "start_time": "2023-07-08T22:56:27.033Z"
   },
   {
    "duration": 81662,
    "start_time": "2023-07-08T22:56:27.038Z"
   },
   {
    "duration": 4,
    "start_time": "2023-07-08T22:57:48.701Z"
   },
   {
    "duration": 296,
    "start_time": "2023-07-08T22:57:48.706Z"
   },
   {
    "duration": 97,
    "start_time": "2023-07-08T22:57:49.003Z"
   },
   {
    "duration": 6,
    "start_time": "2023-07-08T22:57:49.102Z"
   },
   {
    "duration": 5,
    "start_time": "2023-07-08T22:58:01.252Z"
   },
   {
    "duration": 5,
    "start_time": "2023-07-08T23:00:15.615Z"
   }
  ],
  "kernelspec": {
   "display_name": "Python 3 (ipykernel)",
   "language": "python",
   "name": "python3"
  },
  "language_info": {
   "codemirror_mode": {
    "name": "ipython",
    "version": 3
   },
   "file_extension": ".py",
   "mimetype": "text/x-python",
   "name": "python",
   "nbconvert_exporter": "python",
   "pygments_lexer": "ipython3",
   "version": "3.10.9"
  },
  "toc": {
   "base_numbering": 1,
   "nav_menu": {},
   "number_sections": true,
   "sideBar": true,
   "skip_h1_title": true,
   "title_cell": "Содержание",
   "title_sidebar": "Contents",
   "toc_cell": true,
   "toc_position": {},
   "toc_section_display": true,
   "toc_window_display": false
  }
 },
 "nbformat": 4,
 "nbformat_minor": 2
}
